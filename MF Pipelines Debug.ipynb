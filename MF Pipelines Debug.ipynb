{
 "cells": [
  {
   "cell_type": "code",
   "execution_count": 20,
   "metadata": {},
   "outputs": [],
   "source": [
    "import sys\n",
    "sys.path.append('/home/rustam/EyePit/Danil_tests/MakiFlow/')\n",
    "from makiflow.models import Segmentator\n",
    "from makiflow.layers import *\n",
    "import makiflow as mf\n",
    "import tensorflow as tf\n",
    "import cv2\n",
    "mf.set_main_gpu(1)"
   ]
  },
  {
   "cell_type": "markdown",
   "metadata": {},
   "source": [
    "First we need to provide a path provider to our data that will tell the generator where to load the data from.\n",
    "For this purpose we're gonna create a generator that is gonna yield strings with path to the necessary data."
   ]
  },
  {
   "cell_type": "code",
   "execution_count": 4,
   "metadata": {},
   "outputs": [],
   "source": [
    "from makiflow.models.segmentation.gen_base import PathGenerator, SegmentIterator"
   ]
  },
  {
   "cell_type": "markdown",
   "metadata": {},
   "source": [
    "The path provider must inherited from the <b>PathGenerator</b> class."
   ]
  },
  {
   "cell_type": "code",
   "execution_count": 5,
   "metadata": {},
   "outputs": [],
   "source": [
    "images_path = '/mnt/data/med_data/pipeline_data/images/'\n",
    "masks_path = '/mnt/data/med_data/pipeline_data/masks/'"
   ]
  },
  {
   "cell_type": "code",
   "execution_count": 38,
   "metadata": {},
   "outputs": [],
   "source": [
    "from glob import glob\n",
    "import os\n",
    "import numpy as np\n",
    "\n",
    "\n",
    "class Generator(PathGenerator):\n",
    "    def __init__(self, path_imgs, path_masks):\n",
    "        self.images = glob(os.path.join(path_imgs, '*.bmp'))\n",
    "        print(self.images[0])\n",
    "        self.masks = glob(os.path.join(path_masks, '*.bmp'))\n",
    "        \n",
    "    def next_element(self):\n",
    "        while True:\n",
    "            index = 0\n",
    "            \n",
    "            yield {\n",
    "                SegmentIterator.image: self.images[index],\n",
    "                SegmentIterator.mask: self.masks[index]\n",
    "            }"
   ]
  },
  {
   "cell_type": "markdown",
   "metadata": {},
   "source": [
    "## Map method"
   ]
  },
  {
   "cell_type": "markdown",
   "metadata": {},
   "source": [
    "The next step is to create a map method that will map from the path string to the actual data, i.e. it's a function that loads the data according the given paths."
   ]
  },
  {
   "cell_type": "code",
   "execution_count": 39,
   "metadata": {},
   "outputs": [],
   "source": [
    "# Example map method\n",
    "def ex_map_method(data_paths):\n",
    "    img_file = tf.read_file(data_paths[SegmentationGenerator.image])\n",
    "    mask_file = tf.read_file(data_paths[SegmentationGenerator.mask])\n",
    "\n",
    "    img = tf.image.decode_image(img_file)\n",
    "    mask = tf.image.decode_image(mask_file)\n",
    "\n",
    "    img.set_shape([1024, 1024, 3])\n",
    "    mask.set_shape([1024, 1024, 3])\n",
    "    \n",
    "    # The mask has three channels so we need to squeeze it\n",
    "    mask = mask[:, :, 0]\n",
    "    \n",
    "    img = tf.cast(img, dtype=tf.float32)\n",
    "    mask = tf.cast(mask, dtype=tf.int32)\n",
    "    return img, mask"
   ]
  },
  {
   "cell_type": "markdown",
   "metadata": {},
   "source": [
    "MakiFlow provides already built map methods.\n",
    "<b><ol>\n",
    "    <li>LoadResizeNormalize - shortcut method</li>\n",
    "    <li>LoadDataMethod - constructive method (the beginning block)</li>\n",
    "    <li>ResizePostMethod - constructive method</li>\n",
    "    <li>NormalizePostMethod - constructive method</li>\n",
    "    <li>SqueezeMaskPostMethod - constructive method</li>\n",
    "    <li>ComputePositivesPostMethod - constructive method</li>\n",
    "</ol></b>\n"
   ]
  },
  {
   "cell_type": "markdown",
   "metadata": {},
   "source": [
    "Let's create a map method by combining the aforementioned ones."
   ]
  },
  {
   "cell_type": "code",
   "execution_count": 40,
   "metadata": {},
   "outputs": [],
   "source": [
    "from makiflow.models.segmentation.map_methods import LoadDataMethod, ResizePostMethod, ComputePositivesPostMethod, \\\n",
    "    SqueezeMaskPostMethod, NormalizePostMethod"
   ]
  },
  {
   "cell_type": "code",
   "execution_count": 41,
   "metadata": {},
   "outputs": [],
   "source": [
    "map_method = LoadDataMethod(image_shape=[1024, 1024, 3], mask_shape=[1024, 1024, 1])"
   ]
  },
  {
   "cell_type": "code",
   "execution_count": 42,
   "metadata": {},
   "outputs": [],
   "source": [
    "map_method = NormalizePostMethod()(map_method)"
   ]
  },
  {
   "cell_type": "code",
   "execution_count": 43,
   "metadata": {},
   "outputs": [],
   "source": [
    "map_method = SqueezeMaskPostMethod()(map_method)"
   ]
  },
  {
   "cell_type": "code",
   "execution_count": null,
   "metadata": {},
   "outputs": [],
   "source": []
  },
  {
   "cell_type": "markdown",
   "metadata": {},
   "source": [
    "## Generator Layer"
   ]
  },
  {
   "cell_type": "markdown",
   "metadata": {},
   "source": [
    "After acquiring map method and path provider we can create the generator layer. This layer will feed the network with the data."
   ]
  },
  {
   "cell_type": "code",
   "execution_count": 44,
   "metadata": {},
   "outputs": [],
   "source": [
    "from makiflow.models.segmentation.gen_layers import InputGenLayer"
   ]
  },
  {
   "cell_type": "code",
   "execution_count": 45,
   "metadata": {},
   "outputs": [
    {
     "name": "stdout",
     "output_type": "stream",
     "text": [
      "/mnt/data/med_data/pipeline_data/images/beta__31584.bmp\n"
     ]
    }
   ],
   "source": [
    "gen_layer = InputGenLayer(\n",
    "    prefetch_size=5,\n",
    "    batch_size=1, \n",
    "    path_generator=Generator(images_path, masks_path),\n",
    "    name='1',\n",
    "    map_operation=map_method\n",
    ")"
   ]
  },
  {
   "cell_type": "code",
   "execution_count": 14,
   "metadata": {},
   "outputs": [],
   "source": [
    "sess = tf.Session()"
   ]
  },
  {
   "cell_type": "code",
   "execution_count": 46,
   "metadata": {},
   "outputs": [],
   "source": [
    "iterator = gen_layer.get_iterator()"
   ]
  },
  {
   "cell_type": "code",
   "execution_count": 47,
   "metadata": {},
   "outputs": [],
   "source": [
    "mask = iterator[SegmentIterator.mask]"
   ]
  },
  {
   "cell_type": "code",
   "execution_count": 48,
   "metadata": {},
   "outputs": [],
   "source": [
    "image = iterator[SegmentIterator.image]"
   ]
  },
  {
   "cell_type": "code",
   "execution_count": 49,
   "metadata": {},
   "outputs": [],
   "source": [
    "image_, mask_ = sess.run([image, mask])"
   ]
  },
  {
   "cell_type": "code",
   "execution_count": 69,
   "metadata": {},
   "outputs": [
    {
     "data": {
      "text/plain": [
       "array([[[0.47058824, 0.21176471, 0.08627451],\n",
       "        [0.46666667, 0.21176471, 0.08627451],\n",
       "        [0.4627451 , 0.22352941, 0.08235294],\n",
       "        ...,\n",
       "        [0.6901961 , 0.36862746, 0.16078432],\n",
       "        [0.69803923, 0.37254903, 0.16078432],\n",
       "        [0.7019608 , 0.38039216, 0.15686275]],\n",
       "\n",
       "       [[0.46666667, 0.21568628, 0.08627451],\n",
       "        [0.4627451 , 0.22352941, 0.08235294],\n",
       "        [0.45882353, 0.23137255, 0.08235294],\n",
       "        ...,\n",
       "        [0.70980394, 0.3882353 , 0.17254902],\n",
       "        [0.70980394, 0.3882353 , 0.16862746],\n",
       "        [0.7058824 , 0.3882353 , 0.16078432]],\n",
       "\n",
       "       [[0.4627451 , 0.22352941, 0.09019608],\n",
       "        [0.4627451 , 0.23137255, 0.09411765],\n",
       "        [0.4627451 , 0.23921569, 0.09803922],\n",
       "        ...,\n",
       "        [0.7137255 , 0.39607844, 0.16078432],\n",
       "        [0.7137255 , 0.39215687, 0.16078432],\n",
       "        [0.7058824 , 0.38039216, 0.15686275]],\n",
       "\n",
       "       ...,\n",
       "\n",
       "       [[0.34117648, 0.18039216, 0.07058824],\n",
       "        [0.3372549 , 0.1764706 , 0.07450981],\n",
       "        [0.3372549 , 0.17254902, 0.07450981],\n",
       "        ...,\n",
       "        [0.74509805, 0.38431373, 0.16470589],\n",
       "        [0.75686276, 0.39215687, 0.16862746],\n",
       "        [0.7764706 , 0.40392157, 0.17254902]],\n",
       "\n",
       "       [[0.3372549 , 0.18039216, 0.06666667],\n",
       "        [0.3372549 , 0.18039216, 0.06666667],\n",
       "        [0.34117648, 0.18039216, 0.06666667],\n",
       "        ...,\n",
       "        [0.73333335, 0.3764706 , 0.15686275],\n",
       "        [0.7490196 , 0.3882353 , 0.16862746],\n",
       "        [0.77254903, 0.4       , 0.18039216]],\n",
       "\n",
       "       [[0.32941177, 0.18039216, 0.05882353],\n",
       "        [0.33333334, 0.1764706 , 0.05490196],\n",
       "        [0.32941177, 0.1764706 , 0.05490196],\n",
       "        ...,\n",
       "        [0.7254902 , 0.36862746, 0.14901961],\n",
       "        [0.7411765 , 0.38039216, 0.16078432],\n",
       "        [0.7607843 , 0.39607844, 0.1764706 ]]], dtype=float32)"
      ]
     },
     "execution_count": 69,
     "metadata": {},
     "output_type": "execute_result"
    }
   ],
   "source": [
    "image_[0]"
   ]
  },
  {
   "cell_type": "code",
   "execution_count": 60,
   "metadata": {},
   "outputs": [],
   "source": [
    "images = glob(os.path.join(images_path, '*.bmp'))"
   ]
  },
  {
   "cell_type": "code",
   "execution_count": 72,
   "metadata": {},
   "outputs": [],
   "source": [
    "image_cv = cv2.imread(images[0])"
   ]
  },
  {
   "cell_type": "code",
   "execution_count": 70,
   "metadata": {},
   "outputs": [],
   "source": [
    "image_cv = image_cv / 255"
   ]
  },
  {
   "cell_type": "code",
   "execution_count": 71,
   "metadata": {},
   "outputs": [
    {
     "data": {
      "text/plain": [
       "array([[[0.08627451, 0.21176471, 0.47058824],\n",
       "        [0.08627451, 0.21176471, 0.46666667],\n",
       "        [0.08235294, 0.22352941, 0.4627451 ],\n",
       "        ...,\n",
       "        [0.16078431, 0.36862745, 0.69019608],\n",
       "        [0.16078431, 0.37254902, 0.69803922],\n",
       "        [0.15686275, 0.38039216, 0.70196078]],\n",
       "\n",
       "       [[0.08627451, 0.21568627, 0.46666667],\n",
       "        [0.08235294, 0.22352941, 0.4627451 ],\n",
       "        [0.08235294, 0.23137255, 0.45882353],\n",
       "        ...,\n",
       "        [0.17254902, 0.38823529, 0.70980392],\n",
       "        [0.16862745, 0.38823529, 0.70980392],\n",
       "        [0.16078431, 0.38823529, 0.70588235]],\n",
       "\n",
       "       [[0.09019608, 0.22352941, 0.4627451 ],\n",
       "        [0.09411765, 0.23137255, 0.4627451 ],\n",
       "        [0.09803922, 0.23921569, 0.4627451 ],\n",
       "        ...,\n",
       "        [0.16078431, 0.39607843, 0.71372549],\n",
       "        [0.16078431, 0.39215686, 0.71372549],\n",
       "        [0.15686275, 0.38039216, 0.70588235]],\n",
       "\n",
       "       ...,\n",
       "\n",
       "       [[0.07058824, 0.18039216, 0.34117647],\n",
       "        [0.0745098 , 0.17647059, 0.3372549 ],\n",
       "        [0.0745098 , 0.17254902, 0.3372549 ],\n",
       "        ...,\n",
       "        [0.16470588, 0.38431373, 0.74509804],\n",
       "        [0.16862745, 0.39215686, 0.75686275],\n",
       "        [0.17254902, 0.40392157, 0.77647059]],\n",
       "\n",
       "       [[0.06666667, 0.18039216, 0.3372549 ],\n",
       "        [0.06666667, 0.18039216, 0.3372549 ],\n",
       "        [0.06666667, 0.18039216, 0.34117647],\n",
       "        ...,\n",
       "        [0.15686275, 0.37647059, 0.73333333],\n",
       "        [0.16862745, 0.38823529, 0.74901961],\n",
       "        [0.18039216, 0.4       , 0.77254902]],\n",
       "\n",
       "       [[0.05882353, 0.18039216, 0.32941176],\n",
       "        [0.05490196, 0.17647059, 0.33333333],\n",
       "        [0.05490196, 0.17647059, 0.32941176],\n",
       "        ...,\n",
       "        [0.14901961, 0.36862745, 0.7254902 ],\n",
       "        [0.16078431, 0.38039216, 0.74117647],\n",
       "        [0.17647059, 0.39607843, 0.76078431]]])"
      ]
     },
     "execution_count": 71,
     "metadata": {},
     "output_type": "execute_result"
    }
   ],
   "source": [
    "image_cv"
   ]
  },
  {
   "cell_type": "code",
   "execution_count": 74,
   "metadata": {},
   "outputs": [],
   "source": [
    "import matplotlib.pyplot as plt"
   ]
  },
  {
   "cell_type": "code",
   "execution_count": 78,
   "metadata": {},
   "outputs": [
    {
     "data": {
      "text/plain": [
       "<matplotlib.image.AxesImage at 0x7fb81a5c9b70>"
      ]
     },
     "execution_count": 78,
     "metadata": {},
     "output_type": "execute_result"
    },
    {
     "data": {
      "image/png": "[encoded data removed]",
      "text/plain": [
       "<Figure size 432x288 with 1 Axes>"
      ]
     },
     "metadata": {},
     "output_type": "display_data"
    }
   ],
   "source": [
    "plt.imshow(image_[0])\n"
   ]
  },
  {
   "cell_type": "code",
   "execution_count": 53,
   "metadata": {},
   "outputs": [
    {
     "name": "stderr",
     "output_type": "stream",
     "text": [
      "Clipping input data to the valid range for imshow with RGB data ([0..1] for floats or [0..255] for integers).\n"
     ]
    },
    {
     "data": {
      "text/plain": [
       "<matplotlib.image.AxesImage at 0x7f3450181f60>"
      ]
     },
     "execution_count": 53,
     "metadata": {},
     "output_type": "execute_result"
    },
    {
     "data": {
      "image/png": "[encoded data removed]",
      "text/plain": [
       "<Figure size 432x288 with 1 Axes>"
      ]
     },
     "metadata": {},
     "output_type": "display_data"
    }
   ],
   "source": [
    "plt.imshow(np.concatenate([mask_[0]]*3, axis=2)*50)\n"
   ]
  },
  {
   "cell_type": "markdown",
   "metadata": {},
   "source": [
    "## Build a model from generator"
   ]
  },
  {
   "cell_type": "markdown",
   "metadata": {},
   "source": [
    "A model can be built using classic approach - layer by layer - or with the help of the builder."
   ]
  },
  {
   "cell_type": "code",
   "execution_count": 13,
   "metadata": {},
   "outputs": [],
   "source": [
    "from makiflow.save_recover import Builder"
   ]
  },
  {
   "cell_type": "code",
   "execution_count": 14,
   "metadata": {},
   "outputs": [
    {
     "name": "stdout",
     "output_type": "stream",
     "text": [
      "WARNING:tensorflow:From /home/ikilbas/work_dir/MakiFlow/makiflow/layers/untrainable_layers.py:331: The name tf.nn.max_pool is deprecated. Please use tf.nn.max_pool2d instead.\n",
      "\n",
      "WARNING:tensorflow:From /home/ikilbas/work_dir/MakiFlow/makiflow/layers/trainable_layers.py:673: The name tf.assign is deprecated. Please use tf.compat.v1.assign instead.\n",
      "\n",
      "Model is restored!\n"
     ]
    }
   ],
   "source": [
    "model = Builder.segmentator_from_json(\n",
    "    json_path='model.json',\n",
    "    generator=gen_layer\n",
    ")"
   ]
  },
  {
   "cell_type": "markdown",
   "metadata": {},
   "source": [
    "## Training the model"
   ]
  },
  {
   "cell_type": "markdown",
   "metadata": {},
   "source": [
    "The model can trained now using familiar, but a little bit different API.\n",
    "At first we need to tell the model (Segmentator) that it's gonna be trained using generator."
   ]
  },
  {
   "cell_type": "code",
   "execution_count": 15,
   "metadata": {},
   "outputs": [],
   "source": [
    "model.set_generator(gen_layer)"
   ]
  },
  {
   "cell_type": "code",
   "execution_count": 16,
   "metadata": {},
   "outputs": [
    {
     "name": "stdout",
     "output_type": "stream",
     "text": [
      "WARNING:tensorflow:From /home/ikilbas/work_dir/MakiFlow/makiflow/base/maki_entities.py:151: The name tf.variables_initializer is deprecated. Please use tf.compat.v1.variables_initializer instead.\n",
      "\n"
     ]
    }
   ],
   "source": [
    "model.set_session(tf.Session())"
   ]
  },
  {
   "cell_type": "markdown",
   "metadata": {},
   "source": [
    "Then we set an optimizer and the number of epochs as usual. But in case of training using pipelines there's no common sense for epochs, so we need to define ourselves how long the epoch is."
   ]
  },
  {
   "cell_type": "code",
   "execution_count": 17,
   "metadata": {},
   "outputs": [],
   "source": [
    "optimizer = tf.train.AdamOptimizer()"
   ]
  },
  {
   "cell_type": "code",
   "execution_count": 18,
   "metadata": {},
   "outputs": [],
   "source": [
    "epochs = 2\n",
    "iterations = 10 # How many batches are processed during one epoch"
   ]
  },
  {
   "cell_type": "code",
   "execution_count": 19,
   "metadata": {},
   "outputs": [
    {
     "name": "stdout",
     "output_type": "stream",
     "text": [
      "WARNING:tensorflow:From /home/ikilbas/work_dir/MakiFlow/makiflow/models/segmentation/segmentator.py:97: The name tf.placeholder is deprecated. Please use tf.compat.v1.placeholder instead.\n",
      "\n",
      "WARNING:tensorflow:From /home/ikilbas/anaconda3/lib/python3.7/site-packages/tensorflow/python/ops/math_grad.py:1205: add_dispatch_support.<locals>.wrapper (from tensorflow.python.ops.array_ops) is deprecated and will be removed in a future version.\n",
      "Instructions for updating:\n",
      "Use tf.where in 2.0, which has the same broadcast rule as np.where\n"
     ]
    },
    {
     "name": "stderr",
     "output_type": "stream",
     "text": [
      "100%|██████████| 10/10 [00:13<00:00,  1.30it/s]\n",
      "  0%|          | 0/10 [00:00<?, ?it/s]"
     ]
    },
    {
     "name": "stdout",
     "output_type": "stream",
     "text": [
      "Epoch: 0 Focal loss: 5.0734\n"
     ]
    },
    {
     "name": "stderr",
     "output_type": "stream",
     "text": [
      "100%|██████████| 10/10 [00:04<00:00,  2.47it/s]\n",
      "  0%|          | 0/10 [00:00<?, ?it/s]"
     ]
    },
    {
     "name": "stdout",
     "output_type": "stream",
     "text": [
      "Epoch: 1 Focal loss: 1.1421\n"
     ]
    },
    {
     "name": "stderr",
     "output_type": "stream",
     "text": [
      "100%|██████████| 10/10 [00:04<00:00,  2.46it/s]\n",
      "  0%|          | 0/10 [00:00<?, ?it/s]"
     ]
    },
    {
     "name": "stdout",
     "output_type": "stream",
     "text": [
      "Epoch: 2 Focal loss: 0.8308\n"
     ]
    },
    {
     "name": "stderr",
     "output_type": "stream",
     "text": [
      "100%|██████████| 10/10 [00:04<00:00,  2.46it/s]\n",
      "  0%|          | 0/10 [00:00<?, ?it/s]"
     ]
    },
    {
     "name": "stdout",
     "output_type": "stream",
     "text": [
      "Epoch: 3 Focal loss: 0.7128\n"
     ]
    },
    {
     "name": "stderr",
     "output_type": "stream",
     "text": [
      "100%|██████████| 10/10 [00:04<00:00,  2.46it/s]\n",
      "  0%|          | 0/10 [00:00<?, ?it/s]"
     ]
    },
    {
     "name": "stdout",
     "output_type": "stream",
     "text": [
      "Epoch: 4 Focal loss: 0.8267\n"
     ]
    },
    {
     "name": "stderr",
     "output_type": "stream",
     "text": [
      "100%|██████████| 10/10 [00:04<00:00,  2.46it/s]\n",
      "  0%|          | 0/10 [00:00<?, ?it/s]"
     ]
    },
    {
     "name": "stdout",
     "output_type": "stream",
     "text": [
      "Epoch: 5 Focal loss: 0.6550\n"
     ]
    },
    {
     "name": "stderr",
     "output_type": "stream",
     "text": [
      "100%|██████████| 10/10 [00:04<00:00,  2.44it/s]\n",
      "  0%|          | 0/10 [00:00<?, ?it/s]"
     ]
    },
    {
     "name": "stdout",
     "output_type": "stream",
     "text": [
      "Epoch: 6 Focal loss: 0.6466\n"
     ]
    },
    {
     "name": "stderr",
     "output_type": "stream",
     "text": [
      "100%|██████████| 10/10 [00:04<00:00,  2.44it/s]\n",
      "  0%|          | 0/10 [00:00<?, ?it/s]"
     ]
    },
    {
     "name": "stdout",
     "output_type": "stream",
     "text": [
      "Epoch: 7 Focal loss: 0.7484\n"
     ]
    },
    {
     "name": "stderr",
     "output_type": "stream",
     "text": [
      "100%|██████████| 10/10 [00:04<00:00,  2.44it/s]\n",
      "  0%|          | 0/10 [00:00<?, ?it/s]"
     ]
    },
    {
     "name": "stdout",
     "output_type": "stream",
     "text": [
      "Epoch: 8 Focal loss: 0.6001\n"
     ]
    },
    {
     "name": "stderr",
     "output_type": "stream",
     "text": [
      "100%|██████████| 10/10 [00:04<00:00,  2.43it/s]"
     ]
    },
    {
     "name": "stdout",
     "output_type": "stream",
     "text": [
      "Epoch: 9 Focal loss: 0.7665\n"
     ]
    },
    {
     "name": "stderr",
     "output_type": "stream",
     "text": [
      "\n"
     ]
    },
    {
     "data": {
      "text/plain": [
       "{'train losses': [5.073395899922541,\n",
       "  1.1421384554967398,\n",
       "  0.8307723037700818,\n",
       "  0.7128402018190465,\n",
       "  0.8267178009763763,\n",
       "  0.655004996051306,\n",
       "  0.6465906465727793,\n",
       "  0.7483962438812546,\n",
       "  0.6001497576377489,\n",
       "  0.7665426405644897]}"
      ]
     },
     "execution_count": 19,
     "metadata": {},
     "output_type": "execute_result"
    }
   ],
   "source": [
    "model.genfit_focal(\n",
    "    gamma=2.0,\n",
    "    optimizer=optimizer,\n",
    "    epochs=10,\n",
    "    iterations=iterations\n",
    ")"
   ]
  },
  {
   "cell_type": "code",
   "execution_count": null,
   "metadata": {},
   "outputs": [],
   "source": []
  }
 ],
 "metadata": {
  "kernelspec": {
   "display_name": "Python 3",
   "language": "python",
   "name": "python3"
  },
  "language_info": {
   "codemirror_mode": {
    "name": "ipython",
    "version": 3
   },
   "file_extension": ".py",
   "mimetype": "text/x-python",
   "name": "python",
   "nbconvert_exporter": "python",
   "pygments_lexer": "ipython3",
   "version": "3.6.9"
  }
 },
 "nbformat": 4,
 "nbformat_minor": 2
}
