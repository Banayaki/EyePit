{
 "cells": [
  {
   "cell_type": "code",
   "execution_count": 1,
   "metadata": {},
   "outputs": [
    {
     "name": "stderr",
     "output_type": "stream",
     "text": [
      "/home/rustam/anaconda3/lib/python3.6/site-packages/h5py/__init__.py:36: FutureWarning: Conversion of the second argument of issubdtype from `float` to `np.floating` is deprecated. In future, it will be treated as `np.float64 == np.dtype(float).type`.\n",
      "  from ._conv import register_converters as _register_converters\n"
     ]
    }
   ],
   "source": [
    "from makiflow.layers import *\n",
    "from makiflow.models.segmentation.segmentator import Segmentator\n",
    "from makiflow.augmentation import AffineAugment, ElasticAugment, ImageCutter, Data\n",
    "from makiflow.save_recover import Builder\n",
    "from makiflow.trainers import SegmentatorTrainer\n",
    "import makiflow as mf\n",
    "\n",
    "import tensorflow as tf\n",
    "import numpy as np\n",
    "import glob\n",
    "import cv2\n",
    "import seaborn as sns\n",
    "from tqdm import tqdm\n",
    "from matplotlib import pyplot as plt\n",
    "\n",
    "from sklearn.utils import shuffle\n",
    "from scipy.ndimage import gaussian_filter"
   ]
  },
  {
   "cell_type": "code",
   "execution_count": 2,
   "metadata": {},
   "outputs": [],
   "source": [
    "def load_data(path_to_data='../dataset/mask'):\n",
    "    Xtrain = []\n",
    "    Ytrain = []\n",
    "\n",
    "    masks = glob.glob(f'{path_to_data}/*.bmp')\n",
    "    for mask_name in tqdm(masks):\n",
    "        img = cv2.imread(mask_name.replace('mask', 'imgs'))\n",
    "        mask = cv2.imread(mask_name)\n",
    "        Xtrain.append(img)\n",
    "        Ytrain.append(mask)\n",
    "        \n",
    "    return Xtrain, Ytrain"
   ]
  },
  {
   "cell_type": "code",
   "execution_count": 3,
   "metadata": {},
   "outputs": [],
   "source": [
    "def calc_num_pos(labels):\n",
    "    area = labels[0].shape[0] * labels[0].shape[1]\n",
    "    return [area - (label == 0).sum() for label in labels]"
   ]
  },
  {
   "cell_type": "markdown",
   "metadata": {},
   "source": [
    "### Load data"
   ]
  },
  {
   "cell_type": "code",
   "execution_count": 4,
   "metadata": {},
   "outputs": [
    {
     "name": "stderr",
     "output_type": "stream",
     "text": [
      "100%|██████████| 100/100 [00:00<00:00, 191.05it/s]\n"
     ]
    }
   ],
   "source": [
    "images, labels = load_data()"
   ]
  },
  {
   "cell_type": "code",
   "execution_count": 5,
   "metadata": {},
   "outputs": [],
   "source": [
    "Xtest = []\n",
    "Ytest = []\n",
    "Xtrain = []\n",
    "Ytrain = []\n",
    "\n",
    "for i, label in enumerate(labels):\n",
    "    uniq = np.unique(label)\n",
    "    if i in [25, 41, 14, 19, 43, 2, 5]:\n",
    "        Xtest.append(images[i])\n",
    "        Ytest.append(label)\n",
    "        continue\n",
    "    else:\n",
    "        Xtrain.append(images[i])\n",
    "        Ytrain.append(label)"
   ]
  },
  {
   "cell_type": "code",
   "execution_count": 6,
   "metadata": {},
   "outputs": [
    {
     "name": "stdout",
     "output_type": "stream",
     "text": [
      "93 7\n"
     ]
    }
   ],
   "source": [
    "print(len(Xtrain), len(Xtest))"
   ]
  },
  {
   "cell_type": "markdown",
   "metadata": {},
   "source": [
    "# Important \n",
    "25/41/14/19/43/2/5"
   ]
  },
  {
   "cell_type": "code",
   "execution_count": 7,
   "metadata": {},
   "outputs": [],
   "source": [
    "from copy import copy"
   ]
  },
  {
   "cell_type": "code",
   "execution_count": 8,
   "metadata": {},
   "outputs": [],
   "source": [
    "for image, label in zip(copy(Xtrain), copy(Ytrain)):\n",
    "    uniq = np.unique(label)\n",
    "    if 40 in uniq or 70 in uniq or 80 in uniq:\n",
    "        Ytrain += [label] * 10\n",
    "        Xtrain += [image] * 10"
   ]
  },
  {
   "cell_type": "code",
   "execution_count": 9,
   "metadata": {},
   "outputs": [
    {
     "name": "stdout",
     "output_type": "stream",
     "text": [
      "13201 237\n"
     ]
    }
   ],
   "source": [
    "Xtrain, Ytrain, _ = ImageCutter.image_and_mask_cutter(Xtrain, Ytrain, 256, 256, 128, 128, 0.5)\n",
    "Xtest, Ytest, _ = ImageCutter.image_and_mask_cutter(Xtest, Ytest, 256, 256, 128, 128, 0.5)\n",
    "print(len(Xtrain), len(Xtest))"
   ]
  },
  {
   "cell_type": "code",
   "execution_count": 10,
   "metadata": {},
   "outputs": [],
   "source": [
    "Xtrain = np.asarray(Xtrain).astype(np.float32) / 255\n",
    "Xtrain = [i for i in Xtrain]\n",
    "Ytrain = np.asarray(Ytrain).astype(np.uint8) // 10\n",
    "Ytrain = [i for i in Ytrain]\n",
    "Xtest = np.asarray(Xtest).astype(np.float32) / 255\n",
    "Xtest = [i for i in Xtest]\n",
    "Ytest = np.asarray(Ytest).astype(np.uint8) // 10\n",
    "Ytest = [i for i in Ytest]"
   ]
  },
  {
   "cell_type": "code",
   "execution_count": 11,
   "metadata": {},
   "outputs": [],
   "source": [
    "Ytest = [cv2.cvtColor(item, cv2.COLOR_BGR2GRAY) for item in Ytest]"
   ]
  },
  {
   "cell_type": "code",
   "execution_count": 12,
   "metadata": {},
   "outputs": [
    {
     "name": "stdout",
     "output_type": "stream",
     "text": [
      "(256, 256, 3) (256, 256)\n"
     ]
    }
   ],
   "source": [
    "print(Xtest[0].shape, Ytest[0].shape)"
   ]
  },
  {
   "cell_type": "code",
   "execution_count": 13,
   "metadata": {},
   "outputs": [
    {
     "name": "stdout",
     "output_type": "stream",
     "text": [
      "Model is restored!\n"
     ]
    }
   ],
   "source": [
    "mf.set_main_gpu(0)\n",
    "model = Builder.segmentator_from_json('unetMobileNet/model.json')\n"
   ]
  },
  {
   "cell_type": "code",
   "execution_count": 14,
   "metadata": {},
   "outputs": [],
   "source": [
    "model.set_session(tf.Session())"
   ]
  },
  {
   "cell_type": "code",
   "execution_count": 36,
   "metadata": {},
   "outputs": [
    {
     "name": "stdout",
     "output_type": "stream",
     "text": [
      "INFO:tensorflow:Restoring parameters from result/Test_pretrained_Unet_with_MobileNetV2_backbone/MakiSegmentator_gamma=4.0_lr=0.001_bsz=32/epoch_15/weights.ckpt\n",
      "Weights are loaded.\n"
     ]
    }
   ],
   "source": [
    "model.load_weights('result/Test_pretrained_Unet_with_MobileNetV2_backbone/MakiSegmentator_gamma=4.0_lr=0.001_bsz=32/epoch_15/weights.ckpt')"
   ]
  },
  {
   "cell_type": "code",
   "execution_count": 37,
   "metadata": {},
   "outputs": [],
   "source": [
    "batch_sz = 16"
   ]
  },
  {
   "cell_type": "code",
   "execution_count": 38,
   "metadata": {},
   "outputs": [],
   "source": [
    "n_batches = len(Xtrain[:250]) // batch_sz\n",
    "labels = []\n",
    "predictions = []\n",
    "for i in range(n_batches):\n",
    "    labels += Ytrain[i * batch_sz: (i+1) * batch_sz]\n",
    "    predictions += [model.predict(Xtrain[i * batch_sz: (i+1) * batch_sz])]"
   ]
  },
  {
   "cell_type": "code",
   "execution_count": 39,
   "metadata": {},
   "outputs": [],
   "source": [
    "n_batches = len(Xtest) // batch_sz\n",
    "labels = []\n",
    "predictions = []\n",
    "for i in range(n_batches):\n",
    "    labels += Ytest[i * batch_sz: (i+1) * batch_sz]\n",
    "    predictions += [model.predict(Xtest[i * batch_sz: (i+1) * batch_sz])]"
   ]
  },
  {
   "cell_type": "code",
   "execution_count": 40,
   "metadata": {},
   "outputs": [],
   "source": [
    "predictions = np.vstack(predictions)\n",
    "labels = np.asarray(labels)"
   ]
  },
  {
   "cell_type": "markdown",
   "metadata": {},
   "source": [
    "## Calculate Dice manually"
   ]
  },
  {
   "cell_type": "code",
   "execution_count": 20,
   "metadata": {},
   "outputs": [],
   "source": [
    "from makiflow.metrics import one_hot"
   ]
  },
  {
   "cell_type": "code",
   "execution_count": 53,
   "metadata": {},
   "outputs": [],
   "source": [
    "v_dice_history = []\n",
    "dices_history = []"
   ]
  },
  {
   "cell_type": "code",
   "execution_count": 21,
   "metadata": {},
   "outputs": [],
   "source": [
    "EPSILON = 1e-9\n",
    "def binary_dice(predicted, actual):\n",
    "    num = np.sum(predicted * actual)\n",
    "    den = np.sum(predicted * predicted) + np.sum(actual)\n",
    "    return (2 * num + EPSILON) / (den + EPSILON)"
   ]
  },
  {
   "cell_type": "code",
   "execution_count": 22,
   "metadata": {},
   "outputs": [],
   "source": [
    "def categorical_dice_coeff(P, L, use_argmax=False):\n",
    "    \"\"\"\n",
    "    Calculates V-Dice for give predictions and labels.\n",
    "    WARNING! THIS IMPLIES SEGMENTATION CONTEXT.\n",
    "    Parameters\n",
    "    ----------\n",
    "    P : np.ndarray\n",
    "        Predictions of a segmentator. Array of shape [batch_sz, W, H, num_classes].\n",
    "    L : np.ndarray\n",
    "        Labels for the segmentator. Array of shape [batch_sz, W, H]\n",
    "    use_argmax : bool\n",
    "        Converts the segmentator's predictions to one-hot format.\n",
    "        Example: [0.4, 0.1, 0.5] -> [0., 0., 1.]\n",
    "    \"\"\"\n",
    "    batch_sz = len(P)\n",
    "    L = np.asarray(L)\n",
    "    P = np.asarray(P)\n",
    "    num_classes = P.shape[-1]\n",
    "    if use_argmax:\n",
    "        P = P.argmax(axis=3)\n",
    "        P = P.reshape(-1)\n",
    "        P = one_hot(P, depth=num_classes)\n",
    "    P = P.reshape(batch_sz, -1, num_classes)\n",
    "    L = L.reshape(batch_sz, -1)\n",
    "\n",
    "    class_dices = np.zeros(num_classes)\n",
    "    class_counts = np.zeros(num_classes)\n",
    "    for i in range(batch_sz):\n",
    "        sample_actual = L[i]\n",
    "        sample_pred = P[i]\n",
    "        for j in range(num_classes):\n",
    "            sub_actual = (sample_actual[:] == j).astype(np.int32)\n",
    "            sub_confs = sample_pred[:, j]\n",
    "            if np.sum(sub_actual) == 0 and np.sum(sub_confs)== 0:\n",
    "                continue\n",
    "            class_dices[j] += binary_dice(sub_confs, sub_actual)\n",
    "            class_counts[j] += 1\n",
    "    return (class_dices / class_counts).mean(), class_dices / class_counts"
   ]
  },
  {
   "cell_type": "code",
   "execution_count": 41,
   "metadata": {},
   "outputs": [
    {
     "data": {
      "text/plain": [
       "(0.32951139469688506,\n",
       " array([9.54269185e-01, 5.91409698e-01, 3.47100258e-01, 6.91377561e-01,\n",
       "        1.10191396e-01, 1.83360695e-01, 4.71772217e-05, 2.14510450e-10,\n",
       "        1.75994914e-10, 4.17357977e-01]))"
      ]
     },
     "execution_count": 41,
     "metadata": {},
     "output_type": "execute_result"
    }
   ],
   "source": [
    "v_dice, dices = categorical_dice_coeff(predictions, labels, use_argmax=True)\n",
    "v_dice, dices"
   ]
  },
  {
   "cell_type": "code",
   "execution_count": 122,
   "metadata": {},
   "outputs": [],
   "source": [
    "v_dice_history += [v_dice]\n",
    "dices_history += [dices]"
   ]
  },
  {
   "cell_type": "code",
   "execution_count": 123,
   "metadata": {},
   "outputs": [],
   "source": [
    "from makiflow.tools import TestVisualizer"
   ]
  },
  {
   "cell_type": "code",
   "execution_count": 129,
   "metadata": {},
   "outputs": [],
   "source": [
    "dices = []\n",
    "for i in range(10):\n",
    "    single_dice = []\n",
    "    for dice_list in dices_history:\n",
    "        single_dice.append(dice_list[i])\n",
    "    dices += [single_dice]"
   ]
  },
  {
   "cell_type": "code",
   "execution_count": 130,
   "metadata": {},
   "outputs": [],
   "source": [
    "TestVisualizer.plot_test_values(\n",
    "            test_values=dices,\n",
    "            legends=[\n",
    "        \"bkg\",\n",
    "        \"dzn\",\n",
    "        \"m\",\n",
    "        \"s\",\n",
    "        \"ns\",\n",
    "        \"te\",\n",
    "        \"me\",\n",
    "        \"sc\",\n",
    "        \"pc\",\n",
    "        \"rg\"\n",
    "      ],\n",
    "            x_label='Epochs',\n",
    "            y_label='Dice',\n",
    "            save_path=f'dices.png'\n",
    "        )"
   ]
  },
  {
   "cell_type": "code",
   "execution_count": 133,
   "metadata": {},
   "outputs": [],
   "source": [
    "TestVisualizer.plot_test_values(\n",
    "            test_values=[v_dice_history],\n",
    "            legends=['v-dice'],\n",
    "            x_label='Epochs',\n",
    "            y_label='Dice',\n",
    "            save_path=f'v_dice.png'\n",
    "        )"
   ]
  },
  {
   "cell_type": "code",
   "execution_count": 132,
   "metadata": {},
   "outputs": [
    {
     "data": {
      "text/plain": [
       "[0.25735925003105875,\n",
       " 0.3115492244254012,\n",
       " 0.32002028018926126,\n",
       " 0.3246473240606206,\n",
       " 0.32033873385110223,\n",
       " 0.32924083415601635,\n",
       " 0.3338713259840366,\n",
       " 0.33948482837793253,\n",
       " 0.3321843133573052,\n",
       " 0.3373498575333983,\n",
       " 0.3311323268654459]"
      ]
     },
     "execution_count": 132,
     "metadata": {},
     "output_type": "execute_result"
    }
   ],
   "source": [
    "v_dice_history"
   ]
  },
  {
   "cell_type": "code",
   "execution_count": null,
   "metadata": {},
   "outputs": [],
   "source": []
  }
 ],
 "metadata": {
  "kernelspec": {
   "display_name": "Python 3",
   "language": "python",
   "name": "python3"
  },
  "language_info": {
   "codemirror_mode": {
    "name": "ipython",
    "version": 3
   },
   "file_extension": ".py",
   "mimetype": "text/x-python",
   "name": "python",
   "nbconvert_exporter": "python",
   "pygments_lexer": "ipython3",
   "version": "3.6.5"
  }
 },
 "nbformat": 4,
 "nbformat_minor": 2
}
