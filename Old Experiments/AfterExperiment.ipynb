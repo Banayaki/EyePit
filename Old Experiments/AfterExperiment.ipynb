{
 "cells": [
  {
   "cell_type": "code",
   "execution_count": 1,
   "metadata": {},
   "outputs": [],
   "source": [
    "from makiflow.layers import *\n",
    "from makiflow.models.segmentation.segmentator import Segmentator\n",
    "from makiflow.augmentation import AffineAugment, ElasticAugment, ImageCutter, Data\n",
    "from makiflow.save_recover import Builder\n",
    "from makiflow.trainers import SegmentatorTrainer\n",
    "from makiflow.metrics import categorical_dice_coeff, confusion_mat\n",
    "import makiflow as mf\n",
    "\n",
    "import tensorflow as tf\n",
    "import numpy as np\n",
    "import glob\n",
    "import cv2\n",
    "import seaborn as sns\n",
    "from tqdm import tqdm\n",
    "from matplotlib import pyplot as plt\n",
    "\n",
    "from sklearn.utils import shuffle\n",
    "from scipy.ndimage import gaussian_filter"
   ]
  },
  {
   "cell_type": "code",
   "execution_count": 2,
   "metadata": {},
   "outputs": [],
   "source": [
    "def load_data(path_to_data='../dataset/mask'):\n",
    "    Xtrain = []\n",
    "    Ytrain = []\n",
    "\n",
    "    masks = glob.glob(f'{path_to_data}/*.bmp')\n",
    "    for mask_name in tqdm(masks):\n",
    "        img = cv2.imread(mask_name.replace('mask', 'imgs'))\n",
    "        mask = cv2.imread(mask_name)\n",
    "        Xtrain.append(img)\n",
    "        Ytrain.append(mask)\n",
    "        \n",
    "    return Xtrain, Ytrain"
   ]
  },
  {
   "cell_type": "code",
   "execution_count": 54,
   "metadata": {},
   "outputs": [
    {
     "name": "stderr",
     "output_type": "stream",
     "text": [
      "100%|██████████| 100/100 [00:00<00:00, 320.75it/s]\n"
     ]
    }
   ],
   "source": [
    "images, labels = load_data()"
   ]
  },
  {
   "cell_type": "code",
   "execution_count": 55,
   "metadata": {},
   "outputs": [],
   "source": [
    "rare_images = []\n",
    "rare_labels = []\n",
    "\n",
    "for i, (img, lbl) in enumerate(zip(images, labels)):\n",
    "    u = np.unique(lbl)\n",
    "    if 40 in u or 70 in u or 80 in u:\n",
    "        rare_images.append(img)\n",
    "        rare_labels.append(lbl)\n",
    "\n",
    "images = rare_images\n",
    "labels = rare_labels\n",
    "\n",
    "Xtest = []\n",
    "Ytest = []\n",
    "Xtrain = []\n",
    "Ytrain = []\n",
    "\n",
    "for i, label in enumerate(labels):\n",
    "    uniq = np.unique(label)\n",
    "    if i in [7, 11, 75, 99]:\n",
    "        Xtest.append(images[i])\n",
    "        Ytest.append(label)\n",
    "    else:\n",
    "        Xtrain.append(images[i])\n",
    "        Ytrain.append(label)"
   ]
  },
  {
   "cell_type": "code",
   "execution_count": 56,
   "metadata": {},
   "outputs": [],
   "source": [
    "# Xtrain, Ytrain, _ = ImageCutter.image_and_mask_cutter(Xtrain, Ytrain, 384, 384, 128, 128, 0.005)\n",
    "Xtest, Ytest, _ = ImageCutter.image_and_mask_cutter(Xtest, Ytest, 384, 384, 50, 50, 0.05)"
   ]
  },
  {
   "cell_type": "code",
   "execution_count": 57,
   "metadata": {},
   "outputs": [
    {
     "data": {
      "text/plain": [
       "314"
      ]
     },
     "execution_count": 57,
     "metadata": {},
     "output_type": "execute_result"
    }
   ],
   "source": [
    "len(Ytest)"
   ]
  },
  {
   "cell_type": "code",
   "execution_count": 58,
   "metadata": {},
   "outputs": [],
   "source": [
    "Xtest = np.asarray(Xtest).astype(np.float32) / 255\n",
    "Xtest = [i for i in Xtest]\n",
    "Ytest = np.asarray(Ytest).astype(np.uint8) // 10\n",
    "Ytest = [i for i in Ytest]"
   ]
  },
  {
   "cell_type": "code",
   "execution_count": 59,
   "metadata": {},
   "outputs": [],
   "source": [
    "Ytest = [cv2.cvtColor(item, cv2.COLOR_BGR2GRAY) for item in Ytest]"
   ]
  },
  {
   "cell_type": "code",
   "execution_count": 60,
   "metadata": {},
   "outputs": [
    {
     "name": "stdout",
     "output_type": "stream",
     "text": [
      "Model is restored!\n",
      "INFO:tensorflow:Restoring parameters from clahe/Experiment with only rare images/MakiSegmentator_gamma=4.0_lr=0.001_bsz=16/last_weights/weights.ckpt\n",
      "Weights are loaded.\n"
     ]
    }
   ],
   "source": [
    "mf.set_main_gpu(1)\n",
    "model = Builder.segmentator_from_json('unetMobileNet/model.json')\n",
    "model.set_session(tf.Session())\n",
    "model.load_weights('clahe/Experiment with only rare images/MakiSegmentator_gamma=4.0_lr=0.001_bsz=16/last_weights/weights.ckpt')"
   ]
  },
  {
   "cell_type": "code",
   "execution_count": 10,
   "metadata": {},
   "outputs": [],
   "source": [
    "batch_sz = 16"
   ]
  },
  {
   "cell_type": "code",
   "execution_count": 23,
   "metadata": {},
   "outputs": [],
   "source": [
    "n_batches = len(Xtrain[:250]) // batch_sz\n",
    "labels = []\n",
    "predictions = []\n",
    "for i in range(n_batches):\n",
    "    labels += Ytrain[i * batch_sz: (i+1) * batch_sz]\n",
    "    predictions += [model.predict(Xtrain[i * batch_sz: (i+1) * batch_sz])]"
   ]
  },
  {
   "cell_type": "code",
   "execution_count": 61,
   "metadata": {},
   "outputs": [],
   "source": [
    "n_batches = len(Xtest) // batch_sz\n",
    "labels = []\n",
    "predictions = []\n",
    "for i in range(n_batches):\n",
    "    labels += Ytest[i * batch_sz: (i+1) * batch_sz]\n",
    "    predictions += [model.predict(Xtest[i * batch_sz: (i+1) * batch_sz])]"
   ]
  },
  {
   "cell_type": "code",
   "execution_count": 62,
   "metadata": {},
   "outputs": [],
   "source": [
    "predictions = np.vstack(predictions)\n",
    "labels = np.asarray(labels)"
   ]
  },
  {
   "cell_type": "code",
   "execution_count": 63,
   "metadata": {},
   "outputs": [
    {
     "name": "stderr",
     "output_type": "stream",
     "text": [
      "/home/rustam/anaconda3/lib/python3.6/site-packages/makiflow/metrics/metrics.py:153: RuntimeWarning: invalid value encountered in true_divide\n",
      "  mat /= mat.sum(axis=0)\n"
     ]
    },
    {
     "data": {
      "text/plain": [
       "array([[0.93, 0.04, 0.75, 0.29,  nan, 0.46, 0.  , 0.09],\n",
       "       [0.01, 0.95, 0.  , 0.02,  nan, 0.52, 1.  , 0.  ],\n",
       "       [0.01, 0.  , 0.19, 0.  ,  nan, 0.  , 0.  , 0.  ],\n",
       "       [0.04, 0.01, 0.03, 0.68,  nan, 0.  , 0.  , 0.02],\n",
       "       [0.  , 0.  , 0.  , 0.  ,  nan, 0.  , 0.  , 0.  ],\n",
       "       [0.  , 0.  , 0.  , 0.  ,  nan, 0.01, 0.  , 0.  ],\n",
       "       [0.  , 0.  , 0.  , 0.  ,  nan, 0.  , 0.  , 0.  ],\n",
       "       [0.01, 0.  , 0.03, 0.01,  nan, 0.  , 0.  , 0.89]], dtype=float32)"
      ]
     },
     "execution_count": 63,
     "metadata": {},
     "output_type": "execute_result"
    }
   ],
   "source": [
    "confusion_mat(\n",
    "            predictions, labels, use_argmax_p=True, to_flatten=True,\n",
    "            save_path='./mat.png', dpi=175\n",
    "        )"
   ]
  },
  {
   "cell_type": "code",
   "execution_count": 64,
   "metadata": {},
   "outputs": [],
   "source": [
    "u, c = np.unique(Ytest, return_counts=True)"
   ]
  },
  {
   "cell_type": "code",
   "execution_count": 65,
   "metadata": {},
   "outputs": [
    {
     "name": "stdout",
     "output_type": "stream",
     "text": [
      "[0 1 2 3 4 5 8 9] [40047597   822270   879939  3691893    76568    22614    86018   674285]\n"
     ]
    }
   ],
   "source": [
    "print(u, c)"
   ]
  },
  {
   "cell_type": "code",
   "execution_count": 45,
   "metadata": {},
   "outputs": [
    {
     "data": {
      "text/plain": [
       "<matplotlib.axes._subplots.AxesSubplot at 0x7f56c07eae80>"
      ]
     },
     "execution_count": 45,
     "metadata": {},
     "output_type": "execute_result"
    },
    {
     "data": {
      "image/png": "[encoded data removed]",
      "text/plain": [
       "<Figure size 432x288 with 2 Axes>"
      ]
     },
     "metadata": {},
     "output_type": "display_data"
    }
   ],
   "source": [
    "sns.heatmap(predictions[28].argmax(axis=2))"
   ]
  },
  {
   "cell_type": "code",
   "execution_count": 46,
   "metadata": {},
   "outputs": [
    {
     "data": {
      "text/plain": [
       "<matplotlib.axes._subplots.AxesSubplot at 0x7f56c06dd470>"
      ]
     },
     "execution_count": 46,
     "metadata": {},
     "output_type": "execute_result"
    },
    {
     "data": {
      "image/png": "[encoded data removed]",
      "text/plain": [
       "<Figure size 432x288 with 2 Axes>"
      ]
     },
     "metadata": {},
     "output_type": "display_data"
    }
   ],
   "source": [
    "sns.heatmap(Ytest[28])"
   ]
  },
  {
   "cell_type": "code",
   "execution_count": 41,
   "metadata": {},
   "outputs": [],
   "source": []
  },
  {
   "cell_type": "code",
   "execution_count": 42,
   "metadata": {},
   "outputs": [
    {
     "ename": "error",
     "evalue": "OpenCV(4.0.0) /io/opencv/modules/imgproc/src/clahe.cpp:351: error: (-215:Assertion failed) _src.type() == CV_8UC1 || _src.type() == CV_16UC1 in function 'apply'\n",
     "output_type": "error",
     "traceback": [
      "\u001b[0;31m---------------------------------------------------------------------------\u001b[0m",
      "\u001b[0;31merror\u001b[0m                                     Traceback (most recent call last)",
      "\u001b[0;32m<ipython-input-42-baf9007cab1b>\u001b[0m in \u001b[0;36m<module>\u001b[0;34m()\u001b[0m\n\u001b[0;32m----> 1\u001b[0;31m \u001b[0mplt\u001b[0m\u001b[0;34m.\u001b[0m\u001b[0mimshow\u001b[0m\u001b[0;34m(\u001b[0m\u001b[0muse_clahe\u001b[0m\u001b[0;34m(\u001b[0m\u001b[0mXtest\u001b[0m\u001b[0;34m[\u001b[0m\u001b[0;36m20\u001b[0m\u001b[0;34m]\u001b[0m\u001b[0;34m)\u001b[0m\u001b[0;34m)\u001b[0m\u001b[0;34m\u001b[0m\u001b[0;34m\u001b[0m\u001b[0m\n\u001b[0m",
      "\u001b[0;32m<ipython-input-41-c8f1f5482901>\u001b[0m in \u001b[0;36muse_clahe\u001b[0;34m(img, clahe_kernel)\u001b[0m\n\u001b[1;32m      1\u001b[0m \u001b[0;32mdef\u001b[0m \u001b[0muse_clahe\u001b[0m\u001b[0;34m(\u001b[0m\u001b[0mimg\u001b[0m\u001b[0;34m,\u001b[0m \u001b[0mclahe_kernel\u001b[0m\u001b[0;34m=\u001b[0m\u001b[0mcv2\u001b[0m\u001b[0;34m.\u001b[0m\u001b[0mcreateCLAHE\u001b[0m\u001b[0;34m(\u001b[0m\u001b[0mclipLimit\u001b[0m\u001b[0;34m=\u001b[0m\u001b[0;36m2.0\u001b[0m\u001b[0;34m,\u001b[0m \u001b[0mtileGridSize\u001b[0m\u001b[0;34m=\u001b[0m\u001b[0;34m(\u001b[0m\u001b[0;36m8\u001b[0m\u001b[0;34m,\u001b[0m \u001b[0;36m8\u001b[0m\u001b[0;34m)\u001b[0m\u001b[0;34m)\u001b[0m\u001b[0;34m)\u001b[0m\u001b[0;34m:\u001b[0m\u001b[0;34m\u001b[0m\u001b[0;34m\u001b[0m\u001b[0m\n\u001b[1;32m      2\u001b[0m     \u001b[0;32mfor\u001b[0m \u001b[0mi\u001b[0m \u001b[0;32min\u001b[0m \u001b[0mrange\u001b[0m\u001b[0;34m(\u001b[0m\u001b[0;36m3\u001b[0m\u001b[0;34m)\u001b[0m\u001b[0;34m:\u001b[0m\u001b[0;34m\u001b[0m\u001b[0;34m\u001b[0m\u001b[0m\n\u001b[0;32m----> 3\u001b[0;31m         \u001b[0mimg\u001b[0m\u001b[0;34m[\u001b[0m\u001b[0;34m:\u001b[0m\u001b[0;34m,\u001b[0m \u001b[0;34m:\u001b[0m\u001b[0;34m,\u001b[0m \u001b[0mi\u001b[0m\u001b[0;34m]\u001b[0m \u001b[0;34m=\u001b[0m \u001b[0mclahe_kernel\u001b[0m\u001b[0;34m.\u001b[0m\u001b[0mapply\u001b[0m\u001b[0;34m(\u001b[0m\u001b[0mimg\u001b[0m\u001b[0;34m[\u001b[0m\u001b[0;34m:\u001b[0m\u001b[0;34m,\u001b[0m \u001b[0;34m:\u001b[0m\u001b[0;34m,\u001b[0m \u001b[0mi\u001b[0m\u001b[0;34m]\u001b[0m\u001b[0;34m)\u001b[0m\u001b[0;34m\u001b[0m\u001b[0;34m\u001b[0m\u001b[0m\n\u001b[0m\u001b[1;32m      4\u001b[0m     \u001b[0;32mreturn\u001b[0m \u001b[0mimg\u001b[0m\u001b[0;34m\u001b[0m\u001b[0;34m\u001b[0m\u001b[0m\n",
      "\u001b[0;31merror\u001b[0m: OpenCV(4.0.0) /io/opencv/modules/imgproc/src/clahe.cpp:351: error: (-215:Assertion failed) _src.type() == CV_8UC1 || _src.type() == CV_16UC1 in function 'apply'\n"
     ]
    }
   ],
   "source": [
    "plt.imshow(use_clahe(Xtest[20]))"
   ]
  },
  {
   "cell_type": "code",
   "execution_count": null,
   "metadata": {},
   "outputs": [],
   "source": []
  }
 ],
 "metadata": {
  "kernelspec": {
   "display_name": "Python 3",
   "language": "python",
   "name": "python3"
  },
  "language_info": {
   "codemirror_mode": {
    "name": "ipython",
    "version": 3
   },
   "file_extension": ".py",
   "mimetype": "text/x-python",
   "name": "python",
   "nbconvert_exporter": "python",
   "pygments_lexer": "ipython3",
   "version": "3.6.9"
  }
 },
 "nbformat": 4,
 "nbformat_minor": 2
}
