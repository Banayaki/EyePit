{
 "cells": [
  {
   "cell_type": "code",
   "execution_count": 13,
   "metadata": {},
   "outputs": [],
   "source": [
    "from makiflow.layers import *\n",
    "from makiflow.models.segmentation.segmentator import Segmentator\n",
    "from makiflow.augmentation import AffineAugment, ElasticAugment, ImageCutter, Data\n",
    "from makiflow.save_recover import Builder\n",
    "from makiflow.trainers import SegmentatorTrainer\n",
    "from makiflow.metrics import categorical_dice_coeff, confusion_mat\n",
    "import makiflow as mf\n",
    "\n",
    "import tensorflow as tf\n",
    "import numpy as np\n",
    "import glob\n",
    "import cv2\n",
    "import seaborn as sns\n",
    "from tqdm import tqdm\n",
    "from matplotlib import pyplot as plt\n",
    "\n",
    "from sklearn.utils import shuffle\n",
    "from sklearn.metrics import confusion_matrix\n",
    "from scipy.ndimage import gaussian_filter"
   ]
  },
  {
   "cell_type": "code",
   "execution_count": 2,
   "metadata": {},
   "outputs": [],
   "source": [
    "mf.set_main_gpu(1)"
   ]
  },
  {
   "cell_type": "code",
   "execution_count": 3,
   "metadata": {},
   "outputs": [],
   "source": [
    "class ImageCutter:\n",
    "\n",
    "    @staticmethod\n",
    "    def image_and_mask_cutter(\n",
    "        images, masks, window_h, window_w, step_x, step_y, classes_to_get,\n",
    "        use_all_px=True\n",
    "    ):\n",
    "        \"\"\"\n",
    "        Crops `images` and `masks` using sliding window with resize.\n",
    "        Parameters\n",
    "        ----------\n",
    "        images : list\n",
    "            List of input images.\n",
    "        masks : list\n",
    "            List of input masks.\n",
    "        window_h : int\n",
    "            Output image height.\n",
    "        window_w : int\n",
    "            Output image width.\n",
    "        step_x : int\n",
    "            Sliding window step by OX.\n",
    "        step_y : int\n",
    "            Sliding window step by OX.\n",
    "        scale_factor : float\n",
    "            Scale factor, must be in range (0, 1). After each 'sliding window step' the original images\n",
    "            are resized to (previous_width * scale_factor, previous_height * scale_factor).\n",
    "        postprocessing : func\n",
    "            Post processing function, using on cropped image (may be function what calculate num positives pixels).\n",
    "        use_all_px : bool\n",
    "            If True, all pixels of image would be in output lists.\n",
    "\n",
    "        Returns\n",
    "        -------\n",
    "        Three list:\n",
    "            1. cropped images\n",
    "            2. cropped masks\n",
    "            3. additional list (result of post processing)\n",
    "        \"\"\"\n",
    "        assert (len(images) > 0)\n",
    "        assert (len(images) == len(masks))\n",
    "        assert (window_h > 0 and window_w > 0 and step_x > 0 and step_y > 0)\n",
    "\n",
    "        cropped_images = []\n",
    "        cropped_masks = []\n",
    "        additional_list = []\n",
    "        dx = 0\n",
    "        dy = 0\n",
    "\n",
    "        for index, (img, mask) in enumerate(zip(images, masks)):\n",
    "            print(index)\n",
    "            assert (img.shape[:2] == mask.shape[:2])\n",
    "            current_height, current_width = img.shape[:2]\n",
    "\n",
    "\n",
    "            for dy in range(int((current_height - window_h) / step_y)):\n",
    "                for dx in range(int((current_width - window_w) / step_x)):\n",
    "                    crop_img, crop_mask = ImageCutter.crop_img_and_mask(\n",
    "                        img,\n",
    "                        mask,\n",
    "                        dy * step_y, dy * step_y + window_h, dx * step_x, dx * step_x + window_w)\n",
    "                    if ImageCutter.has_class(crop_mask, classes_to_get):\n",
    "                        cropped_images.append(crop_img)\n",
    "                        cropped_masks.append(crop_mask)\n",
    "\n",
    "            if use_all_px:\n",
    "                overlap_y = dy * step_y + window_h != current_height\n",
    "                overlap_x = dx * step_x + window_w != current_width\n",
    "                if overlap_y:\n",
    "                    for dx in range(int((current_width - window_w) / step_x)):\n",
    "                        crop_img, crop_mask = ImageCutter.crop_img_and_mask(\n",
    "                            img,\n",
    "                            mask,\n",
    "                            current_height - window_h, current_height, dx * step_x, dx * step_x + window_w)\n",
    "                        if ImageCutter.has_class(crop_mask, classes_to_get):\n",
    "                            cropped_images.append(crop_img)\n",
    "                            cropped_masks.append(crop_mask)\n",
    "\n",
    "                if overlap_x:\n",
    "                    for dy in range(int((current_height - window_h) / step_y)):\n",
    "                        crop_img, crop_mask = ImageCutter.crop_img_and_mask(\n",
    "                            img,\n",
    "                            mask,\n",
    "                            dy * step_y, dy * step_y + window_h, current_width - window_w, current_width)\n",
    "                        if ImageCutter.has_class(crop_mask, classes_to_get):\n",
    "                            cropped_images.append(crop_img)\n",
    "                            cropped_masks.append(crop_mask)\n",
    "\n",
    "                if overlap_x and overlap_y:\n",
    "                    crop_img, crop_mask = ImageCutter.crop_img_and_mask(\n",
    "                        img,\n",
    "                        mask,\n",
    "                        current_height - window_h, current_height, current_width - window_w, current_width)\n",
    "                    if ImageCutter.has_class(crop_mask, classes_to_get):\n",
    "                        cropped_images.append(crop_img)\n",
    "                        cropped_masks.append(crop_mask)\n",
    "\n",
    "        return cropped_images, cropped_masks, additional_list\n",
    "\n",
    "    @staticmethod\n",
    "    def crop_img_and_mask(img, mask, up, down, left, right):\n",
    "        crop_img = img[up: down, left: right]\n",
    "        crop_mask = mask[up: down, left: right]\n",
    "        return crop_img, crop_mask\n",
    "    \n",
    "    @staticmethod\n",
    "    def has_class(mask, needed):\n",
    "        actual = np.unique(mask)\n",
    "        for need in needed:\n",
    "            if need in actual:\n",
    "                return True\n",
    "        return False\n",
    "\n",
    "\n",
    "def normalize_data(Xtrain, Ytrain, Xtest, Ytest):\n",
    "    Xtrain = np.asarray(Xtrain).astype(np.float32) / 255\n",
    "    Xtrain = [i for i in Xtrain]\n",
    "    Ytrain = np.asarray(Ytrain).astype(np.uint8) // 10\n",
    "    Ytrain = [i for i in Ytrain]\n",
    "    \n",
    "    Xtest = np.asarray(Xtest).astype(np.float32) / 255\n",
    "    Xtest = [i for i in Xtest]\n",
    "    Ytest = np.asarray(Ytest).astype(np.uint8) // 10\n",
    "    Ytest = [i for i in Ytest]\n",
    "    return Xtrain, Ytrain, Xtest, Ytest"
   ]
  },
  {
   "cell_type": "code",
   "execution_count": 4,
   "metadata": {},
   "outputs": [],
   "source": [
    "def load_data(path_to_data='datasets/eyes/mask'):\n",
    "    Xtrain = []\n",
    "    Ytrain = []\n",
    "\n",
    "    masks = glob.glob(f'{path_to_data}/*.bmp')\n",
    "    for mask_name in tqdm(masks):\n",
    "        img = cv2.imread(mask_name.replace('mask', 'imgs'))\n",
    "        mask = cv2.imread(mask_name)\n",
    "        Xtrain.append(img)\n",
    "        Ytrain.append(mask[:, :, 0])\n",
    "        \n",
    "    return Xtrain, Ytrain\n",
    "    \n",
    "def get_test_data():\n",
    "    images, labels = load_data()\n",
    "    imgs, lbls = [], []\n",
    "    for i, (img, lbl) in enumerate(zip(images, labels)):\n",
    "        if i in [2, 24, 41, 85, 75, 6, 7]:\n",
    "            imgs += [img]\n",
    "            lbls += [lbl]\n",
    "            \n",
    "    cropped_images1, cropped_masks1, _ = ImageCutter.image_and_mask_cutter(imgs, lbls,\n",
    "        window_h=256, window_w=256, step_x=50, step_y=50, classes_to_get=[40, 70, 80])\n",
    "    \n",
    "    cropped_images2, cropped_masks2, _ = ImageCutter.image_and_mask_cutter(\n",
    "        imgs, lbls, window_h=256, window_w=256, step_x=40, step_y=40, classes_to_get=[70])\n",
    "    \n",
    "    cropped_images3, cropped_masks3, _ = ImageCutter.image_and_mask_cutter(\n",
    "        imgs, lbls, window_h=256, window_w=256, step_x=60, step_y=60, classes_to_get=[60])\n",
    "    \n",
    "    cropped_images4, cropped_masks4, _ = ImageCutter.image_and_mask_cutter(\n",
    "        imgs, lbls, window_h=256, window_w=256, step_x=60, step_y=60, classes_to_get=[10])\n",
    "        \n",
    "    cropped_images = cropped_images1 + cropped_images2 + cropped_images3 + cropped_images4 + cropped_images1[:18]\n",
    "    cropped_masks = cropped_masks1 + cropped_masks2 + cropped_masks3 + cropped_masks4 + cropped_masks1[:18]\n",
    "    print(len(cropped_images))\n",
    "    assert(len(cropped_images) % 8 == 0)\n",
    "    return cropped_images, cropped_masks"
   ]
  },
  {
   "cell_type": "code",
   "execution_count": 5,
   "metadata": {},
   "outputs": [
    {
     "name": "stderr",
     "output_type": "stream",
     "text": [
      "100%|██████████| 100/100 [00:00<00:00, 189.93it/s]\n"
     ]
    },
    {
     "name": "stdout",
     "output_type": "stream",
     "text": [
      "0\n",
      "1\n",
      "2\n",
      "3\n",
      "4\n",
      "5\n",
      "6\n",
      "0\n",
      "1\n",
      "2\n",
      "3\n",
      "4\n",
      "5\n",
      "6\n",
      "0\n",
      "1\n",
      "2\n",
      "3\n",
      "4\n",
      "5\n",
      "6\n",
      "0\n",
      "1\n",
      "2\n",
      "3\n",
      "4\n",
      "5\n",
      "6\n",
      "744\n"
     ]
    }
   ],
   "source": [
    "Xtest, Ytest = get_test_data()"
   ]
  },
  {
   "cell_type": "code",
   "execution_count": 6,
   "metadata": {},
   "outputs": [],
   "source": [
    "Xtest = np.asarray(Xtest).astype(np.float32) / 255\n",
    "Xtest = [i for i in Xtest]\n",
    "Ytest = np.asarray(Ytest).astype(np.uint8) // 10\n",
    "Ytest = [i for i in Ytest]"
   ]
  },
  {
   "cell_type": "code",
   "execution_count": 7,
   "metadata": {},
   "outputs": [
    {
     "name": "stdout",
     "output_type": "stream",
     "text": [
      "Model is restored!\n"
     ]
    }
   ],
   "source": [
    "model = Builder.segmentator_from_json('Models/Resnet50.json', batch_size=8)"
   ]
  },
  {
   "cell_type": "code",
   "execution_count": 8,
   "metadata": {},
   "outputs": [],
   "source": [
    "model.set_session(tf.Session())"
   ]
  },
  {
   "cell_type": "code",
   "execution_count": 9,
   "metadata": {},
   "outputs": [
    {
     "name": "stdout",
     "output_type": "stream",
     "text": [
      "INFO:tensorflow:Restoring parameters from Augmentation 1 Resnet50/experiments/Augmnetation 1/MakiSegmentator_gamma=4.0_lr=0.001_bsz=32/last_weights/weights.ckpt\n",
      "Weights are loaded.\n"
     ]
    }
   ],
   "source": [
    "model.load_weights('Augmentation 1 Resnet50/experiments/Augmnetation 1/MakiSegmentator_gamma=4.0_lr=0.001_bsz=32/last_weights/weights.ckpt')"
   ]
  },
  {
   "cell_type": "code",
   "execution_count": 10,
   "metadata": {},
   "outputs": [
    {
     "name": "stderr",
     "output_type": "stream",
     "text": [
      "100%|██████████| 93/93 [00:09<00:00,  9.80it/s]\n"
     ]
    },
    {
     "name": "stdout",
     "output_type": "stream",
     "text": [
      "Computing V-Dice...\n"
     ]
    }
   ],
   "source": [
    "batch_sz = 8\n",
    "predictions = []\n",
    "labels = []\n",
    "n_batches = len(Xtest) // batch_sz\n",
    "for i in tqdm(range(n_batches)):\n",
    "    labels += Ytest[i * batch_sz:(i + 1) * batch_sz]\n",
    "    predictions += [model.predict(Xtest[i * batch_sz:(i + 1) * batch_sz])]\n",
    "predictions = np.vstack(predictions)\n",
    "labels = np.asarray(labels)\n",
    "\n",
    "print('Computing V-Dice...')\n",
    "\n",
    "# COMPUTE DICE AND CREATE CONFUSION MATRIX\n",
    "v_dice_val, dices = categorical_dice_coeff(predictions, labels, use_argmax=True)"
   ]
  },
  {
   "cell_type": "code",
   "execution_count": 16,
   "metadata": {},
   "outputs": [
    {
     "data": {
      "text/plain": [
       "array([9.46588545e-01, 6.20904168e-01, 3.96015770e-01, 6.42471487e-01,\n",
       "       6.13485893e-04, 3.31716843e-01, 2.93849661e-01, 1.01843891e-10,\n",
       "       2.16148786e-01, 4.73564991e-01])"
      ]
     },
     "execution_count": 16,
     "metadata": {},
     "output_type": "execute_result"
    }
   ],
   "source": [
    "dices"
   ]
  },
  {
   "cell_type": "code",
   "execution_count": null,
   "metadata": {},
   "outputs": [],
   "source": []
  },
  {
   "cell_type": "code",
   "execution_count": 24,
   "metadata": {
    "scrolled": true
   },
   "outputs": [
    {
     "data": {
      "text/plain": [
       "<matplotlib.image.AxesImage at 0x7f79386d8f98>"
      ]
     },
     "execution_count": 24,
     "metadata": {},
     "output_type": "execute_result"
    },
    {
     "data": {
      "image/png": "[encoded data removed]",
      "text/plain": [
       "<Figure size 720x720 with 6 Axes>"
      ]
     },
     "metadata": {},
     "output_type": "display_data"
    }
   ],
   "source": [
    "img_num = 0\n",
    "fig, axs = plt.subplots(ncols=2, nrows=2, figsize=(10,10))\n",
    "sns.heatmap(predictions[img_num].argmax(axis=2), ax=axs[0][0])\n",
    "sns.heatmap(Ytest[img_num], ax=axs[1][0])\n",
    "plt.imshow(Xtest[img_num])"
   ]
  },
  {
   "cell_type": "code",
   "execution_count": 25,
   "metadata": {},
   "outputs": [],
   "source": [
    "from makiflow.metrics import one_hot"
   ]
  },
  {
   "cell_type": "code",
   "execution_count": 27,
   "metadata": {},
   "outputs": [],
   "source": [
    "\n",
    "EPSILON = 1e-9\n",
    "\n",
    "\n",
    "def binary_dice(predicted, actual):\n",
    "    num = np.sum(predicted * actual)\n",
    "    den = np.sum(predicted * predicted) + np.sum(actual)\n",
    "    return (2 * num + EPSILON) / (den + EPSILON)"
   ]
  },
  {
   "cell_type": "code",
   "execution_count": 28,
   "metadata": {},
   "outputs": [],
   "source": [
    "P = predictions\n",
    "L = labels\n",
    "batch_sz = len(P)\n",
    "L = np.asarray(L)\n",
    "P = np.asarray(P)\n",
    "print((P.argmax(axis=3) == 4).sum())\n",
    "num_classes = P.shape[-1]\n",
    "\n",
    "P = P.argmax(axis=3)\n",
    "P = P.reshape(-1)\n",
    "P = one_hot(P, depth=num_classes)\n",
    "print((P.argmax(axis=2) == 4).sum())\n",
    "P = P.reshape(batch_sz, -1, num_classes)\n",
    "L = L.reshape(batch_sz, -1)\n",
    "\n",
    "class_dices = np.zeros(num_classes)\n",
    "class_counts = np.zeros(num_classes)\n",
    "for i in range(batch_sz):\n",
    "    sample_actual = L[i]\n",
    "    sample_pred = P[i]\n",
    "    for j in range(num_classes):\n",
    "        sub_actual = (sample_actual[:] == j).astype(np.int32)\n",
    "        sub_confs = sample_pred[:, j]\n",
    "        if np.sum(sub_actual) == 0 and np.sum(sub_confs) == 0:\n",
    "            continue\n",
    "        class_dices[j] += binary_dice(sub_confs, sub_actual)\n",
    "        class_counts[j] += 1\n",
    "\n",
    "\n",
    "v_dice, dices = (class_dices / class_counts).mean(), class_dices / class_counts"
   ]
  },
  {
   "cell_type": "code",
   "execution_count": 29,
   "metadata": {},
   "outputs": [
    {
     "data": {
      "text/plain": [
       "array([744., 227., 202., 744., 226., 537., 132.,  37., 307., 713.])"
      ]
     },
     "execution_count": 29,
     "metadata": {},
     "output_type": "execute_result"
    }
   ],
   "source": [
    "class_counts"
   ]
  },
  {
   "cell_type": "code",
   "execution_count": 30,
   "metadata": {},
   "outputs": [
    {
     "data": {
      "text/plain": [
       "array([7.04261878e+02, 1.40945246e+02, 7.99951855e+01, 4.77998786e+02,\n",
       "       1.38647812e-01, 1.78131945e+02, 3.87881553e+01, 3.76822398e-09,\n",
       "       6.63576772e+01, 3.37651839e+02])"
      ]
     },
     "execution_count": 30,
     "metadata": {},
     "output_type": "execute_result"
    }
   ],
   "source": [
    "class_dices"
   ]
  },
  {
   "cell_type": "code",
   "execution_count": 13,
   "metadata": {},
   "outputs": [
    {
     "data": {
      "text/plain": [
       "19"
      ]
     },
     "execution_count": 13,
     "metadata": {},
     "output_type": "execute_result"
    }
   ],
   "source": [
    "(predictions.argmax(axis=-1) == 4).sum()"
   ]
  },
  {
   "cell_type": "code",
   "execution_count": 14,
   "metadata": {},
   "outputs": [
    {
     "data": {
      "text/plain": [
       "95466"
      ]
     },
     "execution_count": 14,
     "metadata": {},
     "output_type": "execute_result"
    }
   ],
   "source": [
    "(labels == 4).sum()"
   ]
  },
  {
   "cell_type": "code",
   "execution_count": 16,
   "metadata": {},
   "outputs": [
    {
     "data": {
      "text/plain": [
       "(744, 256, 256)"
      ]
     },
     "execution_count": 16,
     "metadata": {},
     "output_type": "execute_result"
    }
   ],
   "source": [
    "labels.shape"
   ]
  },
  {
   "cell_type": "code",
   "execution_count": 17,
   "metadata": {},
   "outputs": [],
   "source": [
    "from makiflow.metrics import confusion_mat"
   ]
  },
  {
   "cell_type": "code",
   "execution_count": 18,
   "metadata": {},
   "outputs": [
    {
     "data": {
      "text/plain": [
       "array([[0.93, 0.05, 0.36, 0.24, 0.26, 0.26, 0.2 , 0.93, 0.51, 0.26],\n",
       "       [0.  , 0.91, 0.  , 0.  , 0.  , 0.  , 0.  , 0.  , 0.  , 0.  ],\n",
       "       [0.01, 0.03, 0.62, 0.  , 0.  , 0.21, 0.  , 0.  , 0.01, 0.  ],\n",
       "       [0.04, 0.01, 0.01, 0.75, 0.11, 0.02, 0.  , 0.01, 0.01, 0.02],\n",
       "       [0.  , 0.  , 0.  , 0.  , 0.63, 0.  , 0.  , 0.  , 0.  , 0.01],\n",
       "       [0.  , 0.  , 0.01, 0.  , 0.  , 0.51, 0.  , 0.06, 0.01, 0.  ],\n",
       "       [0.  , 0.  , 0.  , 0.  , 0.  , 0.  , 0.79, 0.  , 0.  , 0.  ],\n",
       "       [0.  , 0.  , 0.  , 0.  , 0.  , 0.  , 0.  , 0.  , 0.  , 0.  ],\n",
       "       [0.  , 0.  , 0.  , 0.  , 0.  , 0.  , 0.  , 0.  , 0.45, 0.  ],\n",
       "       [0.  , 0.  , 0.  , 0.  , 0.  , 0.  , 0.  , 0.  , 0.01, 0.71]],\n",
       "      dtype=float32)"
      ]
     },
     "execution_count": 18,
     "metadata": {},
     "output_type": "execute_result"
    }
   ],
   "source": [
    "confusion_mat(predictions, labels, use_argmax_p=True, to_flatten=True)"
   ]
  },
  {
   "cell_type": "code",
   "execution_count": 30,
   "metadata": {},
   "outputs": [],
   "source": [
    "from sklearn.metrics import confusion_matrix"
   ]
  },
  {
   "cell_type": "code",
   "execution_count": 42,
   "metadata": {},
   "outputs": [],
   "source": [
    "p = predictions\n",
    "l = labels\n",
    "\n",
    "p = p.argmax(axis=-1)\n",
    "\n",
    "p = p.reshape(-1)\n",
    "l = l.reshape(-1)\n",
    "\n",
    "mat_un = np.asarray(confusion_matrix(l, p, labels=[i for i in range(10)],), dtype=np.float32)\n",
    "mat = mat_un / mat_un.sum(axis=0)\n",
    "mat = np.round(mat, decimals=2)"
   ]
  },
  {
   "cell_type": "code",
   "execution_count": 43,
   "metadata": {},
   "outputs": [
    {
     "data": {
      "text/plain": [
       "array([[0.93, 0.05, 0.36, 0.24, 0.26, 0.26, 0.2 , 0.93, 0.51, 0.26],\n",
       "       [0.  , 0.91, 0.  , 0.  , 0.  , 0.  , 0.  , 0.  , 0.  , 0.  ],\n",
       "       [0.01, 0.03, 0.62, 0.  , 0.  , 0.21, 0.  , 0.  , 0.01, 0.  ],\n",
       "       [0.04, 0.01, 0.01, 0.75, 0.11, 0.02, 0.  , 0.01, 0.01, 0.02],\n",
       "       [0.  , 0.  , 0.  , 0.  , 0.63, 0.  , 0.  , 0.  , 0.  , 0.01],\n",
       "       [0.  , 0.  , 0.01, 0.  , 0.  , 0.51, 0.  , 0.06, 0.01, 0.  ],\n",
       "       [0.  , 0.  , 0.  , 0.  , 0.  , 0.  , 0.79, 0.  , 0.  , 0.  ],\n",
       "       [0.  , 0.  , 0.  , 0.  , 0.  , 0.  , 0.  , 0.  , 0.  , 0.  ],\n",
       "       [0.  , 0.  , 0.  , 0.  , 0.  , 0.  , 0.  , 0.  , 0.45, 0.  ],\n",
       "       [0.  , 0.  , 0.  , 0.  , 0.  , 0.  , 0.  , 0.  , 0.01, 0.71]],\n",
       "      dtype=float32)"
      ]
     },
     "execution_count": 43,
     "metadata": {},
     "output_type": "execute_result"
    }
   ],
   "source": [
    "mat"
   ]
  },
  {
   "cell_type": "code",
   "execution_count": 49,
   "metadata": {},
   "outputs": [
    {
     "data": {
      "text/plain": [
       "array([[3.918889e+07, 7.875000e+04, 3.448240e+05, 8.443890e+05,\n",
       "        5.000000e+00, 6.926400e+04, 1.141700e+04, 3.380000e+02,\n",
       "        6.173800e+04, 8.035600e+04],\n",
       "       [8.025900e+04, 1.323622e+06, 0.000000e+00, 1.213700e+04,\n",
       "        0.000000e+00, 0.000000e+00, 4.000000e+00, 0.000000e+00,\n",
       "        0.000000e+00, 0.000000e+00],\n",
       "       [3.064780e+05, 3.849100e+04, 5.973750e+05, 2.190000e+02,\n",
       "        0.000000e+00, 5.520900e+04, 1.090000e+02, 0.000000e+00,\n",
       "        6.630000e+02, 9.940000e+02],\n",
       "       [1.794729e+06, 1.677200e+04, 5.392000e+03, 2.698425e+06,\n",
       "        2.000000e+00, 5.255000e+03, 4.500000e+01, 5.000000e+00,\n",
       "        1.635000e+03, 6.498000e+03],\n",
       "       [8.856500e+04, 0.000000e+00, 0.000000e+00, 4.963000e+03,\n",
       "        1.200000e+01, 0.000000e+00, 0.000000e+00, 0.000000e+00,\n",
       "        0.000000e+00, 1.926000e+03],\n",
       "       [1.201120e+05, 2.132000e+03, 9.570000e+03, 8.777000e+03,\n",
       "        0.000000e+00, 1.379180e+05, 7.000000e+00, 2.200000e+01,\n",
       "        1.235000e+03, 1.500000e+01],\n",
       "       [5.858600e+04, 0.000000e+00, 0.000000e+00, 3.000000e+00,\n",
       "        0.000000e+00, 0.000000e+00, 4.507600e+04, 0.000000e+00,\n",
       "        0.000000e+00, 5.660000e+02],\n",
       "       [4.894000e+03, 0.000000e+00, 0.000000e+00, 0.000000e+00,\n",
       "        0.000000e+00, 0.000000e+00, 0.000000e+00, 0.000000e+00,\n",
       "        0.000000e+00, 0.000000e+00],\n",
       "       [1.649570e+05, 1.410000e+03, 0.000000e+00, 3.835000e+03,\n",
       "        0.000000e+00, 1.570000e+02, 0.000000e+00, 0.000000e+00,\n",
       "        5.484700e+04, 5.430000e+02],\n",
       "       [2.010760e+05, 0.000000e+00, 2.120000e+02, 4.349000e+03,\n",
       "        0.000000e+00, 7.800000e+01, 1.780000e+02, 0.000000e+00,\n",
       "        7.070000e+02, 2.177680e+05]], dtype=float32)"
      ]
     },
     "execution_count": 49,
     "metadata": {},
     "output_type": "execute_result"
    }
   ],
   "source": [
    "mat_un"
   ]
  },
  {
   "cell_type": "code",
   "execution_count": 47,
   "metadata": {},
   "outputs": [],
   "source": [
    "mat = mat_un / mat_un.sum(axis=1)\n",
    "mat = np.round(mat, decimals=2)"
   ]
  },
  {
   "cell_type": "code",
   "execution_count": 48,
   "metadata": {},
   "outputs": [
    {
     "data": {
      "text/plain": [
       "array([[0.96, 0.06, 0.34, 0.19, 0.  , 0.25, 0.11, 0.07, 0.27, 0.19],\n",
       "       [0.  , 0.93, 0.  , 0.  , 0.  , 0.  , 0.  , 0.  , 0.  , 0.  ],\n",
       "       [0.01, 0.03, 0.6 , 0.  , 0.  , 0.2 , 0.  , 0.  , 0.  , 0.  ],\n",
       "       [0.04, 0.01, 0.01, 0.6 , 0.  , 0.02, 0.  , 0.  , 0.01, 0.02],\n",
       "       [0.  , 0.  , 0.  , 0.  , 0.  , 0.  , 0.  , 0.  , 0.  , 0.  ],\n",
       "       [0.  , 0.  , 0.01, 0.  , 0.  , 0.49, 0.  , 0.  , 0.01, 0.  ],\n",
       "       [0.  , 0.  , 0.  , 0.  , 0.  , 0.  , 0.43, 0.  , 0.  , 0.  ],\n",
       "       [0.  , 0.  , 0.  , 0.  , 0.  , 0.  , 0.  , 0.  , 0.  , 0.  ],\n",
       "       [0.  , 0.  , 0.  , 0.  , 0.  , 0.  , 0.  , 0.  , 0.24, 0.  ],\n",
       "       [0.  , 0.  , 0.  , 0.  , 0.  , 0.  , 0.  , 0.  , 0.  , 0.51]],\n",
       "      dtype=float32)"
      ]
     },
     "execution_count": 48,
     "metadata": {},
     "output_type": "execute_result"
    }
   ],
   "source": [
    "mat"
   ]
  },
  {
   "cell_type": "code",
   "execution_count": 34,
   "metadata": {},
   "outputs": [
    {
     "data": {
      "text/plain": [
       "(array([0, 3, 4, 9]), array([88565,  4963,    12,  1926]))"
      ]
     },
     "execution_count": 34,
     "metadata": {},
     "output_type": "execute_result"
    }
   ],
   "source": [
    "np.unique(p[l == 4], return_counts=True)"
   ]
  },
  {
   "cell_type": "code",
   "execution_count": 50,
   "metadata": {},
   "outputs": [
    {
     "data": {
      "text/plain": [
       "4894"
      ]
     },
     "execution_count": 50,
     "metadata": {},
     "output_type": "execute_result"
    }
   ],
   "source": [
    "(l == 7).sum()"
   ]
  },
  {
   "cell_type": "code",
   "execution_count": 52,
   "metadata": {},
   "outputs": [
    {
     "data": {
      "text/plain": [
       "365"
      ]
     },
     "execution_count": 52,
     "metadata": {},
     "output_type": "execute_result"
    }
   ],
   "source": [
    "(p == 7).sum()"
   ]
  },
  {
   "cell_type": "code",
   "execution_count": 53,
   "metadata": {},
   "outputs": [
    {
     "data": {
      "text/plain": [
       "0.07458111973845526"
      ]
     },
     "execution_count": 53,
     "metadata": {},
     "output_type": "execute_result"
    }
   ],
   "source": [
    "365/4894"
   ]
  },
  {
   "cell_type": "code",
   "execution_count": 36,
   "metadata": {},
   "outputs": [],
   "source": [
    "def confusion_mat(\n",
    "        p, l,\n",
    "        use_argmax_p=False, use_argmax_l=False, to_flatten=False, normalize=[0, 1],\n",
    "        save_path=None, dpi=150, annot=True\n",
    "    ):\n",
    "    \"\"\"\n",
    "    Creates confusion matrix for the given predictions `p` and labels `l`.\n",
    "    Parameters\n",
    "    ----------\n",
    "    p : np.ndarray\n",
    "        Predictions.\n",
    "    l : np.ndarray\n",
    "        Corresponding labels.\n",
    "    use_argmax_p : bool\n",
    "        Set to true if prediction aren't sparse, i.e. `p` is an array of shape [..., num_classes].\n",
    "    use_argmax_l : bool\n",
    "        Set to True if labels aren't sparse (one-hot encoded), i.e. `l` is an array of shape [..., num_classes].\n",
    "    to_flatten : bool\n",
    "        Set to True if `p' and `l` are high-dimensional arrays.\n",
    "    normalize : list \n",
    "        List of axes. The matrix will be normalized along these axes.\n",
    "        Axis 1 - normalizing by the number of true samples per class.\n",
    "        Axis 0 - normalizing by the number of the network predictions per class.\n",
    "        Leave the list empty if you unnormalized matrix.\n",
    "    save_path : str\n",
    "        Saving path for the confusion matrix picture.\n",
    "    dpi : int\n",
    "        Affects the size of the saved confusion matrix picture.\n",
    "    annot : bool\n",
    "        Set to true if you want to see actual numbers (classes) on the matrix picture.\n",
    "    \n",
    "    Returns\n",
    "    -------\n",
    "    list\n",
    "        Confusion matrices.\n",
    "    \"\"\"\n",
    "    if use_argmax_p:\n",
    "        p = p.argmax(axis=-1)\n",
    "\n",
    "    if use_argmax_l:\n",
    "        l = l.argmax(axis=-1)\n",
    "\n",
    "    if to_flatten:\n",
    "        p = p.reshape(-1)\n",
    "        l = l.reshape(-1)\n",
    "\n",
    "    mat = np.asarray(confusion_matrix(l, p), dtype=np.float32)\n",
    "    del p\n",
    "    del l\n",
    "    \n",
    "    assert(len(normalize) < 3)\n",
    "    \n",
    "    if len(normalize) == 2:\n",
    "        \n",
    "        mats = []\n",
    "        for i, ax in enumerate(normalize):\n",
    "            temp_mat = mat / mat.sum(axis=ax)\n",
    "            temp_mat = np.round(temp_mat, decimals=2)\n",
    "            mats += [temp_mat]\n",
    "            \n",
    "        if save_path is not None:\n",
    "            fig, axes = plt.subplots(nrows=1, ncols=2, figsize=(16, 6.4))\n",
    "            sns.heatmap(mats[0], annot=annot, ax=axes[0])\n",
    "            axes[0].set_title(f'Axis {normalize[0]}')\n",
    "            sns.heatmap(mats[1], annot=annot, ax=axes[1])\n",
    "            axes[1].set_title(f'Axis {normalize[1]}')\n",
    "            fig.savefig(save_path)\n",
    "            plt.close(fig)\n",
    "        \n",
    "        return mats\n",
    "        \n",
    "    \n",
    "    if len(normalize) == 1:\n",
    "        mat /= mat.sum(axis=normalize[0])\n",
    "        mat = np.round(mat, decimals=2)\n",
    "\n",
    "    if save_path is not None:\n",
    "        conf_mat = sns.heatmap(mat, annot=annot)\n",
    "        conf_mat.figure.savefig(save_path, dpi=dpi)\n",
    "        plt.close(conf_mat.figure)\n",
    "    return [mat]"
   ]
  },
  {
   "cell_type": "code",
   "execution_count": 37,
   "metadata": {},
   "outputs": [
    {
     "data": {
      "text/plain": [
       "[array([[0.96, 0.06, 0.34, 0.19, 0.  , 0.25, 0.11, 0.07, 0.27, 0.19],\n",
       "        [0.  , 0.93, 0.  , 0.  , 0.  , 0.  , 0.  , 0.  , 0.  , 0.  ],\n",
       "        [0.01, 0.03, 0.6 , 0.  , 0.  , 0.2 , 0.  , 0.  , 0.  , 0.  ],\n",
       "        [0.04, 0.01, 0.01, 0.6 , 0.  , 0.02, 0.  , 0.  , 0.01, 0.02],\n",
       "        [0.  , 0.  , 0.  , 0.  , 0.  , 0.  , 0.  , 0.  , 0.  , 0.  ],\n",
       "        [0.  , 0.  , 0.01, 0.  , 0.  , 0.49, 0.  , 0.  , 0.01, 0.  ],\n",
       "        [0.  , 0.  , 0.  , 0.  , 0.  , 0.  , 0.43, 0.  , 0.  , 0.  ],\n",
       "        [0.  , 0.  , 0.  , 0.  , 0.  , 0.  , 0.  , 0.  , 0.  , 0.  ],\n",
       "        [0.  , 0.  , 0.  , 0.  , 0.  , 0.  , 0.  , 0.  , 0.24, 0.  ],\n",
       "        [0.  , 0.  , 0.  , 0.  , 0.  , 0.  , 0.  , 0.  , 0.  , 0.51]],\n",
       "       dtype=float32),\n",
       " array([[0.93, 0.05, 0.36, 0.24, 0.26, 0.26, 0.2 , 0.93, 0.51, 0.26],\n",
       "        [0.  , 0.91, 0.  , 0.  , 0.  , 0.  , 0.  , 0.  , 0.  , 0.  ],\n",
       "        [0.01, 0.03, 0.62, 0.  , 0.  , 0.21, 0.  , 0.  , 0.01, 0.  ],\n",
       "        [0.04, 0.01, 0.01, 0.75, 0.11, 0.02, 0.  , 0.01, 0.01, 0.02],\n",
       "        [0.  , 0.  , 0.  , 0.  , 0.63, 0.  , 0.  , 0.  , 0.  , 0.01],\n",
       "        [0.  , 0.  , 0.01, 0.  , 0.  , 0.51, 0.  , 0.06, 0.01, 0.  ],\n",
       "        [0.  , 0.  , 0.  , 0.  , 0.  , 0.  , 0.79, 0.  , 0.  , 0.  ],\n",
       "        [0.  , 0.  , 0.  , 0.  , 0.  , 0.  , 0.  , 0.  , 0.  , 0.  ],\n",
       "        [0.  , 0.  , 0.  , 0.  , 0.  , 0.  , 0.  , 0.  , 0.45, 0.  ],\n",
       "        [0.  , 0.  , 0.  , 0.  , 0.  , 0.  , 0.  , 0.  , 0.01, 0.71]],\n",
       "       dtype=float32)]"
      ]
     },
     "execution_count": 37,
     "metadata": {},
     "output_type": "execute_result"
    }
   ],
   "source": [
    "confusion_mat(predictions[:1000], labels[:1000], use_argmax_p=True, to_flatten=True, normalize=[1,0], save_path='mat.png')"
   ]
  },
  {
   "cell_type": "code",
   "execution_count": null,
   "metadata": {},
   "outputs": [],
   "source": []
  }
 ],
 "metadata": {
  "kernelspec": {
   "display_name": "Python 3",
   "language": "python",
   "name": "python3"
  },
  "language_info": {
   "codemirror_mode": {
    "name": "ipython",
    "version": 3
   },
   "file_extension": ".py",
   "mimetype": "text/x-python",
   "name": "python",
   "nbconvert_exporter": "python",
   "pygments_lexer": "ipython3",
   "version": "3.6.9"
  }
 },
 "nbformat": 4,
 "nbformat_minor": 2
}
