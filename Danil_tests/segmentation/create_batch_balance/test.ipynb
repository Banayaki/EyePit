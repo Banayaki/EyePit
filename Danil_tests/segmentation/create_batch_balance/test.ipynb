{
 "cells": [
  {
   "cell_type": "code",
   "execution_count": 1,
   "metadata": {},
   "outputs": [],
   "source": [
    "import numpy as np\n",
    "import glob \n",
    "import cv2\n",
    "import pandas as pd\n",
    "from makiflow.augmentation.segmentation import HCScanner\n",
    "import tensorflow as tf\n",
    "from tqdm import tqdm\n",
    "import os\n",
    "from makiflow.augmentation import AffineAugment, ElasticAugment, ImageCutter, Data\n",
    "from makiflow.tf_scripts import set_main_gpu\n",
    "import glob\n",
    "set_main_gpu(0)"
   ]
  },
  {
   "cell_type": "code",
   "execution_count": null,
   "metadata": {},
   "outputs": [],
   "source": [
    "{1 : 16,\n",
    " 2 : 14,\n",
    " 3 : 16,\n",
    " 4 : 5,\n",
    " 5 : 10,\n",
    " 6 : 7,\n",
    " 7 : 2,\n",
    " 8 : 3,\n",
    " 9 : 14,\n",
    "}"
   ]
  },
  {
   "cell_type": "code",
   "execution_count": null,
   "metadata": {},
   "outputs": [],
   "source": [
    "def get_train_data(path='/mnt/data/med_data/all_data'):\n",
    "    Xtrain, Ytrain = [], []\n",
    "    masks = glob.glob(path + '/masks/*.bmp')\n",
    "    masks.sort()\n",
    "    for mask_name in tqdm(masks):\n",
    "        img = cv2.imread(mask_name.replace('masks', 'images'))\n",
    "        mask = cv2.imread(mask_name)\n",
    "        Xtrain.append(img)\n",
    "        Ytrain.append(mask[:,:,0])\n",
    "        if np.max(mask) >= 10:\n",
    "            print(np.max(mask), f' in image {mask_name} ')\n",
    "    return Xtrain, Ytrain"
   ]
  },
  {
   "cell_type": "code",
   "execution_count": null,
   "metadata": {},
   "outputs": [],
   "source": [
    "X,Y = get_train_data()"
   ]
  },
  {
   "cell_type": "code",
   "execution_count": null,
   "metadata": {},
   "outputs": [],
   "source": [
    "def count(lbls, classes):\n",
    "    uniq = dict([(str(i),0) for i in range(classes)])\n",
    "    \n",
    "    for i in range(len(lbls)):\n",
    "        if i in batch_3:\n",
    "            a,_ = np.unique(lbls[i], return_counts=True)\n",
    "            for m in a:\n",
    "                uniq[str(m)] += 1\n",
    "            print(i,' have classes ', a)\n",
    "    \n",
    "    return uniq"
   ]
  },
  {
   "cell_type": "code",
   "execution_count": null,
   "metadata": {},
   "outputs": [],
   "source": [
    "count(Y,10)"
   ]
  },
  {
   "cell_type": "code",
   "execution_count": null,
   "metadata": {},
   "outputs": [],
   "source": [
    "batch_3 = [91,107,52,16,8,14,72,98,96,60,104,103,102,101,49,38]"
   ]
  },
  {
   "cell_type": "code",
   "execution_count": null,
   "metadata": {},
   "outputs": [],
   "source": [
    "len(batch_3)"
   ]
  },
  {
   "cell_type": "code",
   "execution_count": null,
   "metadata": {},
   "outputs": [],
   "source": []
  },
  {
   "cell_type": "code",
   "execution_count": null,
   "metadata": {},
   "outputs": [],
   "source": [
    "batch_2 = [44,114,17,40,89,106,21,45,81,32,36,67,110,105,37,11]"
   ]
  },
  {
   "cell_type": "code",
   "execution_count": null,
   "metadata": {},
   "outputs": [],
   "source": [
    "len(batch_2)"
   ]
  },
  {
   "cell_type": "code",
   "execution_count": null,
   "metadata": {},
   "outputs": [],
   "source": []
  },
  {
   "cell_type": "code",
   "execution_count": null,
   "metadata": {},
   "outputs": [],
   "source": [
    "batch_1 = [1,5,27,59,33,34,35,95,43,15,23,28,29,13,39,24]"
   ]
  },
  {
   "cell_type": "code",
   "execution_count": null,
   "metadata": {},
   "outputs": [],
   "source": []
  },
  {
   "cell_type": "code",
   "execution_count": null,
   "metadata": {},
   "outputs": [],
   "source": [
    "sorted(batch_3)"
   ]
  },
  {
   "cell_type": "code",
   "execution_count": null,
   "metadata": {
    "scrolled": false
   },
   "outputs": [],
   "source": [
    "def count(lbls, classes):\n",
    "    uniq = dict([(str(i),0) for i in range(classes)])\n",
    "    \n",
    "    for i in range(len(lbls)):\n",
    "        if i not in batch_1 and i not in batch_2:\n",
    "            a,_ = np.unique(lbls[i], return_counts=True)\n",
    "            for m in a:\n",
    "                uniq[str(m)] += 1\n",
    "            print(i,' have classes ', a)\n",
    "    \n",
    "    return uniq\n",
    "\n",
    "count(Y,10)"
   ]
  },
  {
   "cell_type": "code",
   "execution_count": null,
   "metadata": {},
   "outputs": [],
   "source": [
    "def save_imgs(imgs, masks,batch_test, path_to_save='/mnt/data/med_data/balanced_batches/batch_3/'):\n",
    "    for i, (img, mask) in enumerate(zip(imgs, masks)):\n",
    "        path_save_img = None\n",
    "        path_save_mask = None\n",
    "        if i in batch_test:\n",
    "            path_save_img = path_to_save + 'test_set/images'\n",
    "            path_save_mask = path_to_save + 'test_set/masks'\n",
    "        else:\n",
    "            path_save_img = path_to_save + 'train_set/origin_set/images'\n",
    "            path_save_mask = path_to_save + 'train_set/origin_set/masks'\n",
    "        cv2.imwrite(path_save_img+f'/{i}.bmp', mask)\n",
    "        cv2.imwrite(path_save_mask + f'/{i}.bmp', img)"
   ]
  },
  {
   "cell_type": "code",
   "execution_count": null,
   "metadata": {},
   "outputs": [],
   "source": [
    "save_imgs(X,Y,batch_3)"
   ]
  },
  {
   "cell_type": "code",
   "execution_count": null,
   "metadata": {},
   "outputs": [],
   "source": []
  },
  {
   "cell_type": "code",
   "execution_count": null,
   "metadata": {},
   "outputs": [],
   "source": []
  },
  {
   "cell_type": "code",
   "execution_count": null,
   "metadata": {},
   "outputs": [],
   "source": []
  },
  {
   "cell_type": "code",
   "execution_count": null,
   "metadata": {},
   "outputs": [],
   "source": []
  },
  {
   "cell_type": "code",
   "execution_count": null,
   "metadata": {},
   "outputs": [],
   "source": [
    "import seaborn as sb\n",
    "import matplotlib.pyplot as plt"
   ]
  },
  {
   "cell_type": "code",
   "execution_count": null,
   "metadata": {},
   "outputs": [],
   "source": [
    "i = 3"
   ]
  },
  {
   "cell_type": "code",
   "execution_count": null,
   "metadata": {},
   "outputs": [],
   "source": [
    "sb.heatmap(Y[i])"
   ]
  },
  {
   "cell_type": "code",
   "execution_count": null,
   "metadata": {},
   "outputs": [],
   "source": [
    "a = sb.heatmap(Y[i])\n",
    "b = a.get_figure()\n",
    "b.savefig('test_mask.png')"
   ]
  },
  {
   "cell_type": "code",
   "execution_count": null,
   "metadata": {},
   "outputs": [],
   "source": []
  },
  {
   "cell_type": "code",
   "execution_count": null,
   "metadata": {},
   "outputs": [],
   "source": [
    "plt.imshow(X[i])\n",
    "plt.show()"
   ]
  },
  {
   "cell_type": "code",
   "execution_count": null,
   "metadata": {},
   "outputs": [],
   "source": [
    "cv2.imwrite('test.png',Y[i])"
   ]
  },
  {
   "cell_type": "code",
   "execution_count": 82,
   "metadata": {},
   "outputs": [],
   "source": [
    "from glob import glob"
   ]
  },
  {
   "cell_type": "code",
   "execution_count": null,
   "metadata": {},
   "outputs": [],
   "source": [
    "save_imgs(Xtrain,Ytrain,path_to_save='/home/ikilbas/USA (Danil country)/cut_set_256/')"
   ]
  },
  {
   "cell_type": "code",
   "execution_count": 83,
   "metadata": {},
   "outputs": [],
   "source": [
    "lbl_names = glob('/mnt/data/med_data/balanced_batches/batch_1/train_set/origin_wo_4_set/masks/*.bmp')"
   ]
  },
  {
   "cell_type": "code",
   "execution_count": null,
   "metadata": {},
   "outputs": [],
   "source": []
  },
  {
   "cell_type": "code",
   "execution_count": 84,
   "metadata": {},
   "outputs": [],
   "source": [
    "masks = {}\n",
    "for mask_name in lbl_names:\n",
    "    masks[mask_name] = cv2.imread(mask_name)[:,:,0]"
   ]
  },
  {
   "cell_type": "code",
   "execution_count": 85,
   "metadata": {
    "scrolled": true
   },
   "outputs": [],
   "source": [
    "scanner = HCScanner(masks, 9)"
   ]
  },
  {
   "cell_type": "code",
   "execution_count": 86,
   "metadata": {},
   "outputs": [],
   "source": [
    "scanner.scan()"
   ]
  },
  {
   "cell_type": "code",
   "execution_count": 87,
   "metadata": {},
   "outputs": [
    {
     "name": "stdout",
     "output_type": "stream",
     "text": [
      "Saved!\n"
     ]
    }
   ],
   "source": [
    "scanner.save_info('uniq_hvc.csv', 'masks_hcvg.csv')"
   ]
  },
  {
   "cell_type": "code",
   "execution_count": 88,
   "metadata": {},
   "outputs": [
    {
     "name": "stderr",
     "output_type": "stream",
     "text": [
      "/home/rustam/anaconda3/lib/python3.6/site-packages/ipykernel_launcher.py:1: FutureWarning: from_csv is deprecated. Please use read_csv(...) instead. Note that some of the default arguments are different, so please refer to the documentation for from_csv when changing your function calls\n",
      "  \"\"\"Entry point for launching an IPython kernel.\n"
     ]
    }
   ],
   "source": [
    "fd = pd.DataFrame.from_csv('masks_hcvg.csv')"
   ]
  },
  {
   "cell_type": "code",
   "execution_count": 89,
   "metadata": {},
   "outputs": [
    {
     "data": {
      "text/html": [
       "<div>\n",
       "<style scoped>\n",
       "    .dataframe tbody tr th:only-of-type {\n",
       "        vertical-align: middle;\n",
       "    }\n",
       "\n",
       "    .dataframe tbody tr th {\n",
       "        vertical-align: top;\n",
       "    }\n",
       "\n",
       "    .dataframe thead th {\n",
       "        text-align: right;\n",
       "    }\n",
       "</style>\n",
       "<table border=\"1\" class=\"dataframe\">\n",
       "  <thead>\n",
       "    <tr style=\"text-align: right;\">\n",
       "      <th></th>\n",
       "      <th>hcvg</th>\n",
       "    </tr>\n",
       "  </thead>\n",
       "  <tbody>\n",
       "    <tr>\n",
       "      <th>/mnt/data/med_data/balanced_batches/batch_1/train_set/origin_wo_4_set/masks/0.bmp</th>\n",
       "      <td>319</td>\n",
       "    </tr>\n",
       "    <tr>\n",
       "      <th>/mnt/data/med_data/balanced_batches/batch_1/train_set/origin_wo_4_set/masks/48.bmp</th>\n",
       "      <td>319</td>\n",
       "    </tr>\n",
       "    <tr>\n",
       "      <th>/mnt/data/med_data/balanced_batches/batch_1/train_set/origin_wo_4_set/masks/82.bmp</th>\n",
       "      <td>319</td>\n",
       "    </tr>\n",
       "    <tr>\n",
       "      <th>/mnt/data/med_data/balanced_batches/batch_1/train_set/origin_wo_4_set/masks/110.bmp</th>\n",
       "      <td>271</td>\n",
       "    </tr>\n",
       "    <tr>\n",
       "      <th>/mnt/data/med_data/balanced_batches/batch_1/train_set/origin_wo_4_set/masks/79.bmp</th>\n",
       "      <td>303</td>\n",
       "    </tr>\n",
       "  </tbody>\n",
       "</table>\n",
       "</div>"
      ],
      "text/plain": [
       "                                                    hcvg\n",
       "/mnt/data/med_data/balanced_batches/batch_1/tra...   319\n",
       "/mnt/data/med_data/balanced_batches/batch_1/tra...   319\n",
       "/mnt/data/med_data/balanced_batches/batch_1/tra...   319\n",
       "/mnt/data/med_data/balanced_batches/batch_1/tra...   271\n",
       "/mnt/data/med_data/balanced_batches/batch_1/tra...   303"
      ]
     },
     "execution_count": 89,
     "metadata": {},
     "output_type": "execute_result"
    }
   ],
   "source": [
    "fd.head()"
   ]
  },
  {
   "cell_type": "code",
   "execution_count": 90,
   "metadata": {},
   "outputs": [
    {
     "name": "stdout",
     "output_type": "stream",
     "text": [
      "319\n"
     ]
    }
   ],
   "source": [
    "for smth in fd.iterrows():\n",
    "    print(smth[1][0])\n",
    "    break"
   ]
  },
  {
   "cell_type": "code",
   "execution_count": 91,
   "metadata": {},
   "outputs": [
    {
     "data": {
      "text/plain": [
       "13"
      ]
     },
     "execution_count": 91,
     "metadata": {},
     "output_type": "execute_result"
    }
   ],
   "source": [
    "len(scanner.hcv_groups)"
   ]
  },
  {
   "cell_type": "code",
   "execution_count": 93,
   "metadata": {},
   "outputs": [
    {
     "data": {
      "text/plain": [
       "13"
      ]
     },
     "execution_count": 93,
     "metadata": {},
     "output_type": "execute_result"
    }
   ],
   "source": [
    "len([200,30,10,500,10,40,60,20,10,10,10,10,10])"
   ]
  },
  {
   "cell_type": "code",
   "execution_count": 92,
   "metadata": {},
   "outputs": [
    {
     "data": {
      "text/plain": [
       "{319: 31,\n",
       " 271: 3,\n",
       " 303: 1,\n",
       " 287: 46,\n",
       " 447: 1,\n",
       " 351: 4,\n",
       " 415: 6,\n",
       " 315: 2,\n",
       " 431: 1,\n",
       " 383: 1,\n",
       " 479: 1,\n",
       " 31: 1,\n",
       " 15: 1}"
      ]
     },
     "execution_count": 92,
     "metadata": {},
     "output_type": "execute_result"
    }
   ],
   "source": [
    "scanner.hcv_groups"
   ]
  },
  {
   "cell_type": "code",
   "execution_count": 94,
   "metadata": {},
   "outputs": [
    {
     "name": "stderr",
     "output_type": "stream",
     "text": [
      "/home/rustam/anaconda3/lib/python3.6/site-packages/ipykernel_launcher.py:1: FutureWarning: from_csv is deprecated. Please use read_csv(...) instead. Note that some of the default arguments are different, so please refer to the documentation for from_csv when changing your function calls\n",
      "  \"\"\"Entry point for launching an IPython kernel.\n"
     ]
    }
   ],
   "source": [
    "uniq_num = pd.DataFrame.from_csv('uniq_hvc.csv')"
   ]
  },
  {
   "cell_type": "code",
   "execution_count": 95,
   "metadata": {},
   "outputs": [],
   "source": [
    "uniq_num = uniq_num.get_values()"
   ]
  },
  {
   "cell_type": "code",
   "execution_count": 96,
   "metadata": {},
   "outputs": [],
   "source": [
    "power = []\n",
    "for i in uniq_num:\n",
    "    power.append((sum(i), i))"
   ]
  },
  {
   "cell_type": "code",
   "execution_count": 97,
   "metadata": {},
   "outputs": [],
   "source": [
    "power = sorted(power, key=lambda x: x[0]) "
   ]
  },
  {
   "cell_type": "code",
   "execution_count": 98,
   "metadata": {},
   "outputs": [],
   "source": [
    "new_uniq = []"
   ]
  },
  {
   "cell_type": "code",
   "execution_count": 99,
   "metadata": {},
   "outputs": [],
   "source": [
    "#i will delete 8 vectors\n",
    "j = 10\n",
    "delete = []\n",
    "for part in power:\n",
    "    new_uniq.append(part)"
   ]
  },
  {
   "cell_type": "code",
   "execution_count": 100,
   "metadata": {},
   "outputs": [
    {
     "data": {
      "text/plain": [
       "13"
      ]
     },
     "execution_count": 100,
     "metadata": {},
     "output_type": "execute_result"
    }
   ],
   "source": [
    "len(new_uniq)"
   ]
  },
  {
   "cell_type": "code",
   "execution_count": 101,
   "metadata": {},
   "outputs": [
    {
     "data": {
      "text/plain": [
       "[(4, array([1, 1, 1, 1, 0, 0, 0, 0, 0])),\n",
       " (5, array([1, 1, 1, 1, 0, 0, 0, 0, 1])),\n",
       " (5, array([1, 1, 1, 1, 1, 0, 0, 0, 0])),\n",
       " (6, array([1, 1, 1, 1, 0, 1, 0, 0, 1])),\n",
       " (6, array([1, 1, 1, 1, 1, 0, 0, 0, 1])),\n",
       " (6, array([1, 1, 0, 1, 1, 1, 0, 0, 1])),\n",
       " (7, array([1, 1, 1, 1, 1, 1, 0, 0, 1])),\n",
       " (7, array([1, 1, 1, 1, 1, 0, 1, 0, 1])),\n",
       " (7, array([1, 1, 1, 1, 1, 0, 0, 1, 1])),\n",
       " (7, array([1, 1, 1, 1, 0, 1, 0, 1, 1])),\n",
       " (8, array([1, 1, 1, 1, 1, 1, 0, 1, 1])),\n",
       " (8, array([1, 1, 1, 1, 1, 1, 1, 0, 1])),\n",
       " (8, array([1, 1, 1, 1, 1, 0, 1, 1, 1]))]"
      ]
     },
     "execution_count": 101,
     "metadata": {},
     "output_type": "execute_result"
    }
   ],
   "source": [
    "power"
   ]
  },
  {
   "cell_type": "code",
   "execution_count": 102,
   "metadata": {
    "scrolled": true
   },
   "outputs": [
    {
     "data": {
      "text/plain": [
       "[(4, array([1, 1, 1, 1, 0, 0, 0, 0, 0])),\n",
       " (5, array([1, 1, 1, 1, 0, 0, 0, 0, 1])),\n",
       " (5, array([1, 1, 1, 1, 1, 0, 0, 0, 0])),\n",
       " (6, array([1, 1, 1, 1, 0, 1, 0, 0, 1])),\n",
       " (6, array([1, 1, 1, 1, 1, 0, 0, 0, 1])),\n",
       " (6, array([1, 1, 0, 1, 1, 1, 0, 0, 1])),\n",
       " (7, array([1, 1, 1, 1, 1, 1, 0, 0, 1])),\n",
       " (7, array([1, 1, 1, 1, 1, 0, 1, 0, 1])),\n",
       " (7, array([1, 1, 1, 1, 1, 0, 0, 1, 1])),\n",
       " (7, array([1, 1, 1, 1, 0, 1, 0, 1, 1])),\n",
       " (8, array([1, 1, 1, 1, 1, 1, 0, 1, 1])),\n",
       " (8, array([1, 1, 1, 1, 1, 1, 1, 0, 1])),\n",
       " (8, array([1, 1, 1, 1, 1, 0, 1, 1, 1]))]"
      ]
     },
     "execution_count": 102,
     "metadata": {},
     "output_type": "execute_result"
    }
   ],
   "source": [
    "new_uniq"
   ]
  },
  {
   "cell_type": "code",
   "execution_count": 103,
   "metadata": {},
   "outputs": [],
   "source": [
    "new_uniq = [i[1] for i in new_uniq]"
   ]
  },
  {
   "cell_type": "markdown",
   "metadata": {},
   "source": [
    "GDBalancer"
   ]
  },
  {
   "cell_type": "code",
   "execution_count": 104,
   "metadata": {},
   "outputs": [],
   "source": [
    "from makiflow.augmentation.segmentation import GDBalancer"
   ]
  },
  {
   "cell_type": "code",
   "execution_count": 164,
   "metadata": {},
   "outputs": [],
   "source": [
    "balancer = GDBalancer(hcv_groups=np.array(new_uniq), initial_c=[200,30,10,500,10,40,60,20,10,10,10,10,10], objective='alpha',min_c=10)#'uniq_hvc.csv'"
   ]
  },
  {
   "cell_type": "code",
   "execution_count": 165,
   "metadata": {},
   "outputs": [],
   "source": [
    "optimizer = tf.train.AdamOptimizer(0.1)"
   ]
  },
  {
   "cell_type": "code",
   "execution_count": 166,
   "metadata": {},
   "outputs": [],
   "source": [
    "dest_v = np.array([1., 1., 0.95, 1., 0.6, 0.7, 0.3, 0.3, 1.])"
   ]
  },
  {
   "cell_type": "code",
   "execution_count": 167,
   "metadata": {},
   "outputs": [],
   "source": [
    "sess = tf.Session()"
   ]
  },
  {
   "cell_type": "code",
   "execution_count": 168,
   "metadata": {},
   "outputs": [],
   "source": [
    "balancer.set_session(sess)"
   ]
  },
  {
   "cell_type": "code",
   "execution_count": 246,
   "metadata": {},
   "outputs": [
    {
     "name": "stdout",
     "output_type": "stream",
     "text": [
      "0.19941896\n",
      "[[100.]\n",
      " [100.]\n",
      " [ 93.]\n",
      " [100.]\n",
      " [ 51.]\n",
      " [ 66.]\n",
      " [ 19.]\n",
      " [ 22.]\n",
      " [ 89.]]\n",
      "0.1979119\n",
      "[[100.]\n",
      " [100.]\n",
      " [ 93.]\n",
      " [100.]\n",
      " [ 51.]\n",
      " [ 66.]\n",
      " [ 19.]\n",
      " [ 22.]\n",
      " [ 90.]]\n"
     ]
    }
   ],
   "source": [
    "balancer.optimize(dest_v, optimizer)"
   ]
  },
  {
   "cell_type": "code",
   "execution_count": 247,
   "metadata": {},
   "outputs": [
    {
     "data": {
      "text/plain": [
       "array([[117.008385],\n",
       "       [ 10.      ],\n",
       "       [ 10.      ],\n",
       "       [408.72086 ],\n",
       "       [ 49.909622],\n",
       "       [ 84.908554],\n",
       "       [111.283485],\n",
       "       [ 81.26186 ],\n",
       "       [ 66.85405 ],\n",
       "       [ 59.042538],\n",
       "       [ 71.03585 ],\n",
       "       [ 74.79618 ],\n",
       "       [ 74.30672 ]], dtype=float32)"
      ]
     },
     "execution_count": 247,
     "metadata": {},
     "output_type": "execute_result"
    }
   ],
   "source": [
    "balancer.get_weights()"
   ]
  },
  {
   "cell_type": "code",
   "execution_count": 51,
   "metadata": {},
   "outputs": [
    {
     "data": {
      "text/plain": [
       "array([[100.],\n",
       "       [100.],\n",
       "       [ 95.],\n",
       "       [100.],\n",
       "       [ 74.],\n",
       "       [ 51.],\n",
       "       [ 31.],\n",
       "       [ 39.],\n",
       "       [ 90.]], dtype=float32)"
      ]
     },
     "execution_count": 51,
     "metadata": {},
     "output_type": "execute_result"
    }
   ],
   "source": [
    "balancer.get_percentage()"
   ]
  },
  {
   "cell_type": "code",
   "execution_count": 52,
   "metadata": {},
   "outputs": [],
   "source": [
    "shit = balancer.get_weights()\n",
    "shit = shit.reshape(-1)\n",
    "shit = np.round(shit).astype(np.int32)"
   ]
  },
  {
   "cell_type": "code",
   "execution_count": 53,
   "metadata": {},
   "outputs": [
    {
     "data": {
      "text/plain": [
       "array([105, 104, 103, 102, 102, 110, 183, 208, 150, 208, 210, 213, 211],\n",
       "      dtype=int32)"
      ]
     },
     "execution_count": 53,
     "metadata": {},
     "output_type": "execute_result"
    }
   ],
   "source": [
    "shit"
   ]
  },
  {
   "cell_type": "code",
   "execution_count": 54,
   "metadata": {},
   "outputs": [],
   "source": [
    "from makiflow.augmentation.segmentation.balancing.utils import hcv_to_num"
   ]
  },
  {
   "cell_type": "code",
   "execution_count": 55,
   "metadata": {},
   "outputs": [],
   "source": [
    "config = {}\n",
    "for i in range(len(shit)):\n",
    "    config[hcv_to_num(balancer.hcv_groups[i])] = shit[i]"
   ]
  },
  {
   "cell_type": "code",
   "execution_count": 56,
   "metadata": {},
   "outputs": [
    {
     "data": {
      "text/plain": [
       "{15: 105,\n",
       " 271: 104,\n",
       " 31: 103,\n",
       " 303: 102,\n",
       " 287: 102,\n",
       " 315: 110,\n",
       " 319: 183,\n",
       " 351: 208,\n",
       " 415: 150,\n",
       " 431: 208,\n",
       " 447: 210,\n",
       " 383: 213,\n",
       " 479: 211}"
      ]
     },
     "execution_count": 56,
     "metadata": {},
     "output_type": "execute_result"
    }
   ],
   "source": [
    "config"
   ]
  },
  {
   "cell_type": "code",
   "execution_count": 57,
   "metadata": {},
   "outputs": [],
   "source": [
    "balancer.save_cardinalities('card.csv')"
   ]
  },
  {
   "cell_type": "markdown",
   "metadata": {},
   "source": [
    "GD2BBuilder"
   ]
  },
  {
   "cell_type": "code",
   "execution_count": 58,
   "metadata": {},
   "outputs": [],
   "source": [
    "from makiflow.augmentation.segmentation import GD2BBuilder"
   ]
  },
  {
   "cell_type": "code",
   "execution_count": 63,
   "metadata": {},
   "outputs": [],
   "source": [
    "lbl_names = glob('/mnt/data/med_data/balanced_batches/batch_1/train_set/origin_wo_4_set/masks/*.bmp')"
   ]
  },
  {
   "cell_type": "code",
   "execution_count": 64,
   "metadata": {},
   "outputs": [],
   "source": [
    "masks = {}\n",
    "for mask_name in lbl_names:\n",
    "    masks[mask_name] = mask_name.replace('masks', 'images')\n"
   ]
  },
  {
   "cell_type": "code",
   "execution_count": 65,
   "metadata": {},
   "outputs": [],
   "source": [
    "pd.DataFrame.from_dict(masks, orient='index', columns=['image']).to_csv('mi.csv')"
   ]
  },
  {
   "cell_type": "code",
   "execution_count": 66,
   "metadata": {},
   "outputs": [
    {
     "name": "stderr",
     "output_type": "stream",
     "text": [
      "/home/rustam/anaconda3/lib/python3.6/site-packages/makiflow/augmentation/segmentation/balancing/gdbb_builder.py:24: FutureWarning: from_csv is deprecated. Please use read_csv(...) instead. Note that some of the default arguments are different, so please refer to the documentation for from_csv when changing your function calls\n",
      "  self._hc_list = pd.DataFrame.from_csv(path_to_hc_list)\n",
      "/home/rustam/anaconda3/lib/python3.6/site-packages/makiflow/augmentation/segmentation/balancing/gdbb_builder.py:25: FutureWarning: from_csv is deprecated. Please use read_csv(...) instead. Note that some of the default arguments are different, so please refer to the documentation for from_csv when changing your function calls\n",
      "  self._balance_c = pd.DataFrame.from_csv(path_to_balance_config)\n",
      "/home/rustam/anaconda3/lib/python3.6/site-packages/makiflow/augmentation/segmentation/balancing/gdbb_builder.py:34: FutureWarning: from_csv is deprecated. Please use read_csv(...) instead. Note that some of the default arguments are different, so please refer to the documentation for from_csv when changing your function calls\n",
      "  mi = pd.DataFrame.from_csv(path_to_mi)\n"
     ]
    },
    {
     "name": "stdout",
     "output_type": "stream",
     "text": [
      "Loading masks and images.\n",
      "Finished.\n",
      "Group masks and images by their ids.\n",
      "319 cardinality is 31\n",
      "271 cardinality is 3\n",
      "303 cardinality is 1\n",
      "287 cardinality is 46\n",
      "447 cardinality is 1\n",
      "351 cardinality is 4\n",
      "415 cardinality is 6\n",
      "315 cardinality is 2\n",
      "431 cardinality is 1\n",
      "383 cardinality is 1\n",
      "479 cardinality is 1\n",
      "31 cardinality is 1\n",
      "15 cardinality is 1\n",
      "Finished.\n"
     ]
    }
   ],
   "source": [
    "builder = GD2BBuilder(\n",
    "    path_to_balance_config='card.csv',\n",
    "    path_to_hc_list='masks_hcvg.csv',\n",
    "    path_to_mi='mi.csv',\n",
    "    resize=(1024, 1024)\n",
    ")"
   ]
  },
  {
   "cell_type": "code",
   "execution_count": 67,
   "metadata": {
    "scrolled": true
   },
   "outputs": [
    {
     "name": "stdout",
     "output_type": "stream",
     "text": [
      "Balancing group 319...\n",
      "Augmentor updated 5 times.\n",
      "Finished.\n",
      "319 ready\n",
      "Balancing group 271...\n",
      "Augmentor updated 34 times.\n",
      "Finished.\n",
      "271 ready\n",
      "Balancing group 303...\n",
      "Augmentor updated 102 times.\n",
      "Finished.\n",
      "303 ready\n",
      "Balancing group 287...\n",
      "Augmentor updated 2 times.\n",
      "Finished.\n",
      "287 ready\n",
      "Balancing group 447...\n",
      "Augmentor updated 210 times.\n",
      "Finished.\n",
      "447 ready\n",
      "Balancing group 351...\n",
      "Augmentor updated 52 times.\n",
      "Finished.\n",
      "351 ready\n",
      "Balancing group 415...\n",
      "Augmentor updated 25 times.\n",
      "Finished.\n",
      "415 ready\n",
      "Balancing group 315...\n",
      "Augmentor updated 55 times.\n",
      "Finished.\n",
      "315 ready\n",
      "Balancing group 431...\n",
      "Augmentor updated 208 times.\n",
      "Finished.\n",
      "431 ready\n",
      "Balancing group 383...\n",
      "Augmentor updated 213 times.\n",
      "Finished.\n",
      "383 ready\n",
      "Balancing group 479...\n",
      "Augmentor updated 211 times.\n",
      "Finished.\n",
      "479 ready\n",
      "Balancing group 31...\n",
      "Augmentor updated 103 times.\n",
      "Finished.\n",
      "31 ready\n",
      "Balancing group 15...\n",
      "Augmentor updated 105 times.\n",
      "Finished.\n",
      "15 ready\n"
     ]
    }
   ],
   "source": [
    "builder.set_elastic_aug_params((1024, 1024, 3),alpha=700,std=14,noise_invert_scale=7,border_mode='reflect_101')\n",
    "builder.create_batch('/mnt/data/med_data/balanced_batches/batch_1/train_set/aug_set/set_1k_1024_wo4class_4')"
   ]
  },
  {
   "cell_type": "code",
   "execution_count": 3,
   "metadata": {},
   "outputs": [],
   "source": [
    "test = glob.glob('/mnt/data/med_data/balanced_batches/paper_batch_1/train_set/orig_set_wo_4/masks/*.bmp')\n",
    "lbls = []\n",
    "for mask_name in test:\n",
    "    lbls += [cv2.imread(mask_name)]"
   ]
  },
  {
   "cell_type": "code",
   "execution_count": 69,
   "metadata": {},
   "outputs": [],
   "source": [
    "import seaborn as sb\n",
    "import matplotlib.pyplot as plt"
   ]
  },
  {
   "cell_type": "code",
   "execution_count": null,
   "metadata": {},
   "outputs": [],
   "source": [
    "plt.imshow(lbls[44])\n",
    "plt.show()"
   ]
  },
  {
   "cell_type": "code",
   "execution_count": 4,
   "metadata": {},
   "outputs": [],
   "source": [
    "import math\n",
    "def get_CR_vector(lbls,count_classes):\n",
    "  uniq = dict([(str(i),0) for i in range(count_classes)])\n",
    "  \n",
    "  for i in range(len(lbls)):\n",
    "    a,b = np.unique(lbls[i], return_counts=True)\n",
    "    for num in a:\n",
    "        uniq[str(num)] += 1\n",
    "  print(uniq)\n",
    "  return [round(uniq[k] / len(lbls),2) for k in uniq]\n",
    "  "
   ]
  },
  {
   "cell_type": "code",
   "execution_count": 5,
   "metadata": {},
   "outputs": [
    {
     "name": "stdout",
     "output_type": "stream",
     "text": [
      "{'0': 654, '1': 651, '2': 641, '3': 654, '4': 608, '5': 239, '6': 106, '7': 130, '8': 634}\n"
     ]
    },
    {
     "data": {
      "text/plain": [
       "[1.0, 1.0, 0.98, 1.0, 0.93, 0.37, 0.16, 0.2, 0.97]"
      ]
     },
     "execution_count": 5,
     "metadata": {},
     "output_type": "execute_result"
    }
   ],
   "source": [
    "get_CR_vector(lbls,9)"
   ]
  },
  {
   "cell_type": "code",
   "execution_count": null,
   "metadata": {},
   "outputs": [],
   "source": [
    "len(lbls)"
   ]
  },
  {
   "cell_type": "code",
   "execution_count": null,
   "metadata": {},
   "outputs": [],
   "source": []
  },
  {
   "cell_type": "code",
   "execution_count": null,
   "metadata": {},
   "outputs": [],
   "source": [
    "import seaborn as sns"
   ]
  },
  {
   "cell_type": "code",
   "execution_count": null,
   "metadata": {},
   "outputs": [],
   "source": [
    "sns.heatmap(Ytrain[0])"
   ]
  },
  {
   "cell_type": "code",
   "execution_count": null,
   "metadata": {},
   "outputs": [],
   "source": [
    "cv2.imwrite('2.bmp', test)"
   ]
  },
  {
   "cell_type": "code",
   "execution_count": null,
   "metadata": {},
   "outputs": [],
   "source": [
    "x=cv2.imread('/mnt/data/med_data/balanced_batches/bb_danil1/masks/527_0.bmp')"
   ]
  },
  {
   "cell_type": "code",
   "execution_count": null,
   "metadata": {},
   "outputs": [],
   "source": [
    "sns.heatmap(x)"
   ]
  },
  {
   "cell_type": "code",
   "execution_count": null,
   "metadata": {},
   "outputs": [],
   "source": [
    "test = cv2.resize(x, (1024,1024), interpolation=cv2.INTER_NEAREST)"
   ]
  },
  {
   "cell_type": "code",
   "execution_count": null,
   "metadata": {},
   "outputs": [],
   "source": []
  },
  {
   "cell_type": "code",
   "execution_count": null,
   "metadata": {},
   "outputs": [],
   "source": []
  },
  {
   "cell_type": "code",
   "execution_count": null,
   "metadata": {},
   "outputs": [],
   "source": []
  },
  {
   "cell_type": "code",
   "execution_count": null,
   "metadata": {},
   "outputs": [],
   "source": []
  },
  {
   "cell_type": "code",
   "execution_count": null,
   "metadata": {},
   "outputs": [],
   "source": []
  },
  {
   "cell_type": "code",
   "execution_count": null,
   "metadata": {},
   "outputs": [],
   "source": [
    "b = [] \n",
    "for name in a:\n",
    "    if 'activation' in name:\n",
    "        continue\n",
    "    else:\n",
    "        b.append(str(name))"
   ]
  },
  {
   "cell_type": "code",
   "execution_count": null,
   "metadata": {
    "scrolled": false
   },
   "outputs": [],
   "source": [
    "b"
   ]
  },
  {
   "cell_type": "code",
   "execution_count": null,
   "metadata": {},
   "outputs": [],
   "source": [
    "\"23\""
   ]
  },
  {
   "cell_type": "code",
   "execution_count": null,
   "metadata": {},
   "outputs": [],
   "source": []
  }
 ],
 "metadata": {
  "kernelspec": {
   "display_name": "Python 3",
   "language": "python",
   "name": "python3"
  },
  "language_info": {
   "codemirror_mode": {
    "name": "ipython",
    "version": 3
   },
   "file_extension": ".py",
   "mimetype": "text/x-python",
   "name": "python",
   "nbconvert_exporter": "python",
   "pygments_lexer": "ipython3",
   "version": "3.6.9"
  }
 },
 "nbformat": 4,
 "nbformat_minor": 2
}
