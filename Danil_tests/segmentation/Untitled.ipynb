{
 "cells": [
  {
   "cell_type": "code",
   "execution_count": 1,
   "metadata": {},
   "outputs": [],
   "source": [
    "\n",
    "import os\n",
    "import numpy as np\n",
    "import glob\n",
    "import cv2\n",
    "from sklearn.utils import shuffle\n",
    "from tqdm import tqdm\n",
    "import tensorflow as tf\n",
    "from makiflow.augmentation import AffineAugment, ElasticAugment, ImageCutter, Data, FlipAugment\n"
   ]
  },
  {
   "cell_type": "code",
   "execution_count": 4,
   "metadata": {},
   "outputs": [],
   "source": [
    "def get_masks_and_images(path):\n",
    "    masks = glob.glob(path + '/masks/*.bmp')\n",
    "    images = glob.glob(path + '/images/*.bmp')\n",
    "    \n",
    "    return masks, images\n",
    "\n",
    "batches_images = []\n",
    "batches_masks = []\n",
    "for i in range(8):\n",
    "    path_masks, path_images = get_masks_and_images('/mnt/data/med_data/balanced_batches/batch_1/train_set/aug_set/set_1024_10k_wo_4_4/batches/batch_{i]')\n",
    "    batches_images.append(path_images)\n",
    "    batches_masks.append(path_masks)"
   ]
  },
  {
   "cell_type": "code",
   "execution_count": 6,
   "metadata": {},
   "outputs": [
    {
     "data": {
      "text/plain": [
       "[]"
      ]
     },
     "execution_count": 6,
     "metadata": {},
     "output_type": "execute_result"
    }
   ],
   "source": [
    "batches_images[0]"
   ]
  },
  {
   "cell_type": "code",
   "execution_count": null,
   "metadata": {},
   "outputs": [],
   "source": []
  },
  {
   "cell_type": "code",
   "execution_count": null,
   "metadata": {},
   "outputs": [],
   "source": [
    "import makiflow as mf\n",
    "mf.set_main_gpu(0)"
   ]
  },
  {
   "cell_type": "code",
   "execution_count": null,
   "metadata": {},
   "outputs": [],
   "source": [
    "import makiflow\n",
    "from makiflow.generators.gen_base import SegmentIterator, PathGenerator\n",
    "from glob import glob\n",
    "import os\n",
    "import numpy as np\n",
    "from sklearn.utils import shuffle"
   ]
  },
  {
   "cell_type": "code",
   "execution_count": null,
   "metadata": {},
   "outputs": [],
   "source": [
    "test_1 = None"
   ]
  },
  {
   "cell_type": "code",
   "execution_count": null,
   "metadata": {},
   "outputs": [],
   "source": [
    "test_2 = None"
   ]
  },
  {
   "cell_type": "code",
   "execution_count": null,
   "metadata": {},
   "outputs": [],
   "source": [
    "class SubCyclicGenerator_test(PathGenerator):\n",
    "    def __init__(self, path_batches_images, path_batches_masks):\n",
    "        \"\"\"\n",
    "        Generator for pipeline, which gives next element in sub-cyclic order\n",
    "        Parameters\n",
    "        ----------\n",
    "        path_batches_masks : list\n",
    "            A list of groups of paths to masks.\n",
    "        path_batches_images : list\n",
    "            A list of groups of paths to images.\n",
    "        \"\"\"\n",
    "        assert (len(path_batches_images) == len(path_batches_masks))\n",
    "        global test_1, test_2\n",
    "        print('origin')\n",
    "        self.batches_images = path_batches_images\n",
    "        self.batches_masks = path_batches_masks\n",
    "        \n",
    "        self.batches_images = shuffle(self.batches_images)\n",
    "        self.batches_masks = shuffle(self.batches_masks)\n",
    "        \n",
    "        for i in range(len(self.batches_images)):\n",
    "            self.batches_images[i] = shuffle(self.batches_images[i])\n",
    "            self.batches_masks[i] = shuffle(self.batches_masks[i])\n",
    "        \n",
    "        print('after shuffle')\n",
    "        test_2 = self.batches_masks\n",
    "        test_1 = self.batches_images\n",
    "        \n",
    "    def next_element(self):\n",
    "        current_batch = 0\n",
    "        counter_batches = [0 for _ in range(len(self.batches_images))]\n",
    "        while True:\n",
    "            if current_batch == (len(self.batches_images) - 1) and counter_batches[-1] == (\n",
    "                    len(self.batches_images[-1]) - 1):\n",
    "                self.batches_images, self.batches_masks = shuffle(self.batches_images, self.batches_masks)\n",
    "\n",
    "                self.batches_images = [shuffle(elem) for elem in self.batches_images]\n",
    "                self.batches_masks = [shuffle(elem) for elem in self.batches_masks]\n",
    "\n",
    "                current_batch = 0\n",
    "                counter_batches = [0 for _ in range(len(self.batches_images))]\n",
    "\n",
    "            el = {\n",
    "                SegmentIterator.image: self.batches_images[current_batch][counter_batches[current_batch]],\n",
    "                SegmentIterator.mask: self.batches_masks[current_batch][counter_batches[current_batch]]\n",
    "            }\n",
    "\n",
    "            counter_batches[current_batch] += 1\n",
    "            current_batch = (current_batch + 1) % len(self.batches_images)\n",
    "\n",
    "            yield el"
   ]
  },
  {
   "cell_type": "code",
   "execution_count": null,
   "metadata": {},
   "outputs": [],
   "source": [
    "from makiflow.models.segmentation.map_methods import LoadDataMethod, ComputePositivesPostMethod\n",
    "from makiflow.models.segmentation.map_methods import NormalizePostMethod, RGB2BGRPostMethod, SqueezeMaskPostMethod\n",
    "\n",
    "from makiflow.models.segmentation.gen_layers import InputGenLayer\n",
    "\n",
    "def get_generator(path_images, path_masks):\n",
    "    map_method = LoadDataMethod(image_shape=[1024, 1024, 3], mask_shape=[1024, 1024, 3])\n",
    "    map_method = SqueezeMaskPostMethod()(map_method)\n",
    "    map_method = RGB2BGRPostMethod()(map_method)\n",
    "    map_method = NormalizePostMethod(use_float64=True)(map_method)\n",
    "    map_method = ComputePositivesPostMethod()(map_method)\n",
    "    return InputGenLayer(\n",
    "        prefetch_size=8,\n",
    "        batch_size=8, \n",
    "        path_generator=SubCyclicGenerator_test(path_batches_images=path_images,path_batches_masks=path_masks),\n",
    "        name='Input',\n",
    "        map_operation=map_method,\n",
    "        num_parallel_calls=5\n",
    "    )"
   ]
  },
  {
   "cell_type": "code",
   "execution_count": null,
   "metadata": {},
   "outputs": [],
   "source": [
    "def get_masks_and_images(path):\n",
    "    masks = glob(path + '/masks/*.bmp')\n",
    "    images = glob(path + '/images/*.bmp')\n",
    "    \n",
    "    return masks, images\n",
    "\n",
    "all_masks, all_images = get_masks_and_images('/mnt/data/med_data/balanced_batches/paper_batch_1/train_set/aug_set/set_1024_wo_4_2')\n",
    "\n",
    "masks_1 = all_masks[:3]\n",
    "images_1 = all_images[:3]\n",
    "\n",
    "masks_2 = all_masks[500:503]\n",
    "images_2 = all_masks[500:503]\n",
    "\n",
    "masks_3 = all_masks[1000:1003]\n",
    "images_3 = all_masks[1000:1003]\n",
    "\n",
    "masks_4 = all_masks[1500:1503]\n",
    "images_4 = all_masks[1500:1503]\n",
    "\n",
    "masks_5 = all_masks[2000:2003]\n",
    "images_5 = all_masks[2000:2003]\n",
    "\n",
    "batches_images = [images_1, images_2, images_3, images_4, images_5]\n",
    "batches_masks = [masks_1, masks_2, masks_3, masks_4, masks_5]\n",
    "\n",
    "gen = get_generator(path_images=batches_images,\n",
    "                    path_masks=batches_masks)"
   ]
  },
  {
   "cell_type": "code",
   "execution_count": null,
   "metadata": {},
   "outputs": [],
   "source": [
    "test_1"
   ]
  },
  {
   "cell_type": "code",
   "execution_count": null,
   "metadata": {},
   "outputs": [],
   "source": [
    "test_2"
   ]
  },
  {
   "cell_type": "code",
   "execution_count": null,
   "metadata": {},
   "outputs": [],
   "source": [
    "it = gen.get_iterator()"
   ]
  },
  {
   "cell_type": "code",
   "execution_count": null,
   "metadata": {},
   "outputs": [],
   "source": [
    "import tensorflow as tf"
   ]
  },
  {
   "cell_type": "code",
   "execution_count": null,
   "metadata": {},
   "outputs": [],
   "source": [
    "ses = tf.Session()"
   ]
  },
  {
   "cell_type": "code",
   "execution_count": null,
   "metadata": {},
   "outputs": [],
   "source": [
    "test = it['mask']"
   ]
  },
  {
   "cell_type": "code",
   "execution_count": null,
   "metadata": {},
   "outputs": [],
   "source": [
    "it."
   ]
  },
  {
   "cell_type": "code",
   "execution_count": null,
   "metadata": {},
   "outputs": [],
   "source": [
    "for _ in range(10**9):\n",
    "    ses.run(test)"
   ]
  },
  {
   "cell_type": "code",
   "execution_count": null,
   "metadata": {},
   "outputs": [],
   "source": []
  },
  {
   "cell_type": "code",
   "execution_count": null,
   "metadata": {},
   "outputs": [],
   "source": [
    "def get_masks_and_images(path):\n",
    "    masks = glob.glob(path + '/masks/*.bmp')\n",
    "    images = glob.glob(path + '/images/*.bmp')\n",
    "    \n",
    "    return masks, images\n",
    "\n",
    "Ytest, Xtest = get_masks_and_images(path='/mnt/data/med_data/balanced_batches/batch_1/test_set_wo_4')\n",
    "\n",
    "masks_1, images_1 = get_masks_and_images('/mnt/data/med_data/balanced_batches/paper_batch_1/train_set/aug_set/set_1024_wo_4_3/batch_1')\n",
    "masks_2, images_2 = get_masks_and_images('/mnt/data/med_data/balanced_batches/paper_batch_1/train_set/aug_set/set_1024_wo_4_3/batch_2')\n",
    "masks_3, images_3 = get_masks_and_images('/mnt/data/med_data/balanced_batches/paper_batch_1/train_set/aug_set/set_1024_wo_4_3/batch_3')\n",
    "masks_4, images_4 = get_masks_and_images('/mnt/data/med_data/balanced_batches/paper_batch_1/train_set/aug_set/set_1024_wo_4_3/batch_4')\n",
    "\n",
    "batches_images = [images_1, images_2, images_3, images_4]\n",
    "batches_masks = [masks_1, masks_2, masks_3, masks_4]"
   ]
  },
  {
   "cell_type": "code",
   "execution_count": null,
   "metadata": {},
   "outputs": [],
   "source": [
    "i = 12\n",
    "two = Xtest[i]\n",
    "one = Ytest[i]"
   ]
  },
  {
   "cell_type": "code",
   "execution_count": null,
   "metadata": {},
   "outputs": [],
   "source": [
    "test_mask = cv2.imread(one)\n",
    "test_imgs = cv2.imread(two)\n"
   ]
  },
  {
   "cell_type": "code",
   "execution_count": null,
   "metadata": {},
   "outputs": [],
   "source": [
    "import seaborn as sb"
   ]
  },
  {
   "cell_type": "code",
   "execution_count": null,
   "metadata": {},
   "outputs": [],
   "source": [
    "sb.heatmap(test_mask[:,:,0])"
   ]
  },
  {
   "cell_type": "code",
   "execution_count": null,
   "metadata": {},
   "outputs": [],
   "source": [
    "np.max(test_mask[:,:,0])"
   ]
  },
  {
   "cell_type": "code",
   "execution_count": null,
   "metadata": {},
   "outputs": [],
   "source": [
    "import matplotlib.pyplot as plt\n",
    "plt.imshow(test_imgs)"
   ]
  },
  {
   "cell_type": "code",
   "execution_count": null,
   "metadata": {},
   "outputs": [],
   "source": [
    "import numpy as np\n",
    "import copy\n",
    "\n",
    "\n",
    "def mutate_masks(masks, mapping):\n",
    "    \"\"\"\n",
    "    Remaps classes on the given `masks` according to the `mapping`.\n",
    "    Parameters\n",
    "    ----------\n",
    "    masks : list or numpy.array\n",
    "        List or numpy array of masks.\n",
    "    mapping : list\n",
    "        List of tuples: [(source_class_number, new_class_number)],\n",
    "        where `source_class_number` will be changed to `new_class_number` in the `masks`.\n",
    "    Returns\n",
    "    ---------\n",
    "    new_masks : the same type as `masks`\n",
    "        New masks with changed class numbers.\n",
    "    \"\"\"\n",
    "    if type(mapping) is not list or (len(mapping) != 0 and type(mapping[0]) is not tuple):\n",
    "        raise TypeError('mapping should be list of typles')\n",
    "\n",
    "    new_masks = copy.deepcopy(masks)\n",
    "\n",
    "    for i in range(len(new_masks)):\n",
    "        for elem in mapping:\n",
    "            old_value = elem[0]\n",
    "            new_value = elem[1]\n",
    "            new_masks[i][masks[i] == old_value] = new_value\n",
    "\n",
    "    return  new_masks"
   ]
  },
  {
   "cell_type": "code",
   "execution_count": null,
   "metadata": {},
   "outputs": [],
   "source": [
    "def get_data(path):\n",
    "    Xtrain, Ytrain = [], []\n",
    "    masks = glob.glob(path + '/masks/*.bmp')\n",
    "    masks.sort()\n",
    "    for mask_name in tqdm(masks):\n",
    "        img = cv2.imread(mask_name.replace('masks', 'images'))\n",
    "        mask = cv2.imread(mask_name)\n",
    "        mask = mask[:,:,0]\n",
    "        Xtrain.append(img)\n",
    "        Ytrain.append(mask)\n",
    "        if np.max(mask) >= 10:\n",
    "            print(np.max(mask), f' in image {mask_name} ')\n",
    "    return Xtrain, Ytrain"
   ]
  },
  {
   "cell_type": "code",
   "execution_count": null,
   "metadata": {},
   "outputs": [],
   "source": [
    "X,Y = get_data('/mnt/data/med_data/balanced_batches/paper_batch_3/train_set/orig_set')"
   ]
  },
  {
   "cell_type": "code",
   "execution_count": null,
   "metadata": {},
   "outputs": [],
   "source": [
    "Y = mutate_masks(Y,mapping=[(4,0),(5,4),(6,5),(7,6),(8,7),(9,8)])"
   ]
  },
  {
   "cell_type": "code",
   "execution_count": null,
   "metadata": {},
   "outputs": [],
   "source": [
    "def save_imgs(imgs, masks, path_to_save):\n",
    "    masks_path = os.path.join(path_to_save, 'masks')\n",
    "    imgs_path = os.path.join(path_to_save, 'images')\n",
    "    os.makedirs(masks_path, exist_ok=True)\n",
    "    os.makedirs(imgs_path, exist_ok=True)\n",
    "    for i, (img, mask) in enumerate(zip(imgs, masks)):\n",
    "        cv2.imwrite(masks_path+f'/{i}.bmp', mask)\n",
    "        cv2.imwrite(imgs_path + f'/{i}.bmp', img)"
   ]
  },
  {
   "cell_type": "code",
   "execution_count": null,
   "metadata": {},
   "outputs": [],
   "source": [
    "save_imgs(X, Y, path_to_save='/mnt/data/med_data/balanced_batches/paper_batch_3/train_set/orig_set_wo_4')"
   ]
  },
  {
   "cell_type": "code",
   "execution_count": null,
   "metadata": {},
   "outputs": [],
   "source": [
    "batch = 3"
   ]
  },
  {
   "cell_type": "code",
   "execution_count": null,
   "metadata": {},
   "outputs": [],
   "source": [
    "test = []\n",
    "from glob import glob\n",
    "import os\n",
    "import numpy as np\n",
    "from sklearn.utils import shuffle"
   ]
  },
  {
   "cell_type": "code",
   "execution_count": null,
   "metadata": {},
   "outputs": [],
   "source": [
    "test.append(glob(os.path.join('/mnt/data/med_data/balanced_batches/batch_1/train_set/aug_set/set_1024_0/masks', '*.bmp')))"
   ]
  },
  {
   "cell_type": "code",
   "execution_count": null,
   "metadata": {},
   "outputs": [],
   "source": [
    "test.append(glob(os.path.join('/mnt/data/med_data/balanced_batches/batch_1/train_set/aug_set/set_1024_0/images', '*.bmp')))"
   ]
  },
  {
   "cell_type": "code",
   "execution_count": null,
   "metadata": {},
   "outputs": [],
   "source": [
    "a = glob(os.path.join('/mnt/data/med_data/balanced_batches/paper_batch_1/train_set/aug_set/set_1024_wo_4_2/images', '*.bmp'))"
   ]
  },
  {
   "cell_type": "code",
   "execution_count": null,
   "metadata": {},
   "outputs": [],
   "source": [
    "len(a)"
   ]
  },
  {
   "cell_type": "code",
   "execution_count": null,
   "metadata": {},
   "outputs": [],
   "source": [
    "Xtrain, Ytrain = get_data(path=f'/mnt/data/med_data/balanced_batches/batch_{batch}/train_set/aug_set/set_1024_0')\n",
    "Xtest,Ytest = get_data(path=f'/mnt/data/med_data/balanced_batches/batch_{batch}/test_set')"
   ]
  },
  {
   "cell_type": "code",
   "execution_count": null,
   "metadata": {},
   "outputs": [],
   "source": [
    "#mapping = [(0,0), (1,0), (2,0), (3,0), (4,1), (5,0), (6,0), (7,0), (8,0), (9,0)]\n",
    "\n",
    "#mapping = [(4,0), (5,4), (6,5), (7,6), (8,7), (9,8)]\n",
    "\n",
    "#mapping = [(0,0), (1,0), (2,0), (3,0), (4,0), (5,0), (6,0), (7,1), (8,0), (9,0)]\n",
    "\n",
    "#mapping = [(4,0), (5,4), (6,5), (7,0), (8,6), (9,7)]\n",
    "\n",
    "#mapping = [(0,0), (1,0), (2,0), (3,0), (4,0), (5,0), (6,0), (7,0), (8,1), (9,0)]\n",
    "\n",
    "#mapping = [(4,0), (5,4), (6,5), (7,0), (8,0), (9,6)]\n",
    "\n",
    "#mapping = [(0,0), (1,0), (2,0), (3,0), (4,0), (5,0), (6,1), (7,0), (8,0), (9,0)]\n",
    "\n",
    "mapping = [(4,0), (5,4), (6,0), (7,0), (8,0), (9,5)]"
   ]
  },
  {
   "cell_type": "code",
   "execution_count": null,
   "metadata": {},
   "outputs": [],
   "source": [
    "Ytrain = mutate_masks(Ytrain, mapping)"
   ]
  },
  {
   "cell_type": "code",
   "execution_count": null,
   "metadata": {},
   "outputs": [],
   "source": [
    "Ytest = mutate_masks(Ytest, mapping)"
   ]
  },
  {
   "cell_type": "code",
   "execution_count": null,
   "metadata": {},
   "outputs": [],
   "source": [
    "new_X = []\n",
    "new_Y = []\n",
    "for i in range(len(Ytrain)):\n",
    "    if np.sum(Ytrain[i] == 1) != 0:\n",
    "        new_X.append(Xtrain[i])\n",
    "        new_Y.append(Ytrain[i])\n",
    "\n",
    "Xtrain = new_X\n",
    "Ytrain = new_Y"
   ]
  },
  {
   "cell_type": "code",
   "execution_count": null,
   "metadata": {},
   "outputs": [],
   "source": [
    "new_X = []\n",
    "new_Y = []\n",
    "for i in range(len(Ytest)):\n",
    "    if np.sum(Ytest[i] == 1) != 0:\n",
    "        new_X.append(Xtest[i])\n",
    "        new_Y.append(Ytest[i])\n",
    "Xtest = new_X\n",
    "Ytest = new_Y"
   ]
  },
  {
   "cell_type": "code",
   "execution_count": null,
   "metadata": {},
   "outputs": [],
   "source": [
    "len(Ytest)\n"
   ]
  },
  {
   "cell_type": "code",
   "execution_count": null,
   "metadata": {},
   "outputs": [],
   "source": [
    "len(Ytrain)"
   ]
  },
  {
   "cell_type": "code",
   "execution_count": null,
   "metadata": {},
   "outputs": [],
   "source": [
    "def save_imgs(imgs, path_to_save='/mnt/data/med_data/all_data/'):\n",
    "    imgs_path = os.path.join(path_to_save, 'images')\n",
    "    os.makedirs(imgs_path, exist_ok=True)\n",
    "    for i, img in enumerate(imgs):\n",
    "        cv2.imwrite(imgs_path + f'/{i}.bmp', img)"
   ]
  },
  {
   "cell_type": "code",
   "execution_count": null,
   "metadata": {},
   "outputs": [],
   "source": [
    "save_imgs(Xtest,path_to_save=f'/mnt/data/med_data/balanced_batches/batch_{batch}/exp_4/test_set/other_classes')\n",
    "save_imgs(Xtrain,path_to_save=f'/mnt/data/med_data/balanced_batches/batch_{batch}/exp_4/train_set/other_classes')"
   ]
  },
  {
   "cell_type": "code",
   "execution_count": null,
   "metadata": {},
   "outputs": [],
   "source": [
    "def save_masks(masks, path_to_save='/mnt/data/med_data/all_data/'):\n",
    "    os.makedirs(path_to_save, exist_ok=True)\n",
    "    for i, mask in enumerate(masks):\n",
    "        cv2.imwrite(path_to_save+f'/{i}.bmp', mask)"
   ]
  },
  {
   "cell_type": "code",
   "execution_count": null,
   "metadata": {},
   "outputs": [],
   "source": [
    "save_masks(Ytrain,f'/mnt/data/med_data/balanced_batches/batch_{batch}/exp_4/train_set/other_classes/masks')"
   ]
  },
  {
   "cell_type": "code",
   "execution_count": null,
   "metadata": {},
   "outputs": [],
   "source": [
    "save_masks(Ytest,f'/mnt/data/med_data/balanced_batches/batch_{batch}/exp_4/test_set/other_classes/masks')"
   ]
  },
  {
   "cell_type": "code",
   "execution_count": null,
   "metadata": {},
   "outputs": [],
   "source": []
  },
  {
   "cell_type": "code",
   "execution_count": null,
   "metadata": {},
   "outputs": [],
   "source": []
  },
  {
   "cell_type": "code",
   "execution_count": null,
   "metadata": {},
   "outputs": [],
   "source": []
  },
  {
   "cell_type": "code",
   "execution_count": null,
   "metadata": {},
   "outputs": [],
   "source": []
  },
  {
   "cell_type": "code",
   "execution_count": null,
   "metadata": {},
   "outputs": [],
   "source": []
  },
  {
   "cell_type": "code",
   "execution_count": null,
   "metadata": {},
   "outputs": [],
   "source": [
    "images_path = '/mnt/data/med_data/pipeline_data_5k/images/'\n",
    "masks_path = '/mnt/data/med_data/pipeline_data/masks/'"
   ]
  },
  {
   "cell_type": "code",
   "execution_count": null,
   "metadata": {},
   "outputs": [],
   "source": [
    "images = glob.glob(os.path.join(images_path, '*.bmp'))"
   ]
  },
  {
   "cell_type": "code",
   "execution_count": null,
   "metadata": {},
   "outputs": [],
   "source": [
    "masks = glob.glob(os.path.join(masks_path, '*.bmp'))"
   ]
  },
  {
   "cell_type": "code",
   "execution_count": null,
   "metadata": {},
   "outputs": [],
   "source": [
    "tf.image.convert_image_dtype()"
   ]
  },
  {
   "cell_type": "code",
   "execution_count": null,
   "metadata": {},
   "outputs": [],
   "source": [
    "masks[:10]"
   ]
  },
  {
   "cell_type": "code",
   "execution_count": null,
   "metadata": {},
   "outputs": [],
   "source": [
    "images[:10]"
   ]
  },
  {
   "cell_type": "code",
   "execution_count": null,
   "metadata": {},
   "outputs": [],
   "source": [
    "a_img=cv2.imread('/mnt/data/med_data/pipeline_data/images/beta__31584.bmp')\n",
    "b_mask = cv2.imread('/mnt/data/med_data/pipeline_data/masks/beta__31584.bmp')\n",
    "tru_img = cv2.cvtColor(a_img, cv2.COLOR_BGR2RGB).astype(np.float64)"
   ]
  },
  {
   "cell_type": "code",
   "execution_count": null,
   "metadata": {},
   "outputs": [],
   "source": [
    "ses=tf.Session()"
   ]
  },
  {
   "cell_type": "code",
   "execution_count": null,
   "metadata": {},
   "outputs": [],
   "source": [
    "plac = tf.placeholder(dtype=np.float32,shape=[1024,1024,3],name='int_1')\n",
    "\n",
    "div_1 = plac / 255"
   ]
  },
  {
   "cell_type": "code",
   "execution_count": null,
   "metadata": {},
   "outputs": [],
   "source": [
    "img_file = tf.io.read_file('/mnt/data/med_data/pipeline_data/images/beta__31584.bmp')\n",
    "mask_file = tf.io.read_file('/mnt/data/med_data/pipeline_data/masks/beta__31584.bmp')\n",
    "img_test = tf.io.read_file('/mnt/data/med_data/pipeline_data/images/beta__31584.bmp')\n",
    "\n",
    "#div = tf.Variable(255.0,dtype=tf.float32)\n",
    "div = tf.constant(255.0,dtype=tf.float64)\n",
    "img = tf.image.decode_image(img_file)\n",
    "mask_tf = tf.image.decode_image(mask_file)\n",
    "img_test_tf = tf.image.decode_bmp(img_test)\n",
    "\n",
    "img = tf.cast(img, dtype=tf.float64)\n",
    "mask = tf.cast(mask_tf, dtype=tf.int32)\n",
    "img_test_load = tf.image.convert_image_dtype(img_test_tf, dtype=tf.float32)\n",
    "\n",
    "#divide = tf.divide(img,255)\n",
    "divide = img / div\n",
    "\n",
    "divide_test = tf.cast(divide, dtype=tf.float32)"
   ]
  },
  {
   "cell_type": "code",
   "execution_count": null,
   "metadata": {},
   "outputs": [],
   "source": [
    "ses.run(tf.global_variables_initializer())"
   ]
  },
  {
   "cell_type": "code",
   "execution_count": null,
   "metadata": {},
   "outputs": [],
   "source": [
    "img_tf = ses.run(img)\n",
    "mask_tf = ses.run(mask)\n",
    "nump_tf = ses.run(divide)\n",
    "#nump_tf = ses.run(divide)\n",
    "test = ses.run(divide_test)"
   ]
  },
  {
   "cell_type": "code",
   "execution_count": null,
   "metadata": {},
   "outputs": [],
   "source": [
    "np.mean(ans_cv == test)"
   ]
  },
  {
   "cell_type": "code",
   "execution_count": null,
   "metadata": {},
   "outputs": [],
   "source": [
    "ans_cv[0][0]"
   ]
  },
  {
   "cell_type": "code",
   "execution_count": null,
   "metadata": {},
   "outputs": [],
   "source": [
    "test[0][0]"
   ]
  },
  {
   "cell_type": "code",
   "execution_count": null,
   "metadata": {},
   "outputs": [],
   "source": [
    "import matplotlib.pyplot as plt\n",
    "\n"
   ]
  },
  {
   "cell_type": "code",
   "execution_count": null,
   "metadata": {},
   "outputs": [],
   "source": [
    "(tru_img[0][0].astype(np.float64) / np.float64(255)).astype(np.float32)"
   ]
  },
  {
   "cell_type": "markdown",
   "metadata": {},
   "source": [
    "img_tf[0][0]"
   ]
  },
  {
   "cell_type": "code",
   "execution_count": null,
   "metadata": {},
   "outputs": [],
   "source": [
    "test[0][0]"
   ]
  },
  {
   "cell_type": "code",
   "execution_count": null,
   "metadata": {},
   "outputs": [],
   "source": [
    "print((z*255).astype(np.int32))"
   ]
  },
  {
   "cell_type": "code",
   "execution_count": null,
   "metadata": {},
   "outputs": [],
   "source": [
    "np.mean(test == img_tf)"
   ]
  },
  {
   "cell_type": "code",
   "execution_count": null,
   "metadata": {},
   "outputs": [],
   "source": [
    "plt.imshow(test)\n",
    "plt.show()"
   ]
  },
  {
   "cell_type": "code",
   "execution_count": null,
   "metadata": {},
   "outputs": [],
   "source": [
    "plt.imshow(img_tf.astype(np.int32))\n",
    "plt.show()\n"
   ]
  },
  {
   "cell_type": "code",
   "execution_count": null,
   "metadata": {},
   "outputs": [],
   "source": [
    "ans = ses.run(divide)"
   ]
  },
  {
   "cell_type": "code",
   "execution_count": null,
   "metadata": {},
   "outputs": [],
   "source": [
    "ans_cv = (tru_img / 255).astype(np.float32)"
   ]
  },
  {
   "cell_type": "code",
   "execution_count": null,
   "metadata": {},
   "outputs": [],
   "source": [
    "b_mask = b_mask[:,:,0]"
   ]
  },
  {
   "cell_type": "code",
   "execution_count": null,
   "metadata": {},
   "outputs": [],
   "source": [
    "mask_shape_np = b_mask.shape\n",
    "area = mask_shape_np[0]*mask_shape_np[1]\n",
    "num_neg_np = np.sum(b_mask == 0)\n",
    "num_positives_np = area - num_neg"
   ]
  },
  {
   "cell_type": "code",
   "execution_count": null,
   "metadata": {},
   "outputs": [],
   "source": [
    "ses.run(mask).shape"
   ]
  },
  {
   "cell_type": "code",
   "execution_count": null,
   "metadata": {},
   "outputs": [],
   "source": [
    "\n",
    "mask = mask_tf\n",
    "mask_shape = [1024,1024,1]\n",
    "area = mask_shape[0] * mask_shape[1]  # tf.int32\n",
    "num_neg = tf.reduce_sum(tf.cast(tf.equal(mask, 0), dtype=tf.int32))\n",
    "\n",
    "num_positives = tf.cast(area - num_neg, dtype=tf.float32)\n"
   ]
  },
  {
   "cell_type": "code",
   "execution_count": null,
   "metadata": {},
   "outputs": [],
   "source": [
    "answer_neg = ses.run(num_neg)\n",
    "answer_posit = ses.run(num_positives)"
   ]
  },
  {
   "cell_type": "code",
   "execution_count": null,
   "metadata": {},
   "outputs": [],
   "source": [
    "answer_neg"
   ]
  },
  {
   "cell_type": "code",
   "execution_count": null,
   "metadata": {},
   "outputs": [],
   "source": [
    "num_neg_np"
   ]
  },
  {
   "cell_type": "code",
   "execution_count": null,
   "metadata": {},
   "outputs": [],
   "source": [
    "b_mask.shape"
   ]
  },
  {
   "cell_type": "code",
   "execution_count": null,
   "metadata": {},
   "outputs": [],
   "source": [
    "np.mean(tru_img == img_tf)"
   ]
  },
  {
   "cell_type": "code",
   "execution_count": null,
   "metadata": {},
   "outputs": [],
   "source": [
    "np.mean(ans_cv == ans)"
   ]
  },
  {
   "cell_type": "code",
   "execution_count": null,
   "metadata": {},
   "outputs": [],
   "source": [
    "ans[0][2]"
   ]
  },
  {
   "cell_type": "code",
   "execution_count": null,
   "metadata": {},
   "outputs": [],
   "source": [
    "ans_cv[0][2]"
   ]
  },
  {
   "cell_type": "code",
   "execution_count": null,
   "metadata": {},
   "outputs": [],
   "source": [
    "type(ans_cv[0][0][0])"
   ]
  },
  {
   "cell_type": "code",
   "execution_count": null,
   "metadata": {},
   "outputs": [],
   "source": [
    "one_mask = b_mask[:,:,0]"
   ]
  },
  {
   "cell_type": "code",
   "execution_count": null,
   "metadata": {},
   "outputs": [],
   "source": [
    "one_mask"
   ]
  },
  {
   "cell_type": "code",
   "execution_count": null,
   "metadata": {},
   "outputs": [],
   "source": [
    "mask_tf"
   ]
  },
  {
   "cell_type": "code",
   "execution_count": null,
   "metadata": {},
   "outputs": [],
   "source": [
    "np.mean(mask_tf == one_mask)"
   ]
  },
  {
   "cell_type": "code",
   "execution_count": null,
   "metadata": {},
   "outputs": [],
   "source": []
  },
  {
   "cell_type": "code",
   "execution_count": null,
   "metadata": {},
   "outputs": [],
   "source": [
    "folder = []\n",
    "for i in os.walk('/home/rustam/EyePit/Result/'):\n",
    "    folder.append(i)"
   ]
  },
  {
   "cell_type": "code",
   "execution_count": null,
   "metadata": {},
   "outputs": [],
   "source": [
    "fold = []\n",
    "for address, dirs, files in folder:\n",
    "    for file in files:\n",
    "        fold.append(address)"
   ]
  },
  {
   "cell_type": "code",
   "execution_count": null,
   "metadata": {},
   "outputs": [],
   "source": [
    "new_fold = []\n",
    "i = 0\n",
    "for name in set(fold):\n",
    "    if '.ipynb_checkpoints' not in name:\n",
    "        new_fold.append(name)\n",
    "        i += 1\n",
    "fold = set(new_fold)"
   ]
  },
  {
   "cell_type": "code",
   "execution_count": null,
   "metadata": {},
   "outputs": [],
   "source": [
    "fold.remove('/home/rustam/EyePit/Result/')"
   ]
  },
  {
   "cell_type": "code",
   "execution_count": null,
   "metadata": {},
   "outputs": [],
   "source": [
    "len(fold)"
   ]
  },
  {
   "cell_type": "code",
   "execution_count": null,
   "metadata": {},
   "outputs": [],
   "source": [
    "fold"
   ]
  },
  {
   "cell_type": "code",
   "execution_count": null,
   "metadata": {},
   "outputs": [],
   "source": [
    "connect = []"
   ]
  },
  {
   "cell_type": "code",
   "execution_count": null,
   "metadata": {},
   "outputs": [],
   "source": [
    "\n",
    "sez = set()"
   ]
  },
  {
   "cell_type": "code",
   "execution_count": null,
   "metadata": {},
   "outputs": [],
   "source": [
    "new_X = []\n",
    "new_Y = []"
   ]
  },
  {
   "cell_type": "code",
   "execution_count": null,
   "metadata": {
    "scrolled": true
   },
   "outputs": [],
   "source": [
    "m = 0\n",
    "for name in fold:\n",
    "    answer = None\n",
    "    for i in range(1,10):\n",
    "        if answer is None:\n",
    "            answer = (cv2.imread(name + f'/{i*10}r.bmp')[:,:,0] // 255) * i\n",
    "        else:\n",
    "            read_img = cv2.imread(name + f'/{i*10}r.bmp')\n",
    "            if read_img is not None:\n",
    "                read_img = read_img[:,:,0]\n",
    "                read_img //= 255\n",
    "                read_img *= i\n",
    "                if m == 4:\n",
    "                    for k in connect:\n",
    "                        sez.add(read_img[k[0],k[1]])\n",
    "                answer += read_img\n",
    "                        \n",
    "    for i in range(answer.shape[0]):\n",
    "        for j in range(answer.shape[1]):\n",
    "            if answer[i,j] >= 10:\n",
    "                answer[i,j] = 200\n",
    "                #if m == 4:\n",
    "                #    print(i,' ',j)\n",
    "                #    connect.append((i,j))\n",
    "        \n",
    "        img = cv2.imread(name + '/image.bmp')\n",
    "    print(name)\n",
    "    if answer is not None:\n",
    "        new_X.append(img)\n",
    "        new_Y.append(answer)\n",
    "    m += 1\n",
    "    if m == 5:\n",
    "        break\n",
    "        "
   ]
  },
  {
   "cell_type": "code",
   "execution_count": null,
   "metadata": {},
   "outputs": [],
   "source": [
    "sez"
   ]
  },
  {
   "cell_type": "code",
   "execution_count": null,
   "metadata": {},
   "outputs": [],
   "source": [
    "connect"
   ]
  },
  {
   "cell_type": "code",
   "execution_count": null,
   "metadata": {},
   "outputs": [],
   "source": [
    "import seaborn as sb\n",
    "import matplotlib.pyplot as plt"
   ]
  },
  {
   "cell_type": "code",
   "execution_count": null,
   "metadata": {},
   "outputs": [],
   "source": [
    "len(new_Y)"
   ]
  },
  {
   "cell_type": "code",
   "execution_count": null,
   "metadata": {},
   "outputs": [],
   "source": [
    "q = 4"
   ]
  },
  {
   "cell_type": "code",
   "execution_count": null,
   "metadata": {},
   "outputs": [],
   "source": [
    "plt.imshow(new_X[q])\n",
    "plt.show()"
   ]
  },
  {
   "cell_type": "code",
   "execution_count": null,
   "metadata": {},
   "outputs": [],
   "source": [
    "sb.heatmap(new_Y[q])"
   ]
  },
  {
   "cell_type": "code",
   "execution_count": null,
   "metadata": {},
   "outputs": [],
   "source": [
    "sb.heatmap(new_Y[3])"
   ]
  },
  {
   "cell_type": "code",
   "execution_count": null,
   "metadata": {},
   "outputs": [],
   "source": [
    "for name in fold:\n",
    "    answer = None\n",
    "    for i in range(1,10):\n",
    "        if answer is None:\n",
    "            answer = (cv2.imread(name + f'/{i*10}r.bmp')[:,:,0] // 255) * i\n",
    "        else:\n",
    "            read_img = cv2.imread(name + f'/{i*10}r.bmp')\n",
    "            if read_img is not None:\n",
    "                read_img = read_img[:,:,0]\n",
    "                read_img //= 255\n",
    "                read_img *= i\n",
    "                for r in range(read_img.shape[0]):\n",
    "                    for k in range(read_img.shape[1]):\n",
    "                        answer[r,k] = max(answer[r,k], read_img[r,k])\n",
    "                        \n",
    "        img = cv2.imread(name + '/image.bmp')\n",
    "    print(name)\n",
    "    if answer is not None:\n",
    "        new_X.append(img)\n",
    "        new_Y.append(answer)\n",
    "        "
   ]
  },
  {
   "cell_type": "code",
   "execution_count": null,
   "metadata": {},
   "outputs": [],
   "source": [
    "len(new_Y)"
   ]
  },
  {
   "cell_type": "code",
   "execution_count": null,
   "metadata": {},
   "outputs": [],
   "source": [
    "import matplotlib.pyplot as plt"
   ]
  },
  {
   "cell_type": "code",
   "execution_count": null,
   "metadata": {},
   "outputs": [],
   "source": [
    "import seaborn as sb"
   ]
  },
  {
   "cell_type": "code",
   "execution_count": null,
   "metadata": {},
   "outputs": [],
   "source": [
    "i = 0"
   ]
  },
  {
   "cell_type": "code",
   "execution_count": null,
   "metadata": {},
   "outputs": [],
   "source": [
    "sb.heatmap(new_Y[i][:,:])"
   ]
  },
  {
   "cell_type": "code",
   "execution_count": null,
   "metadata": {},
   "outputs": [],
   "source": [
    "plt.imshow(new_X[i])\n",
    "plt.show()"
   ]
  },
  {
   "cell_type": "code",
   "execution_count": null,
   "metadata": {},
   "outputs": [],
   "source": [
    "new_X[i].shape"
   ]
  },
  {
   "cell_type": "code",
   "execution_count": null,
   "metadata": {},
   "outputs": [],
   "source": [
    "from makiflow.augmentation import AffineAugment, ElasticAugment, ImageCutter, Data, FlipAugment, RotateAugment\n",
    "import matplotlib.pyplot as plt\n",
    "import seaborn as sb"
   ]
  },
  {
   "cell_type": "code",
   "execution_count": 9,
   "metadata": {},
   "outputs": [],
   "source": [
    "def get_train_data():\n",
    "    Xtrain, Ytrain = [], []\n",
    "    masks = glob.glob('/mnt/data/med_data/balanced_batches/batch_3/train_set/aug_set/set_1024_10k_wo_4_4/origin_batch/masks/*.bmp')\n",
    "    masks.sort()\n",
    "    for mask_name in tqdm(masks):\n",
    "        img = cv2.imread(mask_name.replace('masks', 'images'))\n",
    "        mask = cv2.imread(mask_name)\n",
    "        mask = mask[:,:,0]\n",
    "        Xtrain.append(img)\n",
    "        Ytrain.append(mask)\n",
    "        if np.max(mask) >= 10:\n",
    "            print(np.max(mask), f' in image {mask_name} ')\n",
    "    return Xtrain, Ytrain"
   ]
  },
  {
   "cell_type": "code",
   "execution_count": null,
   "metadata": {},
   "outputs": [],
   "source": [
    "Xtrain, Ytrain = get_train_data()"
   ]
  },
  {
   "cell_type": "code",
   "execution_count": null,
   "metadata": {},
   "outputs": [],
   "source": [
    "def get_test_data_crop(imgs,lbls):   \n",
    "    \n",
    "    cropped_images, cropped_masks, _ = ImageCutter.image_and_mask_cutter(imgs, lbls,\n",
    "        window_h=512, window_w=512, step_x=300, step_y=300, scale_factor=0.01)\n",
    "        \n",
    "    class_power = {i: 0 for i in range(9)}\n",
    "    for img in cropped_masks:\n",
    "        u = np.unique(img)\n",
    "        for uniq in u:\n",
    "            class_power[uniq] += 1\n",
    "    \n",
    "    print([round(i / len(cropped_images), 2) for _,i in class_power.items()] , ' power of test set')\n",
    "    print(class_power)\n",
    "    return cropped_images, cropped_masks"
   ]
  },
  {
   "cell_type": "code",
   "execution_count": null,
   "metadata": {},
   "outputs": [],
   "source": [
    "Xtrain, Ytrain = get_test_data_crop(Xtrain,Ytrain)"
   ]
  },
  {
   "cell_type": "code",
   "execution_count": null,
   "metadata": {},
   "outputs": [],
   "source": [
    "len(Xtrain)"
   ]
  },
  {
   "cell_type": "code",
   "execution_count": 13,
   "metadata": {},
   "outputs": [
    {
     "name": "stderr",
     "output_type": "stream",
     "text": [
      "100%|██████████| 873/873 [00:03<00:00, 271.33it/s]\n"
     ]
    }
   ],
   "source": [
    "all_data_images = []\n",
    "all_data_masks = []\n",
    "Xtrain, Ytrain = get_train_data()\n",
    "all_data_images.append(Xtrain)\n",
    "all_data_masks.append(Ytrain)"
   ]
  },
  {
   "cell_type": "code",
   "execution_count": 14,
   "metadata": {},
   "outputs": [
    {
     "data": {
      "text/plain": [
       "873"
      ]
     },
     "execution_count": 14,
     "metadata": {},
     "output_type": "execute_result"
    }
   ],
   "source": [
    "len(Xtrain)"
   ]
  },
  {
   "cell_type": "code",
   "execution_count": 15,
   "metadata": {},
   "outputs": [
    {
     "name": "stdout",
     "output_type": "stream",
     "text": [
      "10476\n"
     ]
    }
   ],
   "source": [
    "#Xtrain, Ytrain = get_train_data()\n",
    "alpha = 500\n",
    "\n",
    "for i in range(11):\n",
    "    Xtrain, Ytrain = all_data_images[0], all_data_masks[0]\n",
    "    data = Data(Xtrain, Ytrain)\n",
    "    data = ElasticAugment(alpha=alpha,num_maps=1, std=11, noise_invert_scale=7, border_mode='reflect', keep_old_data=False)(data)\n",
    "    #data = RotateAugment([RotateAugment.ROTATE_90_CLOCKWISE, RotateAugment.ROTATE_90_COUNTERCLOCKWISE], keep_old_data=True)(data)\n",
    "    Xtrain, Ytrain = data.get_data()\n",
    "    \n",
    "    all_data_images.append(Xtrain)\n",
    "    all_data_masks.append(Ytrain)\n",
    "    alpha += 40\n",
    "    \n",
    "    #Xtrain, Ytrain = data.get_data()\n",
    "print(len(all_data_masks) * len(all_data_masks[0]))"
   ]
  },
  {
   "cell_type": "code",
   "execution_count": 16,
   "metadata": {},
   "outputs": [],
   "source": [
    "def save_imgs(imgs, masks, spec_name, path_to_save):\n",
    "    masks_path = os.path.join(path_to_save, 'masks')\n",
    "    imgs_path = os.path.join(path_to_save, 'images')\n",
    "    os.makedirs(masks_path, exist_ok=True)\n",
    "    os.makedirs(imgs_path, exist_ok=True)\n",
    "    for i, (img, mask) in enumerate(zip(imgs, masks)):\n",
    "        cv2.imwrite(masks_path+f'/{spec_name}_{i}.bmp', mask)\n",
    "        cv2.imwrite(imgs_path + f'/{spec_name}_{i}.bmp', img)"
   ]
  },
  {
   "cell_type": "code",
   "execution_count": null,
   "metadata": {},
   "outputs": [],
   "source": [
    "save_imgs(Xtrain,Ytrain,'alpha', path_to_save='/mnt/data/med_data/balanced_batches/batch_3/train_set/aug_set/set_1024_10k_wo_4_4/10k')"
   ]
  },
  {
   "cell_type": "code",
   "execution_count": 17,
   "metadata": {},
   "outputs": [],
   "source": [
    "for i in range(len(all_data_masks)):\n",
    "    save_imgs(all_data_images[i],all_data_masks[i],f'alpha_num_batch_{i}', \n",
    "              path_to_save=f'/mnt/data/med_data/balanced_batches/batch_3/train_set/aug_set/set_1024_10k_wo_4_4/batches/batch_{i}')"
   ]
  },
  {
   "cell_type": "code",
   "execution_count": null,
   "metadata": {},
   "outputs": [],
   "source": [
    "i = 0\n",
    "masks = glob.glob('/mnt/data/med_data/pipeline_data_8k/masks/*.bmp')\n",
    "for s in masks:\n",
    "    i += 1\n",
    "print(i)"
   ]
  },
  {
   "cell_type": "code",
   "execution_count": null,
   "metadata": {},
   "outputs": [],
   "source": [
    "import seaborn as sb\n",
    "import matplotlib.pyplot as plt"
   ]
  },
  {
   "cell_type": "code",
   "execution_count": null,
   "metadata": {},
   "outputs": [],
   "source": [
    "sb.heatmap(all_data_masks[1][234])"
   ]
  },
  {
   "cell_type": "code",
   "execution_count": null,
   "metadata": {},
   "outputs": [],
   "source": [
    "plt.imshow(all_data_images[1][234])"
   ]
  },
  {
   "cell_type": "code",
   "execution_count": null,
   "metadata": {},
   "outputs": [],
   "source": []
  },
  {
   "cell_type": "code",
   "execution_count": null,
   "metadata": {},
   "outputs": [],
   "source": [
    "from generator_provider import Generator"
   ]
  },
  {
   "cell_type": "code",
   "execution_count": null,
   "metadata": {},
   "outputs": [],
   "source": [
    "images_path = '/mnt/data/med_data/pipeline_data_8k/images/'\n",
    "masks_path = '/mnt/data/med_data/pipeline_data_8k/masks/'"
   ]
  },
  {
   "cell_type": "code",
   "execution_count": null,
   "metadata": {},
   "outputs": [],
   "source": [
    "gen = Generator(images_path, masks_path)"
   ]
  },
  {
   "cell_type": "code",
   "execution_count": null,
   "metadata": {},
   "outputs": [],
   "source": [
    "it = gen.next_element()"
   ]
  },
  {
   "cell_type": "code",
   "execution_count": null,
   "metadata": {},
   "outputs": [],
   "source": [
    "it"
   ]
  },
  {
   "cell_type": "code",
   "execution_count": null,
   "metadata": {},
   "outputs": [],
   "source": [
    "for i, _ in enumerate(it):\n",
    "    if i == 0:\n",
    "        continue\n",
    "    if i % 1 == 0:\n",
    "        print(i)\n",
    "    if i % 100000 == 0:\n",
    "        break"
   ]
  },
  {
   "cell_type": "code",
   "execution_count": null,
   "metadata": {},
   "outputs": [],
   "source": []
  },
  {
   "cell_type": "code",
   "execution_count": null,
   "metadata": {},
   "outputs": [],
   "source": []
  },
  {
   "cell_type": "code",
   "execution_count": null,
   "metadata": {},
   "outputs": [],
   "source": [
    "import numpy as np\n",
    "import matplotlib.pyplot as plt"
   ]
  },
  {
   "cell_type": "code",
   "execution_count": null,
   "metadata": {},
   "outputs": [],
   "source": [
    "size = 8000\n",
    "it = size*10"
   ]
  },
  {
   "cell_type": "code",
   "execution_count": null,
   "metadata": {},
   "outputs": [],
   "source": [
    "image = dict([(i,0) for i in range(size)])"
   ]
  },
  {
   "cell_type": "code",
   "execution_count": null,
   "metadata": {},
   "outputs": [],
   "source": [
    "image"
   ]
  },
  {
   "cell_type": "code",
   "execution_count": null,
   "metadata": {},
   "outputs": [],
   "source": [
    "for _ in range(it):\n",
    "    index = np.random.randint(low=0,high=len(image))\n",
    "    image[index] += 1"
   ]
  },
  {
   "cell_type": "code",
   "execution_count": null,
   "metadata": {},
   "outputs": [],
   "source": [
    "image"
   ]
  },
  {
   "cell_type": "code",
   "execution_count": null,
   "metadata": {},
   "outputs": [],
   "source": [
    "y = np.array([i for k,i in image.items()])"
   ]
  },
  {
   "cell_type": "code",
   "execution_count": null,
   "metadata": {},
   "outputs": [],
   "source": [
    "x = np.array([i for i in range(size)])"
   ]
  },
  {
   "cell_type": "code",
   "execution_count": null,
   "metadata": {},
   "outputs": [],
   "source": [
    "y = np.sort(y)"
   ]
  },
  {
   "cell_type": "code",
   "execution_count": null,
   "metadata": {},
   "outputs": [],
   "source": [
    "plt.bar(x, y, align='edge')\n",
    "plt.show()"
   ]
  },
  {
   "cell_type": "code",
   "execution_count": null,
   "metadata": {},
   "outputs": [],
   "source": [
    "image = dict([(i,0) for i in range(size)])"
   ]
  },
  {
   "cell_type": "code",
   "execution_count": null,
   "metadata": {},
   "outputs": [],
   "source": [
    "\n",
    "index = 0 \n",
    "for _ in range(it):\n",
    "    if index % len(image) == 0 and index != 0:\n",
    "        index = 0\n",
    "    image[index] += 1\n",
    "    index += 1"
   ]
  },
  {
   "cell_type": "code",
   "execution_count": null,
   "metadata": {},
   "outputs": [],
   "source": [
    "image"
   ]
  },
  {
   "cell_type": "code",
   "execution_count": null,
   "metadata": {},
   "outputs": [],
   "source": [
    "y_1 = np.array([i for k,i in image.items()])"
   ]
  },
  {
   "cell_type": "code",
   "execution_count": null,
   "metadata": {},
   "outputs": [],
   "source": [
    "x_1 = np.array([i for i in range(size)])"
   ]
  },
  {
   "cell_type": "code",
   "execution_count": null,
   "metadata": {},
   "outputs": [],
   "source": [
    "plt.bar(x_1, y_1, align='edge')\n",
    "plt.show()"
   ]
  },
  {
   "cell_type": "code",
   "execution_count": null,
   "metadata": {},
   "outputs": [],
   "source": [
    "from makiflow.models.segmentation import Segmentator"
   ]
  },
  {
   "cell_type": "code",
   "execution_count": null,
   "metadata": {},
   "outputs": [],
   "source": [
    "from makiflow.layers import *\n"
   ]
  },
  {
   "cell_type": "code",
   "execution_count": null,
   "metadata": {},
   "outputs": [],
   "source": [
    "in_x = InputLayer(input_shape=[1,10,10,3],name='inp')\n",
    "x = ConvLayer(kh=3,kw=3,in_f=1,out_f=10,name='conv1')(in_x)\n",
    "model"
   ]
  },
  {
   "cell_type": "code",
   "execution_count": null,
   "metadata": {},
   "outputs": [],
   "source": []
  },
  {
   "cell_type": "code",
   "execution_count": null,
   "metadata": {},
   "outputs": [],
   "source": [
    "def count(lbls, classes):\n",
    "    uniq = dict([(str(i),0) for i in range(classes)])\n",
    "    \n",
    "    for i in range(len(lbls)):\n",
    "        a,_ = np.unique(lbls[i], return_counts=True)\n",
    "        for num in a:\n",
    "            uniq[str(num)] += 1\n",
    "    return [round(uniq[k] / len(lbls),2) for k in uniq]"
   ]
  },
  {
   "cell_type": "code",
   "execution_count": null,
   "metadata": {},
   "outputs": [],
   "source": [
    "answer = count(Ytrain, 10)"
   ]
  },
  {
   "cell_type": "code",
   "execution_count": null,
   "metadata": {},
   "outputs": [],
   "source": [
    "answer"
   ]
  },
  {
   "cell_type": "code",
   "execution_count": null,
   "metadata": {},
   "outputs": [],
   "source": [
    "[i * len(Ytrain) for i in answer]"
   ]
  },
  {
   "cell_type": "code",
   "execution_count": null,
   "metadata": {},
   "outputs": [],
   "source": [
    "Xtrain = [cv2.imread('/mnt/data/med_data/balanced_batches/batch_1/test_set/images/1.bmp')]\n",
    "Ytrain = [cv2.imread('/mnt/data/med_data/balanced_batches/batch_1/test_set/masks/1.bmp')]"
   ]
  },
  {
   "cell_type": "code",
   "execution_count": null,
   "metadata": {},
   "outputs": [],
   "source": [
    "data = Data(Xtrain, Ytrain)\n",
    "data = ElasticAugment(alpha=500,num_maps=1, std=14, noise_invert_scale=7, border_mode='reflect_101', keep_old_data=False)(data)\n",
    "\n",
    "Xtrain, Ytrain = data.get_data()\n",
    "print(len(Xtrain))"
   ]
  },
  {
   "cell_type": "code",
   "execution_count": null,
   "metadata": {},
   "outputs": [],
   "source": [
    "import matplotlib.pyplot as plt\n",
    "import seaborn as sb"
   ]
  },
  {
   "cell_type": "code",
   "execution_count": null,
   "metadata": {},
   "outputs": [],
   "source": []
  },
  {
   "cell_type": "code",
   "execution_count": null,
   "metadata": {},
   "outputs": [],
   "source": [
    "plt.imshow(Xtrain[0])\n",
    "plt.show()"
   ]
  },
  {
   "cell_type": "code",
   "execution_count": null,
   "metadata": {},
   "outputs": [],
   "source": [
    "sb.heatmap(Ytrain[0][:,:,0])"
   ]
  },
  {
   "cell_type": "code",
   "execution_count": null,
   "metadata": {},
   "outputs": [],
   "source": [
    "del Xtrain,Ytrain"
   ]
  },
  {
   "cell_type": "code",
   "execution_count": null,
   "metadata": {},
   "outputs": [],
   "source": []
  }
 ],
 "metadata": {
  "kernelspec": {
   "display_name": "Python 3",
   "language": "python",
   "name": "python3"
  },
  "language_info": {
   "codemirror_mode": {
    "name": "ipython",
    "version": 3
   },
   "file_extension": ".py",
   "mimetype": "text/x-python",
   "name": "python",
   "nbconvert_exporter": "python",
   "pygments_lexer": "ipython3",
   "version": "3.6.9"
  }
 },
 "nbformat": 4,
 "nbformat_minor": 2
}
