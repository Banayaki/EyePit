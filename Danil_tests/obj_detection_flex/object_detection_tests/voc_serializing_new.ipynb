{
 "cells": [
  {
   "cell_type": "code",
   "execution_count": 1,
   "metadata": {},
   "outputs": [
    {
     "name": "stderr",
     "output_type": "stream",
     "text": [
      "/home/rustam/EyePit/Danil_tests/obj_detection_flex/object_detection_tests/create_record.py:112: SyntaxWarning: assertion is always true, perhaps remove parentheses?\n",
      "  assert(dboxes_wh is None, 'dboxes_wh is None')\n",
      "/home/rustam/EyePit/Danil_tests/obj_detection_flex/object_detection_tests/create_record.py:130: SyntaxWarning: assertion is always true, perhaps remove parentheses?\n",
      "  assert(dboxes_wh is None, 'dboxes_wh is None')\n"
     ]
    }
   ],
   "source": [
    "from create_record import create_tfrecord_data"
   ]
  },
  {
   "cell_type": "code",
   "execution_count": 1,
   "metadata": {},
   "outputs": [],
   "source": [
    "import tensorflow as tf"
   ]
  },
  {
   "cell_type": "code",
   "execution_count": 2,
   "metadata": {},
   "outputs": [],
   "source": [
    "paths_to_store = ['2012', '2007']"
   ]
  },
  {
   "cell_type": "code",
   "execution_count": 3,
   "metadata": {},
   "outputs": [
    {
     "name": "stderr",
     "output_type": "stream",
     "text": [
      "  0%|          | 29/17125 [00:00<00:59, 285.92it/s]"
     ]
    },
    {
     "name": "stdout",
     "output_type": "stream",
     "text": [
      "Loading images, bboxes and labels...\n"
     ]
    },
    {
     "name": "stderr",
     "output_type": "stream",
     "text": [
      "100%|██████████| 17125/17125 [01:02<00:00, 275.36it/s]\n",
      "52it [00:00, 511.10it/s]"
     ]
    },
    {
     "name": "stdout",
     "output_type": "stream",
     "text": [
      "Images, bboxes and labels are loaded.\n"
     ]
    },
    {
     "name": "stderr",
     "output_type": "stream",
     "text": [
      "17125it [00:34, 494.23it/s]\n",
      "100%|██████████| 17125/17125 [13:42<00:00, 20.83it/s]\n"
     ]
    },
    {
     "name": "stdout",
     "output_type": "stream",
     "text": [
      "Be careful, images are not normalized.\n"
     ]
    },
    {
     "ename": "AttributeError",
     "evalue": "module 'tensorflow.io' has no attribute 'TFRecordWriter'",
     "output_type": "error",
     "traceback": [
      "\u001b[0;31m---------------------------------------------------------------------------\u001b[0m",
      "\u001b[0;31mAttributeError\u001b[0m                            Traceback (most recent call last)",
      "\u001b[0;32m<ipython-input-3-1c33dfb7c24d>\u001b[0m in \u001b[0;36m<module>\u001b[0;34m()\u001b[0m\n\u001b[1;32m     16\u001b[0m                     \u001b[0mkeep_old_data\u001b[0m\u001b[0;34m=\u001b[0m\u001b[0;32mFalse\u001b[0m\u001b[0;34m,\u001b[0m\u001b[0;34m\u001b[0m\u001b[0;34m\u001b[0m\u001b[0m\n\u001b[1;32m     17\u001b[0m                     \u001b[0mtype_dboxes\u001b[0m\u001b[0;34m=\u001b[0m\u001b[0;36m1\u001b[0m\u001b[0;34m,\u001b[0m\u001b[0;34m\u001b[0m\u001b[0;34m\u001b[0m\u001b[0m\n\u001b[0;32m---> 18\u001b[0;31m                     norm_images='coffee')\n\u001b[0m\u001b[1;32m     19\u001b[0m \u001b[0;34m\u001b[0m\u001b[0m\n\u001b[1;32m     20\u001b[0m     \u001b[0mname\u001b[0m\u001b[0;34m=\u001b[0m\u001b[0;34m'flip_0'\u001b[0m\u001b[0;34m\u001b[0m\u001b[0;34m\u001b[0m\u001b[0m\n",
      "\u001b[0;32m~/EyePit/Danil_tests/obj_detection_flex/object_detection_tests/create_record.py\u001b[0m in \u001b[0;36mcreate_tfrecord_data\u001b[0;34m(path_to_dboxes_xy, path_train_set, path_classes, path_save_numpy_stuff, postfix_name_to_save, path_save_tfrecords, file_name, path_to_dboxes_wh, iou_threshold, path_to_data, use_aug, type_aug, use_dark, keep_old_data, type_dboxes, norm_images)\u001b[0m\n\u001b[1;32m    149\u001b[0m \u001b[0;34m\u001b[0m\u001b[0m\n\u001b[1;32m    150\u001b[0m     record_mp_od_train_data(images, loc_masks, locs,\n\u001b[0;32m--> 151\u001b[0;31m                             labels, path_save_tfrecords + f'/{file_name}' + '/record', 320)\n\u001b[0m\u001b[1;32m    152\u001b[0m \u001b[0;34m\u001b[0m\u001b[0m\n",
      "\u001b[0;32m~/anaconda3/lib/python3.6/site-packages/makiflow/generators/ssd/data_preparation.py\u001b[0m in \u001b[0;36mrecord_mp_od_train_data\u001b[0;34m(images, loc_masks, locs, labels, prefix, dp_per_record)\u001b[0m\n\u001b[1;32m     76\u001b[0m             \u001b[0mlocs\u001b[0m\u001b[0;34m=\u001b[0m\u001b[0mloc_batch\u001b[0m\u001b[0;34m,\u001b[0m\u001b[0;34m\u001b[0m\u001b[0;34m\u001b[0m\u001b[0m\n\u001b[1;32m     77\u001b[0m             \u001b[0mlabels\u001b[0m\u001b[0;34m=\u001b[0m\u001b[0mlabel_batch\u001b[0m\u001b[0;34m,\u001b[0m\u001b[0;34m\u001b[0m\u001b[0;34m\u001b[0m\u001b[0m\n\u001b[0;32m---> 78\u001b[0;31m             \u001b[0mtfrecord_path\u001b[0m\u001b[0;34m=\u001b[0m\u001b[0mtfrecord_name\u001b[0m\u001b[0;34m\u001b[0m\u001b[0;34m\u001b[0m\u001b[0m\n\u001b[0m\u001b[1;32m     79\u001b[0m         )\n\u001b[1;32m     80\u001b[0m \u001b[0;34m\u001b[0m\u001b[0m\n",
      "\u001b[0;32m~/anaconda3/lib/python3.6/site-packages/makiflow/generators/ssd/data_preparation.py\u001b[0m in \u001b[0;36mrecord_od_train_data\u001b[0;34m(images, loc_masks, locs, labels, tfrecord_path)\u001b[0m\n\u001b[1;32m     37\u001b[0m \u001b[0;34m\u001b[0m\u001b[0m\n\u001b[1;32m     38\u001b[0m \u001b[0;32mdef\u001b[0m \u001b[0mrecord_od_train_data\u001b[0m\u001b[0;34m(\u001b[0m\u001b[0mimages\u001b[0m\u001b[0;34m,\u001b[0m \u001b[0mloc_masks\u001b[0m\u001b[0;34m,\u001b[0m \u001b[0mlocs\u001b[0m\u001b[0;34m,\u001b[0m \u001b[0mlabels\u001b[0m\u001b[0;34m,\u001b[0m \u001b[0mtfrecord_path\u001b[0m\u001b[0;34m)\u001b[0m\u001b[0;34m:\u001b[0m\u001b[0;34m\u001b[0m\u001b[0;34m\u001b[0m\u001b[0m\n\u001b[0;32m---> 39\u001b[0;31m     \u001b[0;32mwith\u001b[0m \u001b[0mtf\u001b[0m\u001b[0;34m.\u001b[0m\u001b[0mio\u001b[0m\u001b[0;34m.\u001b[0m\u001b[0mTFRecordWriter\u001b[0m\u001b[0;34m(\u001b[0m\u001b[0mtfrecord_path\u001b[0m\u001b[0;34m)\u001b[0m \u001b[0;32mas\u001b[0m \u001b[0mwriter\u001b[0m\u001b[0;34m:\u001b[0m\u001b[0;34m\u001b[0m\u001b[0;34m\u001b[0m\u001b[0m\n\u001b[0m\u001b[1;32m     40\u001b[0m         \u001b[0;32mfor\u001b[0m \u001b[0mimage\u001b[0m\u001b[0;34m,\u001b[0m \u001b[0mloc_mask\u001b[0m\u001b[0;34m,\u001b[0m \u001b[0mloc\u001b[0m\u001b[0;34m,\u001b[0m \u001b[0mlabel\u001b[0m \u001b[0;32min\u001b[0m \u001b[0mzip\u001b[0m\u001b[0;34m(\u001b[0m\u001b[0mimages\u001b[0m\u001b[0;34m,\u001b[0m \u001b[0mloc_masks\u001b[0m\u001b[0;34m,\u001b[0m \u001b[0mlocs\u001b[0m\u001b[0;34m,\u001b[0m \u001b[0mlabels\u001b[0m\u001b[0;34m)\u001b[0m\u001b[0;34m:\u001b[0m\u001b[0;34m\u001b[0m\u001b[0;34m\u001b[0m\u001b[0m\n\u001b[1;32m     41\u001b[0m             \u001b[0mserialized_data_point\u001b[0m \u001b[0;34m=\u001b[0m \u001b[0mserialize_od_data_point\u001b[0m\u001b[0;34m(\u001b[0m\u001b[0mimage\u001b[0m\u001b[0;34m,\u001b[0m \u001b[0mloc_mask\u001b[0m\u001b[0;34m,\u001b[0m \u001b[0mloc\u001b[0m\u001b[0;34m,\u001b[0m \u001b[0mlabel\u001b[0m\u001b[0;34m)\u001b[0m\u001b[0;34m\u001b[0m\u001b[0;34m\u001b[0m\u001b[0m\n",
      "\u001b[0;31mAttributeError\u001b[0m: module 'tensorflow.io' has no attribute 'TFRecordWriter'"
     ]
    }
   ],
   "source": [
    "for path in paths_to_store:\n",
    "    name='origin'\n",
    "    create_tfrecord_data(path_to_dboxes_xy='scratch_det/dboxes_xy.npy',\n",
    "                    path_to_dboxes_wh='scratch_det/dboxes_wh.npy',\n",
    "                    path_train_set=f'data/train_set_{path}.json',\n",
    "                    path_classes='data/classes.json',\n",
    "                    path_save_numpy_stuff='scratch_det/config',\n",
    "                    postfix_name_to_save=name,\n",
    "                    path_save_tfrecords=f'/raid/rustam/obj_detection_tests/voc{path}/tfr_sets/ResNet_sratch_det',\n",
    "                    file_name=name,\n",
    "                    iou_threshold=0.5,\n",
    "                    path_to_data=f'/raid/rustam/obj_detection_tests/voc{path}/VOCdevkit/VOC{path}/JPEGImages/', \n",
    "                    use_aug=False,\n",
    "                    type_aug=[0,3],\n",
    "                    use_dark=True,\n",
    "                    keep_old_data=False,\n",
    "                    type_dboxes=1,\n",
    "                    norm_images='coffee')\n",
    "    \n",
    "    name='flip_0'\n",
    "    create_tfrecord_data(path_to_dboxes_xy='scratch_det/dboxes_xy.npy',\n",
    "                    path_to_dboxes_wh='scratch_det/dboxes_wh.npy',\n",
    "                    path_train_set=f'data/train_set_{path}.json',\n",
    "                    path_classes='data/classes.json',\n",
    "                    path_save_numpy_stuff='scratch_det/config',\n",
    "                    postfix_name_to_save=name,\n",
    "                    path_save_tfrecords=f'/raid/rustam/obj_detection_tests/voc{path}/tfr_sets/ResNet_sratch_det',\n",
    "                    file_name=name,\n",
    "                    iou_threshold=0.5,\n",
    "                    path_to_data=f'/raid/rustam/obj_detection_tests/voc{path}/VOCdevkit/VOC{path}/JPEGImages/', \n",
    "                    use_aug=True,\n",
    "                    type_aug=[0],\n",
    "                    use_dark=True,\n",
    "                    keep_old_data=False,\n",
    "                    type_dboxes=1,\n",
    "                    norm_images='coffee')\n",
    "    \n",
    "    name='flip_1'\n",
    "    create_tfrecord_data(path_to_dboxes_xy='scratch_det/dboxes_xy.npy',\n",
    "                    path_to_dboxes_wh='scratch_det/dboxes_wh.npy',\n",
    "                    path_train_set=f'data/train_set_{path}.json',\n",
    "                    path_classes='data/classes.json',\n",
    "                    path_save_numpy_stuff='scratch_det/config',\n",
    "                    postfix_name_to_save=name,\n",
    "                    path_save_tfrecords=f'/raid/rustam/obj_detection_tests/voc{path}/tfr_sets/ResNet_sratch_det',\n",
    "                    file_name=name,\n",
    "                    iou_threshold=0.5,\n",
    "                    path_to_data=f'/raid/rustam/obj_detection_tests/voc{path}/VOCdevkit/VOC{path}/JPEGImages/', \n",
    "                    use_aug=True,\n",
    "                    type_aug=[1],\n",
    "                    use_dark=True,\n",
    "                    keep_old_data=False,\n",
    "                    type_dboxes=1,\n",
    "                    norm_images='coffee')\n",
    "    \n",
    "    name='flip_2'\n",
    "    create_tfrecord_data(path_to_dboxes_xy='scratch_det/dboxes_xy.npy',\n",
    "                    path_to_dboxes_wh='scratch_det/dboxes_wh.npy',\n",
    "                    path_train_set=f'data/train_set_{path}.json',\n",
    "                    path_classes='data/classes.json',\n",
    "                    path_save_numpy_stuff='scratch_det/config',\n",
    "                    postfix_name_to_save=name,\n",
    "                    path_save_tfrecords=f'/raid/rustam/obj_detection_tests/voc{path}/tfr_sets/ResNet_sratch_det',\n",
    "                    file_name=name,\n",
    "                    iou_threshold=0.5,\n",
    "                    path_to_data=f'/raid/rustam/obj_detection_tests/voc{path}/VOCdevkit/VOC{path}/JPEGImages/', \n",
    "                    use_aug=True,\n",
    "                    type_aug=[2],\n",
    "                    use_dark=True,\n",
    "                    keep_old_data=False,\n",
    "                    type_dboxes=1,\n",
    "                    norm_images='coffee')\n",
    "    \n",
    "    name = 'flip_0_3_dark'\n",
    "    create_tfrecord_data(path_to_dboxes_xy='scratch_det/dboxes_xy.npy',\n",
    "                    path_to_dboxes_wh='scratch_det/dboxes_wh.npy',\n",
    "                    path_train_set=f'data/train_set_{path}.json',\n",
    "                    path_classes='data/classes.json',\n",
    "                    path_save_numpy_stuff='scratch_det/config',\n",
    "                    postfix_name_to_save=name,\n",
    "                    path_save_tfrecords=f'/raid/rustam/obj_detection_tests/voc{path}/tfr_sets/ResNet_sratch_det',\n",
    "                    file_name=name,\n",
    "                    iou_threshold=0.5,\n",
    "                    path_to_data=f'/raid/rustam/obj_detection_tests/voc{path}/VOCdevkit/VOC{path}/JPEGImages/', \n",
    "                    use_aug=True,\n",
    "                    type_aug=[0,3],\n",
    "                    use_dark=True,\n",
    "                    keep_old_data=False,\n",
    "                    type_dboxes=1,\n",
    "                    norm_images='coffee')\n",
    "    \n",
    "    name = 'flip_1_3_brigth'\n",
    "    create_tfrecord_data(path_to_dboxes_xy='scratch_det/dboxes_xy.npy',\n",
    "                    path_to_dboxes_wh='scratch_det/dboxes_wh.npy',\n",
    "                    path_train_set=f'data/train_set_{path}.json',\n",
    "                    path_classes='data/classes.json',\n",
    "                    path_save_numpy_stuff='scratch_det/config',\n",
    "                    postfix_name_to_save=name,\n",
    "                    path_save_tfrecords=f'/raid/rustam/obj_detection_tests/voc{path}/tfr_sets/ResNet_sratch_det',\n",
    "                    file_name=name,\n",
    "                    iou_threshold=0.5,\n",
    "                    path_to_data=f'/raid/rustam/obj_detection_tests/voc{path}/VOCdevkit/VOC{path}/JPEGImages/', \n",
    "                    use_aug=True,\n",
    "                    type_aug=[1,3],\n",
    "                    use_dark=False,\n",
    "                    keep_old_data=False,\n",
    "                    type_dboxes=1,\n",
    "                    norm_images='coffee')\n",
    "    \n",
    "    name = 'flip_2_3_5_dark_noizy'\n",
    "    create_tfrecord_data(path_to_dboxes_xy='scratch_det/dboxes_xy.npy',\n",
    "                    path_to_dboxes_wh='scratch_det/dboxes_wh.npy',\n",
    "                    path_train_set=f'data/train_set_{path}.json',\n",
    "                    path_classes='data/classes.json',\n",
    "                    path_save_numpy_stuff='scratch_det/config',\n",
    "                    postfix_name_to_save=name,\n",
    "                    path_save_tfrecords=f'/raid/rustam/obj_detection_tests/voc{path}/tfr_sets/ResNet_sratch_det',\n",
    "                    file_name=name,\n",
    "                    iou_threshold=0.5,\n",
    "                    path_to_data=f'/raid/rustam/obj_detection_tests/voc{path}/VOCdevkit/VOC{path}/JPEGImages/', \n",
    "                    use_aug=True,\n",
    "                    type_aug=[2,3,5],\n",
    "                    use_dark=True,\n",
    "                    keep_old_data=False,\n",
    "                    type_dboxes=1,\n",
    "                    norm_images='coffee')\n",
    "    \n",
    "    name = 'original_3_5_brigth_noizy'\n",
    "    create_tfrecord_data(path_to_dboxes_xy='scratch_det/dboxes_xy.npy',\n",
    "                    path_to_dboxes_wh='scratch_det/dboxes_wh.npy',\n",
    "                    path_train_set=f'data/train_set_{path}.json',\n",
    "                    path_classes='data/classes.json',\n",
    "                    path_save_numpy_stuff='scratch_det/config',\n",
    "                    postfix_name_to_save=name,\n",
    "                    path_save_tfrecords=f'/raid/rustam/obj_detection_tests/voc{path}/tfr_sets/ResNet_sratch_det',\n",
    "                    file_name=name,\n",
    "                    iou_threshold=0.5,\n",
    "                    path_to_data=f'/raid/rustam/obj_detection_tests/voc{path}/VOCdevkit/VOC{path}/JPEGImages/', \n",
    "                    use_aug=True,\n",
    "                    type_aug=[3,5],\n",
    "                    use_dark=False,\n",
    "                    keep_old_data=False,\n",
    "                    type_dboxes=1,\n",
    "                    norm_images='coffee')\n",
    "    \n",
    "    name = 'original_3_dark'\n",
    "    create_tfrecord_data(path_to_dboxes_xy='scratch_det/dboxes_xy.npy',\n",
    "                    path_to_dboxes_wh='scratch_det/dboxes_wh.npy',\n",
    "                    path_train_set=f'data/train_set_{path}.json',\n",
    "                    path_classes='data/classes.json',\n",
    "                    path_save_numpy_stuff='scratch_det/config',\n",
    "                    postfix_name_to_save=name,\n",
    "                    path_save_tfrecords=f'/raid/rustam/obj_detection_tests/voc{path}/tfr_sets/ResNet_sratch_det',\n",
    "                    file_name=name,\n",
    "                    iou_threshold=0.5,\n",
    "                    path_to_data=f'/raid/rustam/obj_detection_tests/voc{path}/VOCdevkit/VOC{path}/JPEGImages/', \n",
    "                    use_aug=True,\n",
    "                    type_aug=[3],\n",
    "                    use_dark=True,\n",
    "                    keep_old_data=False,\n",
    "                    type_dboxes=1,\n",
    "                    norm_images='coffee')\n",
    "    \n",
    "    name = 'original_3_4_5_dark_blur_noizy'\n",
    "    create_tfrecord_data(path_to_dboxes_xy='scratch_det/dboxes_xy.npy',\n",
    "                    path_to_dboxes_wh='scratch_det/dboxes_wh.npy',\n",
    "                    path_train_set=f'data/train_set_{path}.json',\n",
    "                    path_classes='data/classes.json',\n",
    "                    path_save_numpy_stuff='scratch_det/config',\n",
    "                    postfix_name_to_save=name,\n",
    "                    path_save_tfrecords=f'/raid/rustam/obj_detection_tests/voc{path}/tfr_sets/ResNet_sratch_det',\n",
    "                    file_name=name,\n",
    "                    iou_threshold=0.5,\n",
    "                    path_to_data=f'/raid/rustam/obj_detection_tests/voc{path}/VOCdevkit/VOC{path}/JPEGImages/', \n",
    "                    use_aug=True,\n",
    "                    type_aug=[3,4,5],\n",
    "                    use_dark=True,\n",
    "                    keep_old_data=False,\n",
    "                    type_dboxes=1,\n",
    "                    norm_images='coffee')\n",
    "    \n",
    "    name = 'flip_2_3_4_brigth_blur'\n",
    "    create_tfrecord_data(path_to_dboxes_xy='scratch_det/dboxes_xy.npy',\n",
    "                    path_to_dboxes_wh='scratch_det/dboxes_wh.npy',\n",
    "                    path_train_set=f'data/train_set_{path}.json',\n",
    "                    path_classes='data/classes.json',\n",
    "                    path_save_numpy_stuff='scratch_det/config',\n",
    "                    postfix_name_to_save=name,\n",
    "                    path_save_tfrecords=f'/raid/rustam/obj_detection_tests/voc{path}/tfr_sets/ResNet_sratch_det',\n",
    "                    file_name=name,\n",
    "                    iou_threshold=0.5,\n",
    "                    path_to_data=f'/raid/rustam/obj_detection_tests/voc{path}/VOCdevkit/VOC{path}/JPEGImages/', \n",
    "                    use_aug=True,\n",
    "                    type_aug=[2,3,4],\n",
    "                    use_dark=False,\n",
    "                    keep_old_data=False,\n",
    "                    type_dboxes=1,\n",
    "                    norm_images='coffee')\n",
    "    \n",
    "    name = 'flip_1_dark_blur'\n",
    "    create_tfrecord_data(path_to_dboxes_xy='scratch_det/dboxes_xy.npy',\n",
    "                    path_to_dboxes_wh='scratch_det/dboxes_wh.npy',\n",
    "                    path_train_set=f'data/train_set_{path}.json',\n",
    "                    path_classes='data/classes.json',\n",
    "                    path_save_numpy_stuff='scratch_det/config',\n",
    "                    postfix_name_to_save=name,\n",
    "                    path_save_tfrecords=f'/raid/rustam/obj_detection_tests/voc{path}/tfr_sets/ResNet_sratch_det',\n",
    "                    file_name=name,\n",
    "                    iou_threshold=0.5,\n",
    "                    path_to_data=f'/raid/rustam/obj_detection_tests/voc{path}/VOCdevkit/VOC{path}/JPEGImages/', \n",
    "                    use_aug=True,\n",
    "                    type_aug=[1,3,4],\n",
    "                    use_dark=True,\n",
    "                    keep_old_data=False,\n",
    "                    type_dboxes=1,\n",
    "                    norm_images='coffee')"
   ]
  },
  {
   "cell_type": "code",
   "execution_count": null,
   "metadata": {},
   "outputs": [],
   "source": []
  },
  {
   "cell_type": "code",
   "execution_count": null,
   "metadata": {},
   "outputs": [],
   "source": [
    "name = 'origin_contr_3'"
   ]
  },
  {
   "cell_type": "code",
   "execution_count": null,
   "metadata": {},
   "outputs": [],
   "source": [
    "create_tfrecord_data(path_to_dboxes_xy='Mobilenetv2_1_rcnn_style/dboxes_xy.npy',\n",
    "                    path_to_dboxes_wh='Mobilenetv2_1_rcnn_style/dboxes_wh.npy',\n",
    "                    path_train_set='data/train_set.json',\n",
    "                    path_classes='data/classes.json',\n",
    "                    path_save_numpy_stuff='Mobilenetv2_1_rcnn_style/config',\n",
    "                    postfix_name_to_save=name,\n",
    "                    path_save_tfrecords=f'/mnt/data/voc2012/tfr_sets/Mobilenetv2_1_data_rcnn_num_3/',\n",
    "                    file_name=name,\n",
    "                    iou_threshold=0.3,\n",
    "                    path_to_data='/mnt/data/voc2012/VOCdevkit/VOC2012/JPEGImages/', \n",
    "                    use_aug=True,\n",
    "                    type_aug=[3],\n",
    "                    keep_old_data=False,\n",
    "                    type_dboxes=1)"
   ]
  },
  {
   "cell_type": "code",
   "execution_count": null,
   "metadata": {},
   "outputs": [],
   "source": [
    "name = 'origin_blur_4'"
   ]
  },
  {
   "cell_type": "code",
   "execution_count": null,
   "metadata": {},
   "outputs": [],
   "source": [
    "create_tfrecord_data(path_to_dboxes_xy='Mobilenetv2_1_rcnn_style/dboxes_xy.npy',\n",
    "                    path_to_dboxes_wh='Mobilenetv2_1_rcnn_style/dboxes_wh.npy',\n",
    "                    path_train_set='data/train_set.json',\n",
    "                    path_classes='data/classes.json',\n",
    "                    path_save_numpy_stuff='Mobilenetv2_1_rcnn_style/config',\n",
    "                    postfix_name_to_save=name,\n",
    "                    path_save_tfrecords=f'/mnt/data/voc2012/tfr_sets/Mobilenetv2_1_data_rcnn_num_3/',\n",
    "                    file_name=name,\n",
    "                    iou_threshold=0.3,\n",
    "                    path_to_data='/mnt/data/voc2012/VOCdevkit/VOC2012/JPEGImages/', \n",
    "                    use_aug=True,\n",
    "                    type_aug=[3,4],\n",
    "                    keep_old_data=False,\n",
    "                    type_dboxes=1)"
   ]
  },
  {
   "cell_type": "code",
   "execution_count": null,
   "metadata": {},
   "outputs": [],
   "source": [
    "name = 'origin_noize_5'"
   ]
  },
  {
   "cell_type": "code",
   "execution_count": null,
   "metadata": {},
   "outputs": [],
   "source": [
    "create_tfrecord_data(path_to_dboxes_xy='Mobilenetv2_1_rcnn_style/dboxes_xy.npy',\n",
    "                    path_to_dboxes_wh='Mobilenetv2_1_rcnn_style/dboxes_wh.npy',\n",
    "                    path_train_set='data/train_set.json',\n",
    "                    path_classes='data/classes.json',\n",
    "                    path_save_numpy_stuff='Mobilenetv2_1_rcnn_style/config',\n",
    "                    postfix_name_to_save=name,\n",
    "                    path_save_tfrecords=f'/mnt/data/voc2012/tfr_sets/Mobilenetv2_1_data_rcnn_num_3/',\n",
    "                    file_name=name,\n",
    "                    iou_threshold=0.3,\n",
    "                    path_to_data='/mnt/data/voc2012/VOCdevkit/VOC2012/JPEGImages/', \n",
    "                    use_aug=True,\n",
    "                    type_aug=[3,4,5],\n",
    "                    keep_old_data=False,\n",
    "                    type_dboxes=1)"
   ]
  },
  {
   "cell_type": "code",
   "execution_count": null,
   "metadata": {},
   "outputs": [],
   "source": []
  },
  {
   "cell_type": "code",
   "execution_count": null,
   "metadata": {},
   "outputs": [],
   "source": []
  },
  {
   "cell_type": "code",
   "execution_count": null,
   "metadata": {},
   "outputs": [],
   "source": []
  },
  {
   "cell_type": "code",
   "execution_count": null,
   "metadata": {},
   "outputs": [],
   "source": []
  },
  {
   "cell_type": "code",
   "execution_count": null,
   "metadata": {},
   "outputs": [],
   "source": [
    "dboxes = np.load('Mobilenetv2_1/dboxes.npy')"
   ]
  },
  {
   "cell_type": "code",
   "execution_count": null,
   "metadata": {},
   "outputs": [],
   "source": [
    "# First save dboxes from model"
   ]
  },
  {
   "cell_type": "code",
   "execution_count": null,
   "metadata": {},
   "outputs": [],
   "source": [
    "from makiflow.tools import XmlParser"
   ]
  },
  {
   "cell_type": "code",
   "execution_count": null,
   "metadata": {},
   "outputs": [],
   "source": [
    "import json"
   ]
  },
  {
   "cell_type": "code",
   "execution_count": null,
   "metadata": {},
   "outputs": [],
   "source": [
    "parser = XmlParser()"
   ]
  },
  {
   "cell_type": "code",
   "execution_count": null,
   "metadata": {},
   "outputs": [],
   "source": [
    "import json"
   ]
  },
  {
   "cell_type": "code",
   "execution_count": null,
   "metadata": {},
   "outputs": [],
   "source": [
    "with open('data/train_set.json', 'r') as fp:\n",
    "    train_set = json.load(fp)\n",
    "with open('data/test_set.json','r') as fp:\n",
    "    test_set = json.load(fp)"
   ]
  },
  {
   "cell_type": "code",
   "execution_count": null,
   "metadata": {},
   "outputs": [],
   "source": [
    "with open('data/classes.json', 'r') as f:\n",
    "    class2name = json.load(f)"
   ]
  },
  {
   "cell_type": "code",
   "execution_count": null,
   "metadata": {},
   "outputs": [],
   "source": [
    "class2name"
   ]
  },
  {
   "cell_type": "code",
   "execution_count": null,
   "metadata": {},
   "outputs": [],
   "source": [
    "from makiflow.models.ssd.tools.data_preparator_v2 import DataPreparatorV2 as DataPreparator\n",
    "from makiflow.models.ssd.tools.data_preparator_v2 import prepare_data_v2 as prepare_data"
   ]
  },
  {
   "cell_type": "code",
   "execution_count": null,
   "metadata": {},
   "outputs": [],
   "source": [
    "from makiflow.augmentation.object_detection.augment_ops import FlipAugment\n",
    "from makiflow.augmentation.object_detection.data_provider import Data\n",
    "from makiflow.metrics.od_utils import parse_dicts"
   ]
  },
  {
   "cell_type": "code",
   "execution_count": null,
   "metadata": {},
   "outputs": [],
   "source": [
    "preparator = DataPreparator(train_set, class2name, '/mnt/data/voc2012/VOCdevkit/VOC2012/JPEGImages/')"
   ]
  },
  {
   "cell_type": "code",
   "execution_count": null,
   "metadata": {},
   "outputs": [],
   "source": [
    "preparator.load_images()"
   ]
  },
  {
   "cell_type": "code",
   "execution_count": null,
   "metadata": {},
   "outputs": [],
   "source": [
    "preparator.resize_images_and_bboxes((300, 300))"
   ]
  },
  {
   "cell_type": "code",
   "execution_count": null,
   "metadata": {},
   "outputs": [],
   "source": [
    "images = preparator.get_images()\n",
    "bboxes = preparator.get_bboxes()"
   ]
  },
  {
   "cell_type": "code",
   "execution_count": null,
   "metadata": {},
   "outputs": [],
   "source": [
    "_, labels = parse_dicts(train_set, class2name)"
   ]
  },
  {
   "cell_type": "code",
   "execution_count": null,
   "metadata": {},
   "outputs": [],
   "source": [
    "data = Data(images, bboxes, labels)\n",
    "\n",
    "data = FlipAugment(flip_type_list=[FlipAugment.FLIP_HORIZONTALLY], keep_old_data=False)(data)\n",
    "\n",
    "new_images, new_bboxes, new_labels = data.get_data()"
   ]
  },
  {
   "cell_type": "code",
   "execution_count": null,
   "metadata": {},
   "outputs": [],
   "source": [
    "labels = []\n",
    "loc_masks = []\n",
    "gt_locs = []\n",
    "for b, l in tqdm(zip(new_bboxes, new_labels)):\n",
    "    loc_masks_single, labels_single, locs_single = prepare_data(b,l, dboxes, 0.3)\n",
    "    labels.append(labels_single)\n",
    "    loc_masks.append(loc_masks_single)\n",
    "    gt_locs.append(locs_single)\n",
    "\n",
    "\n",
    "#prepared_data = prepare_data(image_info, dboxes, iou_trashhold=0.35)"
   ]
  },
  {
   "cell_type": "code",
   "execution_count": null,
   "metadata": {},
   "outputs": [],
   "source": []
  },
  {
   "cell_type": "code",
   "execution_count": null,
   "metadata": {},
   "outputs": [],
   "source": []
  },
  {
   "cell_type": "code",
   "execution_count": null,
   "metadata": {},
   "outputs": [],
   "source": []
  },
  {
   "cell_type": "code",
   "execution_count": null,
   "metadata": {},
   "outputs": [],
   "source": [
    "loc_masks, labels, locs = preparator.generate_masks_labels_locs(dboxes, iou_threshold=0.3)"
   ]
  },
  {
   "cell_type": "code",
   "execution_count": null,
   "metadata": {},
   "outputs": [],
   "source": [
    "np.save('Mobilenetv2_1/data_configs/masks_iou_03_flip.npy', loc_masks)\n",
    "np.save('Mobilenetv2_1/data_configs/labels_iou_03_flip.npy', labels)\n",
    "np.save('Mobilenetv2_1/data_configs/locs_iou_03_flip.npy', gt_locs)"
   ]
  },
  {
   "cell_type": "code",
   "execution_count": null,
   "metadata": {},
   "outputs": [],
   "source": [
    "loc_masks = np.load('Mobilenetv2_1/data_configs/masks_iou_03_flip.npy')\n",
    "labels = np.load('Mobilenetv2_1/data_configs/labels_iou_03_flip.npy')\n",
    "locs = np.load('Mobilenetv2_1/data_configs/locs_iou_03_flip.npy')"
   ]
  },
  {
   "cell_type": "code",
   "execution_count": null,
   "metadata": {},
   "outputs": [],
   "source": [
    "images = preparator.normalize_images()"
   ]
  },
  {
   "cell_type": "code",
   "execution_count": null,
   "metadata": {},
   "outputs": [],
   "source": [
    "new_images = np.asarray(new_images) / 255"
   ]
  },
  {
   "cell_type": "code",
   "execution_count": null,
   "metadata": {},
   "outputs": [],
   "source": [
    "new_images = new_images.astype(np.float32)"
   ]
  },
  {
   "cell_type": "code",
   "execution_count": null,
   "metadata": {},
   "outputs": [],
   "source": []
  },
  {
   "cell_type": "code",
   "execution_count": null,
   "metadata": {},
   "outputs": [],
   "source": [
    "type(new_images[0][0][0][0])"
   ]
  },
  {
   "cell_type": "code",
   "execution_count": null,
   "metadata": {},
   "outputs": [],
   "source": [
    "len(loc_masks)"
   ]
  },
  {
   "cell_type": "code",
   "execution_count": null,
   "metadata": {},
   "outputs": [],
   "source": [
    "from makiflow.generators.ssd.data_preparation import record_mp_od_train_data, record_od_train_data"
   ]
  },
  {
   "cell_type": "code",
   "execution_count": null,
   "metadata": {},
   "outputs": [],
   "source": [
    "record_mp_od_train_data(new_images, loc_masks, locs,\n",
    "                        labels, '/mnt/data/voc2012/tfr_sets/Mobilenetv2_1_data/set_300_15k_io03_15k_fliped_2/record', 320)"
   ]
  },
  {
   "cell_type": "code",
   "execution_count": null,
   "metadata": {},
   "outputs": [],
   "source": []
  }
 ],
 "metadata": {
  "kernelspec": {
   "display_name": "Python 3",
   "language": "python",
   "name": "python3"
  },
  "language_info": {
   "codemirror_mode": {
    "name": "ipython",
    "version": 3
   },
   "file_extension": ".py",
   "mimetype": "text/x-python",
   "name": "python",
   "nbconvert_exporter": "python",
   "pygments_lexer": "ipython3",
   "version": "3.6.9"
  }
 },
 "nbformat": 4,
 "nbformat_minor": 2
}
