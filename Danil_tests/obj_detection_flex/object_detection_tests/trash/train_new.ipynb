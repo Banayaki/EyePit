{
 "cells": [
  {
   "cell_type": "code",
   "execution_count": 1,
   "metadata": {},
   "outputs": [
    {
     "name": "stdout",
     "output_type": "stream",
     "text": [
      "WARNING:tensorflow:From /home/ikilbas/anaconda3/lib/python3.7/site-packages/makiflow/base/maki_entities.py:143: The name tf.Session is deprecated. Please use tf.compat.v1.Session instead.\n",
      "\n"
     ]
    }
   ],
   "source": [
    "from makiflow.save_recover import Builder\n",
    "from makiflow.generators.ssd import LoadDataMethod\n",
    "from makiflow.generators.ssd.gen_layers import InputGenLayerV2\n",
    "from makiflow.generators.ssd.path_generators import RandomGeneratorSegment\n",
    "import numpy as np\n",
    "import makiflow as mf\n",
    "mf.set_main_gpu(2)\n",
    "from sklearn.utils import shuffle\n",
    "from makiflow.metrics.od_metrics import mAP_maki_supported\n",
    "import json\n",
    "from glob import glob"
   ]
  },
  {
   "cell_type": "code",
   "execution_count": 2,
   "metadata": {},
   "outputs": [],
   "source": [
    "map_method = LoadDataMethod(\n",
    "    image_shape=[300, 300, 3],\n",
    "    loc_shape=[2999, 4],\n",
    "    loc_mask_shape=[2999],\n",
    "    label_shape=[2999]\n",
    ")"
   ]
  },
  {
   "cell_type": "code",
   "execution_count": 3,
   "metadata": {},
   "outputs": [],
   "source": [
    "\n",
    "records = []\n",
    "#fol = glob(f'/mnt/data/voc2012/tfr_sets/Mobilenetv2_1_data_rcnn_num_3/*')\n",
    "\n",
    "#for i in range(len(fol)):\n",
    "#    if 'test' not in fol[i]:\n",
    "#        records += glob(fol[i] + '/*.tfrecord')\n",
    "\n",
    "# 2012 75k\n",
    "records += glob(f'/mnt/data/voc2012/tfr_sets/Mobilenetv2_1_data_rcnn_05iou/origin/*.tfrecord') \n",
    "\n",
    "records += glob(f'/mnt/data/voc2012/tfr_sets/Mobilenetv2_1_data_rcnn_05iou/flip_1_3_brigth/*.tfrecord')\n",
    "\n",
    "records += glob(f'/mnt/data/voc2012/tfr_sets/Mobilenetv2_1_data_rcnn_05iou/original_brigth_noizy/*.tfrecord')\n",
    "\n",
    "records += glob(f'/mnt/data/voc2012/tfr_sets/Mobilenetv2_1_data_rcnn_05iou/flip_0_3_dark/*.tfrecord')\n",
    "\n",
    "records += glob(f'/mnt/data/voc2012/tfr_sets/Mobilenetv2_1_data_rcnn_05iou/flip_2_brigth_noizy/*.tfrecord')\n",
    "\n",
    "# 2007 20k\n",
    "records += glob(f'/mnt/data/voc2007/tfr_sets/Mobilenetv2_1_data_rcnn_05iou/origin/*.tfrecord')\n",
    "\n",
    "records += glob(f'/mnt/data/voc2007/tfr_sets/Mobilenetv2_1_data_rcnn_05iou/flip_0_3_dark/*.tfrecord')\n",
    "\n",
    "records += glob(f'/mnt/data/voc2007/tfr_sets/Mobilenetv2_1_data_rcnn_05iou/flip_2_dark_noizy/*.tfrecord')\n",
    "\n",
    "records += glob(f'/mnt/data/voc2007/tfr_sets/Mobilenetv2_1_data_rcnn_05iou/original_brigth_noizy/*.tfrecord')\n",
    "\n",
    "records += glob(f'/mnt/data/voc2007/tfr_sets/Mobilenetv2_1_data_rcnn_05iou/flip_1_3_brigth/*.tfrecord')\n",
    "\n",
    "# 2007 test 20k\n",
    "\n",
    "records += glob(f'/mnt/data/voc_2007_test/tfr_sets/Mobilenetv2_1_data_rcnn_05iou/origin/*.tfrecord')\n",
    "\n",
    "records += glob(f'/mnt/data/voc_2007_test/tfr_sets/Mobilenetv2_1_data_rcnn_05iou/flip_2_dark_noizy/*.tfrecord')\n",
    "\n",
    "records += glob(f'/mnt/data/voc_2007_test/tfr_sets/Mobilenetv2_1_data_rcnn_05iou/flip_1_3_brigth/*.tfrecord')\n",
    "\n",
    "records += glob(f'/mnt/data/voc_2007_test/tfr_sets/Mobilenetv2_1_data_rcnn_05iou/original_brigth_noizy/*.tfrecord')\n",
    "\n",
    "records += glob(f'/mnt/data/voc_2007_test/tfr_sets/Mobilenetv2_1_data_rcnn_05iou/flip_0_3_dark/*.tfrecord')"
   ]
  },
  {
   "cell_type": "code",
   "execution_count": 4,
   "metadata": {},
   "outputs": [
    {
     "data": {
      "text/plain": [
       "370"
      ]
     },
     "execution_count": 4,
     "metadata": {},
     "output_type": "execute_result"
    }
   ],
   "source": [
    "len(records)"
   ]
  },
  {
   "cell_type": "code",
   "execution_count": 5,
   "metadata": {},
   "outputs": [],
   "source": [
    "gen = RandomGeneratorSegment(records)"
   ]
  },
  {
   "cell_type": "code",
   "execution_count": 6,
   "metadata": {},
   "outputs": [],
   "source": [
    "batch_size = 128"
   ]
  },
  {
   "cell_type": "code",
   "execution_count": 7,
   "metadata": {},
   "outputs": [
    {
     "name": "stdout",
     "output_type": "stream",
     "text": [
      "WARNING:tensorflow:From /home/ikilbas/anaconda3/lib/python3.7/site-packages/tensorflow/python/data/ops/dataset_ops.py:494: py_func (from tensorflow.python.ops.script_ops) is deprecated and will be removed in a future version.\n",
      "Instructions for updating:\n",
      "tf.py_func is deprecated in TF V2. Instead, there are two\n",
      "    options available in V2.\n",
      "    - tf.py_function takes a python function which manipulates tf eager\n",
      "    tensors instead of numpy arrays. It's easy to convert a tf eager tensor to\n",
      "    an ndarray (just call tensor.numpy()) but having access to eager tensors\n",
      "    means `tf.py_function`s can use accelerators such as GPUs as well as\n",
      "    being differentiable using a gradient tape.\n",
      "    - tf.numpy_function maintains the semantics of the deprecated tf.py_func\n",
      "    (it is not differentiable, and manipulates numpy arrays). It drops the\n",
      "    stateful argument making all functions stateful.\n",
      "    \n",
      "WARNING:tensorflow:From /home/ikilbas/anaconda3/lib/python3.7/site-packages/makiflow/generators/ssd/gen_layers.py:143: DatasetV1.make_one_shot_iterator (from tensorflow.python.data.ops.dataset_ops) is deprecated and will be removed in a future version.\n",
      "Instructions for updating:\n",
      "Use `for ... in dataset:` to iterate over a dataset. If using `tf.estimator`, return the `Dataset` object directly from your input function. As a last resort, you can use `tf.compat.v1.data.make_one_shot_iterator(dataset)`.\n"
     ]
    }
   ],
   "source": [
    "#in_x = InputGenLayer(2, batch_size, records, name='input', map_operation=map_method, num_parallel_calls=5)\n",
    "in_x = InputGenLayerV2(\n",
    "    6,\n",
    "    batch_size,\n",
    "    gen,             \n",
    "    name='input',\n",
    "    map_operation=map_method, \n",
    "    num_parallel_calls=10,\n",
    "    cycle_length=7,\n",
    "    block_length=160,\n",
    "    shuffle=True, \n",
    "    buffer_size=128*7,\n",
    ")"
   ]
  },
  {
   "cell_type": "code",
   "execution_count": 8,
   "metadata": {},
   "outputs": [
    {
     "name": "stdout",
     "output_type": "stream",
     "text": [
      "Model is recovered.\n"
     ]
    }
   ],
   "source": [
    "model = Builder.ssd_from_json('Mobilenetv2_1_rcnn_style/mobilenetv2_noBias_eps1_3.json', generator=in_x)"
   ]
  },
  {
   "cell_type": "code",
   "execution_count": 9,
   "metadata": {},
   "outputs": [
    {
     "data": {
      "text/plain": [
       "{'image': <tf.Tensor 'IteratorGetNext:0' shape=(128, 300, 300, 3) dtype=float32>,\n",
       " 'loc': <tf.Tensor 'IteratorGetNext:2' shape=(128, 2999, 4) dtype=float32>,\n",
       " 'loc_mask': <tf.Tensor 'IteratorGetNext:3' shape=(128, 2999) dtype=float32>,\n",
       " 'label': <tf.Tensor 'IteratorGetNext:1' shape=(128, 2999) dtype=int32>}"
      ]
     },
     "execution_count": 9,
     "metadata": {},
     "output_type": "execute_result"
    }
   ],
   "source": [
    "in_x.get_iterator()"
   ]
  },
  {
   "cell_type": "code",
   "execution_count": 10,
   "metadata": {},
   "outputs": [],
   "source": [
    "import tensorflow as tf"
   ]
  },
  {
   "cell_type": "code",
   "execution_count": 11,
   "metadata": {},
   "outputs": [],
   "source": [
    "#model.set_huber_loss()"
   ]
  },
  {
   "cell_type": "code",
   "execution_count": 12,
   "metadata": {},
   "outputs": [
    {
     "name": "stdout",
     "output_type": "stream",
     "text": [
      "WARNING:tensorflow:From /home/ikilbas/anaconda3/lib/python3.7/site-packages/makiflow/layers/trainable_layers.py:652: The name tf.assign is deprecated. Please use tf.compat.v1.assign instead.\n",
      "\n",
      "WARNING:tensorflow:From /home/ikilbas/anaconda3/lib/python3.7/site-packages/makiflow/models/ssd/ssd_model.py:274: The name tf.placeholder is deprecated. Please use tf.compat.v1.placeholder instead.\n",
      "\n",
      "WARNING:tensorflow:From /home/ikilbas/anaconda3/lib/python3.7/site-packages/makiflow/models/ssd/ssd_model.py:299: add_dispatch_support.<locals>.wrapper (from tensorflow.python.ops.array_ops) is deprecated and will be removed in a future version.\n",
      "Instructions for updating:\n",
      "Use tf.where in 2.0, which has the same broadcast rule as np.where\n"
     ]
    }
   ],
   "source": [
    "model.set_generator(in_x)"
   ]
  },
  {
   "cell_type": "code",
   "execution_count": 13,
   "metadata": {},
   "outputs": [],
   "source": [
    "ses = tf.Session()"
   ]
  },
  {
   "cell_type": "markdown",
   "metadata": {},
   "source": [
    "Create a change of learning rate"
   ]
  },
  {
   "cell_type": "code",
   "execution_count": 15,
   "metadata": {},
   "outputs": [
    {
     "name": "stdout",
     "output_type": "stream",
     "text": [
      "WARNING:tensorflow:From /home/ikilbas/anaconda3/lib/python3.7/site-packages/tensorflow/python/util/tf_should_use.py:193: initialize_variables (from tensorflow.python.ops.variables) is deprecated and will be removed after 2017-03-02.\n",
      "Instructions for updating:\n",
      "Use `tf.variables_initializer` instead.\n"
     ]
    }
   ],
   "source": [
    "global_step = tf.Variable(0, trainable=False)\n",
    "\n",
    "one_epoch = int((len(records) * 320) / batch_size)\n",
    "\n",
    "def get_piecewise_constant_decay():\n",
    "    global global_step, one_epoch\n",
    "    boundaries = [one_epoch * 30]\n",
    "    boundaries += [boundaries[-1] + one_epoch * 15]\n",
    "    values = [1e-2, 1e-3, 1e-4]\n",
    "    return tf.compat.v1.train.piecewise_constant(global_step, boundaries,\n",
    "        values, name='supa_optimizer_lr')\n",
    "\n",
    "def get_exp_decay(lr):\n",
    "    global global_step, one_epoch\n",
    "    return tf.compat.v1.train.exponential_decay(lr,\n",
    "       global_step, one_epoch*2, 0.92, staircase=True, name='supa_optimizer_lr')\n",
    "\n",
    "def get_cosine_decay(lr, steps=1,t_mul=2.0,m_mul=1.0,alpha=1e-4):\n",
    "    global global_step, one_epoch\n",
    "    return tf.train.cosine_decay_restarts(learning_rate=lr,\n",
    "        global_step=global_step,\n",
    "        first_decay_steps=one_epoch*steps,\n",
    "        t_mul=t_mul,\n",
    "        m_mul=m_mul,\n",
    "        alpha=alpha,\n",
    "        name='supa_optimizer_lr')\n",
    "\n",
    "lr = get_piecewise_constant_decay()\n",
    "ses.run(tf.initialize_variables([global_step]))"
   ]
  },
  {
   "cell_type": "code",
   "execution_count": 16,
   "metadata": {},
   "outputs": [
    {
     "name": "stdout",
     "output_type": "stream",
     "text": [
      "WARNING:tensorflow:From /home/ikilbas/anaconda3/lib/python3.7/site-packages/makiflow/base/maki_entities.py:152: The name tf.variables_initializer is deprecated. Please use tf.compat.v1.variables_initializer instead.\n",
      "\n"
     ]
    }
   ],
   "source": [
    "model.set_session(ses)"
   ]
  },
  {
   "cell_type": "code",
   "execution_count": null,
   "metadata": {},
   "outputs": [],
   "source": [
    "reg"
   ]
  },
  {
   "cell_type": "markdown",
   "metadata": {},
   "source": [
    "Set up test data"
   ]
  },
  {
   "cell_type": "code",
   "execution_count": 26,
   "metadata": {},
   "outputs": [],
   "source": [
    "#from makiflow.models.ssd.tools import DataPreparator\n",
    "from makiflow.models.ssd.tools.data_preparator_v2 import DataPreparatorV2 as DataPreparator"
   ]
  },
  {
   "cell_type": "code",
   "execution_count": 27,
   "metadata": {},
   "outputs": [
    {
     "name": "stderr",
     "output_type": "stream",
     "text": [
      "  0%|          | 5/2125 [00:00<00:49, 43.09it/s]"
     ]
    },
    {
     "name": "stdout",
     "output_type": "stream",
     "text": [
      "Loading images, bboxes and labels...\n"
     ]
    },
    {
     "name": "stderr",
     "output_type": "stream",
     "text": [
      "100%|██████████| 2125/2125 [00:31<00:00, 66.74it/s]\n",
      "65it [00:00, 642.05it/s]"
     ]
    },
    {
     "name": "stdout",
     "output_type": "stream",
     "text": [
      "Images, bboxes and labels are loaded.\n"
     ]
    },
    {
     "name": "stderr",
     "output_type": "stream",
     "text": [
      "2125it [00:03, 650.29it/s]\n"
     ]
    }
   ],
   "source": [
    "with open('data/classes.json', 'r') as f:\n",
    "    name2class = json.load(f)\n",
    "\n",
    "with open('data/test_valset_2012.json', 'r') as f:\n",
    "    d = json.load(f)\n",
    "\n",
    "preparator = DataPreparator(d, name2class, '/mnt/data/voc2012/VOCdevkit/VOC2012/JPEGImages/')\n",
    "preparator.load_images()\n",
    "preparator.resize_images_and_bboxes((300, 300))\n",
    "imgs = preparator.get_images()\n",
    "\n",
    "images = ((np.asarray(new_images) / 128) - 1).astype(np.float32)\n",
    "\n",
    "true_boxes, true_labels = preparator.get_true_boxes_labels()"
   ]
  },
  {
   "cell_type": "code",
   "execution_count": 30,
   "metadata": {},
   "outputs": [
    {
     "data": {
      "text/plain": [
       "2825"
      ]
     },
     "execution_count": 30,
     "metadata": {},
     "output_type": "execute_result"
    }
   ],
   "source": [
    "len(imgs)"
   ]
  },
  {
   "cell_type": "code",
   "execution_count": 31,
   "metadata": {},
   "outputs": [],
   "source": [
    "\n",
    "def performe_test(model, name):\n",
    "    preds = []\n",
    "    for i in range(len(imgs) // batch_size):\n",
    "        # preds = [confidences, locs]\n",
    "        # `confidences` shape is [batch_sz, total_predictions, num_classes]\n",
    "        # `locs` shape is [batch_sz, total_predictions, 4]\n",
    "        preds += [model.predict(imgs[i*batch_size:(i+1)*batch_size])]\n",
    "    \n",
    "    p, r, ap, f1, unique_classes = mAP_maki_supported(preds, iou_threshold=0.5, conf_threshold=0.5, gboxes=true_boxes,glabels=true_labels)\n",
    "    print('mAP is ',ap.mean())\n",
    "    ap = np.round(ap,2)\n",
    "    class2name = dict([(value,key) for key,value in name2class.items()])\n",
    "    for i in range(len(ap)):\n",
    "        print(class2name[i+1],'  ', ap[i])\n",
    "    global_ap[name].append(ap.mean())\n",
    "\n",
    "global_ap = {\n",
    "    'focal': [],\n",
    "    'maki': [],\n",
    "    'scan': [],\n",
    "    'topk': [],\n",
    "    'quadratic': []\n",
    "}"
   ]
  },
  {
   "cell_type": "code",
   "execution_count": 32,
   "metadata": {},
   "outputs": [],
   "source": [
    "loss_info_top_k = {\n",
    "    'positive losses': [],\n",
    "    'negative losses': [],\n",
    "    'total losses': [],\n",
    "    'loc losses': []\n",
    "}\n",
    "\n",
    "loss_info_maki = {\n",
    "    'Total loss':[],\n",
    "    'Maki Loss':[],\n",
    "    'Loc loss':[],\n",
    "}\n",
    "\n",
    "loss_info_focal = {\n",
    "    'total loss':[],\n",
    "    'focal loss':[],\n",
    "    'loc loss':[],\n",
    "}\n",
    "\n",
    "loss_info_square = {\n",
    "    'Total loss':[],\n",
    "    'Maki Loss':[],\n",
    "    'Loc loss':[],\n",
    "}"
   ]
  },
  {
   "cell_type": "code",
   "execution_count": 34,
   "metadata": {},
   "outputs": [],
   "source": [
    "epochs = 100\n",
    "iterations = 925\n",
    "loc_loss_w = 1.0 # 1.5\n",
    "neg_ratio = 3.0 # 3.0\n",
    "gamma = 2\n",
    "# 8e-4\n",
    "#opt = tf.train.AdamOptimizer(learning_rate=lr)\n",
    "opt = tf.train.MomentumOptimizer(lr,momentum=0.9,use_nesterov=True)\n",
    "#opt = tf.train.RMSPropOptimizer(learning_rate=lr, momentum=0.9, decay=0.999)"
   ]
  },
  {
   "cell_type": "code",
   "execution_count": null,
   "metadata": {},
   "outputs": [],
   "source": [
    "# MAKI"
   ]
  },
  {
   "cell_type": "code",
   "execution_count": null,
   "metadata": {
    "scrolled": true
   },
   "outputs": [],
   "source": [
    "for i in range(epochs):\n",
    "    info = model.genfit_maki(optimizer=opt, loc_loss_weight=loc_loss_w, gamma=gamma,\n",
    "                                  epochs=1, iterations=iterations, global_step=global_step)\n",
    "    performe_test(model, 'maki')\n",
    "    loss_info_maki['Total loss'].append(info['Total loss'][0])\n",
    "    loss_info_maki['Maki Loss'].append(info['Maki Loss'][0])\n",
    "    loss_info_maki['Loc loss'].append(info['Loc loss'][0])\n",
    "    print('epoch is ', i)\n",
    "    if i != 0 and i % 4000 == 0:\n",
    "        model.save_weights(f'maki_{i}_zaet.ckpt')\n",
    "        \n",
    "#model.save_weights('top_k_map36.ckpt')\n",
    "#reset()"
   ]
  },
  {
   "cell_type": "code",
   "execution_count": null,
   "metadata": {},
   "outputs": [],
   "source": [
    "# FOCAL"
   ]
  },
  {
   "cell_type": "code",
   "execution_count": null,
   "metadata": {
    "scrolled": true
   },
   "outputs": [],
   "source": [
    "for i in range(epochs):\n",
    "    info = model.genfit_focal(optimizer=opt, loc_loss_weight=loc_loss_w, gamma=gamma,\n",
    "                                  epochs=1, iterations=iterations, global_step=global_step)\n",
    "    performe_test(model, 'focal')\n",
    "    loss_info_focal['total loss'].append(info['total loss'][0])\n",
    "    loss_info_focal['focal loss'].append(info['focal loss'][0])\n",
    "    loss_info_focal['loc loss'].append(info['loc loss'][0])\n",
    "    print('epoch is ', i)\n",
    "    if i != 0 and i % 4000 == 0:\n",
    "        model.save_weights(f'focal_{i}_zaet.ckpt')\n",
    "        \n",
    "#model.save_weights('top_k_map36.ckpt')\n",
    "#reset()"
   ]
  },
  {
   "cell_type": "code",
   "execution_count": null,
   "metadata": {},
   "outputs": [],
   "source": [
    "# SQUEARE"
   ]
  },
  {
   "cell_type": "code",
   "execution_count": null,
   "metadata": {
    "scrolled": true
   },
   "outputs": [],
   "source": [
    "for i in range(epochs):\n",
    "    info = model.genfit_quadratic_ce(optimizer=opt, loc_loss_weight=loc_loss_w,\n",
    "                                  epochs=1, iterations=iterations, global_step=global_step)\n",
    "    performe_test(model, 'quadratic')\n",
    "    loss_info_square['Total loss'].append(info['Total loss'][0])\n",
    "    loss_info_square['Maki Loss'].append(info['Maki Loss'][0])\n",
    "    loss_info_square['Loc loss'].append(info['Loc loss'][0])\n",
    "    print('epoch is ', i)\n",
    "    if i != 0 and i % 4000 == 0:\n",
    "        model.save_weights(f'square_{i}_zaet.ckpt')\n",
    "        \n",
    "#model.save_weights('top_k_map36.ckpt')\n",
    "#reset()"
   ]
  },
  {
   "cell_type": "code",
   "execution_count": null,
   "metadata": {},
   "outputs": [],
   "source": [
    "# TOP K"
   ]
  },
  {
   "cell_type": "code",
   "execution_count": null,
   "metadata": {
    "scrolled": true
   },
   "outputs": [
    {
     "name": "stderr",
     "output_type": "stream",
     "text": [
      "100%|██████████| 925/925 [04:00<00:00,  2.17it/s]\n"
     ]
    },
    {
     "name": "stdout",
     "output_type": "stream",
     "text": [
      "Epoch: 0 Loc loss: 0.12096264771462877 Positive loss 2.0305578430831392 Negative loss 0.6629310876509676 Total loss 3.2083492829056275\n"
     ]
    },
    {
     "name": "stderr",
     "output_type": "stream",
     "text": [
      "Computing AP: 100%|██████████| 20/20 [00:00<00:00, 2502.19it/s]\n",
      "  0%|          | 0/925 [00:00<?, ?it/s]"
     ]
    },
    {
     "name": "stdout",
     "output_type": "stream",
     "text": [
      "mAP is  0.09870135665725324\n",
      "aeroplane    0.3\n",
      "bottle    0.0\n",
      "motorbike    0.23\n",
      "train    0.24\n",
      "sheep    0.0\n",
      "person    0.16\n",
      "bicycle    0.08\n",
      "boat    0.0\n",
      "pottedplant    0.0\n",
      "diningtable    0.1\n",
      "bird    0.09\n",
      "horse    0.05\n",
      "chair    0.0\n",
      "car    0.09\n",
      "sofa    0.04\n",
      "tvmonitor    0.0\n",
      "cow    0.0\n",
      "bus    0.19\n",
      "cat    0.24\n",
      "dog    0.17\n",
      "epoch is  0\n"
     ]
    },
    {
     "name": "stderr",
     "output_type": "stream",
     "text": [
      "100%|██████████| 925/925 [03:55<00:00,  4.28it/s]\n"
     ]
    },
    {
     "name": "stdout",
     "output_type": "stream",
     "text": [
      "Epoch: 0 Loc loss: 0.10053780982332246 Positive loss 1.7252421258030213 Negative loss 0.6352794929898824 Total loss 2.8503617214503083\n"
     ]
    },
    {
     "name": "stderr",
     "output_type": "stream",
     "text": [
      "Computing AP: 100%|██████████| 20/20 [00:00<00:00, 1974.25it/s]\n",
      "  0%|          | 0/925 [00:00<?, ?it/s]"
     ]
    },
    {
     "name": "stdout",
     "output_type": "stream",
     "text": [
      "mAP is  0.14634965521726628\n",
      "aeroplane    0.3\n",
      "bottle    0.0\n",
      "motorbike    0.28\n",
      "train    0.32\n",
      "sheep    0.01\n",
      "person    0.21\n",
      "bicycle    0.14\n",
      "boat    0.01\n",
      "pottedplant    0.02\n",
      "diningtable    0.18\n",
      "bird    0.13\n",
      "horse    0.21\n",
      "chair    0.01\n",
      "car    0.11\n",
      "sofa    0.13\n",
      "tvmonitor    0.0\n",
      "cow    0.03\n",
      "bus    0.25\n",
      "cat    0.34\n",
      "dog    0.24\n",
      "epoch is  1\n"
     ]
    },
    {
     "name": "stderr",
     "output_type": "stream",
     "text": [
      "100%|██████████| 925/925 [03:42<00:00,  4.30it/s]\n"
     ]
    },
    {
     "name": "stdout",
     "output_type": "stream",
     "text": [
      "Epoch: 0 Loc loss: 0.08577059542041814 Positive loss 1.5955279250783345 Negative loss 0.6119629656999165 Total loss 2.6779726038061744\n"
     ]
    },
    {
     "name": "stderr",
     "output_type": "stream",
     "text": [
      "Computing AP: 100%|██████████| 20/20 [00:00<00:00, 1957.90it/s]\n",
      "  0%|          | 0/925 [00:00<?, ?it/s]"
     ]
    },
    {
     "name": "stdout",
     "output_type": "stream",
     "text": [
      "mAP is  0.18418382591633023\n",
      "aeroplane    0.37\n",
      "bottle    0.0\n",
      "motorbike    0.3\n",
      "train    0.42\n",
      "sheep    0.02\n",
      "person    0.24\n",
      "bicycle    0.15\n",
      "boat    0.04\n",
      "pottedplant    0.03\n",
      "diningtable    0.2\n",
      "bird    0.13\n",
      "horse    0.28\n",
      "chair    0.02\n",
      "car    0.14\n",
      "sofa    0.17\n",
      "tvmonitor    0.06\n",
      "cow    0.05\n",
      "bus    0.35\n",
      "cat    0.4\n",
      "dog    0.32\n",
      "epoch is  2\n"
     ]
    },
    {
     "name": "stderr",
     "output_type": "stream",
     "text": [
      "100%|██████████| 925/925 [03:39<00:00,  4.30it/s]\n"
     ]
    },
    {
     "name": "stdout",
     "output_type": "stream",
     "text": [
      "Epoch: 0 Loc loss: 0.07984665537147638 Positive loss 1.542563886270624 Negative loss 0.6041596336317167 Total loss 2.606983590920881\n"
     ]
    },
    {
     "name": "stderr",
     "output_type": "stream",
     "text": [
      "Computing AP: 100%|██████████| 20/20 [00:00<00:00, 1842.56it/s]\n",
      "  0%|          | 0/925 [00:00<?, ?it/s]"
     ]
    },
    {
     "name": "stdout",
     "output_type": "stream",
     "text": [
      "mAP is  0.21100652979533335\n",
      "aeroplane    0.39\n",
      "bottle    0.01\n",
      "motorbike    0.29\n",
      "train    0.47\n",
      "sheep    0.1\n",
      "person    0.24\n",
      "bicycle    0.18\n",
      "boat    0.07\n",
      "pottedplant    0.04\n",
      "diningtable    0.22\n",
      "bird    0.16\n",
      "horse    0.27\n",
      "chair    0.03\n",
      "car    0.15\n",
      "sofa    0.22\n",
      "tvmonitor    0.09\n",
      "cow    0.13\n",
      "bus    0.39\n",
      "cat    0.42\n",
      "dog    0.34\n",
      "epoch is  3\n"
     ]
    },
    {
     "name": "stderr",
     "output_type": "stream",
     "text": [
      "100%|██████████| 925/925 [03:39<00:00,  4.29it/s]\n"
     ]
    },
    {
     "name": "stdout",
     "output_type": "stream",
     "text": [
      "Epoch: 0 Loc loss: 0.07480083622158955 Positive loss 1.4979420505786052 Negative loss 0.5902609587873773 Total loss 2.5389719029330076\n"
     ]
    },
    {
     "name": "stderr",
     "output_type": "stream",
     "text": [
      "Computing AP: 100%|██████████| 20/20 [00:00<00:00, 1956.53it/s]\n",
      "  0%|          | 0/925 [00:00<?, ?it/s]"
     ]
    },
    {
     "name": "stdout",
     "output_type": "stream",
     "text": [
      "mAP is  0.21822571160624796\n",
      "aeroplane    0.39\n",
      "bottle    0.02\n",
      "motorbike    0.35\n",
      "train    0.48\n",
      "sheep    0.09\n",
      "person    0.26\n",
      "bicycle    0.2\n",
      "boat    0.08\n",
      "pottedplant    0.04\n",
      "diningtable    0.22\n",
      "bird    0.17\n",
      "horse    0.28\n",
      "chair    0.04\n",
      "car    0.17\n",
      "sofa    0.22\n",
      "tvmonitor    0.1\n",
      "cow    0.12\n",
      "bus    0.37\n",
      "cat    0.42\n",
      "dog    0.34\n",
      "epoch is  4\n"
     ]
    },
    {
     "name": "stderr",
     "output_type": "stream",
     "text": [
      "100%|██████████| 925/925 [03:36<00:00,  4.29it/s]\n"
     ]
    },
    {
     "name": "stdout",
     "output_type": "stream",
     "text": [
      "Epoch: 0 Loc loss: 0.07194514892173315 Positive loss 1.4787871015944178 Negative loss 0.5899338815990898 Total loss 2.5125464873517274\n"
     ]
    },
    {
     "name": "stderr",
     "output_type": "stream",
     "text": [
      "Computing AP: 100%|██████████| 20/20 [00:00<00:00, 1903.39it/s]\n",
      "  0%|          | 0/925 [00:00<?, ?it/s]"
     ]
    },
    {
     "name": "stdout",
     "output_type": "stream",
     "text": [
      "mAP is  0.22334238527344463\n",
      "aeroplane    0.4\n",
      "bottle    0.02\n",
      "motorbike    0.38\n",
      "train    0.49\n",
      "sheep    0.1\n",
      "person    0.27\n",
      "bicycle    0.21\n",
      "boat    0.06\n",
      "pottedplant    0.04\n",
      "diningtable    0.24\n",
      "bird    0.17\n",
      "horse    0.25\n",
      "chair    0.05\n",
      "car    0.18\n",
      "sofa    0.2\n",
      "tvmonitor    0.09\n",
      "cow    0.14\n",
      "bus    0.4\n",
      "cat    0.46\n",
      "dog    0.32\n",
      "epoch is  5\n"
     ]
    },
    {
     "name": "stderr",
     "output_type": "stream",
     "text": [
      "100%|██████████| 925/925 [03:40<00:00,  4.29it/s]\n"
     ]
    },
    {
     "name": "stdout",
     "output_type": "stream",
     "text": [
      "Epoch: 0 Loc loss: 0.06350077686106108 Positive loss 1.3170587832422778 Negative loss 0.567201914708029 Total loss 2.315599133360728\n"
     ]
    },
    {
     "name": "stderr",
     "output_type": "stream",
     "text": [
      "Computing AP: 100%|██████████| 20/20 [00:00<00:00, 1951.43it/s]\n",
      "  0%|          | 0/925 [00:00<?, ?it/s]"
     ]
    },
    {
     "name": "stdout",
     "output_type": "stream",
     "text": [
      "mAP is  0.24931176834711594\n",
      "aeroplane    0.46\n",
      "bottle    0.04\n",
      "motorbike    0.42\n",
      "train    0.51\n",
      "sheep    0.12\n",
      "person    0.28\n",
      "bicycle    0.24\n",
      "boat    0.07\n",
      "pottedplant    0.05\n",
      "diningtable    0.26\n",
      "bird    0.21\n",
      "horse    0.34\n",
      "chair    0.04\n",
      "car    0.19\n",
      "sofa    0.23\n",
      "tvmonitor    0.11\n",
      "cow    0.15\n",
      "bus    0.41\n",
      "cat    0.49\n",
      "dog    0.38\n",
      "epoch is  6\n"
     ]
    },
    {
     "name": "stderr",
     "output_type": "stream",
     "text": [
      "100%|██████████| 925/925 [03:35<00:00,  4.30it/s]\n"
     ]
    },
    {
     "name": "stdout",
     "output_type": "stream",
     "text": [
      "Epoch: 0 Loc loss: 0.0635659978204766 Positive loss 1.3765451978412304 Negative loss 0.5755174124967034 Total loss 2.379573655078732\n"
     ]
    },
    {
     "name": "stderr",
     "output_type": "stream",
     "text": [
      "Computing AP: 100%|██████████| 20/20 [00:00<00:00, 1888.99it/s]\n",
      "  0%|          | 0/925 [00:00<?, ?it/s]"
     ]
    },
    {
     "name": "stdout",
     "output_type": "stream",
     "text": [
      "mAP is  0.2428219997918116\n",
      "aeroplane    0.45\n",
      "bottle    0.03\n",
      "motorbike    0.43\n",
      "train    0.53\n",
      "sheep    0.11\n",
      "person    0.27\n",
      "bicycle    0.23\n",
      "boat    0.07\n",
      "pottedplant    0.05\n",
      "diningtable    0.26\n",
      "bird    0.17\n",
      "horse    0.34\n",
      "chair    0.04\n",
      "car    0.21\n",
      "sofa    0.23\n",
      "tvmonitor    0.09\n",
      "cow    0.15\n",
      "bus    0.44\n",
      "cat    0.44\n",
      "dog    0.32\n",
      "epoch is  7\n"
     ]
    },
    {
     "name": "stderr",
     "output_type": "stream",
     "text": [
      "100%|██████████| 925/925 [03:38<00:00,  4.31it/s]\n"
     ]
    },
    {
     "name": "stdout",
     "output_type": "stream",
     "text": [
      "Epoch: 0 Loc loss: 0.060776752981989035 Positive loss 1.291113924988017 Negative loss 0.5723724151212604 Total loss 2.28455845313013\n"
     ]
    },
    {
     "name": "stderr",
     "output_type": "stream",
     "text": [
      "Computing AP: 100%|██████████| 20/20 [00:00<00:00, 2098.62it/s]\n",
      "  0%|          | 0/925 [00:00<?, ?it/s]"
     ]
    },
    {
     "name": "stdout",
     "output_type": "stream",
     "text": [
      "mAP is  0.2573374375358357\n",
      "aeroplane    0.44\n",
      "bottle    0.05\n",
      "motorbike    0.44\n",
      "train    0.52\n",
      "sheep    0.09\n",
      "person    0.29\n",
      "bicycle    0.25\n",
      "boat    0.07\n",
      "pottedplant    0.06\n",
      "diningtable    0.29\n",
      "bird    0.22\n",
      "horse    0.34\n",
      "chair    0.04\n",
      "car    0.22\n",
      "sofa    0.21\n",
      "tvmonitor    0.11\n",
      "cow    0.15\n",
      "bus    0.48\n",
      "cat    0.51\n",
      "dog    0.37\n",
      "epoch is  8\n"
     ]
    },
    {
     "name": "stderr",
     "output_type": "stream",
     "text": [
      "100%|██████████| 925/925 [03:41<00:00,  4.28it/s]\n"
     ]
    },
    {
     "name": "stdout",
     "output_type": "stream",
     "text": [
      "Epoch: 0 Loc loss: 0.05934709631400935 Positive loss 1.2928101139178905 Negative loss 0.5621396633037549 Total loss 2.2712343821449426\n"
     ]
    },
    {
     "name": "stderr",
     "output_type": "stream",
     "text": [
      "Computing AP: 100%|██████████| 20/20 [00:00<00:00, 2035.63it/s]\n",
      "  0%|          | 0/925 [00:00<?, ?it/s]"
     ]
    },
    {
     "name": "stdout",
     "output_type": "stream",
     "text": [
      "mAP is  0.2679279535054537\n",
      "aeroplane    0.45\n",
      "bottle    0.05\n",
      "motorbike    0.43\n",
      "train    0.54\n",
      "sheep    0.12\n",
      "person    0.3\n",
      "bicycle    0.26\n",
      "boat    0.08\n",
      "pottedplant    0.06\n",
      "diningtable    0.26\n",
      "bird    0.24\n",
      "horse    0.38\n",
      "chair    0.05\n",
      "car    0.22\n",
      "sofa    0.22\n",
      "tvmonitor    0.12\n",
      "cow    0.15\n",
      "bus    0.47\n",
      "cat    0.56\n",
      "dog    0.4\n",
      "epoch is  9\n"
     ]
    },
    {
     "name": "stderr",
     "output_type": "stream",
     "text": [
      "100%|██████████| 925/925 [03:38<00:00,  4.30it/s]\n"
     ]
    },
    {
     "name": "stdout",
     "output_type": "stream",
     "text": [
      "Epoch: 0 Loc loss: 0.057583210264351654 Positive loss 1.305419974332025 Negative loss 0.5642002802799432 Total loss 2.2808375726878016\n"
     ]
    },
    {
     "name": "stderr",
     "output_type": "stream",
     "text": [
      "Computing AP: 100%|██████████| 20/20 [00:00<00:00, 1838.92it/s]\n",
      "  0%|          | 0/925 [00:00<?, ?it/s]"
     ]
    },
    {
     "name": "stdout",
     "output_type": "stream",
     "text": [
      "mAP is  0.2731607073298972\n",
      "aeroplane    0.46\n",
      "bottle    0.05\n",
      "motorbike    0.43\n",
      "train    0.55\n",
      "sheep    0.09\n",
      "person    0.3\n",
      "bicycle    0.26\n",
      "boat    0.11\n",
      "pottedplant    0.06\n",
      "diningtable    0.26\n",
      "bird    0.23\n",
      "horse    0.42\n",
      "chair    0.05\n",
      "car    0.2\n",
      "sofa    0.29\n",
      "tvmonitor    0.13\n",
      "cow    0.18\n",
      "bus    0.47\n",
      "cat    0.55\n",
      "dog    0.38\n",
      "epoch is  10\n"
     ]
    },
    {
     "name": "stderr",
     "output_type": "stream",
     "text": [
      "100%|██████████| 925/925 [03:36<00:00,  4.30it/s]\n"
     ]
    },
    {
     "name": "stdout",
     "output_type": "stream",
     "text": [
      "Epoch: 0 Loc loss: 0.054717827248269166 Positive loss 1.2157851538094098 Negative loss 0.5485329566499209 Total loss 2.1696087225474927\n"
     ]
    },
    {
     "name": "stderr",
     "output_type": "stream",
     "text": [
      "Computing AP: 100%|██████████| 20/20 [00:00<00:00, 2013.35it/s]\n",
      "  0%|          | 0/925 [00:00<?, ?it/s]"
     ]
    },
    {
     "name": "stdout",
     "output_type": "stream",
     "text": [
      "mAP is  0.2786731591741659\n",
      "aeroplane    0.47\n",
      "bottle    0.05\n",
      "motorbike    0.45\n",
      "train    0.56\n",
      "sheep    0.12\n",
      "person    0.3\n",
      "bicycle    0.25\n",
      "boat    0.11\n",
      "pottedplant    0.08\n",
      "diningtable    0.31\n",
      "bird    0.24\n",
      "horse    0.39\n",
      "chair    0.06\n",
      "car    0.21\n",
      "sofa    0.26\n",
      "tvmonitor    0.12\n",
      "cow    0.18\n",
      "bus    0.48\n",
      "cat    0.55\n",
      "dog    0.41\n",
      "epoch is  11\n"
     ]
    },
    {
     "name": "stderr",
     "output_type": "stream",
     "text": [
      "100%|██████████| 925/925 [03:36<00:00,  4.31it/s]\n"
     ]
    },
    {
     "name": "stdout",
     "output_type": "stream",
     "text": [
      "Epoch: 0 Loc loss: 0.05640809891794232 Positive loss 1.2751207815943049 Negative loss 0.5663046949230988 Total loss 2.245397262385892\n"
     ]
    },
    {
     "name": "stderr",
     "output_type": "stream",
     "text": [
      "Computing AP: 100%|██████████| 20/20 [00:00<00:00, 1905.25it/s]\n",
      "  0%|          | 0/925 [00:00<?, ?it/s]"
     ]
    },
    {
     "name": "stdout",
     "output_type": "stream",
     "text": [
      "mAP is  0.2827867186150176\n",
      "aeroplane    0.48\n",
      "bottle    0.05\n",
      "motorbike    0.45\n",
      "train    0.53\n",
      "sheep    0.1\n",
      "person    0.31\n",
      "bicycle    0.3\n",
      "boat    0.1\n",
      "pottedplant    0.08\n",
      "diningtable    0.3\n",
      "bird    0.26\n",
      "horse    0.37\n",
      "chair    0.05\n",
      "car    0.23\n",
      "sofa    0.29\n",
      "tvmonitor    0.15\n",
      "cow    0.18\n",
      "bus    0.47\n",
      "cat    0.55\n",
      "dog    0.42\n",
      "epoch is  12\n"
     ]
    },
    {
     "name": "stderr",
     "output_type": "stream",
     "text": [
      " 46%|████▌     | 423/925 [01:38<01:56,  4.29it/s]"
     ]
    }
   ],
   "source": [
    "for i in range(epochs):\n",
    "    info = model.genfit_top_k(optimizer=opt, loc_loss_weight=loc_loss_w, neg_samples_ratio=neg_ratio,\n",
    "                              epochs=1, iterations=iterations, global_step=global_step)\n",
    "    performe_test(model, 'topk')\n",
    "    loss_info_top_k['positive losses'].append(info['positive losses'][0])\n",
    "    loss_info_top_k['negative losses'].append(info['negative losses'][0])\n",
    "    loss_info_top_k['total losses'].append(info['total losses'][0])\n",
    "    loss_info_top_k['loc losses'].append(info['loc losses'][0])\n",
    "    print('epoch is ', i)\n",
    "    if i != 0 and i % 4000 == 0:\n",
    "        model.save_weights(f'top_k_{i}_zaet.ckpt')\n",
    "    #if i != 0 and i % 10 == 0:\n",
    "    #    loc_loss_w *= 0.92\n",
    "    #if i != 0 and i % 10 == 0:\n",
    "    #    neg_ratio *= 0.96\n",
    "        \n",
    "#model.save_weights('top_k_map36.ckpt')\n",
    "#reset()"
   ]
  },
  {
   "cell_type": "code",
   "execution_count": null,
   "metadata": {},
   "outputs": [],
   "source": [
    "2"
   ]
  },
  {
   "cell_type": "code",
   "execution_count": null,
   "metadata": {},
   "outputs": [],
   "source": [
    "import matplotlib.pyplot as plt"
   ]
  },
  {
   "cell_type": "code",
   "execution_count": null,
   "metadata": {},
   "outputs": [],
   "source": [
    "plt.plot(global_ap['focal'])\n",
    "plt.show()"
   ]
  },
  {
   "cell_type": "code",
   "execution_count": null,
   "metadata": {},
   "outputs": [],
   "source": [
    "plt.plot(loss_info_top_k['positive losses'])\n",
    "plt.show()"
   ]
  },
  {
   "cell_type": "code",
   "execution_count": null,
   "metadata": {},
   "outputs": [],
   "source": [
    "plt.plot(loss_info_top_k['negative losses'])\n",
    "plt.show()"
   ]
  },
  {
   "cell_type": "code",
   "execution_count": null,
   "metadata": {},
   "outputs": [],
   "source": [
    "plt.plot(loss_info_top_k['total losses'])\n",
    "plt.show()"
   ]
  },
  {
   "cell_type": "code",
   "execution_count": null,
   "metadata": {},
   "outputs": [],
   "source": [
    "plt.plot(loss_info_top_k['loc losses'])\n",
    "plt.show()"
   ]
  },
  {
   "cell_type": "code",
   "execution_count": null,
   "metadata": {},
   "outputs": [],
   "source": []
  },
  {
   "cell_type": "code",
   "execution_count": null,
   "metadata": {},
   "outputs": [],
   "source": []
  },
  {
   "cell_type": "code",
   "execution_count": null,
   "metadata": {},
   "outputs": [],
   "source": []
  },
  {
   "cell_type": "code",
   "execution_count": null,
   "metadata": {},
   "outputs": [],
   "source": []
  },
  {
   "cell_type": "code",
   "execution_count": null,
   "metadata": {},
   "outputs": [],
   "source": []
  },
  {
   "cell_type": "code",
   "execution_count": null,
   "metadata": {},
   "outputs": [],
   "source": [
    "import matplotlib.pyplot as plt"
   ]
  },
  {
   "cell_type": "code",
   "execution_count": null,
   "metadata": {},
   "outputs": [],
   "source": [
    "plt.plot(global_ap['focal'])"
   ]
  },
  {
   "cell_type": "code",
   "execution_count": null,
   "metadata": {},
   "outputs": [],
   "source": [
    "plt.plot(global_ap['maki'])"
   ]
  },
  {
   "cell_type": "code",
   "execution_count": null,
   "metadata": {},
   "outputs": [],
   "source": [
    "plt.plot(global_ap['topk'])"
   ]
  },
  {
   "cell_type": "code",
   "execution_count": null,
   "metadata": {},
   "outputs": [],
   "source": [
    "plt.plot(global_ap['scan'])"
   ]
  },
  {
   "cell_type": "code",
   "execution_count": null,
   "metadata": {},
   "outputs": [],
   "source": [
    "plt.plot(global_ap['quadratic'])"
   ]
  },
  {
   "cell_type": "code",
   "execution_count": null,
   "metadata": {},
   "outputs": [],
   "source": [
    "import cv2\n",
    "import matplotlib.pyplot as plt"
   ]
  },
  {
   "cell_type": "code",
   "execution_count": null,
   "metadata": {},
   "outputs": [],
   "source": [
    "from makiflow.models.ssd.ssd_utils import nms, draw_bounding_boxes\n",
    "import matplotlib.pyplot as plt\n",
    "def test_picture(images, conf_trashhold=0.6):\n",
    "    global model\n",
    "    global num2name\n",
    "\n",
    "    classes, locs = model.predict(images)\n",
    "    i = 0\n",
    "    for class_pred, loc_pred, image in zip(classes, locs, images):\n",
    "        pred = nms(loc_pred, class_pred, conf_trashhold=conf_trashhold, iou_trashhold=0.5)\n",
    "        print(pred,' number is ',i)\n",
    "        input_dict = {\n",
    "          'bboxes': pred[0],\n",
    "          'classes': [num2name[cl] for cl in pred[1]]\n",
    "        }\n",
    "        image_with_bb = draw_bounding_boxes(image, input_dict)\n",
    "        fig = plt.figure()\n",
    "        fig.set_size_inches(16, 9)\n",
    "\n",
    "        axes = fig.add_axes([0.1, 0.1, 0.8, 0.8])\n",
    "        axes.imshow(image_with_bb)\n",
    "        fig.savefig('results/'  +f'{i}.jpg')\n",
    "        i += 1\n",
    "        plt.close('all')"
   ]
  },
  {
   "cell_type": "code",
   "execution_count": null,
   "metadata": {},
   "outputs": [],
   "source": [
    "import cv2 \n",
    "import os\n",
    "import numpy as np\n",
    "arrs = []\n",
    "\n",
    "path = '/mnt/data/voc2012/VOCdevkit/VOC2012/JPEGImages/'\n",
    "img = None\n",
    "taken = None\n",
    "for elem in d['test_data']:\n",
    "        path_image = path + elem['filename']\n",
    "        testPic = cv2.imread(path_image)#NAME\n",
    "        testPic = cv2.resize(testPic,(300,300))\n",
    "        #testPic = cv2.cvtColor(testPic, cv2.COLOR_BGR2RGB)\n",
    "        cal = (np.array(testPic) / 255).astype(np.float32)\n",
    "        arrs.append(cal)\n",
    "        img = testPic\n",
    "        taken = elem\n",
    "        break"
   ]
  },
  {
   "cell_type": "code",
   "execution_count": null,
   "metadata": {},
   "outputs": [],
   "source": [
    "len(arrs)"
   ]
  },
  {
   "cell_type": "code",
   "execution_count": null,
   "metadata": {},
   "outputs": [],
   "source": [
    "import matplotlib.pyplot as plt\n",
    "plt.imshow(img)"
   ]
  },
  {
   "cell_type": "code",
   "execution_count": null,
   "metadata": {},
   "outputs": [],
   "source": [
    "taken"
   ]
  },
  {
   "cell_type": "code",
   "execution_count": null,
   "metadata": {},
   "outputs": [],
   "source": []
  },
  {
   "cell_type": "code",
   "execution_count": null,
   "metadata": {},
   "outputs": [],
   "source": []
  },
  {
   "cell_type": "code",
   "execution_count": null,
   "metadata": {},
   "outputs": [],
   "source": [
    "test_picture(arrs[:32], conf_trashhold=0.6)"
   ]
  },
  {
   "cell_type": "code",
   "execution_count": null,
   "metadata": {},
   "outputs": [],
   "source": [
    "num2name = dict([(value, name) for name, value in class2name.items()])"
   ]
  },
  {
   "cell_type": "code",
   "execution_count": null,
   "metadata": {},
   "outputs": [],
   "source": [
    "num2name"
   ]
  },
  {
   "cell_type": "code",
   "execution_count": null,
   "metadata": {},
   "outputs": [],
   "source": []
  }
 ],
 "metadata": {
  "kernelspec": {
   "display_name": "Python 3",
   "language": "python",
   "name": "python3"
  },
  "language_info": {
   "codemirror_mode": {
    "name": "ipython",
    "version": 3
   },
   "file_extension": ".py",
   "mimetype": "text/x-python",
   "name": "python",
   "nbconvert_exporter": "python",
   "pygments_lexer": "ipython3",
   "version": "3.6.9"
  }
 },
 "nbformat": 4,
 "nbformat_minor": 2
}
