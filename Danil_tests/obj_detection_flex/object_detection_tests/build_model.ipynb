{
 "cells": [
  {
   "cell_type": "code",
   "execution_count": 1,
   "metadata": {},
   "outputs": [],
   "source": [
    "from makiflow.tools.xml_parser import XmlParser\n",
    "from makiflow.layers import *\n",
    "from makiflow.models import SSDModel, DetectorClassifier\n",
    "from makiflow.models.ssd.ssd_model import OffsetRegression\n",
    "import tensorflow as tf\n",
    "import makiflow as mf\n",
    "from makiflow.save_recover import Builder\n",
    "mf.set_main_gpu(0)"
   ]
  },
  {
   "cell_type": "code",
   "execution_count": null,
   "metadata": {},
   "outputs": [],
   "source": [
    "num2name = [0 for i in range(20)]"
   ]
  },
  {
   "cell_type": "code",
   "execution_count": null,
   "metadata": {},
   "outputs": [],
   "source": [
    "decay_ssd = 0.9\n",
    "decay_back = 0.997\n",
    "eps = 1e-4\n",
    "detector_bias=False\n",
    "activation = tf.nn.relu6\n",
    "boxes_old = [\n",
    "                (1, 1), (1, 2), (2, 1),\n",
    "                (1.26, 1.26), (1.26, 2.52), (2.52, 1.26),\n",
    "                (1.59, 1.59), (1.59, 3.17), (3.17, 1.59)\n",
    "            ]\n",
    "\n",
    "boxes = [\n",
    "                (1.0, 1.0), (1.0, 2.0), (2.0, 1.0),\n",
    "                (1.41, 1.41), (2.83, 1.41), (1.41, 2.83)\n",
    "            ]\n",
    "\n",
    "def identity_block(x,in_f,stage_id,unit_id,num_block):                  \n",
    "    prefix = 'stage' + str(stage_id) + '_unit' + str(unit_id) + '_'\n",
    "\n",
    "    mx = BatchNormLayer(D=in_f,name=prefix + 'bn1')(x)\n",
    "                                        \n",
    "    mx = ActivationLayer(name=prefix + 'activation_1')(mx)\n",
    "\n",
    "    mx = ZeroPaddingLayer(padding=[[1,1],[1,1]], name=prefix + 'zero_pad_1')(mx)\n",
    "\n",
    "    mx = ConvLayer(kw=3,kh=3,in_f=in_f,out_f=in_f,activation=None,\n",
    "                                    padding='VALID',use_bias=False,name=prefix + 'conv1')(mx)\n",
    "                                                                                    \n",
    "    mx = BatchNormLayer(D=in_f,name=prefix + 'bn2')(mx)\n",
    "    \n",
    "    mx = ActivationLayer(name=prefix + 'activation_2')(mx)\n",
    "\n",
    "    mx = ZeroPaddingLayer(padding=[[1,1],[1,1]], name=prefix + 'zero_pad_2')(mx)\n",
    "\n",
    "    mx = ConvLayer(kw=3,kh=3,in_f=in_f,out_f=in_f,activation=None,\n",
    "                                    padding='VALID',use_bias=False,name=prefix + 'conv2')(mx)                        \n",
    "\n",
    "    x = SumLayer(name='add' + str(num_block))([mx,x])\n",
    "\n",
    "    return x\n",
    "\n",
    "def conv_block(x,in_f,stage_id,unit_id,num_block,out_f=None,stride=2):\n",
    "              \n",
    "    prefix = 'stage' + str(stage_id) + '_unit' + str(unit_id) + '_'\n",
    "    double_in_f = None\n",
    "    if out_f is None:\n",
    "        double_in_f = int(2*in_f)\n",
    "    else:\n",
    "        double_in_f = out_f\n",
    "\n",
    "    x = BatchNormLayer(D=in_f, name=prefix + 'bn1')(x)\n",
    "    x = ActivationLayer(name=prefix + 'activation_1')(x)\n",
    "\n",
    "    mx = ZeroPaddingLayer(padding=[[1,1],[1,1]], name=prefix + 'zero_pad_1')(x)\n",
    "\n",
    "    mx = ConvLayer(kw=3, kh=3, in_f=in_f, out_f=double_in_f, activation=None, stride=stride,\n",
    "                                    padding='VALID', use_bias=False, name=prefix + 'conv1')(mx)\n",
    "                                                                                \n",
    "    mx = BatchNormLayer(D=double_in_f, name=prefix + 'bn2')(mx)\n",
    "    mx = ActivationLayer(name=prefix + 'activation_2')(mx)\n",
    "\n",
    "    mx = ZeroPaddingLayer(padding=[[1,1],[1,1]], name=prefix + 'zero_pad_2')(mx)\n",
    "    mx = ConvLayer(kw=3, kh=3, in_f=double_in_f, out_f=double_in_f, activation=None,\n",
    "                                    padding='VALID', use_bias=False, name=prefix + 'conv2')(mx)\n",
    "                                                                                \n",
    "\n",
    "    sx = ConvLayer(kw=1, kh=1, in_f=in_f, out_f=double_in_f, stride=stride,\n",
    "                                    padding='VALID', activation=None, use_bias=False, name=prefix + 'sc/conv')(x)\n",
    "                                                                               \n",
    "    x = SumLayer(name='add' + str(num_block))([mx,sx])\n",
    "\n",
    "    return x\n",
    "\n",
    "def create_resnet34(batch_size, picture_size=300):\n",
    "\n",
    "    in_x = InputLayer(input_shape=[batch_size,picture_size,picture_size,3], name='Input')\n",
    "\n",
    "    x = BatchNormLayer(D=3, use_gamma=False, name='bn_data')(in_x)\n",
    "    x = ZeroPaddingLayer(padding=[[3,3], [3,3]] ,name='zero_padding2d')(x)\n",
    "\n",
    "    x = ConvLayer(kw=7, kh=7, in_f=3, out_f=64, stride=2, use_bias=False, activation=None, padding='VALID', name='conv0')(x)\n",
    "    # size_picture = 150\n",
    "    x = BatchNormLayer(D=64, name='bn0')(x)\n",
    "    x = ActivationLayer(name='activation0')(x)\n",
    "\n",
    "    x = ZeroPaddingLayer(padding=[[1,1],[1,1]], name='zero_padding2d_1')(x)\n",
    "\n",
    "    x = MaxPoolLayer(ksize=[1,3,3,1], padding='VALID', name='max_pooling2d')(x)\n",
    "    # size_picture = 75\n",
    "\n",
    "    x = conv_block(x=x, in_f=64, stage_id=1, unit_id=1, num_block=0, out_f=64, stride=1)\n",
    "\n",
    "    x = identity_block(x=x, in_f=64, stage_id=1, unit_id=2, num_block=1)\n",
    "    x = identity_block(x=x, in_f=64, stage_id=1, unit_id=3, num_block=2)\n",
    "\n",
    "    x = conv_block(x=x, in_f=64, stage_id=2, unit_id=1, num_block=3)\n",
    "    # 38 out_f = 128\n",
    "\n",
    "    x = identity_block(x=x, in_f=128, stage_id=2, unit_id=2, num_block=4)\n",
    "    x = identity_block(x=x, in_f=128, stage_id=2, unit_id=3, num_block=5)\n",
    "    x = identity_block(x=x, in_f=128, stage_id=2, unit_id=4, num_block=6)\n",
    "    \n",
    "    x = conv_block(x=x, in_f=128, stage_id=3, unit_id=1, num_block=7)\n",
    "    # 19 out_f = 256\n",
    "\n",
    "    x = identity_block(x=x, in_f=256, stage_id=3, unit_id=2, num_block=8)\n",
    "    x = identity_block(x=x, in_f=256, stage_id=3, unit_id=3, num_block=9)\n",
    "    x = identity_block(x=x, in_f=256, stage_id=3, unit_id=4, num_block=10)\n",
    "    x = identity_block(x=x, in_f=256, stage_id=3, unit_id=5, num_block=11)\n",
    "    x = identity_block(x=x, in_f=256, stage_id=3, unit_id=6, num_block=12)\n",
    "    temp = x\n",
    "    x = conv_block(x=x, in_f=256, stage_id=4, unit_id=1, num_block=13)\n",
    "    # 10 out_f = 512\n",
    "\n",
    "    x = identity_block(x=x, in_f=512, stage_id=4, unit_id=2, num_block=14)\n",
    "    x = identity_block(x=x, in_f=512, stage_id=4, unit_id=3, num_block=15)\n",
    "\n",
    "    x = BatchNormLayer(D=512, name='bn1')(x)\n",
    "    x = ActivationLayer(name='relu1')(x)\n",
    "\n",
    "    return in_x, x, temp\n",
    "\n",
    "\n",
    "in_x, x, temp = create_resnet34(32,300)\n",
    "\n",
    "# 19x19\n",
    "dc0 = DetectorClassifier(\n",
    "    reg_fms=temp, rkw=3, rkh=3, rin_f=256,\n",
    "    class_fms=temp, ckw=3, ckh=3, cin_f=256, num_classes=len(num2name) + 1, \n",
    "    dboxes = boxes,name='dc0', use_reg_bias=detector_bias, use_class_bias=detector_bias\n",
    ")\n",
    "\n",
    "\n",
    "# 10x10\n",
    "dc1 = DetectorClassifier(\n",
    "    reg_fms=x, rkw=3, rkh=3, rin_f=512,\n",
    "    class_fms=x, ckw=3, ckh=3, cin_f=512, num_classes=len(num2name) + 1, \n",
    "    dboxes = boxes,name='dc1', use_reg_bias=detector_bias, use_class_bias=detector_bias\n",
    ")\n",
    "\n",
    "x = ConvLayer(kw=1,kh=1,activation=None,use_bias=False,in_f=512,out_f=256,name='layer_19_1_Conv2d_2_1x1_256')(x)\n",
    "x = BatchNormLayer(D=256,eps=eps,decay=decay_ssd,name='layer_19_1_Conv2d_2_1x1_256/BatchNorm')(x)\n",
    "x = ActivationLayer(activation=activation, name='layer_19_1_Conv2d_2_1x1_256/activation_0')(x)\n",
    "\n",
    "x = ConvLayer(kw=3,kh=3,activation=None,use_bias=False,in_f=256,out_f=256,name='layer_19_1_Conv2d_2_1x1_256_depthwise_1')(x)\n",
    "x = BatchNormLayer(D=256,eps=eps,decay=decay_ssd,name='layer_19_2_Conv2d_2_3x3_s2_512_depthwise/BatchNorm')(x)\n",
    "x = ActivationLayer(activation=activation, name='layer_19_2_Conv2d_2_3x3_s2_512_depthwise/activation_1')(x)\n",
    "\n",
    "x = MaxPoolLayer(name='layer_19_2_Conv2d_2_3x3_s2_512_depthwise/max_pool')(x)\n",
    "\n",
    "# 5x5\n",
    "dc2 = DetectorClassifier(\n",
    "    reg_fms=x, rkw=3, rkh=3, rin_f=256,\n",
    "    class_fms=x, ckw=3, ckh=3, cin_f=256, num_classes=len(num2name) + 1, \n",
    "    dboxes = boxes, name='dc2', use_reg_bias=detector_bias, use_class_bias=detector_bias\n",
    ")\n",
    "\n",
    "x = ConvLayer(kw=1,kh=1,activation=None,use_bias=False,in_f=256,out_f=128,name='layer_19_1_Conv2d_3_1x1_128')(x)\n",
    "x = BatchNormLayer(D=128,eps=eps,decay=decay_ssd,name='layer_19_1_Conv2d_3_1x1_128/BatchNorm')(x)\n",
    "x = ActivationLayer(activation=activation, name='layer_19_1_Conv2d_3_1x1_128/activation_1')(x)\n",
    "\n",
    "x = ConvLayer(kw=3,kh=3,in_f=128,out_f=128,use_bias=False,activation=None,name='layer_19_2_Conv2d_3_3x3_s2_256_depthwise_2')(x)\n",
    "x = BatchNormLayer(D=128,eps=eps,decay=decay_ssd,name='layer_19_2_Conv2d_3_3x3_s2_256_depthwise/BatchNorm')(x)\n",
    "x = ActivationLayer(activation=activation, name='layer_19_2_Conv2d_3_3x3_s2_256_depthwise/activation_2')(x)\n",
    "\n",
    "x = MaxPoolLayer(name='layer_19_2_Conv2d_3_3x3_s2_256_depthwise/max_pool')(x)\n",
    "\n",
    "# 3x3\n",
    "dc3 = DetectorClassifier(\n",
    "    reg_fms=x, rkw=3, rkh=3, rin_f=128,\n",
    "    class_fms=x, ckw=3, ckh=3, cin_f=128, num_classes=len(num2name) + 1, \n",
    "    dboxes = boxes,name='dc3', use_reg_bias=detector_bias, use_class_bias=detector_bias\n",
    ")\n",
    "\n",
    "x = ConvLayer(kw=3,kh=3,in_f=128,out_f=128,use_bias=False,activation=None,name='layer_19_2_Conv2d_3_3x3_s2_256_depthwise_3')(x)\n",
    "x = BatchNormLayer(D=128,eps=eps,decay=decay_ssd,name='layer_19_2_Conv2d_4_3x3_s2_256_depthwise/BatchNorm')(x)\n",
    "x = ActivationLayer(activation=activation, name='layer_19_2_Conv2d_4_3x3_s2_256_depthwise/activation_2')(x)\n",
    "\n",
    "x = MaxPoolLayer(name='layer_19_2_Conv2d_4_3x3_s2_128_depthwise/max_pool')(x)\n",
    "\n",
    "# 2x2\n",
    "dc4 = DetectorClassifier(\n",
    "    reg_fms=x, rkw=3, rkh=3, rin_f=128,\n",
    "    class_fms=x, ckw=3, ckh=3, cin_f=128, num_classes=len(num2name) + 1, \n",
    "    dboxes = boxes,name='dc4', use_reg_bias=detector_bias, use_class_bias=detector_bias\n",
    ")\n",
    "\n",
    "x = ConvLayer(kw=1,kh=1,activation=None,use_bias=False,in_f=128,out_f=64,name='layer_19_1_Conv2d_5_1x1_64')(x)\n",
    "x = BatchNormLayer(D=64,eps=eps,decay=decay_ssd,name='layer_19_1_Conv2d_5_1x1_64/BatchNorm')(x)\n",
    "x = ActivationLayer(activation=activation, name='layer_19_1_Conv2d_5_1x1_64/activation_1')(x)\n",
    "\n",
    "x = ConvLayer(kw=3,kh=3,activation=None,use_bias=False,in_f=64,out_f=64,name='layer_19_1_Conv2d_5_1x1_64_depthwise_3')(x)\n",
    "x = BatchNormLayer(D=64,eps=eps,decay=decay_ssd,name='layer_19_2_Conv2d_5_3x3_s2_128_depthwise/BatchNorm')(x)\n",
    "x = ActivationLayer(activation=activation, name='layer_19_2_Conv2d_5_3x3_s2_128_depthwise/activation_2')(x)\n",
    "\n",
    "# 1x1\n",
    "dc5 = DetectorClassifier(\n",
    "    reg_fms=x, rkw=1, rkh=1, rin_f=64,\n",
    "    class_fms=x, ckw=1, ckh=1, cin_f=64, num_classes=len(num2name) + 1, \n",
    "    dboxes = [(1.0,1.0),(0.7,0.7),(0.5, 0.5),(1.0,0.5),(0.5,1.0)],name='dc5', use_reg_bias=detector_bias, use_class_bias=detector_bias\n",
    "\n",
    ")\n",
    "\n",
    "#model = SSDModel(dcs=[dc0,dc1, dc2, dc3, dc4,dc5],input_s=in_x,name='BIGMACHINE')"
   ]
  },
  {
   "cell_type": "code",
   "execution_count": null,
   "metadata": {},
   "outputs": [],
   "source": [
    "model = SSDModel(dcs=[dc0,dc1, dc2, dc3, dc4,dc5],input_s=in_x,name='BIGMACHINE', offset_reg_type=OffsetRegression.RCNN_LIKE)"
   ]
  },
  {
   "cell_type": "code",
   "execution_count": null,
   "metadata": {},
   "outputs": [],
   "source": [
    "model = Builder.ssd_from_json('scratch_det/model.json', batch_size=1)"
   ]
  },
  {
   "cell_type": "code",
   "execution_count": null,
   "metadata": {},
   "outputs": [],
   "source": [
    "ses = tf.Session()\n",
    "model.set_session(ses)"
   ]
  },
  {
   "cell_type": "code",
   "execution_count": null,
   "metadata": {},
   "outputs": [],
   "source": [
    "model.save_architecture('resnet34_1_rcnn_style/resnet34_noBias.json')"
   ]
  },
  {
   "cell_type": "code",
   "execution_count": null,
   "metadata": {},
   "outputs": [],
   "source": [
    "dbox = model.dboxes_xy"
   ]
  },
  {
   "cell_type": "code",
   "execution_count": null,
   "metadata": {},
   "outputs": [],
   "source": [
    "model.dboxes_wh[-1]"
   ]
  },
  {
   "cell_type": "code",
   "execution_count": null,
   "metadata": {},
   "outputs": [],
   "source": [
    "model.dboxes_xy[-1]"
   ]
  },
  {
   "cell_type": "code",
   "execution_count": null,
   "metadata": {},
   "outputs": [],
   "source": [
    "bboxes_xy2wh(model.dboxes_xy)[-1]"
   ]
  },
  {
   "cell_type": "code",
   "execution_count": null,
   "metadata": {},
   "outputs": [],
   "source": [
    "bboxes_wh2xy(model.dboxes_wh)[-1]"
   ]
  },
  {
   "cell_type": "code",
   "execution_count": null,
   "metadata": {},
   "outputs": [],
   "source": [
    "model.dboxes_xy[-1]"
   ]
  },
  {
   "cell_type": "code",
   "execution_count": null,
   "metadata": {},
   "outputs": [],
   "source": [
    "import numpy as np"
   ]
  },
  {
   "cell_type": "code",
   "execution_count": null,
   "metadata": {},
   "outputs": [],
   "source": [
    "np.save('Mobilenetv2_1/dboxes.npy', dbox)"
   ]
  },
  {
   "cell_type": "code",
   "execution_count": null,
   "metadata": {},
   "outputs": [],
   "source": [
    "from makiflow.models.ssd.ssd_utils import bboxes_wh2xy, bboxes_xy2wh"
   ]
  },
  {
   "cell_type": "code",
   "execution_count": null,
   "metadata": {},
   "outputs": [],
   "source": []
  }
 ],
 "metadata": {
  "kernelspec": {
   "display_name": "Python 3",
   "language": "python",
   "name": "python3"
  },
  "language_info": {
   "codemirror_mode": {
    "name": "ipython",
    "version": 3
   },
   "file_extension": ".py",
   "mimetype": "text/x-python",
   "name": "python",
   "nbconvert_exporter": "python",
   "pygments_lexer": "ipython3",
   "version": "3.6.9"
  }
 },
 "nbformat": 4,
 "nbformat_minor": 2
}
