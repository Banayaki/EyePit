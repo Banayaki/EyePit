{
 "cells": [
  {
   "cell_type": "code",
   "execution_count": 1,
   "metadata": {},
   "outputs": [
    {
     "name": "stdout",
     "output_type": "stream",
     "text": [
      "WARNING:tensorflow:From /home/ikilbas/anaconda3/lib/python3.7/site-packages/makiflow/base/maki_entities.py:143: The name tf.Session is deprecated. Please use tf.compat.v1.Session instead.\n",
      "\n"
     ]
    }
   ],
   "source": [
    "from makiflow.layers import *\n",
    "from makizoo.backbones.vgg import VGG16\n",
    "import makizoo as mz\n",
    "from makiflow.base import MakiModel\n",
    "import tensorflow as tf\n",
    "import numpy as np\n",
    "import makiflow as mf\n",
    "mf.set_main_gpu(1)"
   ]
  },
  {
   "cell_type": "code",
   "execution_count": 2,
   "metadata": {},
   "outputs": [],
   "source": [
    "batch_size=32"
   ]
  },
  {
   "cell_type": "code",
   "execution_count": 3,
   "metadata": {},
   "outputs": [],
   "source": [
    "from makiflow.base.base_layers import BatchNormBaseLayer\n",
    "class BatchNormLayer(BatchNormBaseLayer):\n",
    "    def __init__(self, D, name, decay=0.9, eps=1e-4, use_gamma=True,\n",
    "                 use_beta=True, mean=None, var=None, gamma=None, beta=None):\n",
    "        \"\"\"\n",
    "        Batch Normalization Procedure:\n",
    "            X_normed = (X - mean) / variance\n",
    "            X_final = X*gamma + beta\n",
    "        gamma and beta are defined by the NN, e.g. they are trainable.\n",
    "\n",
    "        Parameters\n",
    "        ----------\n",
    "        D : int\n",
    "            Number of tensors to be normalized.\n",
    "        decay : float\n",
    "            Decay (momentum) for the moving mean and the moving variance.\n",
    "        eps : float\n",
    "            A small float number to avoid dividing by 0.\n",
    "        use_gamma : bool\n",
    "            Use gamma in batchnorm or not.\n",
    "        use_beta : bool\n",
    "            Use beta in batchnorm or not.\n",
    "        name : str\n",
    "            Name of this layer.\n",
    "        mean : float\n",
    "            Batch mean value. Used for initialization mean with pretrained value.\n",
    "        var : float\n",
    "            Batch variance value. Used for initialization variance with pretrained value.\n",
    "        gamma : float\n",
    "            Batchnorm gamma value. Used for initialization gamma with pretrained value.\n",
    "        beta : float\n",
    "            Batchnorm beta value. Used for initialization beta with pretrained value.\n",
    "        \"\"\"\n",
    "        super().__init__(D=D, decay=decay, eps=eps, name=name, use_gamma=use_gamma, use_beta=use_beta,\n",
    "                         type_norm='Batch', mean=mean, var=var, gamma=gamma, beta=beta)\n",
    "\n",
    "    def _init_train_params(self, data):\n",
    "        if self.running_mean is None:\n",
    "            self.running_mean = np.zeros(self.D)\n",
    "        if self.running_variance is None:\n",
    "            self.running_variance = np.ones(self.D)\n",
    "\n",
    "        name = str(self._name)\n",
    "\n",
    "        self.name_mean = 'BatchMean_{}_id_'.format(self.D) + name\n",
    "        self.name_var = 'BatchVar_{}_id_'.format(self.D) + name\n",
    "\n",
    "        self.running_mean = tf.Variable(self.running_mean, trainable=False, name=self.name_mean, dtype=tf.float32)\n",
    "        self._named_params_dict[self.name_mean] = self.running_mean\n",
    "\n",
    "        self.running_variance = tf.Variable(self.running_variance, trainable=False,\n",
    "                                            name=self.name_var, dtype=tf.float32)\n",
    "        self._named_params_dict[self.name_var] = self.running_variance\n",
    "\n",
    "    def _forward(self, X):\n",
    "        return tf.nn.batch_normalization(\n",
    "            X,\n",
    "            self.running_mean,\n",
    "            self.running_variance,\n",
    "            self.beta,\n",
    "            self.gamma,\n",
    "            self.eps\n",
    "        )\n",
    "\n",
    "    def _training_forward(self, X):\n",
    "        # These if statements check if we do batchnorm for convolution or dense\n",
    "        if len(X.shape) == 4:\n",
    "            # conv\n",
    "            axes = [0, 1, 2]\n",
    "        else:\n",
    "            # dense\n",
    "            axes = [0]\n",
    "\n",
    "        batch_mean, batch_var = tf.nn.moments(X, axes=axes)\n",
    "        update_running_mean = tf.assign(\n",
    "            self.running_mean,\n",
    "            self.running_mean * self.decay + batch_mean * (1 - self.decay)\n",
    "        )\n",
    "        update_running_variance = tf.assign(\n",
    "            self.running_variance,\n",
    "            self.running_variance * self.decay + batch_var * (1 - self.decay)\n",
    "        )\n",
    "        with tf.control_dependencies([update_running_mean, update_running_variance]):\n",
    "            out = tf.nn.batch_normalization(\n",
    "                X,\n",
    "                batch_mean,\n",
    "                batch_var,\n",
    "                self.beta,\n",
    "                self.gamma,\n",
    "                self.eps\n",
    "            )\n",
    "\n",
    "        return out\n",
    "\n",
    "    def to_dict(self):\n",
    "        return {\n",
    "            'type': 'BatchNormLayer',\n",
    "            'params': {\n",
    "                'name': self._name,\n",
    "                'D': self.D,\n",
    "                'decay': self.decay,\n",
    "                'eps': self.eps,\n",
    "                'use_beta': self.use_beta,\n",
    "                'use_gamma': self.use_gamma,\n",
    "            }\n",
    "        }"
   ]
  },
  {
   "cell_type": "code",
   "execution_count": 4,
   "metadata": {},
   "outputs": [],
   "source": [
    "import tensorflow as tf\n",
    "from makizoo.backbones.densenet.blocks import transition_layer, dense_block\n",
    "from makizoo.backbones.densenet.utils import get_batchnorm_params\n",
    "\n",
    "from makiflow.layers import *\n",
    "from makiflow.models import Classificator\n",
    "\n",
    "def build_DenseNet(in_x,\n",
    "        input_shape,\n",
    "        nb_layers=[6,12,24,16],\n",
    "        depth=121,\n",
    "        include_top=False,\n",
    "        num_classes=1000,\n",
    "        use_bias=False,\n",
    "        use_bottleneck=True,\n",
    "        subsample_initial_block=True,\n",
    "        activation=tf.nn.relu,\n",
    "        create_model=False,\n",
    "        name_model='MakiClassificator',\n",
    "        growth_rate=32,\n",
    "        reduction=0.0,\n",
    "        nb_blocks=3,\n",
    "        dropout_p_keep=None,\n",
    "        bn_params={}\n",
    "    ):\n",
    "    \"\"\"\n",
    "     Parameters\n",
    "     ----------\n",
    "     x : MakiTensor\n",
    "         Input MakiTensor.\n",
    "     nb_layers : int\n",
    "         List of lenght 4, where `nb_layers[i]` is number of repetition layers at stage `i` (i from 0 to 3).\n",
    "    depth : int\n",
    "        If list `nb_layers` will be empty, number of blocks will be calculated based on `depth`\n",
    "        For example: if depth=40, then first 4 blocks will repeat repeat_times = int((depth - 4) / 3), if use_bottleneck is True when\n",
    "        repeat_times divide by 2, in these example repeat_times = 6, so `nb_layers` = [6,6,6,6] in these example.\n",
    "    growth_rate : int\n",
    "        Coefficient `k` from original papep, https://arxiv.org/pdf/1608.06993.pdf .\n",
    "    dropout_p_keep : float\n",
    "        The probability that each element of x is not discarded.\n",
    "    reduction : float\n",
    "        Coefficient, where `r` = 1 - `rediction`, `r` is how much number of feature maps need to compress in transition layers.\n",
    "    input_shape : List\n",
    "        Input shape of neural network. Example - [32, 128, 128, 3]\n",
    "        which mean 32 - batch size, two 128 - size of picture, 3 - number of colors.\n",
    "    create_model : bool\n",
    "        Return build classification model, otherwise return input MakiTensor and output MakiTensor.\n",
    "    name_model : str\n",
    "        Name of model, if it will be created.\n",
    "    nb_blocks : int\n",
    "        Number of dense blocks.\n",
    "    num_classes : int\n",
    "        Number of classes that you need to classify.\n",
    "    bn_params : dict\n",
    "        Parameters for BatchNormLayer. If empty all parameters will have default valued.\n",
    "    include_top : bool\n",
    "        If true when at the end of the neural network added Global Avg pooling and Dense Layer without\n",
    "        activation with the number of output neurons equal to num_classes.\n",
    "    activation : tensorflow function\n",
    "        The function of activation, by default tf.nn.relu.\n",
    "\n",
    "     Returns\n",
    "     ---------\n",
    "     in_x : MakiTensor\n",
    "         Input MakiTensor.\n",
    "     output : int\n",
    "         Output MakiTensor.\n",
    "     Classificator : MakiFlow.Classificator\n",
    "         Constructed model.\n",
    "     \"\"\"\n",
    "    if bn_params is None or len(bn_params) == 0:\n",
    "        bn_params = get_batchnorm_params()\n",
    "    compression = 1 - reduction\n",
    "\n",
    "    if len(nb_layers) == 0:\n",
    "        count = int((depth - 4) / 3)\n",
    "        nb_layers = [count for _ in range(nb_blocks+1)]\n",
    "\n",
    "    if subsample_initial_block:\n",
    "        x = ZeroPaddingLayer(padding=[[3,3],[3,3]], name='zero_padding2d_4')(in_x)\n",
    "\n",
    "        x = ConvLayer(kw=7,kh=7,in_f=3, stride=2, out_f=growth_rate * 2, activation=None, use_bias=use_bias,\n",
    "                name='conv1/conv', padding='VALID')(x)\n",
    "\n",
    "        x = BatchNormLayer(D=growth_rate * 2, name='conv1/bn', **bn_params)(x)\n",
    "        x = ActivationLayer(activation=activation, name='conv1/relu')(x)\n",
    "        x = ZeroPaddingLayer(padding=[[1,1],[1,1]], name='zero_padding2d_5')(x)\n",
    "\n",
    "        x = MaxPoolLayer(ksize=[1,3,3,1], padding='VALID', name='pool1')(x)\n",
    "    else:\n",
    "        x = ConvLayer(kw=3,kh=3,in_f=3, stride=1, out_f=growth_rate * 2, activation=None, use_bias=use_bias,\n",
    "                name='conv1/conv')(in_x)\n",
    "\n",
    "    # densenet blocks\n",
    "    for block_index in range(len(nb_layers) - 1):\n",
    "        # dense block\n",
    "        x = dense_block(x=x, nb_layers=nb_layers[block_index], stage=block_index+2,\n",
    "                growth_rate=growth_rate, dropout_p_keep=dropout_p_keep, use_bottleneck=use_bottleneck,\n",
    "                        activation=activation, use_bias=use_bias, bn_params=bn_params)\n",
    "\n",
    "        # transition block\n",
    "        x = transition_layer(x=x,\n",
    "             dropout_p_keep=dropout_p_keep, number=block_index+2, compression=compression,\n",
    "                        activation=activation, use_bias=use_bias, bn_params=bn_params)\n",
    "\n",
    "    x = dense_block(x=x, nb_layers=nb_layers[-1], stage=len(nb_layers)+1,\n",
    "            growth_rate=growth_rate, dropout_p_keep=dropout_p_keep, use_bottleneck=use_bottleneck,\n",
    "                        activation=activation, use_bias=use_bias, bn_params=bn_params)\n",
    "\n",
    "    x = BatchNormLayer(D=x.get_shape()[-1], name='bn', **bn_params)(x)\n",
    "    x = ActivationLayer(activation=activation, name='relu')(x)\n",
    "    if include_top:\n",
    "        x = GlobalAvgPoolLayer(name='avg_pool')(x)\n",
    "        # dense part (fc layers)\n",
    "        output = DenseLayer(in_d=x.get_shape()[-1], out_d=num_classes, activation=None, use_bias=True, name=\"fc1000\")(x)\n",
    "        if create_model:\n",
    "            return Classificator(in_x, output, name_model)\n",
    "    else:\n",
    "        output = x\n",
    "\n",
    "    return GlobalAvgPoolLayer(name='avg_pool')(output)\n",
    "\n"
   ]
  },
  {
   "cell_type": "code",
   "execution_count": 5,
   "metadata": {},
   "outputs": [],
   "source": [
    "image_size=32\n",
    "\n",
    "def preprocess_densenet(x):\n",
    "    return build_DenseNet(in_x=x,\n",
    "        input_shape=[batch_size,image_size,image_size,3],\n",
    "        nb_layers=[6, 12, 24, 16],\n",
    "        include_top=False,\n",
    "        num_classes=1,\n",
    "        use_bias=False,\n",
    "        use_bottleneck=True,\n",
    "        subsample_initial_block=True,\n",
    "        activation=tf.nn.relu,\n",
    "        create_model=False,\n",
    "        name_model='DenseNet121',\n",
    "        growth_rate=32,\n",
    "        reduction=0.5,\n",
    "        dropout_p_keep=0.8,\n",
    "        bn_params={})"
   ]
  },
  {
   "cell_type": "code",
   "execution_count": 6,
   "metadata": {},
   "outputs": [
    {
     "name": "stdout",
     "output_type": "stream",
     "text": [
      "WARNING:tensorflow:From /home/ikilbas/anaconda3/lib/python3.7/site-packages/makiflow/layers/untrainable_layers.py:24: The name tf.placeholder is deprecated. Please use tf.compat.v1.placeholder instead.\n",
      "\n"
     ]
    }
   ],
   "source": [
    "in_x1 = InputLayer(input_shape=[batch_size,None,None,3],name='Input1')\n",
    "in_x2 = InputLayer(input_shape=[batch_size,None,None,3],name='Input2')\n",
    "    "
   ]
  },
  {
   "cell_type": "code",
   "execution_count": 7,
   "metadata": {},
   "outputs": [
    {
     "name": "stdout",
     "output_type": "stream",
     "text": [
      "WARNING:tensorflow:From /home/ikilbas/anaconda3/lib/python3.7/site-packages/makiflow/layers/untrainable_layers.py:331: The name tf.nn.max_pool is deprecated. Please use tf.nn.max_pool2d instead.\n",
      "\n",
      "WARNING:tensorflow:From /home/ikilbas/anaconda3/lib/python3.7/site-packages/makiflow/layers/untrainable_layers.py:375: The name tf.nn.avg_pool is deprecated. Please use tf.nn.avg_pool2d instead.\n",
      "\n"
     ]
    }
   ],
   "source": [
    "out1 = preprocess_densenet(in_x1)\n",
    "out2 = preprocess_densenet(in_x2)"
   ]
  },
  {
   "cell_type": "code",
   "execution_count": 8,
   "metadata": {},
   "outputs": [
    {
     "data": {
      "text/plain": [
       "[32, 1024]"
      ]
     },
     "execution_count": 8,
     "metadata": {},
     "output_type": "execute_result"
    }
   ],
   "source": [
    "out1.get_shape()"
   ]
  },
  {
   "cell_type": "code",
   "execution_count": 9,
   "metadata": {},
   "outputs": [
    {
     "data": {
      "text/plain": [
       "['Input1',\n",
       " 'zero_padding2d_4',\n",
       " 'conv1/conv',\n",
       " 'conv1/bn',\n",
       " 'conv1/relu',\n",
       " 'zero_padding2d_5',\n",
       " 'pool1',\n",
       " 'conv2_block1_0_bn',\n",
       " 'conv2_block1_0_relu',\n",
       " 'conv2_block1_1_conv',\n",
       " 'conv2_block1_1_dropout',\n",
       " 'conv2_block1_1_bn',\n",
       " 'conv2_block1_1_relu',\n",
       " 'conv2_block1_2_conv',\n",
       " 'conv2_block1_2_dropout',\n",
       " 'conv2_block1_concat',\n",
       " 'conv2_block2_0_bn',\n",
       " 'conv2_block2_0_relu',\n",
       " 'conv2_block2_1_conv',\n",
       " 'conv2_block2_1_dropout',\n",
       " 'conv2_block2_1_bn',\n",
       " 'conv2_block2_1_relu',\n",
       " 'conv2_block2_2_conv',\n",
       " 'conv2_block2_2_dropout',\n",
       " 'conv2_block2_concat',\n",
       " 'conv2_block3_0_bn',\n",
       " 'conv2_block3_0_relu',\n",
       " 'conv2_block3_1_conv',\n",
       " 'conv2_block3_1_dropout',\n",
       " 'conv2_block3_1_bn',\n",
       " 'conv2_block3_1_relu',\n",
       " 'conv2_block3_2_conv',\n",
       " 'conv2_block3_2_dropout',\n",
       " 'conv2_block3_concat',\n",
       " 'conv2_block4_0_bn',\n",
       " 'conv2_block4_0_relu',\n",
       " 'conv2_block4_1_conv',\n",
       " 'conv2_block4_1_dropout',\n",
       " 'conv2_block4_1_bn',\n",
       " 'conv2_block4_1_relu',\n",
       " 'conv2_block4_2_conv',\n",
       " 'conv2_block4_2_dropout',\n",
       " 'conv2_block4_concat',\n",
       " 'conv2_block5_0_bn',\n",
       " 'conv2_block5_0_relu',\n",
       " 'conv2_block5_1_conv',\n",
       " 'conv2_block5_1_dropout',\n",
       " 'conv2_block5_1_bn',\n",
       " 'conv2_block5_1_relu',\n",
       " 'conv2_block5_2_conv',\n",
       " 'conv2_block5_2_dropout',\n",
       " 'conv2_block5_concat',\n",
       " 'conv2_block6_0_bn',\n",
       " 'conv2_block6_0_relu',\n",
       " 'conv2_block6_1_conv',\n",
       " 'conv2_block6_1_dropout',\n",
       " 'conv2_block6_1_bn',\n",
       " 'conv2_block6_1_relu',\n",
       " 'conv2_block6_2_conv',\n",
       " 'conv2_block6_2_dropout',\n",
       " 'conv2_block6_concat',\n",
       " 'pool2_bn',\n",
       " 'pool2_relu',\n",
       " 'pool2_conv',\n",
       " 'pool2_dropout',\n",
       " 'pool2_avg_pool',\n",
       " 'conv3_block1_0_bn',\n",
       " 'conv3_block1_0_relu',\n",
       " 'conv3_block1_1_conv',\n",
       " 'conv3_block1_1_dropout',\n",
       " 'conv3_block1_1_bn',\n",
       " 'conv3_block1_1_relu',\n",
       " 'conv3_block1_2_conv',\n",
       " 'conv3_block1_2_dropout',\n",
       " 'conv3_block1_concat',\n",
       " 'conv3_block2_0_bn',\n",
       " 'conv3_block2_0_relu',\n",
       " 'conv3_block2_1_conv',\n",
       " 'conv3_block2_1_dropout',\n",
       " 'conv3_block2_1_bn',\n",
       " 'conv3_block2_1_relu',\n",
       " 'conv3_block2_2_conv',\n",
       " 'conv3_block2_2_dropout',\n",
       " 'conv3_block2_concat',\n",
       " 'conv3_block3_0_bn',\n",
       " 'conv3_block3_0_relu',\n",
       " 'conv3_block3_1_conv',\n",
       " 'conv3_block3_1_dropout',\n",
       " 'conv3_block3_1_bn',\n",
       " 'conv3_block3_1_relu',\n",
       " 'conv3_block3_2_conv',\n",
       " 'conv3_block3_2_dropout',\n",
       " 'conv3_block3_concat',\n",
       " 'conv3_block4_0_bn',\n",
       " 'conv3_block4_0_relu',\n",
       " 'conv3_block4_1_conv',\n",
       " 'conv3_block4_1_dropout',\n",
       " 'conv3_block4_1_bn',\n",
       " 'conv3_block4_1_relu',\n",
       " 'conv3_block4_2_conv',\n",
       " 'conv3_block4_2_dropout',\n",
       " 'conv3_block4_concat',\n",
       " 'conv3_block5_0_bn',\n",
       " 'conv3_block5_0_relu',\n",
       " 'conv3_block5_1_conv',\n",
       " 'conv3_block5_1_dropout',\n",
       " 'conv3_block5_1_bn',\n",
       " 'conv3_block5_1_relu',\n",
       " 'conv3_block5_2_conv',\n",
       " 'conv3_block5_2_dropout',\n",
       " 'conv3_block5_concat',\n",
       " 'conv3_block6_0_bn',\n",
       " 'conv3_block6_0_relu',\n",
       " 'conv3_block6_1_conv',\n",
       " 'conv3_block6_1_dropout',\n",
       " 'conv3_block6_1_bn',\n",
       " 'conv3_block6_1_relu',\n",
       " 'conv3_block6_2_conv',\n",
       " 'conv3_block6_2_dropout',\n",
       " 'conv3_block6_concat',\n",
       " 'conv3_block7_0_bn',\n",
       " 'conv3_block7_0_relu',\n",
       " 'conv3_block7_1_conv',\n",
       " 'conv3_block7_1_dropout',\n",
       " 'conv3_block7_1_bn',\n",
       " 'conv3_block7_1_relu',\n",
       " 'conv3_block7_2_conv',\n",
       " 'conv3_block7_2_dropout',\n",
       " 'conv3_block7_concat',\n",
       " 'conv3_block8_0_bn',\n",
       " 'conv3_block8_0_relu',\n",
       " 'conv3_block8_1_conv',\n",
       " 'conv3_block8_1_dropout',\n",
       " 'conv3_block8_1_bn',\n",
       " 'conv3_block8_1_relu',\n",
       " 'conv3_block8_2_conv',\n",
       " 'conv3_block8_2_dropout',\n",
       " 'conv3_block8_concat',\n",
       " 'conv3_block9_0_bn',\n",
       " 'conv3_block9_0_relu',\n",
       " 'conv3_block9_1_conv',\n",
       " 'conv3_block9_1_dropout',\n",
       " 'conv3_block9_1_bn',\n",
       " 'conv3_block9_1_relu',\n",
       " 'conv3_block9_2_conv',\n",
       " 'conv3_block9_2_dropout',\n",
       " 'conv3_block9_concat',\n",
       " 'conv3_block10_0_bn',\n",
       " 'conv3_block10_0_relu',\n",
       " 'conv3_block10_1_conv',\n",
       " 'conv3_block10_1_dropout',\n",
       " 'conv3_block10_1_bn',\n",
       " 'conv3_block10_1_relu',\n",
       " 'conv3_block10_2_conv',\n",
       " 'conv3_block10_2_dropout',\n",
       " 'conv3_block10_concat',\n",
       " 'conv3_block11_0_bn',\n",
       " 'conv3_block11_0_relu',\n",
       " 'conv3_block11_1_conv',\n",
       " 'conv3_block11_1_dropout',\n",
       " 'conv3_block11_1_bn',\n",
       " 'conv3_block11_1_relu',\n",
       " 'conv3_block11_2_conv',\n",
       " 'conv3_block11_2_dropout',\n",
       " 'conv3_block11_concat',\n",
       " 'conv3_block12_0_bn',\n",
       " 'conv3_block12_0_relu',\n",
       " 'conv3_block12_1_conv',\n",
       " 'conv3_block12_1_dropout',\n",
       " 'conv3_block12_1_bn',\n",
       " 'conv3_block12_1_relu',\n",
       " 'conv3_block12_2_conv',\n",
       " 'conv3_block12_2_dropout',\n",
       " 'conv3_block12_concat',\n",
       " 'pool3_bn',\n",
       " 'pool3_relu',\n",
       " 'pool3_conv',\n",
       " 'pool3_dropout',\n",
       " 'pool3_avg_pool',\n",
       " 'conv4_block1_0_bn',\n",
       " 'conv4_block1_0_relu',\n",
       " 'conv4_block1_1_conv',\n",
       " 'conv4_block1_1_dropout',\n",
       " 'conv4_block1_1_bn',\n",
       " 'conv4_block1_1_relu',\n",
       " 'conv4_block1_2_conv',\n",
       " 'conv4_block1_2_dropout',\n",
       " 'conv4_block1_concat',\n",
       " 'conv4_block2_0_bn',\n",
       " 'conv4_block2_0_relu',\n",
       " 'conv4_block2_1_conv',\n",
       " 'conv4_block2_1_dropout',\n",
       " 'conv4_block2_1_bn',\n",
       " 'conv4_block2_1_relu',\n",
       " 'conv4_block2_2_conv',\n",
       " 'conv4_block2_2_dropout',\n",
       " 'conv4_block2_concat',\n",
       " 'conv4_block3_0_bn',\n",
       " 'conv4_block3_0_relu',\n",
       " 'conv4_block3_1_conv',\n",
       " 'conv4_block3_1_dropout',\n",
       " 'conv4_block3_1_bn',\n",
       " 'conv4_block3_1_relu',\n",
       " 'conv4_block3_2_conv',\n",
       " 'conv4_block3_2_dropout',\n",
       " 'conv4_block3_concat',\n",
       " 'conv4_block4_0_bn',\n",
       " 'conv4_block4_0_relu',\n",
       " 'conv4_block4_1_conv',\n",
       " 'conv4_block4_1_dropout',\n",
       " 'conv4_block4_1_bn',\n",
       " 'conv4_block4_1_relu',\n",
       " 'conv4_block4_2_conv',\n",
       " 'conv4_block4_2_dropout',\n",
       " 'conv4_block4_concat',\n",
       " 'conv4_block5_0_bn',\n",
       " 'conv4_block5_0_relu',\n",
       " 'conv4_block5_1_conv',\n",
       " 'conv4_block5_1_dropout',\n",
       " 'conv4_block5_1_bn',\n",
       " 'conv4_block5_1_relu',\n",
       " 'conv4_block5_2_conv',\n",
       " 'conv4_block5_2_dropout',\n",
       " 'conv4_block5_concat',\n",
       " 'conv4_block6_0_bn',\n",
       " 'conv4_block6_0_relu',\n",
       " 'conv4_block6_1_conv',\n",
       " 'conv4_block6_1_dropout',\n",
       " 'conv4_block6_1_bn',\n",
       " 'conv4_block6_1_relu',\n",
       " 'conv4_block6_2_conv',\n",
       " 'conv4_block6_2_dropout',\n",
       " 'conv4_block6_concat',\n",
       " 'conv4_block7_0_bn',\n",
       " 'conv4_block7_0_relu',\n",
       " 'conv4_block7_1_conv',\n",
       " 'conv4_block7_1_dropout',\n",
       " 'conv4_block7_1_bn',\n",
       " 'conv4_block7_1_relu',\n",
       " 'conv4_block7_2_conv',\n",
       " 'conv4_block7_2_dropout',\n",
       " 'conv4_block7_concat',\n",
       " 'conv4_block8_0_bn',\n",
       " 'conv4_block8_0_relu',\n",
       " 'conv4_block8_1_conv',\n",
       " 'conv4_block8_1_dropout',\n",
       " 'conv4_block8_1_bn',\n",
       " 'conv4_block8_1_relu',\n",
       " 'conv4_block8_2_conv',\n",
       " 'conv4_block8_2_dropout',\n",
       " 'conv4_block8_concat',\n",
       " 'conv4_block9_0_bn',\n",
       " 'conv4_block9_0_relu',\n",
       " 'conv4_block9_1_conv',\n",
       " 'conv4_block9_1_dropout',\n",
       " 'conv4_block9_1_bn',\n",
       " 'conv4_block9_1_relu',\n",
       " 'conv4_block9_2_conv',\n",
       " 'conv4_block9_2_dropout',\n",
       " 'conv4_block9_concat',\n",
       " 'conv4_block10_0_bn',\n",
       " 'conv4_block10_0_relu',\n",
       " 'conv4_block10_1_conv',\n",
       " 'conv4_block10_1_dropout',\n",
       " 'conv4_block10_1_bn',\n",
       " 'conv4_block10_1_relu',\n",
       " 'conv4_block10_2_conv',\n",
       " 'conv4_block10_2_dropout',\n",
       " 'conv4_block10_concat',\n",
       " 'conv4_block11_0_bn',\n",
       " 'conv4_block11_0_relu',\n",
       " 'conv4_block11_1_conv',\n",
       " 'conv4_block11_1_dropout',\n",
       " 'conv4_block11_1_bn',\n",
       " 'conv4_block11_1_relu',\n",
       " 'conv4_block11_2_conv',\n",
       " 'conv4_block11_2_dropout',\n",
       " 'conv4_block11_concat',\n",
       " 'conv4_block12_0_bn',\n",
       " 'conv4_block12_0_relu',\n",
       " 'conv4_block12_1_conv',\n",
       " 'conv4_block12_1_dropout',\n",
       " 'conv4_block12_1_bn',\n",
       " 'conv4_block12_1_relu',\n",
       " 'conv4_block12_2_conv',\n",
       " 'conv4_block12_2_dropout',\n",
       " 'conv4_block12_concat',\n",
       " 'conv4_block13_0_bn',\n",
       " 'conv4_block13_0_relu',\n",
       " 'conv4_block13_1_conv',\n",
       " 'conv4_block13_1_dropout',\n",
       " 'conv4_block13_1_bn',\n",
       " 'conv4_block13_1_relu',\n",
       " 'conv4_block13_2_conv',\n",
       " 'conv4_block13_2_dropout',\n",
       " 'conv4_block13_concat',\n",
       " 'conv4_block14_0_bn',\n",
       " 'conv4_block14_0_relu',\n",
       " 'conv4_block14_1_conv',\n",
       " 'conv4_block14_1_dropout',\n",
       " 'conv4_block14_1_bn',\n",
       " 'conv4_block14_1_relu',\n",
       " 'conv4_block14_2_conv',\n",
       " 'conv4_block14_2_dropout',\n",
       " 'conv4_block14_concat',\n",
       " 'conv4_block15_0_bn',\n",
       " 'conv4_block15_0_relu',\n",
       " 'conv4_block15_1_conv',\n",
       " 'conv4_block15_1_dropout',\n",
       " 'conv4_block15_1_bn',\n",
       " 'conv4_block15_1_relu',\n",
       " 'conv4_block15_2_conv',\n",
       " 'conv4_block15_2_dropout',\n",
       " 'conv4_block15_concat',\n",
       " 'conv4_block16_0_bn',\n",
       " 'conv4_block16_0_relu',\n",
       " 'conv4_block16_1_conv',\n",
       " 'conv4_block16_1_dropout',\n",
       " 'conv4_block16_1_bn',\n",
       " 'conv4_block16_1_relu',\n",
       " 'conv4_block16_2_conv',\n",
       " 'conv4_block16_2_dropout',\n",
       " 'conv4_block16_concat',\n",
       " 'conv4_block17_0_bn',\n",
       " 'conv4_block17_0_relu',\n",
       " 'conv4_block17_1_conv',\n",
       " 'conv4_block17_1_dropout',\n",
       " 'conv4_block17_1_bn',\n",
       " 'conv4_block17_1_relu',\n",
       " 'conv4_block17_2_conv',\n",
       " 'conv4_block17_2_dropout',\n",
       " 'conv4_block17_concat',\n",
       " 'conv4_block18_0_bn',\n",
       " 'conv4_block18_0_relu',\n",
       " 'conv4_block18_1_conv',\n",
       " 'conv4_block18_1_dropout',\n",
       " 'conv4_block18_1_bn',\n",
       " 'conv4_block18_1_relu',\n",
       " 'conv4_block18_2_conv',\n",
       " 'conv4_block18_2_dropout',\n",
       " 'conv4_block18_concat',\n",
       " 'conv4_block19_0_bn',\n",
       " 'conv4_block19_0_relu',\n",
       " 'conv4_block19_1_conv',\n",
       " 'conv4_block19_1_dropout',\n",
       " 'conv4_block19_1_bn',\n",
       " 'conv4_block19_1_relu',\n",
       " 'conv4_block19_2_conv',\n",
       " 'conv4_block19_2_dropout',\n",
       " 'conv4_block19_concat',\n",
       " 'conv4_block20_0_bn',\n",
       " 'conv4_block20_0_relu',\n",
       " 'conv4_block20_1_conv',\n",
       " 'conv4_block20_1_dropout',\n",
       " 'conv4_block20_1_bn',\n",
       " 'conv4_block20_1_relu',\n",
       " 'conv4_block20_2_conv',\n",
       " 'conv4_block20_2_dropout',\n",
       " 'conv4_block20_concat',\n",
       " 'conv4_block21_0_bn',\n",
       " 'conv4_block21_0_relu',\n",
       " 'conv4_block21_1_conv',\n",
       " 'conv4_block21_1_dropout',\n",
       " 'conv4_block21_1_bn',\n",
       " 'conv4_block21_1_relu',\n",
       " 'conv4_block21_2_conv',\n",
       " 'conv4_block21_2_dropout',\n",
       " 'conv4_block21_concat',\n",
       " 'conv4_block22_0_bn',\n",
       " 'conv4_block22_0_relu',\n",
       " 'conv4_block22_1_conv',\n",
       " 'conv4_block22_1_dropout',\n",
       " 'conv4_block22_1_bn',\n",
       " 'conv4_block22_1_relu',\n",
       " 'conv4_block22_2_conv',\n",
       " 'conv4_block22_2_dropout',\n",
       " 'conv4_block22_concat',\n",
       " 'conv4_block23_0_bn',\n",
       " 'conv4_block23_0_relu',\n",
       " 'conv4_block23_1_conv',\n",
       " 'conv4_block23_1_dropout',\n",
       " 'conv4_block23_1_bn',\n",
       " 'conv4_block23_1_relu',\n",
       " 'conv4_block23_2_conv',\n",
       " 'conv4_block23_2_dropout',\n",
       " 'conv4_block23_concat',\n",
       " 'conv4_block24_0_bn',\n",
       " 'conv4_block24_0_relu',\n",
       " 'conv4_block24_1_conv',\n",
       " 'conv4_block24_1_dropout',\n",
       " 'conv4_block24_1_bn',\n",
       " 'conv4_block24_1_relu',\n",
       " 'conv4_block24_2_conv',\n",
       " 'conv4_block24_2_dropout',\n",
       " 'conv4_block24_concat',\n",
       " 'pool4_bn',\n",
       " 'pool4_relu',\n",
       " 'pool4_conv',\n",
       " 'pool4_dropout',\n",
       " 'pool4_avg_pool',\n",
       " 'conv5_block1_0_bn',\n",
       " 'conv5_block1_0_relu',\n",
       " 'conv5_block1_1_conv',\n",
       " 'conv5_block1_1_dropout',\n",
       " 'conv5_block1_1_bn',\n",
       " 'conv5_block1_1_relu',\n",
       " 'conv5_block1_2_conv',\n",
       " 'conv5_block1_2_dropout',\n",
       " 'conv5_block1_concat',\n",
       " 'conv5_block2_0_bn',\n",
       " 'conv5_block2_0_relu',\n",
       " 'conv5_block2_1_conv',\n",
       " 'conv5_block2_1_dropout',\n",
       " 'conv5_block2_1_bn',\n",
       " 'conv5_block2_1_relu',\n",
       " 'conv5_block2_2_conv',\n",
       " 'conv5_block2_2_dropout',\n",
       " 'conv5_block2_concat',\n",
       " 'conv5_block3_0_bn',\n",
       " 'conv5_block3_0_relu',\n",
       " 'conv5_block3_1_conv',\n",
       " 'conv5_block3_1_dropout',\n",
       " 'conv5_block3_1_bn',\n",
       " 'conv5_block3_1_relu',\n",
       " 'conv5_block3_2_conv',\n",
       " 'conv5_block3_2_dropout',\n",
       " 'conv5_block3_concat',\n",
       " 'conv5_block4_0_bn',\n",
       " 'conv5_block4_0_relu',\n",
       " 'conv5_block4_1_conv',\n",
       " 'conv5_block4_1_dropout',\n",
       " 'conv5_block4_1_bn',\n",
       " 'conv5_block4_1_relu',\n",
       " 'conv5_block4_2_conv',\n",
       " 'conv5_block4_2_dropout',\n",
       " 'conv5_block4_concat',\n",
       " 'conv5_block5_0_bn',\n",
       " 'conv5_block5_0_relu',\n",
       " 'conv5_block5_1_conv',\n",
       " 'conv5_block5_1_dropout',\n",
       " 'conv5_block5_1_bn',\n",
       " 'conv5_block5_1_relu',\n",
       " 'conv5_block5_2_conv',\n",
       " 'conv5_block5_2_dropout',\n",
       " 'conv5_block5_concat',\n",
       " 'conv5_block6_0_bn',\n",
       " 'conv5_block6_0_relu',\n",
       " 'conv5_block6_1_conv',\n",
       " 'conv5_block6_1_dropout',\n",
       " 'conv5_block6_1_bn',\n",
       " 'conv5_block6_1_relu',\n",
       " 'conv5_block6_2_conv',\n",
       " 'conv5_block6_2_dropout',\n",
       " 'conv5_block6_concat',\n",
       " 'conv5_block7_0_bn',\n",
       " 'conv5_block7_0_relu',\n",
       " 'conv5_block7_1_conv',\n",
       " 'conv5_block7_1_dropout',\n",
       " 'conv5_block7_1_bn',\n",
       " 'conv5_block7_1_relu',\n",
       " 'conv5_block7_2_conv',\n",
       " 'conv5_block7_2_dropout',\n",
       " 'conv5_block7_concat',\n",
       " 'conv5_block8_0_bn',\n",
       " 'conv5_block8_0_relu',\n",
       " 'conv5_block8_1_conv',\n",
       " 'conv5_block8_1_dropout',\n",
       " 'conv5_block8_1_bn',\n",
       " 'conv5_block8_1_relu',\n",
       " 'conv5_block8_2_conv',\n",
       " 'conv5_block8_2_dropout',\n",
       " 'conv5_block8_concat',\n",
       " 'conv5_block9_0_bn',\n",
       " 'conv5_block9_0_relu',\n",
       " 'conv5_block9_1_conv',\n",
       " 'conv5_block9_1_dropout',\n",
       " 'conv5_block9_1_bn',\n",
       " 'conv5_block9_1_relu',\n",
       " 'conv5_block9_2_conv',\n",
       " 'conv5_block9_2_dropout',\n",
       " 'conv5_block9_concat',\n",
       " 'conv5_block10_0_bn',\n",
       " 'conv5_block10_0_relu',\n",
       " 'conv5_block10_1_conv',\n",
       " 'conv5_block10_1_dropout',\n",
       " 'conv5_block10_1_bn',\n",
       " 'conv5_block10_1_relu',\n",
       " 'conv5_block10_2_conv',\n",
       " 'conv5_block10_2_dropout',\n",
       " 'conv5_block10_concat',\n",
       " 'conv5_block11_0_bn',\n",
       " 'conv5_block11_0_relu',\n",
       " 'conv5_block11_1_conv',\n",
       " 'conv5_block11_1_dropout',\n",
       " 'conv5_block11_1_bn',\n",
       " 'conv5_block11_1_relu',\n",
       " 'conv5_block11_2_conv',\n",
       " 'conv5_block11_2_dropout',\n",
       " 'conv5_block11_concat',\n",
       " 'conv5_block12_0_bn',\n",
       " 'conv5_block12_0_relu',\n",
       " 'conv5_block12_1_conv',\n",
       " 'conv5_block12_1_dropout',\n",
       " 'conv5_block12_1_bn',\n",
       " 'conv5_block12_1_relu',\n",
       " 'conv5_block12_2_conv',\n",
       " 'conv5_block12_2_dropout',\n",
       " 'conv5_block12_concat',\n",
       " 'conv5_block13_0_bn',\n",
       " 'conv5_block13_0_relu',\n",
       " 'conv5_block13_1_conv',\n",
       " 'conv5_block13_1_dropout',\n",
       " 'conv5_block13_1_bn',\n",
       " 'conv5_block13_1_relu',\n",
       " 'conv5_block13_2_conv',\n",
       " 'conv5_block13_2_dropout',\n",
       " 'conv5_block13_concat',\n",
       " 'conv5_block14_0_bn',\n",
       " 'conv5_block14_0_relu',\n",
       " 'conv5_block14_1_conv',\n",
       " 'conv5_block14_1_dropout',\n",
       " 'conv5_block14_1_bn',\n",
       " 'conv5_block14_1_relu',\n",
       " 'conv5_block14_2_conv',\n",
       " 'conv5_block14_2_dropout',\n",
       " 'conv5_block14_concat',\n",
       " 'conv5_block15_0_bn',\n",
       " 'conv5_block15_0_relu',\n",
       " 'conv5_block15_1_conv',\n",
       " 'conv5_block15_1_dropout',\n",
       " 'conv5_block15_1_bn',\n",
       " 'conv5_block15_1_relu',\n",
       " 'conv5_block15_2_conv',\n",
       " 'conv5_block15_2_dropout',\n",
       " 'conv5_block15_concat',\n",
       " 'conv5_block16_0_bn',\n",
       " 'conv5_block16_0_relu',\n",
       " 'conv5_block16_1_conv',\n",
       " 'conv5_block16_1_dropout',\n",
       " 'conv5_block16_1_bn',\n",
       " 'conv5_block16_1_relu',\n",
       " 'conv5_block16_2_conv',\n",
       " 'conv5_block16_2_dropout',\n",
       " 'conv5_block16_concat',\n",
       " 'bn',\n",
       " 'relu',\n",
       " 'avg_pool']"
      ]
     },
     "execution_count": 9,
     "metadata": {},
     "output_type": "execute_result"
    }
   ],
   "source": [
    "layers = list(out1.get_previous_tensors()) + [out1.get_name()]\n",
    "layers"
   ]
  },
  {
   "cell_type": "code",
   "execution_count": 10,
   "metadata": {},
   "outputs": [],
   "source": [
    "#concat = ConcatLayer(name='concat', axis=-1)([out1, out2])\n",
    "concat = SumLayer(name='sum')([out1, out2])"
   ]
  },
  {
   "cell_type": "code",
   "execution_count": 11,
   "metadata": {},
   "outputs": [
    {
     "data": {
      "text/plain": [
       "[32, 1024]"
      ]
     },
     "execution_count": 11,
     "metadata": {},
     "output_type": "execute_result"
    }
   ],
   "source": [
    "concat.get_shape()"
   ]
  },
  {
   "cell_type": "code",
   "execution_count": 12,
   "metadata": {},
   "outputs": [],
   "source": [
    "#x = FlattenLayer('flatten1')(x)\n",
    "\n",
    "#dense1 = DropoutLayer(p_keep=0.5, name='drop0_starto')(concat)\n",
    "#dense1 = DenseLayer(in_d=1536, out_d=512, activation=None,use_bias=False, name='dense1')(concat)\n",
    "#dense1 = BatchNormLayer(D=256, name='bn1_dense')(dense1)\n",
    "#dense1 = ActivationLayer('act1_dense', activation=tf.nn.leaky_relu)(dense1)\n",
    "#dense1 = DropoutLayer(p_keep=0.7, name='drop1')(dense1)\n",
    "\n",
    "#dense2 = DenseLayer(in_d=512, out_d=512, activation=None,use_bias=False,name='dense2')(dense1)\n",
    "#dense2 = BatchNormLayer(D=512, name='bn2_dense')(dense2)\n",
    "#dense2 = ActivationLayer('act2_dense')(dense2)\n",
    "#dense2 = DropoutLayer(p_keep=0.75, name='drop2')(dense2)\n",
    "\n",
    "#dense3 = DenseLayer(in_d=256, out_d=128, activation=None,use_bias=False,name='dense3')(dense1)\n",
    "#dense3 = BatchNormLayer(D=128, name='bn3_dense')(dense3)\n",
    "#dense3 = ActivationLayer('act3_dense', activation=tf.nn.leaky_relu)(dense3)\n",
    "#dense3 = DropoutLayer(p_keep=0.7, name='drop3')(dense3)\n",
    "\n",
    "#dense4 = DenseLayer(in_d=256, out_d=256, activation=None,use_bias=False,name='dense4')(dense3)\n",
    "#dense4 = BatchNormLayer(D=256, name='bn4_dense')(dense4)\n",
    "#dense4 = ActivationLayer('act4_dense')(dense4)\n",
    "#dense3 = DropoutLayer(p_keep=0.75, name='drop3')(dense3)\n",
    "\n",
    "#dense5 = DenseLayer(in_d=1024, out_d=512, activation=None,use_bias=False,name='dense5')(concat)\n",
    "#dense5 = BatchNormLayer(D=512, name='bn5')(dense5)\n",
    "#dense5 = ActivationLayer('act5_dense')(dense5)\n",
    "#dense5 = DropoutLayer(p_keep=0.7, name='drop5_dense')(dense5)\n",
    "\n",
    "dense6 = DenseLayer(in_d=1024, out_d=1024, activation=None,use_bias=False,name='dense6')(concat)\n",
    "#dense6 = BatchNormLayer(D=1024, name='bn4')(dense6)\n",
    "dense6 = ActivationLayer('act56_dense', activation=tf.nn.leaky_relu)(dense6)\n",
    "dense6 = DropoutLayer(p_keep=0.5, name='drop6_dense')(dense6)\n",
    "dense7 = DenseLayer(in_d=1024, out_d=1, activation=None, name='criteria')(dense6)"
   ]
  },
  {
   "cell_type": "code",
   "execution_count": 13,
   "metadata": {},
   "outputs": [
    {
     "data": {
      "text/plain": [
       "[32, 1024]"
      ]
     },
     "execution_count": 13,
     "metadata": {},
     "output_type": "execute_result"
    }
   ],
   "source": [
    "concat.get_shape()"
   ]
  },
  {
   "cell_type": "code",
   "execution_count": 14,
   "metadata": {},
   "outputs": [],
   "source": [
    "from copy import copy \n",
    "from sklearn.utils import shuffle\n",
    "from tqdm import tqdm\n",
    "\n",
    "class Regressor(MakiModel):\n",
    "    def __init__(self, in_x1, in_x2, out_x, name='Regressor'):\n",
    "        graph_tensors = copy(out_x.get_previous_tensors())\n",
    "        # Add output tensor to `graph_tensors` since it doesn't have it.\n",
    "        # It is assumed that graph_tensors contains ALL THE TENSORS graph consists of.\n",
    "        graph_tensors.update(out_x.get_self_pair())\n",
    "        outputs = [out_x]\n",
    "        inputs = [in_x1, in_x2]\n",
    "        super().__init__(graph_tensors, outputs, inputs)\n",
    "        self.name = str(name)\n",
    "        self._batch_sz = in_x1.get_shape()[0]\n",
    "        self._images1 = self._input_data_tensors[0]\n",
    "        self._images2 = self._input_data_tensors[1]\n",
    "        self._inference_out = self._output_data_tensors[0]\n",
    "        # For training\n",
    "        self._training_vars_are_ready = False\n",
    "\n",
    "    def _prepare_training_vars(self):\n",
    "        if not self._set_for_training:\n",
    "            super()._setup_for_training()\n",
    "\n",
    "        self._logits = self._training_outputs[0]\n",
    "        self._num_classes = self._logits.get_shape()[-1]\n",
    "        self._labels = tf.placeholder(tf.float32, shape=[self._batch_sz, 1])\n",
    "        \n",
    "        self._training_vars_are_ready = True\n",
    "        self._ce_loss_is_build =False\n",
    "        \n",
    "    def _build_ce_loss(self):\n",
    "        self._final_ce_loss = tf.reduce_mean(\n",
    "            tf.abs(self._labels - self._logits)\n",
    "        )\n",
    "\n",
    "        self._ce_loss_is_build = True\n",
    "\n",
    "    def _minimize_ce_loss(self, optimizer, global_step):\n",
    "        if not self._set_for_training:\n",
    "            super()._setup_for_training()\n",
    "\n",
    "        if not self._training_vars_are_ready:\n",
    "            self._prepare_training_vars()\n",
    "\n",
    "        if not self._ce_loss_is_build:\n",
    "            # no need to setup any inputs for this loss\n",
    "            self._build_ce_loss()\n",
    "            self._ce_optimizer = optimizer\n",
    "            self._ce_train_op = optimizer.minimize(\n",
    "                self._final_ce_loss, var_list=self._trainable_vars, global_step=global_step\n",
    "            )\n",
    "            self._session.run(tf.variables_initializer(optimizer.variables()))\n",
    "\n",
    "        if self._ce_optimizer != optimizer:\n",
    "            print('New optimizer is used.')\n",
    "            self._ce_optimizer = optimizer\n",
    "            self._ce_train_op = optimizer.minimize(\n",
    "                self._final_ce_loss, var_list=self._trainable_vars, global_step=global_step\n",
    "            )\n",
    "            self._session.run(tf.variables_initializer(optimizer.variables()))\n",
    "\n",
    "        return self._ce_train_op\n",
    "\n",
    "    def fit_ce(\n",
    "            self, Xtraina, Xtrainb, Ytrain, Xtesta, Xtestb, Ytest, optimizer=None, epochs=1, global_step=None\n",
    "    ):\n",
    "        \"\"\"\n",
    "        Method for training the model. Works faster than `verbose_fit` method because\n",
    "        it uses exponential decay in order to speed up training. It produces less accurate\n",
    "        train error mesurement.\n",
    "        Parameters\n",
    "        ----------\n",
    "            Xtrain : numpy array\n",
    "                Training images stacked into one big array with shape (num_images, image_w, image_h, image_depth).\n",
    "            Ytrain : numpy array\n",
    "                Training label for each image in `Xtrain` array with shape (num_images).\n",
    "                IMPORTANT: ALL LABELS MUST BE NOT ONE-HOT ENCODED, USE SPARSE TRAINING DATA INSTEAD.\n",
    "            Xtest : numpy array\n",
    "                Same as `Xtrain` but for testing.\n",
    "            Ytest : numpy array\n",
    "                Same as `Ytrain` but for testing.\n",
    "            optimizer : tensorflow optimizer\n",
    "                Model uses tensorflow optimizers in order train itself.\n",
    "            epochs : int\n",
    "                Number of epochs.\n",
    "            test_period : int\n",
    "                Test begins each `test_period` epochs. You can set a larger number in order to\n",
    "                speed up training.\n",
    "        Returns\n",
    "        -------\n",
    "            python dictionary\n",
    "                Dictionary with all testing data(train error, train cost, test error, test cost)\n",
    "                for each test period.\n",
    "        \"\"\"\n",
    "\n",
    "        assert (optimizer is not None)\n",
    "        assert (self._session is not None)\n",
    "        train_op = self._minimize_ce_loss(optimizer, global_step)\n",
    "\n",
    "        n_batches = len(Xtraina) // self._batch_sz\n",
    "        bs = self._batch_sz\n",
    "\n",
    "        train_costs = []\n",
    "        train_errors = []\n",
    "        test_costs = []\n",
    "        iterator = None\n",
    "        train_cost = np.float32(0)\n",
    "        for i in range(epochs):\n",
    "            Xtraina, Xtrainb, Ytrain = shuffle(Xtraina,Xtrainb, Ytrain)\n",
    "            iterator = tqdm(range(n_batches))\n",
    "\n",
    "            for j in iterator:\n",
    "                Xbatcha = Xtraina[j*bs:(j+1)*bs]\n",
    "                Xbatchb = Xtrainb[j*bs:(j+1)*bs]\n",
    "                Ybatch = Ytrain[j*bs:(j+1)*bs]\n",
    "                train_cost_batch, _ = self._session.run(\n",
    "                    [self._final_ce_loss, train_op],\n",
    "                    feed_dict={\n",
    "                        self._images1: Xbatcha,\n",
    "                        self._images2: Xbatchb,\n",
    "                        self._labels: Ybatch\n",
    "                    })\n",
    "\n",
    "            train_costs.append(train_cost)\n",
    "            test_cost = 0\n",
    "            for j in range(len(Xtesta) // bs):\n",
    "                Xbatcha = Xtesta[j*bs:(j+1)*bs]\n",
    "                Xbatchb = Xtestb[j*bs:(j+1)*bs]\n",
    "                Ybatch = Ytest[j*bs:(j+1)*bs]\n",
    "                test_cost += self._session.run(\n",
    "                    [self._final_ce_loss],\n",
    "                    feed_dict={\n",
    "                        self._images1: Xbatcha,\n",
    "                        self._images2: Xbatchb,\n",
    "                        self._labels: Ybatch\n",
    "                    })[0]\n",
    "            test_costs.append(test_cost)\n",
    "            train_cost = 0\n",
    "            for j in range(len(Xtraina) // bs):\n",
    "                Xbatcha = Xtraina[j*bs:(j+1)*bs]\n",
    "                Xbatchb = Xtrainb[j*bs:(j+1)*bs]\n",
    "                Ybatch = Ytrain[j*bs:(j+1)*bs]\n",
    "                train_cost += self._session.run(\n",
    "                    [self._final_ce_loss],\n",
    "                    feed_dict={\n",
    "                        self._images1: Xbatcha,\n",
    "                        self._images2: Xbatchb,\n",
    "                        self._labels: Ybatch\n",
    "                    })[0]\n",
    "            \n",
    "            print('Epoch:', i,\n",
    "                  'Train cost: {:0.4f}'.format(train_cost / (len(Xtraina) // bs)),\n",
    "                  'Test cost: {:0.4f}'.format(test_cost / (len(Xtesta) // bs)),\n",
    "                 )\n",
    "        if iterator is not None:\n",
    "            iterator.close()\n",
    "        return {'train costs': train_costs, 'train errors': train_errors}\n",
    "        \n",
    "    def predict(self, val):\n",
    "        return self._session.run(\n",
    "            self._inference_out,\n",
    "            feed_dict={\n",
    "                self._images1: val[0],\n",
    "                self._images2: val[1]\n",
    "            }\n",
    "        )"
   ]
  },
  {
   "cell_type": "code",
   "execution_count": 15,
   "metadata": {},
   "outputs": [],
   "source": [
    "model = Regressor(in_x1, in_x2, out_x=dense7)"
   ]
  },
  {
   "cell_type": "code",
   "execution_count": 16,
   "metadata": {},
   "outputs": [],
   "source": [
    "ses = tf.Session()"
   ]
  },
  {
   "cell_type": "code",
   "execution_count": 17,
   "metadata": {},
   "outputs": [
    {
     "name": "stdout",
     "output_type": "stream",
     "text": [
      "WARNING:tensorflow:From /home/ikilbas/anaconda3/lib/python3.7/site-packages/makiflow/base/maki_entities.py:152: The name tf.variables_initializer is deprecated. Please use tf.compat.v1.variables_initializer instead.\n",
      "\n"
     ]
    }
   ],
   "source": [
    "model.set_session(ses)"
   ]
  },
  {
   "cell_type": "code",
   "execution_count": 18,
   "metadata": {},
   "outputs": [],
   "source": [
    "layers = [\n",
    "    'conv1/conv1_1',\n",
    "\t\t 'conv1/conv1_2',\n",
    "\t\t 'block1_pool',\n",
    "\t\t 'conv2/conv2_1',\n",
    "\t\t 'conv2/conv2_2',\n",
    "\t\t 'block2_pool',\n",
    "\t\t 'conv3/conv3_1',\n",
    "\t\t 'conv3/conv3_2',\n",
    "\t\t 'conv3/conv3_3',\n",
    "\t\t 'block3_pool',\n",
    "\t\t 'conv4/conv4_1',\n",
    "\t\t 'conv4/conv4_2',\n",
    "\t\t 'conv4/conv4_3',\n",
    "\t\t 'block4_pool',\n",
    "\t\t 'conv5/conv5_1',\n",
    "\t\t 'conv5/conv5_2',\n",
    "\t\t 'conv5/conv5_3',\n",
    "]"
   ]
  },
  {
   "cell_type": "code",
   "execution_count": 19,
   "metadata": {},
   "outputs": [],
   "source": [
    "#model.load_weights('/home/ikilbas/USA/weights/vgg16/model_vgg16.ckpt', layer_names=[])"
   ]
  },
  {
   "cell_type": "code",
   "execution_count": 20,
   "metadata": {},
   "outputs": [],
   "source": [
    "layers = []"
   ]
  },
  {
   "cell_type": "code",
   "execution_count": 21,
   "metadata": {},
   "outputs": [
    {
     "name": "stdout",
     "output_type": "stream",
     "text": [
      "WARNING:tensorflow:From /home/ikilbas/anaconda3/lib/python3.7/site-packages/makiflow/layers/trainable_layers.py:652: The name tf.assign is deprecated. Please use tf.compat.v1.assign instead.\n",
      "\n",
      "WARNING:tensorflow:From /home/ikilbas/anaconda3/lib/python3.7/site-packages/makiflow/layers/untrainable_layers.py:526: calling dropout (from tensorflow.python.ops.nn_ops) with keep_prob is deprecated and will be removed in a future version.\n",
      "Instructions for updating:\n",
      "Please use `rate` instead of `keep_prob`. Rate should be set to `rate = 1 - keep_prob`.\n"
     ]
    }
   ],
   "source": [
    "model.set_layers_trainable([(l, False) for l in layers])"
   ]
  },
  {
   "cell_type": "code",
   "execution_count": 22,
   "metadata": {},
   "outputs": [],
   "source": [
    "import numpy as np"
   ]
  },
  {
   "cell_type": "code",
   "execution_count": 23,
   "metadata": {},
   "outputs": [],
   "source": [
    "global_step = tf.Variable(0, trainable=False)\n",
    "\n",
    "\n",
    "def get_cosine_decay(lr, steps=10,t_mul=2.0,m_mul=1.0,alpha=1e-4):\n",
    "    global global_step, one_epoch\n",
    "    return tf.train.cosine_decay_restarts(learning_rate=lr,\n",
    "        global_step=global_step,\n",
    "        first_decay_steps=39*steps,\n",
    "        t_mul=t_mul,\n",
    "        m_mul=m_mul,\n",
    "        alpha=alpha,\n",
    "        name='supa_optimizer_lr')"
   ]
  },
  {
   "cell_type": "code",
   "execution_count": 24,
   "metadata": {},
   "outputs": [],
   "source": [
    "#opt = tf.train.AdamOptimizer(learning_rate=5e-4, epsilon=1e-2)\n",
    "opt = tf.train.MomentumOptimizer(learning_rate=get_cosine_decay(5e-2),momentum=0.9,use_nesterov=True)"
   ]
  },
  {
   "cell_type": "code",
   "execution_count": 25,
   "metadata": {},
   "outputs": [
    {
     "name": "stdout",
     "output_type": "stream",
     "text": [
      "WARNING:tensorflow:From /home/ikilbas/anaconda3/lib/python3.7/site-packages/tensorflow/python/util/tf_should_use.py:193: initialize_variables (from tensorflow.python.ops.variables) is deprecated and will be removed after 2017-03-02.\n",
      "Instructions for updating:\n",
      "Use `tf.variables_initializer` instead.\n"
     ]
    }
   ],
   "source": [
    "ses.run(tf.initialize_variables([global_step]))"
   ]
  },
  {
   "cell_type": "code",
   "execution_count": 26,
   "metadata": {},
   "outputs": [],
   "source": [
    "import pandas as pd"
   ]
  },
  {
   "cell_type": "code",
   "execution_count": 27,
   "metadata": {},
   "outputs": [
    {
     "name": "stderr",
     "output_type": "stream",
     "text": [
      "/home/ikilbas/anaconda3/lib/python3.7/site-packages/ipykernel_launcher.py:1: FutureWarning: from_csv is deprecated. Please use read_csv(...) instead. Note that some of the default arguments are different, so please refer to the documentation for from_csv when changing your function calls\n",
      "  \"\"\"Entry point for launching an IPython kernel.\n",
      "/home/ikilbas/anaconda3/lib/python3.7/site-packages/ipykernel_launcher.py:2: FutureWarning: from_csv is deprecated. Please use read_csv(...) instead. Note that some of the default arguments are different, so please refer to the documentation for from_csv when changing your function calls\n",
      "  \n",
      "/home/ikilbas/anaconda3/lib/python3.7/site-packages/ipykernel_launcher.py:3: FutureWarning: from_csv is deprecated. Please use read_csv(...) instead. Note that some of the default arguments are different, so please refer to the documentation for from_csv when changing your function calls\n",
      "  This is separate from the ipykernel package so we can avoid doing imports until\n"
     ]
    }
   ],
   "source": [
    "df = pd.DataFrame.from_csv('/mnt/data/nn_matching/DatasetNN_02/res_2.csv', sep=';')\n",
    "df2 = pd.DataFrame.from_csv('/mnt/data/nn_matching/DatasetNN_06/res_2.csv', sep=';')\n",
    "df3 = pd.DataFrame.from_csv('/mnt/data/nn_matching/DatasetNN_03/res_2.csv', sep=';')"
   ]
  },
  {
   "cell_type": "code",
   "execution_count": 28,
   "metadata": {},
   "outputs": [
    {
     "data": {
      "text/html": [
       "<div>\n",
       "<style scoped>\n",
       "    .dataframe tbody tr th:only-of-type {\n",
       "        vertical-align: middle;\n",
       "    }\n",
       "\n",
       "    .dataframe tbody tr th {\n",
       "        vertical-align: top;\n",
       "    }\n",
       "\n",
       "    .dataframe thead th {\n",
       "        text-align: right;\n",
       "    }\n",
       "</style>\n",
       "<table border=\"1\" class=\"dataframe\">\n",
       "  <thead>\n",
       "    <tr style=\"text-align: right;\">\n",
       "      <th></th>\n",
       "      <th>cryteria</th>\n",
       "      <th>pairs</th>\n",
       "      <th>blur</th>\n",
       "      <th>threshold</th>\n",
       "    </tr>\n",
       "    <tr>\n",
       "      <th>folder</th>\n",
       "      <th></th>\n",
       "      <th></th>\n",
       "      <th></th>\n",
       "      <th></th>\n",
       "    </tr>\n",
       "  </thead>\n",
       "  <tbody>\n",
       "    <tr>\n",
       "      <th>5001</th>\n",
       "      <td>0.064932</td>\n",
       "      <td>5</td>\n",
       "      <td>23</td>\n",
       "      <td>100</td>\n",
       "    </tr>\n",
       "    <tr>\n",
       "      <th>5006</th>\n",
       "      <td>0.054266</td>\n",
       "      <td>9</td>\n",
       "      <td>29</td>\n",
       "      <td>127</td>\n",
       "    </tr>\n",
       "    <tr>\n",
       "      <th>5006</th>\n",
       "      <td>0.054266</td>\n",
       "      <td>9</td>\n",
       "      <td>29</td>\n",
       "      <td>128</td>\n",
       "    </tr>\n",
       "    <tr>\n",
       "      <th>5006</th>\n",
       "      <td>0.054266</td>\n",
       "      <td>9</td>\n",
       "      <td>33</td>\n",
       "      <td>128</td>\n",
       "    </tr>\n",
       "    <tr>\n",
       "      <th>5007</th>\n",
       "      <td>0.043527</td>\n",
       "      <td>5</td>\n",
       "      <td>21</td>\n",
       "      <td>186</td>\n",
       "    </tr>\n",
       "  </tbody>\n",
       "</table>\n",
       "</div>"
      ],
      "text/plain": [
       "        cryteria  pairs  blur  threshold\n",
       "folder                                  \n",
       "5001    0.064932      5    23        100\n",
       "5006    0.054266      9    29        127\n",
       "5006    0.054266      9    29        128\n",
       "5006    0.054266      9    33        128\n",
       "5007    0.043527      5    21        186"
      ]
     },
     "execution_count": 28,
     "metadata": {},
     "output_type": "execute_result"
    }
   ],
   "source": [
    "df2.head()"
   ]
  },
  {
   "cell_type": "code",
   "execution_count": 29,
   "metadata": {},
   "outputs": [],
   "source": [
    "import matplotlib.pyplot as plt\n"
   ]
  },
  {
   "cell_type": "code",
   "execution_count": 30,
   "metadata": {},
   "outputs": [
    {
     "data": {
      "text/plain": [
       "[<matplotlib.lines.Line2D at 0x7f51e47c43c8>]"
      ]
     },
     "execution_count": 30,
     "metadata": {},
     "output_type": "execute_result"
    },
    {
     "data": {
      "image/png": "[encoded data removed]",
      "text/plain": [
       "<Figure size 432x288 with 1 Axes>"
      ]
     },
     "metadata": {
      "needs_background": "light"
     },
     "output_type": "display_data"
    }
   ],
   "source": [
    "plt.plot((df['threshold'] - df['threshold'].mean()) / df['threshold'].std())"
   ]
  },
  {
   "cell_type": "code",
   "execution_count": 31,
   "metadata": {},
   "outputs": [
    {
     "data": {
      "text/plain": [
       "[<matplotlib.lines.Line2D at 0x7f51e4754d30>]"
      ]
     },
     "execution_count": 31,
     "metadata": {},
     "output_type": "execute_result"
    },
    {
     "data": {
      "image/png": "[encoded data removed]",
      "text/plain": [
       "<Figure size 432x288 with 1 Axes>"
      ]
     },
     "metadata": {
      "needs_background": "light"
     },
     "output_type": "display_data"
    }
   ],
   "source": [
    "plt.plot((df['blur']))# - df['blur'].mean()) / df['blur'].std())"
   ]
  },
  {
   "cell_type": "code",
   "execution_count": 32,
   "metadata": {},
   "outputs": [],
   "source": [
    "import cv2\n",
    "import numpy as np"
   ]
  },
  {
   "cell_type": "code",
   "execution_count": 33,
   "metadata": {},
   "outputs": [],
   "source": [
    "uniq, counts = np.unique(df.index, return_counts=True)\n",
    "uniq2, counts2 = np.unique(df2.index, return_counts=True)\n",
    "uniq3, counts3 = np.unique(df3.index, return_counts=True)"
   ]
  },
  {
   "cell_type": "code",
   "execution_count": 34,
   "metadata": {},
   "outputs": [],
   "source": [
    "single_values = uniq[counts==1]\n",
    "single_values2 = uniq2[counts2==1]\n",
    "single_values3 = uniq3[counts3==1]"
   ]
  },
  {
   "cell_type": "code",
   "execution_count": 35,
   "metadata": {},
   "outputs": [],
   "source": [
    "import os\n",
    "\n",
    "def preprocess_input2(x):\n",
    "    #size = (x.shape[1] // 2, x.shape[0] // 2)\n",
    "    x = cv2.resize(x, (image_size, image_size)).astype(np.float32)\n",
    "    #mean = [103.939, 116.779, 123.68]\n",
    "    # x = x[...,::-1]\n",
    "    #x[..., 0] = x[..., 0] - mean[0]\n",
    "    #x[..., 1] = x[..., 1] - mean[1]\n",
    "    #x[..., 2] = x[..., 2] - mean[2]\n",
    "    x = ((x / 128) - 1).astype(np.float32)\n",
    "    return x"
   ]
  },
  {
   "cell_type": "code",
   "execution_count": 36,
   "metadata": {},
   "outputs": [],
   "source": [
    "imgsa = []\n",
    "imgsb = []\n",
    "for folder_name in single_values:\n",
    "    path = os.path.join('/mnt/data/nn_matching/DatasetNN_02/', str(folder_name), 'original')\n",
    "    im_1 = os.path.join(path, '1.jpg')\n",
    "    im_2 = os.path.join(path, '2.jpg')\n",
    "    imgsa += [preprocess_input2(cv2.imread(im_1))]\n",
    "    imgsb += [preprocess_input2(cv2.imread(im_2))]\n",
    "\n"
   ]
  },
  {
   "cell_type": "code",
   "execution_count": 37,
   "metadata": {},
   "outputs": [],
   "source": [
    "for folder_name in single_values2:\n",
    "    path = os.path.join('/mnt/data/nn_matching/DatasetNN_06/', str(folder_name), 'original')\n",
    "    im_1 = os.path.join(path, '1.jpg')\n",
    "    im_2 = os.path.join(path, '2.jpg')\n",
    "    imgsa += [preprocess_input2(cv2.imread(im_1))]\n",
    "    imgsb += [preprocess_input2(cv2.imread(im_2))]"
   ]
  },
  {
   "cell_type": "code",
   "execution_count": 38,
   "metadata": {},
   "outputs": [],
   "source": [
    "for folder_name in single_values3:\n",
    "    path = os.path.join('/mnt/data/nn_matching/DatasetNN_03/', str(folder_name), 'original')\n",
    "    im_1 = os.path.join(path, '1.jpg')\n",
    "    im_2 = os.path.join(path, '2.jpg')\n",
    "    imgsa += [preprocess_input2(cv2.imread(im_1))]\n",
    "    imgsb += [preprocess_input2(cv2.imread(im_2))]"
   ]
  },
  {
   "cell_type": "code",
   "execution_count": 39,
   "metadata": {},
   "outputs": [],
   "source": [
    "name_type = ['blur', 'threshold']"
   ]
  },
  {
   "cell_type": "code",
   "execution_count": 40,
   "metadata": {},
   "outputs": [],
   "source": [
    "blur = df[name_type[1]][single_values].values# - df['blur'][single_values].values.mean()) / df['blur'][single_values].values.std()"
   ]
  },
  {
   "cell_type": "code",
   "execution_count": 41,
   "metadata": {},
   "outputs": [],
   "source": [
    "blur2 = df2[name_type[1]][single_values2].values# - df2['blur'][single_values2].values.mean()) / df2['blur'][single_values2].values.std()"
   ]
  },
  {
   "cell_type": "code",
   "execution_count": 42,
   "metadata": {},
   "outputs": [],
   "source": [
    "blur3 = df3[name_type[1]][single_values3].values# - df2['blur'][single_values2].values.mean()) / df2['blur'][single_values2].values.std()"
   ]
  },
  {
   "cell_type": "code",
   "execution_count": 43,
   "metadata": {},
   "outputs": [],
   "source": [
    "bl = np.concatenate([blur, blur2, blur3])"
   ]
  },
  {
   "cell_type": "code",
   "execution_count": 44,
   "metadata": {},
   "outputs": [],
   "source": [
    "bl = bl - bl.mean()"
   ]
  },
  {
   "cell_type": "code",
   "execution_count": 45,
   "metadata": {},
   "outputs": [],
   "source": [
    "output = model._graph_tensors"
   ]
  },
  {
   "cell_type": "code",
   "execution_count": 46,
   "metadata": {},
   "outputs": [],
   "source": [
    "names = [name for name,value in output.items()]"
   ]
  },
  {
   "cell_type": "code",
   "execution_count": 47,
   "metadata": {},
   "outputs": [],
   "source": [
    "train_layers = []\n",
    "for elem in names:\n",
    "    if elem not in layers:\n",
    "        train_layers.append(elem)"
   ]
  },
  {
   "cell_type": "code",
   "execution_count": 48,
   "metadata": {},
   "outputs": [],
   "source": [
    "#model.set_l1_reg([(name,1e-5) for name in train_layers])\n",
    "model.set_l2_reg([(name,1e-4) for name in train_layers])"
   ]
  },
  {
   "cell_type": "code",
   "execution_count": null,
   "metadata": {
    "scrolled": true
   },
   "outputs": [
    {
     "name": "stderr",
     "output_type": "stream",
     "text": [
      "100%|██████████| 39/39 [00:20<00:00,  9.19it/s]\n",
      "  5%|▌         | 2/39 [00:00<00:03, 11.61it/s]"
     ]
    },
    {
     "name": "stdout",
     "output_type": "stream",
     "text": [
      "Epoch: 0 Train cost: 30.3264 Test cost: 22.2700\n"
     ]
    },
    {
     "name": "stderr",
     "output_type": "stream",
     "text": [
      "100%|██████████| 39/39 [00:03<00:00, 11.65it/s]\n",
      "  5%|▌         | 2/39 [00:00<00:03, 12.22it/s]"
     ]
    },
    {
     "name": "stdout",
     "output_type": "stream",
     "text": [
      "Epoch: 1 Train cost: 24.9116 Test cost: 22.0370\n"
     ]
    },
    {
     "name": "stderr",
     "output_type": "stream",
     "text": [
      "100%|██████████| 39/39 [00:03<00:00, 12.07it/s]\n",
      "  3%|▎         | 1/39 [00:00<00:04,  8.69it/s]"
     ]
    },
    {
     "name": "stdout",
     "output_type": "stream",
     "text": [
      "Epoch: 2 Train cost: 19.6965 Test cost: 18.9151\n"
     ]
    },
    {
     "name": "stderr",
     "output_type": "stream",
     "text": [
      "100%|██████████| 39/39 [00:03<00:00, 11.71it/s]\n",
      "  5%|▌         | 2/39 [00:00<00:03, 11.24it/s]"
     ]
    },
    {
     "name": "stdout",
     "output_type": "stream",
     "text": [
      "Epoch: 3 Train cost: 19.7497 Test cost: 16.9927\n"
     ]
    },
    {
     "name": "stderr",
     "output_type": "stream",
     "text": [
      "100%|██████████| 39/39 [00:03<00:00, 11.67it/s]\n",
      "  3%|▎         | 1/39 [00:00<00:03,  9.52it/s]"
     ]
    },
    {
     "name": "stdout",
     "output_type": "stream",
     "text": [
      "Epoch: 4 Train cost: 18.8368 Test cost: 16.2581\n"
     ]
    },
    {
     "name": "stderr",
     "output_type": "stream",
     "text": [
      "100%|██████████| 39/39 [00:03<00:00, 11.72it/s]\n",
      "  5%|▌         | 2/39 [00:00<00:03, 11.68it/s]"
     ]
    },
    {
     "name": "stdout",
     "output_type": "stream",
     "text": [
      "Epoch: 5 Train cost: 23.6828 Test cost: 23.0684\n"
     ]
    },
    {
     "name": "stderr",
     "output_type": "stream",
     "text": [
      "100%|██████████| 39/39 [00:03<00:00, 11.59it/s]\n",
      "  5%|▌         | 2/39 [00:00<00:02, 12.49it/s]"
     ]
    },
    {
     "name": "stdout",
     "output_type": "stream",
     "text": [
      "Epoch: 6 Train cost: 18.3069 Test cost: 15.7179\n"
     ]
    },
    {
     "name": "stderr",
     "output_type": "stream",
     "text": [
      "100%|██████████| 39/39 [00:03<00:00, 12.07it/s]\n",
      "  5%|▌         | 2/39 [00:00<00:03, 10.30it/s]"
     ]
    },
    {
     "name": "stdout",
     "output_type": "stream",
     "text": [
      "Epoch: 7 Train cost: 17.9999 Test cost: 16.0746\n"
     ]
    },
    {
     "name": "stderr",
     "output_type": "stream",
     "text": [
      "100%|██████████| 39/39 [00:03<00:00, 11.81it/s]\n",
      "  5%|▌         | 2/39 [00:00<00:03, 10.55it/s]"
     ]
    },
    {
     "name": "stdout",
     "output_type": "stream",
     "text": [
      "Epoch: 8 Train cost: 18.2255 Test cost: 14.9516\n"
     ]
    },
    {
     "name": "stderr",
     "output_type": "stream",
     "text": [
      "100%|██████████| 39/39 [00:03<00:00, 11.64it/s]\n",
      "  5%|▌         | 2/39 [00:00<00:03, 12.06it/s]"
     ]
    },
    {
     "name": "stdout",
     "output_type": "stream",
     "text": [
      "Epoch: 9 Train cost: 17.9828 Test cost: 15.4441\n"
     ]
    },
    {
     "name": "stderr",
     "output_type": "stream",
     "text": [
      "100%|██████████| 39/39 [00:03<00:00, 11.92it/s]\n",
      "  3%|▎         | 1/39 [00:00<00:03,  9.66it/s]"
     ]
    },
    {
     "name": "stdout",
     "output_type": "stream",
     "text": [
      "Epoch: 10 Train cost: 20.4165 Test cost: 18.6895\n"
     ]
    },
    {
     "name": "stderr",
     "output_type": "stream",
     "text": [
      "100%|██████████| 39/39 [00:03<00:00, 11.67it/s]\n",
      "  5%|▌         | 2/39 [00:00<00:03, 12.07it/s]"
     ]
    },
    {
     "name": "stdout",
     "output_type": "stream",
     "text": [
      "Epoch: 11 Train cost: 19.7369 Test cost: 16.8132\n"
     ]
    },
    {
     "name": "stderr",
     "output_type": "stream",
     "text": [
      "100%|██████████| 39/39 [00:03<00:00, 11.97it/s]\n",
      "  0%|          | 0/39 [00:00<?, ?it/s]"
     ]
    },
    {
     "name": "stdout",
     "output_type": "stream",
     "text": [
      "Epoch: 12 Train cost: 18.6039 Test cost: 17.2932\n"
     ]
    },
    {
     "name": "stderr",
     "output_type": "stream",
     "text": [
      "100%|██████████| 39/39 [00:03<00:00, 11.73it/s]\n",
      "  3%|▎         | 1/39 [00:00<00:04,  8.98it/s]"
     ]
    },
    {
     "name": "stdout",
     "output_type": "stream",
     "text": [
      "Epoch: 13 Train cost: 21.9548 Test cost: 19.8565\n"
     ]
    },
    {
     "name": "stderr",
     "output_type": "stream",
     "text": [
      "100%|██████████| 39/39 [00:03<00:00, 11.67it/s]\n",
      "  5%|▌         | 2/39 [00:00<00:03, 11.26it/s]"
     ]
    },
    {
     "name": "stdout",
     "output_type": "stream",
     "text": [
      "Epoch: 14 Train cost: 22.1191 Test cost: 21.7447\n"
     ]
    },
    {
     "name": "stderr",
     "output_type": "stream",
     "text": [
      "100%|██████████| 39/39 [00:03<00:00, 11.94it/s]\n",
      "  5%|▌         | 2/39 [00:00<00:03, 11.12it/s]"
     ]
    },
    {
     "name": "stdout",
     "output_type": "stream",
     "text": [
      "Epoch: 15 Train cost: 19.1234 Test cost: 16.9938\n"
     ]
    },
    {
     "name": "stderr",
     "output_type": "stream",
     "text": [
      "100%|██████████| 39/39 [00:03<00:00, 11.45it/s]\n",
      "  5%|▌         | 2/39 [00:00<00:03, 11.86it/s]"
     ]
    },
    {
     "name": "stdout",
     "output_type": "stream",
     "text": [
      "Epoch: 16 Train cost: 18.5520 Test cost: 19.1118\n"
     ]
    },
    {
     "name": "stderr",
     "output_type": "stream",
     "text": [
      "100%|██████████| 39/39 [00:03<00:00, 11.64it/s]\n",
      "  5%|▌         | 2/39 [00:00<00:03, 10.82it/s]"
     ]
    },
    {
     "name": "stdout",
     "output_type": "stream",
     "text": [
      "Epoch: 17 Train cost: 17.6734 Test cost: 15.5009\n"
     ]
    },
    {
     "name": "stderr",
     "output_type": "stream",
     "text": [
      "100%|██████████| 39/39 [00:03<00:00, 11.61it/s]\n",
      "  5%|▌         | 2/39 [00:00<00:03, 12.09it/s]"
     ]
    },
    {
     "name": "stdout",
     "output_type": "stream",
     "text": [
      "Epoch: 18 Train cost: 18.5416 Test cost: 17.5324\n"
     ]
    },
    {
     "name": "stderr",
     "output_type": "stream",
     "text": [
      "100%|██████████| 39/39 [00:03<00:00, 11.72it/s]\n",
      "  5%|▌         | 2/39 [00:00<00:03, 10.81it/s]"
     ]
    },
    {
     "name": "stdout",
     "output_type": "stream",
     "text": [
      "Epoch: 19 Train cost: 19.1357 Test cost: 18.2877\n"
     ]
    },
    {
     "name": "stderr",
     "output_type": "stream",
     "text": [
      "100%|██████████| 39/39 [00:03<00:00, 11.34it/s]\n",
      "  5%|▌         | 2/39 [00:00<00:03, 11.55it/s]"
     ]
    },
    {
     "name": "stdout",
     "output_type": "stream",
     "text": [
      "Epoch: 20 Train cost: 18.2299 Test cost: 17.5285\n"
     ]
    },
    {
     "name": "stderr",
     "output_type": "stream",
     "text": [
      "100%|██████████| 39/39 [00:03<00:00, 11.89it/s]\n",
      "  5%|▌         | 2/39 [00:00<00:03, 10.79it/s]"
     ]
    },
    {
     "name": "stdout",
     "output_type": "stream",
     "text": [
      "Epoch: 21 Train cost: 17.0640 Test cost: 16.0612\n"
     ]
    },
    {
     "name": "stderr",
     "output_type": "stream",
     "text": [
      "100%|██████████| 39/39 [00:03<00:00, 11.86it/s]\n",
      "  5%|▌         | 2/39 [00:00<00:03, 11.51it/s]"
     ]
    },
    {
     "name": "stdout",
     "output_type": "stream",
     "text": [
      "Epoch: 22 Train cost: 16.9700 Test cost: 14.9742\n"
     ]
    },
    {
     "name": "stderr",
     "output_type": "stream",
     "text": [
      "100%|██████████| 39/39 [00:03<00:00, 11.66it/s]\n",
      "  5%|▌         | 2/39 [00:00<00:03, 10.75it/s]"
     ]
    },
    {
     "name": "stdout",
     "output_type": "stream",
     "text": [
      "Epoch: 23 Train cost: 16.8958 Test cost: 16.3453\n"
     ]
    },
    {
     "name": "stderr",
     "output_type": "stream",
     "text": [
      "100%|██████████| 39/39 [00:03<00:00, 11.74it/s]\n",
      "  5%|▌         | 2/39 [00:00<00:03, 10.78it/s]"
     ]
    },
    {
     "name": "stdout",
     "output_type": "stream",
     "text": [
      "Epoch: 24 Train cost: 17.5256 Test cost: 18.2523\n"
     ]
    },
    {
     "name": "stderr",
     "output_type": "stream",
     "text": [
      "100%|██████████| 39/39 [00:03<00:00, 11.62it/s]\n",
      "  5%|▌         | 2/39 [00:00<00:03, 12.13it/s]"
     ]
    },
    {
     "name": "stdout",
     "output_type": "stream",
     "text": [
      "Epoch: 25 Train cost: 17.1080 Test cost: 15.8061\n"
     ]
    },
    {
     "name": "stderr",
     "output_type": "stream",
     "text": [
      "100%|██████████| 39/39 [00:03<00:00, 11.39it/s]\n",
      "  5%|▌         | 2/39 [00:00<00:03, 10.88it/s]"
     ]
    },
    {
     "name": "stdout",
     "output_type": "stream",
     "text": [
      "Epoch: 26 Train cost: 16.6528 Test cost: 17.2205\n"
     ]
    },
    {
     "name": "stderr",
     "output_type": "stream",
     "text": [
      "100%|██████████| 39/39 [00:03<00:00, 11.36it/s]\n",
      "  5%|▌         | 2/39 [00:00<00:03, 10.63it/s]"
     ]
    },
    {
     "name": "stdout",
     "output_type": "stream",
     "text": [
      "Epoch: 27 Train cost: 16.4049 Test cost: 16.9896\n"
     ]
    },
    {
     "name": "stderr",
     "output_type": "stream",
     "text": [
      "100%|██████████| 39/39 [00:03<00:00, 11.44it/s]\n",
      "  5%|▌         | 2/39 [00:00<00:03, 10.71it/s]"
     ]
    },
    {
     "name": "stdout",
     "output_type": "stream",
     "text": [
      "Epoch: 28 Train cost: 16.3760 Test cost: 15.7960\n"
     ]
    },
    {
     "name": "stderr",
     "output_type": "stream",
     "text": [
      "100%|██████████| 39/39 [00:03<00:00, 11.45it/s]\n",
      "  5%|▌         | 2/39 [00:00<00:03, 10.73it/s]"
     ]
    },
    {
     "name": "stdout",
     "output_type": "stream",
     "text": [
      "Epoch: 29 Train cost: 16.5951 Test cost: 15.7596\n"
     ]
    },
    {
     "name": "stderr",
     "output_type": "stream",
     "text": [
      "100%|██████████| 39/39 [00:03<00:00, 11.52it/s]\n",
      "  5%|▌         | 2/39 [00:00<00:03, 11.30it/s]"
     ]
    },
    {
     "name": "stdout",
     "output_type": "stream",
     "text": [
      "Epoch: 30 Train cost: 19.0723 Test cost: 17.3002\n"
     ]
    },
    {
     "name": "stderr",
     "output_type": "stream",
     "text": [
      "100%|██████████| 39/39 [00:03<00:00, 11.52it/s]\n",
      "  5%|▌         | 2/39 [00:00<00:03, 11.26it/s]"
     ]
    },
    {
     "name": "stdout",
     "output_type": "stream",
     "text": [
      "Epoch: 31 Train cost: 19.0884 Test cost: 16.2987\n"
     ]
    },
    {
     "name": "stderr",
     "output_type": "stream",
     "text": [
      "100%|██████████| 39/39 [00:03<00:00, 10.98it/s]\n",
      "  5%|▌         | 2/39 [00:00<00:03, 11.41it/s]"
     ]
    },
    {
     "name": "stdout",
     "output_type": "stream",
     "text": [
      "Epoch: 32 Train cost: 18.6239 Test cost: 18.1193\n"
     ]
    },
    {
     "name": "stderr",
     "output_type": "stream",
     "text": [
      "100%|██████████| 39/39 [00:03<00:00, 11.12it/s]\n",
      "  5%|▌         | 2/39 [00:00<00:03, 11.59it/s]"
     ]
    },
    {
     "name": "stdout",
     "output_type": "stream",
     "text": [
      "Epoch: 33 Train cost: 20.0457 Test cost: 19.6489\n"
     ]
    },
    {
     "name": "stderr",
     "output_type": "stream",
     "text": [
      "100%|██████████| 39/39 [00:03<00:00, 11.46it/s]\n",
      "  5%|▌         | 2/39 [00:00<00:03, 12.18it/s]"
     ]
    },
    {
     "name": "stdout",
     "output_type": "stream",
     "text": [
      "Epoch: 34 Train cost: 19.6388 Test cost: 19.6544\n"
     ]
    },
    {
     "name": "stderr",
     "output_type": "stream",
     "text": [
      "100%|██████████| 39/39 [00:03<00:00, 11.34it/s]\n",
      "  5%|▌         | 2/39 [00:00<00:02, 12.56it/s]"
     ]
    },
    {
     "name": "stdout",
     "output_type": "stream",
     "text": [
      "Epoch: 35 Train cost: 23.2513 Test cost: 20.1800\n"
     ]
    },
    {
     "name": "stderr",
     "output_type": "stream",
     "text": [
      "100%|██████████| 39/39 [00:03<00:00, 11.69it/s]\n",
      "  5%|▌         | 2/39 [00:00<00:03, 11.50it/s]"
     ]
    },
    {
     "name": "stdout",
     "output_type": "stream",
     "text": [
      "Epoch: 36 Train cost: 19.5880 Test cost: 21.2984\n"
     ]
    },
    {
     "name": "stderr",
     "output_type": "stream",
     "text": [
      "100%|██████████| 39/39 [00:03<00:00, 11.35it/s]\n",
      "  5%|▌         | 2/39 [00:00<00:03, 11.35it/s]"
     ]
    },
    {
     "name": "stdout",
     "output_type": "stream",
     "text": [
      "Epoch: 37 Train cost: 17.8159 Test cost: 17.9855\n"
     ]
    },
    {
     "name": "stderr",
     "output_type": "stream",
     "text": [
      "100%|██████████| 39/39 [00:03<00:00, 11.43it/s]\n",
      "  5%|▌         | 2/39 [00:00<00:03, 10.54it/s]"
     ]
    },
    {
     "name": "stdout",
     "output_type": "stream",
     "text": [
      "Epoch: 38 Train cost: 20.6167 Test cost: 18.9553\n"
     ]
    },
    {
     "name": "stderr",
     "output_type": "stream",
     "text": [
      "100%|██████████| 39/39 [00:03<00:00, 10.93it/s]\n",
      "  3%|▎         | 1/39 [00:00<00:03,  9.81it/s]"
     ]
    },
    {
     "name": "stdout",
     "output_type": "stream",
     "text": [
      "Epoch: 39 Train cost: 18.1256 Test cost: 16.0145\n"
     ]
    },
    {
     "name": "stderr",
     "output_type": "stream",
     "text": [
      "100%|██████████| 39/39 [00:03<00:00, 11.27it/s]\n",
      "  5%|▌         | 2/39 [00:00<00:02, 12.51it/s]"
     ]
    },
    {
     "name": "stdout",
     "output_type": "stream",
     "text": [
      "Epoch: 40 Train cost: 16.9553 Test cost: 17.3375\n"
     ]
    },
    {
     "name": "stderr",
     "output_type": "stream",
     "text": [
      "100%|██████████| 39/39 [00:03<00:00, 10.68it/s]\n",
      "  5%|▌         | 2/39 [00:00<00:03, 11.79it/s]"
     ]
    },
    {
     "name": "stdout",
     "output_type": "stream",
     "text": [
      "Epoch: 41 Train cost: 18.8846 Test cost: 17.9547\n"
     ]
    },
    {
     "name": "stderr",
     "output_type": "stream",
     "text": [
      "100%|██████████| 39/39 [00:03<00:00, 11.18it/s]\n",
      "  3%|▎         | 1/39 [00:00<00:04,  8.74it/s]"
     ]
    },
    {
     "name": "stdout",
     "output_type": "stream",
     "text": [
      "Epoch: 42 Train cost: 16.6359 Test cost: 18.2128\n"
     ]
    },
    {
     "name": "stderr",
     "output_type": "stream",
     "text": [
      "100%|██████████| 39/39 [00:03<00:00, 11.14it/s]\n",
      "  5%|▌         | 2/39 [00:00<00:03, 11.23it/s]"
     ]
    },
    {
     "name": "stdout",
     "output_type": "stream",
     "text": [
      "Epoch: 43 Train cost: 16.4466 Test cost: 16.0012\n"
     ]
    },
    {
     "name": "stderr",
     "output_type": "stream",
     "text": [
      "100%|██████████| 39/39 [00:03<00:00, 11.19it/s]\n",
      "  3%|▎         | 1/39 [00:00<00:04,  9.28it/s]"
     ]
    },
    {
     "name": "stdout",
     "output_type": "stream",
     "text": [
      "Epoch: 44 Train cost: 19.4232 Test cost: 21.8877\n"
     ]
    },
    {
     "name": "stderr",
     "output_type": "stream",
     "text": [
      "100%|██████████| 39/39 [00:03<00:00, 11.99it/s]\n",
      "  3%|▎         | 1/39 [00:00<00:03, 10.00it/s]"
     ]
    },
    {
     "name": "stdout",
     "output_type": "stream",
     "text": [
      "Epoch: 45 Train cost: 18.9166 Test cost: 17.5396\n"
     ]
    },
    {
     "name": "stderr",
     "output_type": "stream",
     "text": [
      "100%|██████████| 39/39 [00:03<00:00, 11.19it/s]\n",
      "  5%|▌         | 2/39 [00:00<00:03, 11.40it/s]"
     ]
    },
    {
     "name": "stdout",
     "output_type": "stream",
     "text": [
      "Epoch: 46 Train cost: 20.7021 Test cost: 19.5780\n"
     ]
    },
    {
     "name": "stderr",
     "output_type": "stream",
     "text": [
      "100%|██████████| 39/39 [00:03<00:00, 11.55it/s]\n",
      "  5%|▌         | 2/39 [00:00<00:03, 12.18it/s]"
     ]
    },
    {
     "name": "stdout",
     "output_type": "stream",
     "text": [
      "Epoch: 47 Train cost: 16.4626 Test cost: 15.7289\n"
     ]
    },
    {
     "name": "stderr",
     "output_type": "stream",
     "text": [
      "100%|██████████| 39/39 [00:03<00:00, 11.71it/s]\n",
      "  5%|▌         | 2/39 [00:00<00:03, 11.98it/s]"
     ]
    },
    {
     "name": "stdout",
     "output_type": "stream",
     "text": [
      "Epoch: 48 Train cost: 17.0002 Test cost: 17.1166\n"
     ]
    },
    {
     "name": "stderr",
     "output_type": "stream",
     "text": [
      "100%|██████████| 39/39 [00:03<00:00, 11.27it/s]\n",
      "  5%|▌         | 2/39 [00:00<00:03, 10.71it/s]"
     ]
    },
    {
     "name": "stdout",
     "output_type": "stream",
     "text": [
      "Epoch: 49 Train cost: 15.8795 Test cost: 16.8619\n"
     ]
    },
    {
     "name": "stderr",
     "output_type": "stream",
     "text": [
      "100%|██████████| 39/39 [00:03<00:00, 11.22it/s]\n",
      "  5%|▌         | 2/39 [00:00<00:03, 11.05it/s]"
     ]
    },
    {
     "name": "stdout",
     "output_type": "stream",
     "text": [
      "Epoch: 50 Train cost: 15.7808 Test cost: 16.9027\n"
     ]
    },
    {
     "name": "stderr",
     "output_type": "stream",
     "text": [
      "100%|██████████| 39/39 [00:03<00:00, 11.91it/s]\n",
      "  5%|▌         | 2/39 [00:00<00:03, 11.76it/s]"
     ]
    },
    {
     "name": "stdout",
     "output_type": "stream",
     "text": [
      "Epoch: 51 Train cost: 15.5158 Test cost: 16.9446\n"
     ]
    },
    {
     "name": "stderr",
     "output_type": "stream",
     "text": [
      "100%|██████████| 39/39 [00:03<00:00, 10.62it/s]\n",
      "  0%|          | 0/39 [00:00<?, ?it/s]"
     ]
    },
    {
     "name": "stdout",
     "output_type": "stream",
     "text": [
      "Epoch: 52 Train cost: 15.4580 Test cost: 19.4257\n"
     ]
    },
    {
     "name": "stderr",
     "output_type": "stream",
     "text": [
      "100%|██████████| 39/39 [00:03<00:00, 11.38it/s]\n",
      "  5%|▌         | 2/39 [00:00<00:03, 12.22it/s]"
     ]
    },
    {
     "name": "stdout",
     "output_type": "stream",
     "text": [
      "Epoch: 53 Train cost: 15.1379 Test cost: 15.8554\n"
     ]
    },
    {
     "name": "stderr",
     "output_type": "stream",
     "text": [
      "100%|██████████| 39/39 [00:03<00:00, 11.49it/s]\n",
      "  5%|▌         | 2/39 [00:00<00:03, 11.45it/s]"
     ]
    },
    {
     "name": "stdout",
     "output_type": "stream",
     "text": [
      "Epoch: 54 Train cost: 14.3270 Test cost: 19.5414\n"
     ]
    },
    {
     "name": "stderr",
     "output_type": "stream",
     "text": [
      "100%|██████████| 39/39 [00:03<00:00, 11.63it/s]\n",
      "  5%|▌         | 2/39 [00:00<00:02, 12.54it/s]"
     ]
    },
    {
     "name": "stdout",
     "output_type": "stream",
     "text": [
      "Epoch: 55 Train cost: 14.4064 Test cost: 17.1513\n"
     ]
    },
    {
     "name": "stderr",
     "output_type": "stream",
     "text": [
      "100%|██████████| 39/39 [00:03<00:00, 11.78it/s]\n",
      "  5%|▌         | 2/39 [00:00<00:03, 11.21it/s]"
     ]
    },
    {
     "name": "stdout",
     "output_type": "stream",
     "text": [
      "Epoch: 56 Train cost: 15.3861 Test cost: 19.2842\n"
     ]
    },
    {
     "name": "stderr",
     "output_type": "stream",
     "text": [
      "100%|██████████| 39/39 [00:03<00:00, 12.17it/s]\n",
      "  5%|▌         | 2/39 [00:00<00:03, 10.61it/s]"
     ]
    },
    {
     "name": "stdout",
     "output_type": "stream",
     "text": [
      "Epoch: 57 Train cost: 14.1380 Test cost: 17.7741\n"
     ]
    },
    {
     "name": "stderr",
     "output_type": "stream",
     "text": [
      "100%|██████████| 39/39 [00:03<00:00, 11.32it/s]\n",
      "  5%|▌         | 2/39 [00:00<00:03, 10.36it/s]"
     ]
    },
    {
     "name": "stdout",
     "output_type": "stream",
     "text": [
      "Epoch: 58 Train cost: 14.8794 Test cost: 20.7371\n"
     ]
    },
    {
     "name": "stderr",
     "output_type": "stream",
     "text": [
      "100%|██████████| 39/39 [00:03<00:00, 11.83it/s]\n",
      "  5%|▌         | 2/39 [00:00<00:03, 10.98it/s]"
     ]
    },
    {
     "name": "stdout",
     "output_type": "stream",
     "text": [
      "Epoch: 59 Train cost: 12.8818 Test cost: 17.4608\n"
     ]
    },
    {
     "name": "stderr",
     "output_type": "stream",
     "text": [
      "100%|██████████| 39/39 [00:03<00:00, 11.44it/s]\n",
      "  5%|▌         | 2/39 [00:00<00:02, 12.37it/s]"
     ]
    },
    {
     "name": "stdout",
     "output_type": "stream",
     "text": [
      "Epoch: 60 Train cost: 13.7319 Test cost: 20.5671\n"
     ]
    },
    {
     "name": "stderr",
     "output_type": "stream",
     "text": [
      "100%|██████████| 39/39 [00:03<00:00, 11.56it/s]\n",
      "  5%|▌         | 2/39 [00:00<00:03, 11.81it/s]"
     ]
    },
    {
     "name": "stdout",
     "output_type": "stream",
     "text": [
      "Epoch: 61 Train cost: 13.2606 Test cost: 19.0063\n"
     ]
    },
    {
     "name": "stderr",
     "output_type": "stream",
     "text": [
      "100%|██████████| 39/39 [00:03<00:00, 11.60it/s]\n",
      "  5%|▌         | 2/39 [00:00<00:03, 12.29it/s]"
     ]
    },
    {
     "name": "stdout",
     "output_type": "stream",
     "text": [
      "Epoch: 62 Train cost: 12.6147 Test cost: 18.1471\n"
     ]
    },
    {
     "name": "stderr",
     "output_type": "stream",
     "text": [
      " 77%|███████▋  | 30/39 [00:02<00:00, 11.37it/s]"
     ]
    }
   ],
   "source": [
    "info = model.fit_ce(imgsa[:-100], imgsb[:-100], bl.reshape(-1, 1)[:-100], \n",
    "                    imgsa[-100:], imgsb[-100:], bl.reshape(-1, 1)[-100:],\n",
    "                    opt, epochs=100, global_step=global_step)"
   ]
  },
  {
   "cell_type": "code",
   "execution_count": null,
   "metadata": {},
   "outputs": [],
   "source": [
    "info.keys()"
   ]
  },
  {
   "cell_type": "code",
   "execution_count": null,
   "metadata": {},
   "outputs": [],
   "source": [
    "assert(2==3)"
   ]
  },
  {
   "cell_type": "code",
   "execution_count": null,
   "metadata": {},
   "outputs": [],
   "source": [
    "info.keys()"
   ]
  },
  {
   "cell_type": "code",
   "execution_count": null,
   "metadata": {},
   "outputs": [],
   "source": [
    "model.predict([imgsa[:32], imgsb[:32]])"
   ]
  },
  {
   "cell_type": "code",
   "execution_count": null,
   "metadata": {},
   "outputs": [],
   "source": [
    "bl[:32]"
   ]
  },
  {
   "cell_type": "code",
   "execution_count": null,
   "metadata": {},
   "outputs": [],
   "source": [
    "bl.std()"
   ]
  },
  {
   "cell_type": "code",
   "execution_count": null,
   "metadata": {},
   "outputs": [],
   "source": []
  },
  {
   "cell_type": "code",
   "execution_count": null,
   "metadata": {},
   "outputs": [],
   "source": []
  }
 ],
 "metadata": {
  "kernelspec": {
   "display_name": "Python 3",
   "language": "python",
   "name": "python3"
  },
  "language_info": {
   "codemirror_mode": {
    "name": "ipython",
    "version": 3
   },
   "file_extension": ".py",
   "mimetype": "text/x-python",
   "name": "python",
   "nbconvert_exporter": "python",
   "pygments_lexer": "ipython3",
   "version": "3.7.3"
  }
 },
 "nbformat": 4,
 "nbformat_minor": 2
}
