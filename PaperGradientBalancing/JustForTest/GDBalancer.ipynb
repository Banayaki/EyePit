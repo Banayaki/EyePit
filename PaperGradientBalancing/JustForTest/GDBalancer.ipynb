{
 "cells": [
  {
   "cell_type": "code",
   "execution_count": 1,
   "metadata": {},
   "outputs": [],
   "source": [
    "import numpy as np\n",
    "import tensorflow as tf\n",
    "import pandas as pd\n",
    "from utils import get_unique"
   ]
  },
  {
   "cell_type": "code",
   "execution_count": 2,
   "metadata": {},
   "outputs": [],
   "source": [
    "def load_arr():\n",
    "    df = pd.DataFrame.from_csv('contest_data.csv')\n",
    "    return df.to_numpy()"
   ]
  },
  {
   "cell_type": "code",
   "execution_count": 3,
   "metadata": {},
   "outputs": [
    {
     "name": "stderr",
     "output_type": "stream",
     "text": [
      "C:\\Users\\Shoto\\Anaconda3\\lib\\site-packages\\ipykernel_launcher.py:2: FutureWarning: from_csv is deprecated. Please use read_csv(...) instead. Note that some of the default arguments are different, so please refer to the documentation for from_csv when changing your function calls\n",
      "  \n"
     ]
    }
   ],
   "source": [
    "data = load_arr()"
   ]
  },
  {
   "cell_type": "code",
   "execution_count": 4,
   "metadata": {},
   "outputs": [
    {
     "data": {
      "text/plain": [
       "array([[1, 1, 1, 1, 0, 1, 1, 0, 0, 1],\n",
       "       [1, 1, 1, 1, 0, 1, 0, 0, 0, 1],\n",
       "       [1, 1, 1, 1, 0, 1, 1, 0, 0, 1],\n",
       "       [1, 1, 1, 1, 0, 1, 0, 0, 0, 1],\n",
       "       [1, 1, 1, 1, 0, 1, 0, 0, 1, 1],\n",
       "       [1, 1, 1, 1, 0, 1, 0, 0, 1, 1],\n",
       "       [1, 1, 1, 1, 1, 1, 1, 0, 1, 1],\n",
       "       [1, 1, 1, 1, 0, 1, 1, 0, 1, 1],\n",
       "       [1, 1, 1, 1, 0, 1, 0, 0, 0, 1],\n",
       "       [1, 1, 1, 1, 0, 1, 0, 0, 0, 1],\n",
       "       [1, 1, 1, 1, 0, 1, 1, 0, 0, 1],\n",
       "       [1, 1, 1, 1, 0, 1, 1, 0, 0, 1],\n",
       "       [1, 1, 1, 1, 0, 1, 1, 0, 0, 1],\n",
       "       [1, 1, 1, 1, 0, 1, 0, 0, 0, 1],\n",
       "       [1, 1, 1, 1, 0, 1, 0, 0, 0, 1],\n",
       "       [1, 1, 1, 1, 0, 1, 1, 0, 0, 1],\n",
       "       [1, 1, 1, 1, 0, 1, 0, 0, 0, 1],\n",
       "       [1, 1, 1, 1, 1, 1, 1, 0, 0, 1],\n",
       "       [1, 1, 1, 1, 0, 1, 0, 0, 0, 1],\n",
       "       [1, 1, 1, 1, 0, 1, 0, 0, 0, 1],\n",
       "       [1, 1, 1, 1, 0, 1, 0, 0, 0, 1],\n",
       "       [1, 1, 1, 1, 0, 1, 1, 0, 0, 1],\n",
       "       [1, 1, 1, 1, 0, 1, 0, 0, 0, 1],\n",
       "       [1, 1, 1, 1, 0, 1, 0, 0, 0, 1],\n",
       "       [1, 1, 1, 1, 0, 1, 1, 0, 0, 1],\n",
       "       [1, 1, 1, 1, 0, 1, 1, 0, 0, 1],\n",
       "       [1, 1, 1, 1, 1, 1, 0, 0, 0, 1],\n",
       "       [1, 1, 1, 1, 0, 1, 1, 0, 0, 1],\n",
       "       [1, 1, 1, 1, 0, 1, 0, 0, 0, 1],\n",
       "       [1, 1, 1, 1, 0, 0, 0, 0, 0, 0],\n",
       "       [1, 1, 1, 1, 0, 1, 0, 0, 0, 1],\n",
       "       [1, 1, 1, 1, 1, 0, 1, 0, 1, 1],\n",
       "       [1, 1, 1, 1, 0, 1, 0, 0, 1, 1],\n",
       "       [1, 1, 1, 1, 0, 1, 0, 1, 0, 1],\n",
       "       [1, 1, 1, 1, 1, 1, 0, 0, 0, 1],\n",
       "       [1, 1, 1, 1, 1, 1, 0, 0, 0, 1],\n",
       "       [1, 1, 1, 1, 0, 1, 0, 0, 0, 1],\n",
       "       [1, 1, 1, 1, 1, 1, 0, 0, 0, 1],\n",
       "       [1, 1, 1, 1, 0, 1, 0, 0, 0, 1],\n",
       "       [1, 1, 1, 1, 0, 1, 0, 0, 0, 1],\n",
       "       [1, 1, 1, 1, 0, 1, 0, 0, 0, 1],\n",
       "       [1, 1, 1, 1, 0, 1, 1, 0, 0, 1],\n",
       "       [1, 1, 1, 1, 0, 1, 0, 0, 0, 1],\n",
       "       [1, 1, 1, 1, 0, 1, 0, 0, 0, 1],\n",
       "       [1, 1, 1, 1, 0, 1, 1, 0, 0, 1],\n",
       "       [1, 1, 1, 1, 0, 1, 0, 0, 0, 1],\n",
       "       [1, 1, 1, 1, 0, 1, 1, 0, 0, 1],\n",
       "       [1, 1, 1, 1, 0, 1, 1, 0, 0, 1],\n",
       "       [1, 1, 1, 1, 0, 1, 0, 1, 0, 1],\n",
       "       [1, 1, 1, 1, 0, 1, 0, 0, 1, 1],\n",
       "       [1, 1, 1, 1, 0, 0, 0, 0, 0, 1],\n",
       "       [1, 1, 1, 1, 1, 1, 0, 0, 0, 1],\n",
       "       [1, 1, 1, 1, 0, 1, 1, 0, 0, 1],\n",
       "       [1, 1, 1, 1, 0, 1, 1, 0, 1, 1],\n",
       "       [1, 1, 1, 1, 0, 1, 0, 0, 1, 1],\n",
       "       [1, 1, 1, 1, 0, 1, 1, 0, 0, 1],\n",
       "       [1, 1, 1, 1, 0, 1, 0, 1, 0, 1],\n",
       "       [1, 1, 1, 1, 0, 1, 0, 0, 0, 1],\n",
       "       [1, 1, 1, 1, 0, 1, 0, 0, 0, 1],\n",
       "       [1, 1, 1, 1, 1, 1, 1, 0, 0, 1],\n",
       "       [1, 1, 1, 1, 0, 0, 0, 0, 0, 0],\n",
       "       [1, 1, 1, 1, 0, 0, 0, 0, 0, 0],\n",
       "       [1, 1, 1, 1, 0, 1, 1, 0, 0, 1],\n",
       "       [1, 1, 1, 1, 1, 1, 0, 0, 0, 1],\n",
       "       [1, 1, 1, 1, 1, 1, 0, 0, 1, 1],\n",
       "       [1, 1, 1, 1, 0, 1, 0, 0, 0, 0],\n",
       "       [1, 1, 1, 1, 0, 0, 0, 0, 0, 0],\n",
       "       [1, 1, 1, 1, 0, 1, 0, 0, 0, 1],\n",
       "       [1, 1, 1, 1, 0, 0, 0, 0, 0, 1],\n",
       "       [1, 1, 1, 1, 0, 1, 0, 0, 0, 1],\n",
       "       [1, 1, 1, 1, 0, 1, 1, 0, 0, 1],\n",
       "       [1, 1, 1, 1, 0, 1, 0, 0, 0, 1],\n",
       "       [1, 1, 1, 1, 1, 1, 0, 0, 0, 1],\n",
       "       [1, 1, 1, 1, 0, 0, 0, 0, 0, 1],\n",
       "       [1, 1, 1, 1, 0, 1, 1, 0, 0, 1],\n",
       "       [1, 1, 1, 1, 0, 1, 1, 0, 0, 1],\n",
       "       [1, 1, 1, 1, 0, 1, 1, 1, 0, 1],\n",
       "       [1, 1, 1, 1, 0, 1, 0, 0, 0, 1],\n",
       "       [1, 1, 1, 1, 0, 1, 1, 1, 0, 1],\n",
       "       [1, 1, 1, 1, 0, 1, 0, 0, 1, 1],\n",
       "       [1, 1, 1, 1, 0, 1, 0, 0, 0, 1],\n",
       "       [1, 1, 1, 1, 0, 1, 0, 0, 0, 1],\n",
       "       [1, 1, 1, 1, 0, 1, 1, 0, 0, 1],\n",
       "       [1, 1, 1, 1, 1, 1, 0, 0, 0, 1],\n",
       "       [1, 1, 1, 1, 0, 1, 1, 0, 0, 1],\n",
       "       [1, 1, 1, 1, 0, 1, 1, 0, 0, 1],\n",
       "       [1, 1, 1, 1, 0, 1, 0, 0, 0, 1],\n",
       "       [1, 1, 1, 1, 0, 0, 1, 0, 0, 1],\n",
       "       [1, 1, 1, 1, 0, 1, 0, 0, 0, 1],\n",
       "       [1, 1, 1, 1, 0, 1, 0, 1, 1, 1],\n",
       "       [1, 1, 1, 1, 0, 1, 1, 0, 0, 1],\n",
       "       [1, 1, 1, 1, 1, 1, 0, 0, 0, 1],\n",
       "       [1, 1, 1, 1, 0, 1, 1, 0, 0, 1],\n",
       "       [1, 1, 1, 1, 1, 0, 0, 0, 0, 1],\n",
       "       [1, 1, 1, 1, 0, 1, 1, 0, 0, 1],\n",
       "       [1, 1, 1, 1, 0, 1, 1, 0, 0, 1],\n",
       "       [1, 1, 1, 1, 0, 1, 0, 0, 0, 1],\n",
       "       [1, 1, 1, 1, 0, 1, 0, 0, 0, 1],\n",
       "       [1, 1, 1, 1, 0, 1, 1, 0, 0, 1],\n",
       "       [1, 1, 1, 1, 1, 1, 0, 0, 0, 1]], dtype=int64)"
      ]
     },
     "execution_count": 4,
     "metadata": {},
     "output_type": "execute_result"
    }
   ],
   "source": [
    "data"
   ]
  },
  {
   "cell_type": "code",
   "execution_count": 5,
   "metadata": {},
   "outputs": [
    {
     "data": {
      "text/plain": [
       "array([[1, 1, 1, 1, 0, 1, 1, 0, 0, 1],\n",
       "       [1, 1, 1, 1, 0, 1, 0, 0, 0, 1],\n",
       "       [1, 1, 1, 1, 0, 1, 0, 0, 1, 1],\n",
       "       [1, 1, 1, 1, 1, 1, 1, 0, 1, 1],\n",
       "       [1, 1, 1, 1, 0, 1, 1, 0, 1, 1],\n",
       "       [1, 1, 1, 1, 1, 1, 1, 0, 0, 1],\n",
       "       [1, 1, 1, 1, 1, 1, 0, 0, 0, 1],\n",
       "       [1, 1, 1, 1, 0, 0, 0, 0, 0, 0],\n",
       "       [1, 1, 1, 1, 1, 0, 1, 0, 1, 1],\n",
       "       [1, 1, 1, 1, 0, 1, 0, 1, 0, 1],\n",
       "       [1, 1, 1, 1, 0, 0, 0, 0, 0, 1],\n",
       "       [1, 1, 1, 1, 1, 1, 0, 0, 1, 1],\n",
       "       [1, 1, 1, 1, 0, 1, 0, 0, 0, 0],\n",
       "       [1, 1, 1, 1, 0, 1, 1, 1, 0, 1],\n",
       "       [1, 1, 1, 1, 0, 0, 1, 0, 0, 1],\n",
       "       [1, 1, 1, 1, 0, 1, 0, 1, 1, 1],\n",
       "       [1, 1, 1, 1, 1, 0, 0, 0, 0, 1]], dtype=int64)"
      ]
     },
     "execution_count": 5,
     "metadata": {},
     "output_type": "execute_result"
    }
   ],
   "source": [
    "arr, uniq = get_unique(data)\n",
    "arr"
   ]
  },
  {
   "cell_type": "code",
   "execution_count": null,
   "metadata": {},
   "outputs": [],
   "source": []
  },
  {
   "cell_type": "code",
   "execution_count": 5,
   "metadata": {},
   "outputs": [
    {
     "data": {
      "text/plain": [
       "array([[0, 1, 1, 0, 0, 1],\n",
       "       [0, 1, 0, 0, 0, 1],\n",
       "       [0, 1, 0, 0, 1, 1],\n",
       "       [1, 1, 1, 0, 1, 1],\n",
       "       [0, 1, 1, 0, 1, 1],\n",
       "       [1, 1, 1, 0, 0, 1],\n",
       "       [1, 1, 0, 0, 0, 1],\n",
       "       [0, 0, 0, 0, 0, 0],\n",
       "       [1, 0, 1, 0, 1, 1],\n",
       "       [0, 1, 0, 1, 0, 1],\n",
       "       [0, 0, 0, 0, 0, 1],\n",
       "       [1, 1, 0, 0, 1, 1],\n",
       "       [0, 1, 0, 0, 0, 0],\n",
       "       [0, 1, 1, 1, 0, 1],\n",
       "       [0, 0, 1, 0, 0, 1],\n",
       "       [0, 1, 0, 1, 1, 1],\n",
       "       [1, 0, 0, 0, 0, 1]], dtype=int64)"
      ]
     },
     "execution_count": 5,
     "metadata": {},
     "output_type": "execute_result"
    }
   ],
   "source": [
    "to_balance = arr[:, 4:]\n",
    "to_balance"
   ]
  },
  {
   "cell_type": "code",
   "execution_count": null,
   "metadata": {},
   "outputs": [],
   "source": []
  },
  {
   "cell_type": "code",
   "execution_count": 6,
   "metadata": {},
   "outputs": [],
   "source": [
    "def vec_len(vec):\n",
    "    vec2 = vec * vec\n",
    "    vec_sum = tf.reduce_sum(vec2)\n",
    "    return tf.sqrt(vec_sum)\n",
    "\n",
    "\n",
    "def distance(vec1, vec2):\n",
    "    diff = vec1 - vec2\n",
    "    return vec_len(diff)\n",
    "\n",
    "\n",
    "def normalize(vec):\n",
    "    vec_l = vec_len(vec)\n",
    "    return vec / vec_l"
   ]
  },
  {
   "cell_type": "code",
   "execution_count": 7,
   "metadata": {},
   "outputs": [],
   "source": [
    "vecs = tf.constant(to_balance.T, dtype=tf.float32)"
   ]
  },
  {
   "cell_type": "code",
   "execution_count": 8,
   "metadata": {},
   "outputs": [
    {
     "data": {
      "text/plain": [
       "TensorShape([Dimension(6), Dimension(17)])"
      ]
     },
     "execution_count": 8,
     "metadata": {},
     "output_type": "execute_result"
    }
   ],
   "source": [
    "vecs.shape"
   ]
  },
  {
   "cell_type": "code",
   "execution_count": 9,
   "metadata": {},
   "outputs": [],
   "source": [
    "w = np.ones((len(to_balance), 1)) * 100.0\n",
    "weights = tf.Variable(w, trainable=True, dtype=tf.float32)"
   ]
  },
  {
   "cell_type": "code",
   "execution_count": 10,
   "metadata": {},
   "outputs": [],
   "source": [
    "weights_clip = tf.clip_by_value(weights, clip_value_min=5.0, clip_value_max=10000.0)"
   ]
  },
  {
   "cell_type": "code",
   "execution_count": 11,
   "metadata": {},
   "outputs": [],
   "source": [
    "clip = tf.assign(weights, weights_clip)\n",
    "with tf.control_dependencies([clip]):\n",
    "    scaled_vecs = tf.matmul(vecs, weights)"
   ]
  },
  {
   "cell_type": "code",
   "execution_count": 12,
   "metadata": {},
   "outputs": [],
   "source": [
    "normalized_scaled_vecs =  scaled_vecs / tf.reduce_sum(weights)"
   ]
  },
  {
   "cell_type": "code",
   "execution_count": 13,
   "metadata": {},
   "outputs": [],
   "source": [
    "destination_v = tf.placeholder(dtype=tf.float32, shape=[6, 1])"
   ]
  },
  {
   "cell_type": "code",
   "execution_count": 14,
   "metadata": {},
   "outputs": [],
   "source": [
    "dist = distance(destination_v, normalized_scaled_vecs)"
   ]
  },
  {
   "cell_type": "code",
   "execution_count": 15,
   "metadata": {},
   "outputs": [
    {
     "data": {
      "text/plain": [
       "TensorShape([])"
      ]
     },
     "execution_count": 15,
     "metadata": {},
     "output_type": "execute_result"
    }
   ],
   "source": [
    "dist.shape"
   ]
  },
  {
   "cell_type": "code",
   "execution_count": 16,
   "metadata": {},
   "outputs": [],
   "source": [
    "opt = tf.train.AdamOptimizer(100)"
   ]
  },
  {
   "cell_type": "code",
   "execution_count": 17,
   "metadata": {},
   "outputs": [],
   "source": [
    "train_op = opt.minimize(dist,var_list=[weights] )"
   ]
  },
  {
   "cell_type": "code",
   "execution_count": 18,
   "metadata": {},
   "outputs": [],
   "source": [
    "sess = tf.Session()"
   ]
  },
  {
   "cell_type": "code",
   "execution_count": 19,
   "metadata": {},
   "outputs": [],
   "source": [
    "sess.run(tf.global_variables_initializer())"
   ]
  },
  {
   "cell_type": "code",
   "execution_count": 20,
   "metadata": {},
   "outputs": [],
   "source": [
    "dest = np.array([0.5, 0.5, 0.5, 0.5, 0.5, 0.9]).reshape(6, 1)"
   ]
  },
  {
   "cell_type": "code",
   "execution_count": 21,
   "metadata": {},
   "outputs": [
    {
     "name": "stdout",
     "output_type": "stream",
     "text": [
      "0.4454305\n"
     ]
    },
    {
     "data": {
      "text/plain": [
       "array([[47.],\n",
       "       [55.],\n",
       "       [48.],\n",
       "       [39.],\n",
       "       [51.],\n",
       "       [97.]], dtype=float32)"
      ]
     },
     "execution_count": 21,
     "metadata": {},
     "output_type": "execute_result"
    }
   ],
   "source": [
    "for i in range(10):\n",
    "    _, d = sess.run([train_op, dist], \n",
    "            feed_dict={destination_v: dest}\n",
    "            )\n",
    "    if i % 20 == 0:\n",
    "        print(d)\n",
    "        \n",
    "np.round(sess.run(scaled_vecs / tf.reduce_sum(weights)), decimals=2) * 100"
   ]
  },
  {
   "cell_type": "code",
   "execution_count": 22,
   "metadata": {},
   "outputs": [
    {
     "data": {
      "text/plain": [
       "array([[0.4356189 ],\n",
       "       [0.5098289 ],\n",
       "       [0.4461415 ],\n",
       "       [0.3645156 ],\n",
       "       [0.47502616],\n",
       "       [0.9059003 ]], dtype=float32)"
      ]
     },
     "execution_count": 22,
     "metadata": {},
     "output_type": "execute_result"
    }
   ],
   "source": [
    "sess.run(normalized_scaled_vecs)"
   ]
  },
  {
   "cell_type": "code",
   "execution_count": 23,
   "metadata": {},
   "outputs": [
    {
     "data": {
      "text/plain": [
       "array([[  5.      ],\n",
       "       [  5.      ],\n",
       "       [  5.      ],\n",
       "       [362.24054 ],\n",
       "       [  5.      ],\n",
       "       [  5.      ],\n",
       "       [  5.      ],\n",
       "       [406.79236 ],\n",
       "       [949.2571  ],\n",
       "       [442.7358  ],\n",
       "       [106.196465],\n",
       "       [282.82584 ],\n",
       "       [ 86.13213 ],\n",
       "       [582.69745 ],\n",
       "       [427.8389  ],\n",
       "       [884.01764 ],\n",
       "       [677.58966 ]], dtype=float32)"
      ]
     },
     "execution_count": 23,
     "metadata": {},
     "output_type": "execute_result"
    }
   ],
   "source": [
    "sess.run(weights)"
   ]
  },
  {
   "cell_type": "code",
   "execution_count": null,
   "metadata": {},
   "outputs": [],
   "source": []
  },
  {
   "cell_type": "code",
   "execution_count": 24,
   "metadata": {},
   "outputs": [
    {
     "data": {
      "text/plain": [
       "5238.324"
      ]
     },
     "execution_count": 24,
     "metadata": {},
     "output_type": "execute_result"
    }
   ],
   "source": [
    "sess.run(tf.reduce_sum(weights))"
   ]
  },
  {
   "cell_type": "code",
   "execution_count": 25,
   "metadata": {},
   "outputs": [
    {
     "data": {
      "text/plain": [
       "[<tf.Variable 'Variable/Adam:0' shape=(17, 1) dtype=float32_ref>,\n",
       " <tf.Variable 'Variable/Adam_1:0' shape=(17, 1) dtype=float32_ref>,\n",
       " <tf.Variable 'beta1_power:0' shape=() dtype=float32_ref>,\n",
       " <tf.Variable 'beta2_power:0' shape=() dtype=float32_ref>]"
      ]
     },
     "execution_count": 25,
     "metadata": {},
     "output_type": "execute_result"
    }
   ],
   "source": [
    "opt.variables()"
   ]
  },
  {
   "cell_type": "code",
   "execution_count": 26,
   "metadata": {},
   "outputs": [
    {
     "data": {
      "text/plain": [
       "[array([[ 7.65324730e-05],\n",
       "        [ 1.40104996e-04],\n",
       "        [ 1.10626825e-04],\n",
       "        [-2.89387244e-05],\n",
       "        [ 4.70542873e-05],\n",
       "        [ 5.39454049e-07],\n",
       "        [ 6.41119841e-05],\n",
       "        [ 1.21538789e-04],\n",
       "        [-4.05404280e-05],\n",
       "        [-1.98156922e-05],\n",
       "        [ 1.28503307e-04],\n",
       "        [ 3.46338056e-05],\n",
       "        [ 1.33140478e-04],\n",
       "        [-8.33882223e-05],\n",
       "        [ 6.49307767e-05],\n",
       "        [-4.92938707e-05],\n",
       "        [ 5.25102878e-05]], dtype=float32)]"
      ]
     },
     "execution_count": 26,
     "metadata": {},
     "output_type": "execute_result"
    }
   ],
   "source": [
    "sess.run(tf.gradients(dist, [weights]),feed_dict={destination_v: dest})"
   ]
  },
  {
   "cell_type": "code",
   "execution_count": 27,
   "metadata": {},
   "outputs": [],
   "source": [
    "from gd_balancer import GDBalancer"
   ]
  },
  {
   "cell_type": "code",
   "execution_count": 35,
   "metadata": {},
   "outputs": [],
   "source": [
    "b = GDBalancer(\n",
    "    tf.train.AdamOptimizer(.1),\n",
    "    to_balance=arr,\n",
    "    objective='alpha',\n",
    "    min_amount=50,\n",
    "    initial_amount=1000)"
   ]
  },
  {
   "cell_type": "code",
   "execution_count": 36,
   "metadata": {},
   "outputs": [],
   "source": [
    "d = np.array([1.0, 1.0, 1.0, 1.0, 0.5, 0.5, 0.5, 0.6, 0.5, 0.9]).reshape(10, 1)"
   ]
  },
  {
   "cell_type": "code",
   "execution_count": 116,
   "metadata": {},
   "outputs": [
    {
     "name": "stdout",
     "output_type": "stream",
     "text": [
      "0.36608744\n",
      "[[100.]\n",
      " [100.]\n",
      " [100.]\n",
      " [100.]\n",
      " [ 40.]\n",
      " [ 67.]\n",
      " [ 45.]\n",
      " [ 31.]\n",
      " [ 41.]\n",
      " [ 93.]]\n",
      "0.36415106\n",
      "[[100.]\n",
      " [100.]\n",
      " [100.]\n",
      " [100.]\n",
      " [ 40.]\n",
      " [ 67.]\n",
      " [ 45.]\n",
      " [ 32.]\n",
      " [ 41.]\n",
      " [ 93.]]\n"
     ]
    }
   ],
   "source": [
    "b.optimize(d, iterations=100, print_period=50)"
   ]
  },
  {
   "cell_type": "markdown",
   "metadata": {},
   "source": [
    "### The answer of the algorithm"
   ]
  },
  {
   "cell_type": "code",
   "execution_count": 119,
   "metadata": {},
   "outputs": [
    {
     "data": {
      "text/plain": [
       "array([100., 100., 100., 100.,  40.,  67.,  45.,  32.,  41.,  93.],\n",
       "      dtype=float32)"
      ]
     },
     "execution_count": 119,
     "metadata": {},
     "output_type": "execute_result"
    }
   ],
   "source": [
    "b.get_percentage().reshape(-1)"
   ]
  },
  {
   "cell_type": "markdown",
   "metadata": {},
   "source": [
    "### Original data"
   ]
  },
  {
   "cell_type": "code",
   "execution_count": 32,
   "metadata": {},
   "outputs": [
    {
     "data": {
      "text/plain": [
       "array([100., 100., 100., 100.,  16.,  90.,  37.,   6.,  12.,  95.])"
      ]
     },
     "execution_count": 32,
     "metadata": {},
     "output_type": "execute_result"
    }
   ],
   "source": [
    "(data.sum(axis=0) / data.shape[0]) * 100"
   ]
  },
  {
   "cell_type": "markdown",
   "metadata": {},
   "source": [
    "### Total number of pictures"
   ]
  },
  {
   "cell_type": "code",
   "execution_count": 120,
   "metadata": {},
   "outputs": [
    {
     "data": {
      "text/plain": [
       "13916.6045"
      ]
     },
     "execution_count": 120,
     "metadata": {},
     "output_type": "execute_result"
    }
   ],
   "source": [
    "b.get_vec_num()"
   ]
  },
  {
   "cell_type": "markdown",
   "metadata": {},
   "source": [
    "### How many of different pictures is used"
   ]
  },
  {
   "cell_type": "code",
   "execution_count": 121,
   "metadata": {},
   "outputs": [
    {
     "data": {
      "text/plain": [
       "array([[ 457.55325],\n",
       "       [ 467.58725],\n",
       "       [ 448.69424],\n",
       "       [1316.3212 ],\n",
       "       [ 403.0307 ],\n",
       "       [ 404.55615],\n",
       "       [ 449.7555 ],\n",
       "       [ 498.22232],\n",
       "       [1496.0441 ],\n",
       "       [1451.0895 ],\n",
       "       [ 453.9523 ],\n",
       "       [ 512.4514 ],\n",
       "       [ 479.54056],\n",
       "       [1474.5013 ],\n",
       "       [ 672.3092 ],\n",
       "       [1484.9897 ],\n",
       "       [1446.0055 ]], dtype=float32)"
      ]
     },
     "execution_count": 121,
     "metadata": {},
     "output_type": "execute_result"
    }
   ],
   "source": [
    "b.get_weights()"
   ]
  },
  {
   "cell_type": "code",
   "execution_count": 34,
   "metadata": {},
   "outputs": [],
   "source": [
    "b.reset(800,tf.train.MomentumOptimizer(100, 0.9), objective='alpha')"
   ]
  },
  {
   "cell_type": "code",
   "execution_count": null,
   "metadata": {},
   "outputs": [],
   "source": []
  }
 ],
 "metadata": {
  "kernelspec": {
   "display_name": "Python 3",
   "language": "python",
   "name": "python3"
  },
  "language_info": {
   "codemirror_mode": {
    "name": "ipython",
    "version": 3
   },
   "file_extension": ".py",
   "mimetype": "text/x-python",
   "name": "python",
   "nbconvert_exporter": "python",
   "pygments_lexer": "ipython3",
   "version": "3.6.9"
  }
 },
 "nbformat": 4,
 "nbformat_minor": 4
}
