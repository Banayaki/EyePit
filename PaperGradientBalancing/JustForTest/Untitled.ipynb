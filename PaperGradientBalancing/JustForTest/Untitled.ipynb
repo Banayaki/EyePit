{
 "cells": [
  {
   "cell_type": "code",
   "execution_count": 1,
   "metadata": {},
   "outputs": [],
   "source": [
    "import numpy as np\n",
    "import pandas as pd"
   ]
  },
  {
   "cell_type": "code",
   "execution_count": 2,
   "metadata": {},
   "outputs": [],
   "source": [
    "def load_arr():\n",
    "    df = pd.DataFrame.from_csv('contest_data.csv')\n",
    "    return df.to_numpy()"
   ]
  },
  {
   "cell_type": "code",
   "execution_count": 3,
   "metadata": {},
   "outputs": [
    {
     "name": "stderr",
     "output_type": "stream",
     "text": [
      "C:\\Users\\Shoto\\Anaconda3\\lib\\site-packages\\ipykernel_launcher.py:2: FutureWarning: from_csv is deprecated. Please use read_csv(...) instead. Note that some of the default arguments are different, so please refer to the documentation for from_csv when changing your function calls\n",
      "  \n"
     ]
    }
   ],
   "source": [
    "arr = load_arr()"
   ]
  },
  {
   "cell_type": "code",
   "execution_count": 5,
   "metadata": {},
   "outputs": [],
   "source": [
    "from utils import get_unique"
   ]
  },
  {
   "cell_type": "code",
   "execution_count": 6,
   "metadata": {},
   "outputs": [
    {
     "data": {
      "text/plain": [
       "(array([[1, 1, 1, 1, 0, 1, 1, 0, 0, 1],\n",
       "        [1, 1, 1, 1, 0, 1, 0, 0, 0, 1],\n",
       "        [1, 1, 1, 1, 0, 1, 0, 0, 1, 1],\n",
       "        [1, 1, 1, 1, 1, 1, 1, 0, 1, 1],\n",
       "        [1, 1, 1, 1, 0, 1, 1, 0, 1, 1],\n",
       "        [1, 1, 1, 1, 1, 1, 1, 0, 0, 1],\n",
       "        [1, 1, 1, 1, 1, 1, 0, 0, 0, 1],\n",
       "        [1, 1, 1, 1, 0, 0, 0, 0, 0, 0],\n",
       "        [1, 1, 1, 1, 1, 0, 1, 0, 1, 1],\n",
       "        [1, 1, 1, 1, 0, 1, 0, 1, 0, 1],\n",
       "        [1, 1, 1, 1, 0, 0, 0, 0, 0, 1],\n",
       "        [1, 1, 1, 1, 1, 1, 0, 0, 1, 1],\n",
       "        [1, 1, 1, 1, 0, 1, 0, 0, 0, 0],\n",
       "        [1, 1, 1, 1, 0, 1, 1, 1, 0, 1],\n",
       "        [1, 1, 1, 1, 0, 0, 1, 0, 0, 1],\n",
       "        [1, 1, 1, 1, 0, 1, 0, 1, 1, 1],\n",
       "        [1, 1, 1, 1, 1, 0, 0, 0, 0, 1]], dtype=int64),\n",
       " {623: 28,\n",
       "  559: 33,\n",
       "  815: 6,\n",
       "  895: 1,\n",
       "  879: 2,\n",
       "  639: 2,\n",
       "  575: 10,\n",
       "  15: 4,\n",
       "  863: 1,\n",
       "  687: 3,\n",
       "  527: 3,\n",
       "  831: 1,\n",
       "  47: 1,\n",
       "  751: 2,\n",
       "  591: 1,\n",
       "  943: 1,\n",
       "  543: 1})"
      ]
     },
     "execution_count": 6,
     "metadata": {},
     "output_type": "execute_result"
    }
   ],
   "source": [
    "get_unique(arr)"
   ]
  },
  {
   "cell_type": "code",
   "execution_count": null,
   "metadata": {},
   "outputs": [],
   "source": []
  }
 ],
 "metadata": {
  "kernelspec": {
   "display_name": "Python 3",
   "language": "python",
   "name": "python3"
  },
  "language_info": {
   "codemirror_mode": {
    "name": "ipython",
    "version": 3
   },
   "file_extension": ".py",
   "mimetype": "text/x-python",
   "name": "python",
   "nbconvert_exporter": "python",
   "pygments_lexer": "ipython3",
   "version": "3.6.9"
  }
 },
 "nbformat": 4,
 "nbformat_minor": 4
}
