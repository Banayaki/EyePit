{
 "cells": [
  {
   "cell_type": "code",
   "execution_count": 33,
   "metadata": {},
   "outputs": [],
   "source": [
    "import tensorflow as tf\n",
    "from makiflow.models.classificator import Classificator\n",
    "from makiflow.metrics import bin_categorical_dice_coeff\n",
    "from sklearn.metrics import confusion_matrix, f1_score\n",
    "import numpy as np\n",
    "from glob import glob\n",
    "import matplotlib.pyplot as plt\n",
    "import seaborn as sns\n",
    "import cv2\n",
    "import os\n",
    "import pandas as pd\n",
    "import json\n",
    "from tqdm import tqdm\n",
    "%matplotlib inline\n",
    "\n",
    "from makiflow import set_main_gpu\n",
    "set_main_gpu(';')"
   ]
  },
  {
   "cell_type": "code",
   "execution_count": 6,
   "metadata": {},
   "outputs": [],
   "source": [
    "from makiflow.metrics.utils import one_hot"
   ]
  },
  {
   "cell_type": "code",
   "execution_count": 2,
   "metadata": {},
   "outputs": [],
   "source": [
    "N_CLASSES = 8\n",
    "IMAGE_SHAPE = (1024, 1024)"
   ]
  },
  {
   "cell_type": "code",
   "execution_count": 3,
   "metadata": {},
   "outputs": [],
   "source": [
    "SESSION = tf.Session()"
   ]
  },
  {
   "cell_type": "code",
   "execution_count": 122,
   "metadata": {},
   "outputs": [],
   "source": [
    "def create_model(arch_path, weights_path):\n",
    "    model = Classificator.from_json(arch_path)\n",
    "    model.set_session(SESSION)\n",
    "    model.load_weights(weights_path)\n",
    "    return model\n",
    "\n",
    "def load_im_mask(image_path, masks_folder_path):\n",
    "    image_shape = IMAGE_SHAPE\n",
    "    n_classes = N_CLASSES\n",
    "    image = cv2.imread(image_path)\n",
    "\n",
    "    mask_folder = masks_folder_path\n",
    "\n",
    "    label_tensor = np.zeros(shape=(*image_shape, n_classes + 1), dtype='int32')\n",
    "    for binary_mask_path in glob(os.path.join(mask_folder, '*')):\n",
    "        filename = binary_mask_path.split('/')[-1]\n",
    "        class_id = int(filename.split('.')[0])\n",
    "        assert class_id != 0, 'Encountered class 0. Class names must start from 1.'\n",
    "        binary_mask = cv2.imread(binary_mask_path)\n",
    "        assert binary_mask is not None, f'Could not load mask with name={binary_mask_path}'\n",
    "        label_tensor[..., class_id] = binary_mask[..., 0] * class_id\n",
    "    label_tensor = np.max(label_tensor, axis=-1)\n",
    "    \n",
    "    return image.astype(np.float32, copy=False) / 255, label_tensor\n",
    "\n",
    "def load_data(config_path):\n",
    "    config = load_json(config_path)\n",
    "    config = config['test_config']\n",
    "    image_paths = config['test_image']\n",
    "    mask_paths = config['test_mask']\n",
    "    \n",
    "    images = []\n",
    "    masks = []\n",
    "    for image_path, mask_folder_path in zip(image_paths, mask_paths):\n",
    "        image, mask = load_im_mask(image_path, mask_folder_path)\n",
    "        images.append(image)\n",
    "        masks.append(mask)\n",
    "    return images, masks\n",
    "\n",
    "def load_json(path):\n",
    "    with open(path, 'r') as f:\n",
    "        return json.loads(f.read())\n",
    "\n",
    "def test(arch_path, weights_path, config_path, th=0.5):\n",
    "    images, masks = load_data(config_path)\n",
    "    model = create_model(arch_path, weights_path)\n",
    "    \n",
    "    predictions = []\n",
    "    max_preds = []\n",
    "    for image in tqdm(images):\n",
    "        pred = (model.predict([image])[0] > th).astype('uint8') * np.arange(1, 9, 1).reshape(1, 1, 8)\n",
    "#         pred = pred.max(axis=-1)\n",
    "        predictions += [pred]\n",
    "        max_preds += [pred.max(axis=-1)]\n",
    "    \n",
    "    # predictions = np.concatenate(predictions, axis=0)\n",
    "    f1_scores = f1_score(np.asarray(masks).reshape(-1), np.asarray(max_preds).reshape(-1), average=None)\n",
    "    return confusion_matrix(np.asarray(masks).reshape(-1), np.asarray(max_preds).reshape(-1)), f1_scores\n",
    "\n",
    "\n",
    "def compute_tpr_tnr_class(class_id, C):\n",
    "    TN = C[0, 0]\n",
    "    TP = C[class_id, class_id]\n",
    "    \n",
    "    FP = 0\n",
    "    for i in range(0, C.shape[0]):\n",
    "        if i == class_id:\n",
    "            continue\n",
    "        FP += C[i, class_id]\n",
    "        \n",
    "    FN = 0\n",
    "    for i in range(0, C.shape[0]):\n",
    "        if i == class_id:\n",
    "            continue\n",
    "        FN += C[class_id, i]\n",
    "    \n",
    "    tpr = 1 - FN / (FN + TP + 1e-7)\n",
    "    tnr = 1 - FP / (FP + TN + 1e-7)\n",
    "    acc = (TP + TN) / (TP + TN + FP + FN)\n",
    "    return tpr, tnr, acc\n",
    "    \n",
    "def compute_tpr(C):\n",
    "    trps = []\n",
    "    tnrs = []\n",
    "    accs = []\n",
    "    for i in range(1, C.shape[0]):\n",
    "        rates = compute_tpr_tnr_class(i, C)\n",
    "        trps.append(rates[0])\n",
    "        tnrs.append(rates[1])\n",
    "        accs.append(rates[2])\n",
    "    return trps, tnrs, accs"
   ]
  },
  {
   "cell_type": "code",
   "execution_count": 107,
   "metadata": {},
   "outputs": [
    {
     "name": "stdout",
     "output_type": "stream",
     "text": [
      "Model is restored!\n",
      "INFO:tensorflow:Restoring parameters from cv3_fold0/result/last_weights/weights.ckpt\n"
     ]
    },
    {
     "name": "stderr",
     "output_type": "stream",
     "text": [
      "  0%|          | 0/8 [00:00<?, ?it/s]\n",
      "0it [00:00, ?it/s]\u001b[A"
     ]
    },
    {
     "name": "stdout",
     "output_type": "stream",
     "text": [
      "Weights are loaded.\n"
     ]
    },
    {
     "name": "stderr",
     "output_type": "stream",
     "text": [
      "\n",
      "1it [00:07,  7.84s/it]\u001b[A\n",
      " 12%|█▎        | 1/8 [00:07<00:55,  7.93s/it]\n",
      "0it [00:00, ?it/s]\u001b[A\n",
      "1it [00:03,  3.23s/it]\u001b[A\n",
      " 25%|██▌       | 2/8 [00:11<00:39,  6.54s/it]\n",
      "0it [00:00, ?it/s]\u001b[A\n",
      "1it [00:03,  3.24s/it]\u001b[A\n",
      " 38%|███▊      | 3/8 [00:17<00:31,  6.32s/it]\n",
      "0it [00:00, ?it/s]\u001b[A\n",
      "1it [00:03,  3.17s/it]\u001b[A\n",
      " 50%|█████     | 4/8 [00:23<00:25,  6.34s/it]\n",
      "0it [00:00, ?it/s]\u001b[A\n",
      "1it [00:03,  3.23s/it]\u001b[A\n",
      " 62%|██████▎   | 5/8 [00:30<00:19,  6.42s/it]\n",
      "0it [00:00, ?it/s]\u001b[A\n",
      "1it [00:03,  3.17s/it]\u001b[A\n",
      " 75%|███████▌  | 6/8 [00:36<00:12,  6.47s/it]\n",
      "0it [00:00, ?it/s]\u001b[A\n",
      "1it [00:03,  3.17s/it]\u001b[A\n",
      " 88%|████████▊ | 7/8 [00:43<00:06,  6.68s/it]\n",
      "0it [00:00, ?it/s]\u001b[A\n",
      "1it [00:03,  3.25s/it]\u001b[A\n",
      "100%|██████████| 8/8 [00:51<00:00,  6.38s/it]\n"
     ]
    }
   ],
   "source": [
    "cv3_f0_model_arch = 'cv3_fold0/result/model.json'\n",
    "cv3_f0_model_weights = 'cv3_fold0/result/last_weights/weights.ckpt'\n",
    "cv3_f0_config = 'cv3_fold0/config.json'\n",
    "\n",
    "cv3_f0_C, f1_scores_1 = test(cv3_f0_model_arch, cv3_f0_model_weights, cv3_f0_config, 0.5)"
   ]
  },
  {
   "cell_type": "code",
   "execution_count": 123,
   "metadata": {},
   "outputs": [],
   "source": [
    "tpr0, tnr0, accs0 = np.array(compute_tpr(cv3_f0_C)).round(2)"
   ]
  },
  {
   "cell_type": "code",
   "execution_count": 111,
   "metadata": {},
   "outputs": [
    {
     "data": {
      "text/plain": [
       "(array([0.98, 0.64, 0.92, 0.89, 0.28, 0.43, 0.17, 0.87]),\n",
       " array([0.97, 0.99, 0.72, 0.98, 1.  , 1.  , 1.  , 0.95]))"
      ]
     },
     "execution_count": 111,
     "metadata": {},
     "output_type": "execute_result"
    }
   ],
   "source": [
    "tpr0, tnr0"
   ]
  },
  {
   "cell_type": "code",
   "execution_count": 64,
   "metadata": {
    "scrolled": true
   },
   "outputs": [
    {
     "name": "stdout",
     "output_type": "stream",
     "text": [
      "Model is restored!\n",
      "INFO:tensorflow:Restoring parameters from cv3_fold1/result/last_weights/weights.ckpt\n"
     ]
    },
    {
     "name": "stderr",
     "output_type": "stream",
     "text": [
      "  0%|          | 0/8 [00:00<?, ?it/s]\n",
      "0it [00:00, ?it/s]\u001b[A"
     ]
    },
    {
     "name": "stdout",
     "output_type": "stream",
     "text": [
      "Weights are loaded.\n"
     ]
    },
    {
     "name": "stderr",
     "output_type": "stream",
     "text": [
      "\n",
      "1it [00:07,  7.25s/it]\u001b[A\n",
      " 12%|█▎        | 1/8 [00:07<00:51,  7.35s/it]\n",
      "0it [00:00, ?it/s]\u001b[A\n",
      "1it [00:03,  3.01s/it]\u001b[A\n",
      " 25%|██▌       | 2/8 [00:10<00:36,  6.07s/it]\n",
      "0it [00:00, ?it/s]\u001b[A\n",
      "1it [00:03,  3.13s/it]\u001b[A\n",
      " 38%|███▊      | 3/8 [00:14<00:27,  5.42s/it]\n",
      "0it [00:00, ?it/s]\u001b[A\n",
      "1it [00:02,  2.86s/it]\u001b[A\n",
      " 50%|█████     | 4/8 [00:20<00:22,  5.63s/it]\n",
      "0it [00:00, ?it/s]\u001b[A\n",
      "1it [00:03,  3.19s/it]\u001b[A\n",
      " 62%|██████▎   | 5/8 [00:24<00:15,  5.06s/it]\n",
      "0it [00:00, ?it/s]\u001b[A\n",
      "1it [00:03,  3.04s/it]\u001b[A\n",
      " 75%|███████▌  | 6/8 [00:28<00:09,  4.70s/it]\n",
      "0it [00:00, ?it/s]\u001b[A\n",
      "1it [00:03,  3.03s/it]\u001b[A\n",
      " 88%|████████▊ | 7/8 [00:32<00:04,  4.75s/it]\n",
      "0it [00:00, ?it/s]\u001b[A\n",
      "1it [00:02,  2.98s/it]\u001b[A\n",
      "100%|██████████| 8/8 [00:38<00:00,  4.82s/it]\n"
     ]
    }
   ],
   "source": [
    "cv3_f1_model_arch = 'cv3_fold1/result/model.json'\n",
    "cv3_f1_model_weights = 'cv3_fold1/result/last_weights/weights.ckpt'\n",
    "cv3_f1_config = 'cv3_fold1/config.json'\n",
    "\n",
    "cv3_f1_dice, f1_scores_2 = test(cv3_f1_model_arch, cv3_f1_model_weights, cv3_f1_config, 0.5)"
   ]
  },
  {
   "cell_type": "code",
   "execution_count": 124,
   "metadata": {},
   "outputs": [],
   "source": [
    "tpr1, tnr1, accs1 = np.array(compute_tpr(cv3_f1_dice)).round(2)"
   ]
  },
  {
   "cell_type": "code",
   "execution_count": 113,
   "metadata": {},
   "outputs": [
    {
     "data": {
      "text/plain": [
       "(array([0.99, 0.86, 0.91, 0.78, 0.82, 0.14, 0.64, 0.92]),\n",
       " array([0.98, 0.98, 0.74, 0.99, 1.  , 1.  , 0.99, 0.95]))"
      ]
     },
     "execution_count": 113,
     "metadata": {},
     "output_type": "execute_result"
    }
   ],
   "source": [
    "tpr1, tnr1"
   ]
  },
  {
   "cell_type": "code",
   "execution_count": 67,
   "metadata": {
    "scrolled": true
   },
   "outputs": [
    {
     "name": "stdout",
     "output_type": "stream",
     "text": [
      "Model is restored!\n",
      "INFO:tensorflow:Restoring parameters from cv3_fold2/result/last_weights/weights.ckpt\n"
     ]
    },
    {
     "name": "stderr",
     "output_type": "stream",
     "text": [
      "  0%|          | 0/8 [00:00<?, ?it/s]\n",
      "0it [00:00, ?it/s]\u001b[A"
     ]
    },
    {
     "name": "stdout",
     "output_type": "stream",
     "text": [
      "Weights are loaded.\n"
     ]
    },
    {
     "name": "stderr",
     "output_type": "stream",
     "text": [
      "\n",
      "1it [00:07,  7.23s/it]\u001b[A\n",
      " 12%|█▎        | 1/8 [00:07<00:51,  7.32s/it]\n",
      "0it [00:00, ?it/s]\u001b[A\n",
      "1it [00:03,  3.04s/it]\u001b[A\n",
      " 25%|██▌       | 2/8 [00:12<00:39,  6.62s/it]\n",
      "0it [00:00, ?it/s]\u001b[A\n",
      "1it [00:03,  3.09s/it]\u001b[A\n",
      " 38%|███▊      | 3/8 [00:17<00:31,  6.28s/it]\n",
      "0it [00:00, ?it/s]\u001b[A\n",
      "1it [00:02,  2.96s/it]\u001b[A\n",
      " 50%|█████     | 4/8 [00:23<00:24,  6.01s/it]\n",
      "0it [00:00, ?it/s]\u001b[A\n",
      "1it [00:03,  3.00s/it]\u001b[A\n",
      " 62%|██████▎   | 5/8 [00:28<00:17,  5.86s/it]\n",
      "0it [00:00, ?it/s]\u001b[A\n",
      "1it [00:02,  2.94s/it]\u001b[A\n",
      " 75%|███████▌  | 6/8 [00:34<00:11,  5.76s/it]\n",
      "0it [00:00, ?it/s]\u001b[A\n",
      "1it [00:03,  3.13s/it]\u001b[A\n",
      " 88%|████████▊ | 7/8 [00:39<00:05,  5.64s/it]\n",
      "0it [00:00, ?it/s]\u001b[A\n",
      "1it [00:02,  2.88s/it]\u001b[A\n",
      "100%|██████████| 8/8 [00:45<00:00,  5.64s/it]\n"
     ]
    }
   ],
   "source": [
    "cv3_f2_model_arch = 'cv3_fold2/result/model.json'\n",
    "cv3_f2_model_weights = 'cv3_fold2/result/last_weights/weights.ckpt'\n",
    "cv3_f2_config = 'cv3_fold2/config.json'\n",
    "\n",
    "cv3_f2_dice, f1_scores_3 = test(cv3_f2_model_arch, cv3_f2_model_weights, cv3_f2_config, 0.5)"
   ]
  },
  {
   "cell_type": "code",
   "execution_count": 125,
   "metadata": {},
   "outputs": [],
   "source": [
    "tpr2, tnr2, accs2 = np.array(compute_tpr(cv3_f2_dice)).round(2)"
   ]
  },
  {
   "cell_type": "code",
   "execution_count": 85,
   "metadata": {},
   "outputs": [],
   "source": [
    "f1_scores_1 = f1_scores_1[1:].round(2)\n",
    "f1_scores_1 = np.hstack([f1_scores_1, np.mean(f1_scores_1).round(2)])\n",
    "f1_scores_2 = f1_scores_2[1:].round(2)\n",
    "f1_scores_2 = np.hstack([f1_scores_2, np.mean(f1_scores_2).round(2)])\n",
    "f1_scores_3 = f1_scores_3[1:].round(2)\n",
    "f1_scores_3 = np.hstack([f1_scores_3, np.mean(f1_scores_3).round(2)])"
   ]
  },
  {
   "cell_type": "code",
   "execution_count": 126,
   "metadata": {},
   "outputs": [],
   "source": [
    "tpr0 = np.hstack([tpr0, np.mean(tpr0).round(2)])\n",
    "tpr1 = np.hstack([tpr1, np.mean(tpr1).round(2)])\n",
    "tpr2 = np.hstack([tpr2, np.mean(tpr2).round(2)])\n",
    "\n",
    "tnr0 = np.hstack([tnr0, np.mean(tnr0).round(2)])\n",
    "tnr1 = np.hstack([tnr1, np.mean(tnr1).round(2)])\n",
    "tnr2 = np.hstack([tnr2, np.mean(tnr2).round(2)])\n",
    "\n",
    "accs0 = np.hstack([accs0, np.mean(accs0).round(2)])\n",
    "accs1 = np.hstack([accs1, np.mean(accs1).round(2)])\n",
    "accs2 = np.hstack([accs2, np.mean(accs2).round(2)])"
   ]
  },
  {
   "cell_type": "code",
   "execution_count": 127,
   "metadata": {},
   "outputs": [
    {
     "data": {
      "text/plain": [
       "(array([0.98, 0.8 , 0.92, 0.84, 0.58, 0.22, 0.48, 0.87, 0.71]),\n",
       " array([0.98, 0.99, 0.7 , 0.98, 1.  , 1.  , 0.99, 0.95, 0.95]),\n",
       " array([0.98, 0.98, 0.73, 0.98, 1.  , 1.  , 0.99, 0.95, 0.95]))"
      ]
     },
     "execution_count": 127,
     "metadata": {},
     "output_type": "execute_result"
    }
   ],
   "source": [
    "mean_tpr = np.mean([tpr0, tpr1, tpr2], axis=0).round(2)\n",
    "mean_tnr = np.mean([tnr0, tnr1, tnr2], axis=0).round(2)\n",
    "mean_acc = np.mean([accs0, accs1, accs2], axis=0).round(2)\n",
    "mean_tpr, mean_tnr, mean_acc"
   ]
  },
  {
   "cell_type": "code",
   "execution_count": 132,
   "metadata": {},
   "outputs": [
    {
     "data": {
      "text/plain": [
       "array([0.98 , 0.895, 0.81 , 0.91 , 0.79 , 0.61 , 0.735, 0.91 , 0.83 ])"
      ]
     },
     "execution_count": 132,
     "metadata": {},
     "output_type": "execute_result"
    }
   ],
   "source": [
    "ba = (mean_tpr + mean_tnr) / 2\n",
    "ba"
   ]
  },
  {
   "cell_type": "code",
   "execution_count": 102,
   "metadata": {},
   "outputs": [
    {
     "data": {
      "text/plain": [
       "array([0.74, 0.65, 0.46, 0.48, 0.46, 0.2 , 0.24, 0.37, 0.45])"
      ]
     },
     "execution_count": 102,
     "metadata": {},
     "output_type": "execute_result"
    }
   ],
   "source": [
    "mean_f1 = np.mean([f1_scores_1, f1_scores_2, f1_scores_3], axis=0).round(2)\n",
    "mean_f1"
   ]
  },
  {
   "cell_type": "code",
   "execution_count": 135,
   "metadata": {},
   "outputs": [],
   "source": [
    "df = pd.DataFrame(\n",
    "    data=np.stack([tpr0, tpr1, tpr2, f1_scores_1, f1_scores_2, f1_scores_3, mean_tpr, mean_tnr, mean_f1, mean_acc, ba]), \n",
    "    index=['test0 tpr', 'test1 tpr', 'test2 tpr', 'test0 f1',\n",
    "           'test1 f1', 'test2 f1', 'mean_tpr', 'mean_tnr', 'mean_f1', 'mean_acc', 'ba'],\n",
    "    columns=list(range(1,9)) + ['mean']\n",
    ")"
   ]
  },
  {
   "cell_type": "code",
   "execution_count": 136,
   "metadata": {},
   "outputs": [],
   "source": [
    "df.to_csv('tpr_newmethod_p0.5.csv')"
   ]
  },
  {
   "cell_type": "code",
   "execution_count": 73,
   "metadata": {},
   "outputs": [
    {
     "data": {
      "text/plain": [
       "(8,)"
      ]
     },
     "execution_count": 73,
     "metadata": {},
     "output_type": "execute_result"
    }
   ],
   "source": [
    "tpr0.shape"
   ]
  },
  {
   "cell_type": "code",
   "execution_count": 74,
   "metadata": {},
   "outputs": [
    {
     "data": {
      "text/plain": [
       "array([0.80032107, 0.71948766, 0.68360256, 0.46509475, 0.35561878,\n",
       "       0.3325379 , 0.2945237 , 0.19092164, 0.28375309])"
      ]
     },
     "execution_count": 74,
     "metadata": {},
     "output_type": "execute_result"
    }
   ],
   "source": [
    "f1_scores_1\n"
   ]
  },
  {
   "cell_type": "code",
   "execution_count": null,
   "metadata": {},
   "outputs": [],
   "source": []
  }
 ],
 "metadata": {
  "kernelspec": {
   "display_name": "Python 3",
   "language": "python",
   "name": "python3"
  },
  "language_info": {
   "codemirror_mode": {
    "name": "ipython",
    "version": 3
   },
   "file_extension": ".py",
   "mimetype": "text/x-python",
   "name": "python",
   "nbconvert_exporter": "python",
   "pygments_lexer": "ipython3",
   "version": "3.6.9"
  }
 },
 "nbformat": 4,
 "nbformat_minor": 4
}
