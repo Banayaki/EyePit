{
 "cells": [
  {
   "cell_type": "code",
   "execution_count": null,
   "metadata": {},
   "outputs": [],
   "source": [
    "import os\n",
    "import subprocess"
   ]
  },
  {
   "cell_type": "code",
   "execution_count": null,
   "metadata": {},
   "outputs": [],
   "source": [
    "architectures = ['resnet', 'xception']\n",
    "fold_folders = ['cv3_fold0', 'cv3_fold1', 'cv3_fold2']"
   ]
  },
  {
   "cell_type": "code",
   "execution_count": null,
   "metadata": {},
   "outputs": [],
   "source": [
    "gpu_device = 1"
   ]
  },
  {
   "cell_type": "code",
   "execution_count": null,
   "metadata": {},
   "outputs": [],
   "source": [
    "counter = 0"
   ]
  },
  {
   "cell_type": "code",
   "execution_count": null,
   "metadata": {},
   "outputs": [],
   "source": [
    "architectures = ['xception']\n",
    "fold_folders = ['cv3_fold2']"
   ]
  },
  {
   "cell_type": "code",
   "execution_count": null,
   "metadata": {},
   "outputs": [],
   "source": [
    "for arch in architectures:\n",
    "    for fold_f in fold_folders:\n",
    "        python_file_path = os.path.join(os.getcwd(), arch, fold_f, 'run.py')\n",
    "        script_file_path = os.path.join(os.getcwd(), arch, fold_f)\n",
    "        subprocess.run(f'sed -i \"s/mf.set_main_gpu([^ ]*)/mf.set_main_gpu({gpu_device})/g\" {python_file_path}', shell=True)\n",
    "        subprocess.run(f'cd {script_file_path} && python3 {python_file_path}', shell=True)\n",
    "        print(f'End test: {arch} {fold_f}')"
   ]
  },
  {
   "cell_type": "code",
   "execution_count": 6,
   "metadata": {},
   "outputs": [
    {
     "data": {
      "text/plain": [
       "CompletedProcess(args='ls', returncode=0, stdout=b'ExperimentRunner.ipynb\\nconfusion_matrix-Copy3.ipynb\\ndensenet\\nresnet\\ntpr_newmethod_p0.5.csv\\nxception\\n', stderr=b'')"
      ]
     },
     "execution_count": 6,
     "metadata": {},
     "output_type": "execute_result"
    }
   ],
   "source": [
    "subprocess.run(f'ls', shell=True, stdout=subprocess.PIPE, stderr=subprocess.PIPE)"
   ]
  },
  {
   "cell_type": "code",
   "execution_count": null,
   "metadata": {},
   "outputs": [],
   "source": []
  }
 ],
 "metadata": {
  "kernelspec": {
   "display_name": "Python 3",
   "language": "python",
   "name": "python3"
  },
  "language_info": {
   "codemirror_mode": {
    "name": "ipython",
    "version": 3
   },
   "file_extension": ".py",
   "mimetype": "text/x-python",
   "name": "python",
   "nbconvert_exporter": "python",
   "pygments_lexer": "ipython3",
   "version": "3.8.5"
  }
 },
 "nbformat": 4,
 "nbformat_minor": 4
}
