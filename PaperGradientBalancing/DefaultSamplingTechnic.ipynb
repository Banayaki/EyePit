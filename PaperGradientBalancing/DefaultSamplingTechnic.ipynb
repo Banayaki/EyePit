{
 "cells": [
  {
   "cell_type": "code",
   "execution_count": 1,
   "metadata": {},
   "outputs": [],
   "source": [
    "from tqdm import tqdm\n",
    "from glob import glob\n",
    "\n",
    "import copy\n",
    "import numpy as np\n",
    "import cv2\n",
    "import pandas as pd\n",
    "import tensorflow as tf\n",
    "import os\n",
    "import seaborn as sb\n",
    "import matplotlib.pyplot as plt\n",
    "import collections\n",
    "\n",
    "from makiflow.augmentation.segmentation.balancing.hc_scanner import HCScanner\n",
    "from makiflow.augmentation.segmentation.augment_ops import AffineAugment, ElasticAugment, FlipAugment\n",
    "from makiflow.augmentation.segmentation.data_provider import Data \n",
    "from makiflow.augmentation.segmentation.image_mask_cutter import ImageCutter\n",
    "from makiflow.tf_scripts import set_main_gpu"
   ]
  },
  {
   "cell_type": "code",
   "execution_count": 2,
   "metadata": {},
   "outputs": [],
   "source": [
    "def mutate_masks(masks, mapping):\n",
    "    \"\"\"\n",
    "    Remaps classes on the given `masks` according to the `mapping`.\n",
    "    Parameters\n",
    "    ----------\n",
    "    masks : list or numpy.array\n",
    "        List or numpy array of masks.\n",
    "    mapping : list\n",
    "        List of tuples: [(source_class_number, new_class_number)],\n",
    "        where `source_class_number` will be changed to `new_class_number` in the `masks`.\n",
    "    Returns\n",
    "    ---------\n",
    "    new_masks : the same type as `masks`\n",
    "        New masks with changed class numbers.\n",
    "    \"\"\"\n",
    "    if type(mapping) is not list or (len(mapping) != 0 and type(mapping[0]) is not tuple):\n",
    "        raise TypeError('mapping should be list of typles')\n",
    "\n",
    "    new_masks = copy.deepcopy(masks)\n",
    "\n",
    "    for i in range(len(new_masks)):\n",
    "        for elem in mapping:\n",
    "            old_value = elem[0]\n",
    "            new_value = elem[1]\n",
    "            new_masks[i][masks[i] == old_value] = new_value\n",
    "\n",
    "    return  new_masks"
   ]
  },
  {
   "cell_type": "code",
   "execution_count": 40,
   "metadata": {},
   "outputs": [],
   "source": [
    "batch_num = 3"
   ]
  },
  {
   "cell_type": "code",
   "execution_count": 41,
   "metadata": {},
   "outputs": [],
   "source": [
    "mask_names = glob(f'/raid/rustam/med_data/unbalanced_batches/batch_{batch_num}/original_data/masks/*.bmp')"
   ]
  },
  {
   "cell_type": "code",
   "execution_count": 42,
   "metadata": {},
   "outputs": [],
   "source": [
    "masks = []\n",
    "images = []\n",
    "for mask_name in mask_names:\n",
    "    mask = cv2.imread(mask_name, cv2.IMREAD_GRAYSCALE)\n",
    "    mask = cv2.resize(mask, (1024, 1024), interpolation=cv2.INTER_NEAREST)\n",
    "    image = cv2.imread(mask_name.replace('masks', 'images'))\n",
    "    image = cv2.resize(image, (1024, 1024))\n",
    "    masks.append(mask)\n",
    "    images.append(image)"
   ]
  },
  {
   "cell_type": "code",
   "execution_count": 43,
   "metadata": {},
   "outputs": [],
   "source": [
    "masks = mutate_masks(masks, [(0, 0), (1, 1), (2, 2), (3, 3), (4, 0), (5, 4), (6, 5), (7, 6), (8, 7), (9, 8)])"
   ]
  },
  {
   "cell_type": "code",
   "execution_count": 44,
   "metadata": {},
   "outputs": [
    {
     "data": {
      "text/plain": [
       "(array([0, 1, 2, 3, 4, 5, 6, 7, 8], dtype=uint8),\n",
       " array([86893907,  2978643,  1104453, 10559481,   917278,   224188,\n",
       "           16700,    42817,  1071557]))"
      ]
     },
     "execution_count": 44,
     "metadata": {},
     "output_type": "execute_result"
    }
   ],
   "source": [
    "uniq, counts = np.unique(masks, return_counts=True)\n",
    "uniq, counts "
   ]
  },
  {
   "cell_type": "code",
   "execution_count": 45,
   "metadata": {},
   "outputs": [],
   "source": [
    "assert len(uniq) == 9"
   ]
  },
  {
   "cell_type": "code",
   "execution_count": 46,
   "metadata": {},
   "outputs": [],
   "source": [
    "has_5_class_indicies = []\n",
    "has_6_class_indicies = []\n",
    "has_7_class_indicies = []"
   ]
  },
  {
   "cell_type": "code",
   "execution_count": 47,
   "metadata": {},
   "outputs": [],
   "source": [
    "for i, mask in enumerate(masks):\n",
    "    uniq = np.unique(mask)\n",
    "    if 5 in uniq:\n",
    "        has_5_class_indicies.append(i)\n",
    "    if 6 in uniq:\n",
    "        has_6_class_indicies.append(i)\n",
    "    if 7 in uniq:\n",
    "        has_7_class_indicies.append(i)"
   ]
  },
  {
   "cell_type": "code",
   "execution_count": 48,
   "metadata": {},
   "outputs": [
    {
     "data": {
      "text/plain": [
       "(36, 6, 9)"
      ]
     },
     "execution_count": 48,
     "metadata": {},
     "output_type": "execute_result"
    }
   ],
   "source": [
    "len(has_5_class_indicies), len(has_6_class_indicies), len(has_7_class_indicies)"
   ]
  },
  {
   "cell_type": "code",
   "execution_count": 49,
   "metadata": {},
   "outputs": [],
   "source": [
    "def classes_vector(masks):\n",
    "    distribution = np.zeros((9, ))\n",
    "    for mask in masks:\n",
    "        uniques = np.unique(mask)\n",
    "        for uniq in uniques:\n",
    "            distribution[uniq] += 1\n",
    "    return distribution"
   ]
  },
  {
   "cell_type": "code",
   "execution_count": 50,
   "metadata": {},
   "outputs": [],
   "source": [
    "distribution = classes_vector(masks)"
   ]
  },
  {
   "cell_type": "code",
   "execution_count": 51,
   "metadata": {},
   "outputs": [],
   "source": [
    "distribution = distribution / distribution[0]"
   ]
  },
  {
   "cell_type": "code",
   "execution_count": 52,
   "metadata": {},
   "outputs": [
    {
     "data": {
      "text/plain": [
       "array([1.        , 1.        , 0.96969697, 1.        , 0.90909091,\n",
       "       0.36363636, 0.06060606, 0.09090909, 0.95959596])"
      ]
     },
     "execution_count": 52,
     "metadata": {},
     "output_type": "execute_result"
    }
   ],
   "source": [
    "distribution"
   ]
  },
  {
   "cell_type": "code",
   "execution_count": 53,
   "metadata": {},
   "outputs": [
    {
     "data": {
      "text/plain": [
       "array([0, 1, 2, 3, 4, 5, 6, 7, 8], dtype=uint8)"
      ]
     },
     "execution_count": 53,
     "metadata": {},
     "output_type": "execute_result"
    }
   ],
   "source": [
    "np.unique(np.array(masks)[has_6_class_indicies])"
   ]
  },
  {
   "cell_type": "code",
   "execution_count": 54,
   "metadata": {},
   "outputs": [
    {
     "name": "stdout",
     "output_type": "stream",
     "text": [
      "[1.         1.         0.97115385 1.         0.91346154 0.39423077\n",
      " 0.06730769 0.08653846 0.96153846]\n",
      "[1.         1.         0.97247706 1.         0.91743119 0.42201835\n",
      " 0.06422018 0.09174312 0.96330275]\n",
      "[1.         1.         0.97368421 1.         0.92105263 0.44736842\n",
      " 0.06140351 0.09649123 0.96491228]\n",
      "[1.         1.         0.96638655 1.         0.92436975 0.47058824\n",
      " 0.05882353 0.09243697 0.96638655]\n",
      "[1.         1.         0.96774194 1.         0.91935484 0.49193548\n",
      " 0.05645161 0.09677419 0.96774194]\n",
      "[1.         1.         0.96899225 1.         0.92248062 0.51162791\n",
      " 0.05426357 0.09302326 0.96899225]\n",
      "[1.         1.         0.96268657 1.         0.92537313 0.50746269\n",
      " 0.08955224 0.08955224 0.97014925]\n",
      "[1.         1.         0.96402878 1.         0.92805755 0.50359712\n",
      " 0.12230216 0.09352518 0.97122302]\n",
      "[1.         1.         0.96527778 1.         0.93055556 0.48611111\n",
      " 0.15277778 0.09722222 0.97222222]\n",
      "[1.         1.         0.96644295 1.         0.93288591 0.47651007\n",
      " 0.18120805 0.09395973 0.97315436]\n",
      "[1.         1.         0.96753247 1.         0.93506494 0.47402597\n",
      " 0.20779221 0.0974026  0.97402597]\n",
      "[1.         1.         0.95597484 1.         0.93710692 0.47169811\n",
      " 0.2327044  0.09433962 0.97484277]\n",
      "[1.         1.         0.95731707 1.         0.93902439 0.45731707\n",
      " 0.25609756 0.10365854 0.97560976]\n",
      "[1.         1.         0.94674556 1.         0.9408284  0.46153846\n",
      " 0.27810651 0.10059172 0.97633136]\n",
      "[1.         1.         0.93103448 1.         0.94252874 0.46551724\n",
      " 0.29885057 0.09770115 0.97701149]\n",
      "[1.         1.         0.9273743  1.         0.94413408 0.46927374\n",
      " 0.31843575 0.10614525 0.97765363]\n",
      "[1.         0.99456522 0.92934783 1.         0.94565217 0.47282609\n",
      " 0.33695652 0.10869565 0.97826087]\n",
      "[1.         0.99470899 0.92063492 1.         0.94708995 0.47089947\n",
      " 0.35449735 0.10582011 0.97883598]\n",
      "[1.         0.99484536 0.91752577 1.         0.94845361 0.46907216\n",
      " 0.37113402 0.10309278 0.97938144]\n",
      "[1.         0.99497487 0.91959799 1.         0.94974874 0.46231156\n",
      " 0.38693467 0.10552764 0.9798995 ]\n",
      "[1.         0.99509804 0.91176471 1.         0.95098039 0.46568627\n",
      " 0.40196078 0.10294118 0.98039216]\n",
      "[1.         0.99521531 0.90430622 1.         0.95215311 0.47368421\n",
      " 0.41626794 0.10047847 0.98086124]\n",
      "[1.         0.9953271  0.90654206 1.         0.95327103 0.48130841\n",
      " 0.42990654 0.09813084 0.98130841]\n",
      "[1.         0.99543379 0.9086758  1.         0.9543379  0.47488584\n",
      " 0.44292237 0.10502283 0.98173516]\n",
      "[1.         0.99553571 0.90625    1.         0.95535714 0.46875\n",
      " 0.45535714 0.11160714 0.98214286]\n",
      "[1.         0.99563319 0.90393013 1.         0.95633188 0.4628821\n",
      " 0.46724891 0.11790393 0.98253275]\n",
      "[1.         0.9957265  0.90598291 1.         0.95726496 0.45299145\n",
      " 0.47863248 0.12820513 0.98290598]\n",
      "[1.         0.9958159  0.90376569 1.         0.958159   0.44769874\n",
      " 0.48953975 0.12970711 0.9832636 ]\n",
      "[1.         0.99590164 0.9057377  1.         0.95901639 0.44262295\n",
      " 0.5        0.13934426 0.98360656]\n",
      "[1.         0.99598394 0.90763052 1.         0.95983936 0.43373494\n",
      " 0.48995984 0.15662651 0.98393574]\n",
      "[1.         0.99606299 0.90944882 1.         0.96062992 0.43700787\n",
      " 0.48031496 0.17322835 0.98425197]\n",
      "[1.         0.996139   0.91119691 1.         0.96138996 0.43629344\n",
      " 0.47104247 0.18918919 0.98455598]\n",
      "[1.         0.99621212 0.91287879 1.         0.96212121 0.43181818\n",
      " 0.46212121 0.20454545 0.98484848]\n",
      "[1.         0.99628253 0.91449814 1.         0.96282528 0.42750929\n",
      " 0.46096654 0.21933086 0.98513011]\n",
      "[1.         0.99635036 0.91605839 1.         0.96350365 0.4270073\n",
      " 0.45255474 0.23357664 0.98540146]\n",
      "[1.         0.99641577 0.91756272 1.         0.96415771 0.4265233\n",
      " 0.44444444 0.24731183 0.98566308]\n",
      "[1.         0.99647887 0.91901408 1.         0.96478873 0.42253521\n",
      " 0.44366197 0.26056338 0.98591549]\n",
      "[1.         0.99653979 0.92041522 1.         0.96539792 0.42214533\n",
      " 0.43598616 0.2733564  0.98615917]\n",
      "[1.         0.99659864 0.92176871 1.         0.96598639 0.42517007\n",
      " 0.42857143 0.28571429 0.98639456]\n",
      "[1.         0.99665552 0.92307692 1.         0.96655518 0.42140468\n",
      " 0.42140468 0.29765886 0.98662207]\n",
      "[1.         0.99671053 0.92434211 1.         0.96710526 0.41776316\n",
      " 0.41447368 0.30921053 0.98684211]\n",
      "[1.         0.99676375 0.92556634 1.         0.96763754 0.41423948\n",
      " 0.40776699 0.32038835 0.98705502]\n",
      "[1.         0.99681529 0.92675159 1.         0.96815287 0.41401274\n",
      " 0.40127389 0.33121019 0.98726115]\n",
      "[1.         0.9968652  0.92789969 1.         0.96865204 0.41065831\n",
      " 0.39498433 0.34169279 0.98746082]\n",
      "[1.         0.99691358 0.92901235 1.         0.9691358  0.41049383\n",
      " 0.39506173 0.35185185 0.98765432]\n",
      "[1.         0.99696049 0.93009119 1.         0.96960486 0.41033435\n",
      " 0.38905775 0.36170213 0.98784195]\n",
      "[1.         0.99700599 0.93113772 1.         0.97005988 0.40718563\n",
      " 0.38922156 0.37125749 0.98802395]\n",
      "[1.         0.99705015 0.93215339 1.         0.97050147 0.40412979\n",
      " 0.38643068 0.38053097 0.98820059]\n",
      "[1.         0.99709302 0.93313953 1.         0.97093023 0.40116279\n",
      " 0.38081395 0.38953488 0.98837209]\n",
      "[1.         0.99713467 0.93409742 1.         0.9713467  0.40114613\n",
      " 0.3782235  0.3982808  0.98853868]\n",
      "[1.         0.99717514 0.93502825 1.         0.97175141 0.4039548\n",
      " 0.37288136 0.40677966 0.98870056]\n",
      "[1.         0.99721448 0.93593315 1.         0.97214485 0.40111421\n",
      " 0.36768802 0.41504178 0.98885794]\n",
      "[1.         0.99725275 0.93681319 1.         0.97252747 0.39835165\n",
      " 0.36263736 0.42307692 0.98901099]\n",
      "[1.         0.99728997 0.93766938 1.         0.97289973 0.39837398\n",
      " 0.3604336  0.43089431 0.98915989]\n",
      "[1.         0.9973262  0.93850267 1.         0.97326203 0.39839572\n",
      " 0.35561497 0.43850267 0.98930481]\n",
      "[1.         0.99736148 0.93931398 1.         0.97361478 0.39577836\n",
      " 0.35092348 0.44591029 0.98944591]\n",
      "[1.         0.99739583 0.94010417 1.         0.97395833 0.39322917\n",
      " 0.3515625  0.453125   0.98958333]\n",
      "[1.         0.99742931 0.94087404 1.         0.97429306 0.38817481\n",
      " 0.3496144  0.46015424 0.98971722]\n",
      "[1.         0.99746193 0.94162437 1.         0.97461929 0.39086294\n",
      " 0.34517766 0.46700508 0.98984772]\n",
      "[1.         0.99749373 0.94235589 1.         0.97493734 0.38847118\n",
      " 0.3433584  0.47368421 0.98997494]\n",
      "[1.         0.99752475 0.94306931 1.         0.97524752 0.38613861\n",
      " 0.33910891 0.48019802 0.99009901]\n",
      "[1.         0.99755501 0.94376528 1.         0.97555012 0.38386308\n",
      " 0.33496333 0.48655257 0.99022005]\n",
      "[1.         0.99758454 0.94444444 1.         0.97584541 0.38647343\n",
      " 0.33333333 0.49275362 0.99033816]\n",
      "[1.         0.99761337 0.9451074  1.         0.97613365 0.38424821\n",
      " 0.32935561 0.49880668 0.99045346]\n",
      "[1.         0.99764151 0.94575472 1.         0.97641509 0.38679245\n",
      " 0.32783019 0.50471698 0.99056604]\n",
      "[1.         0.997669   0.94405594 1.         0.97668998 0.39393939\n",
      " 0.32400932 0.4988345  0.99067599]\n",
      "[1.         0.99769585 0.94470046 1.         0.97695853 0.40092166\n",
      " 0.3202765  0.49539171 0.99078341]\n",
      "[1.         0.9977221  0.94077449 1.         0.97494305 0.40774487\n",
      " 0.31890661 0.48974943 0.99088838]\n",
      "[1.         0.99774775 0.93918919 1.         0.97522523 0.41441441\n",
      " 0.31756757 0.48423423 0.99099099]\n",
      "[1.         0.99777283 0.9376392  1.         0.97550111 0.42093541\n",
      " 0.31625835 0.47884187 0.99109131]\n",
      "[1.         0.99779736 0.93832599 1.         0.97577093 0.42731278\n",
      " 0.31277533 0.47356828 0.99118943]\n",
      "[1.         0.99782135 0.93899782 1.         0.97603486 0.4335512\n",
      " 0.30936819 0.47058824 0.9912854 ]\n",
      "[1.         0.99784483 0.93965517 1.         0.9762931  0.43965517\n",
      " 0.30603448 0.46551724 0.99137931]\n",
      "[1.         0.9978678  0.94029851 1.         0.97441365 0.445629\n",
      " 0.30277186 0.46055437 0.99147122]\n",
      "[1.         0.9978903  0.94092827 1.         0.97468354 0.45147679\n",
      " 0.30168776 0.4556962  0.99156118]\n",
      "[1.         0.99791232 0.94154489 1.         0.97494781 0.45720251\n",
      " 0.29853862 0.45302714 0.99164927]\n",
      "[1.         0.99793388 0.94214876 1.         0.97520661 0.46280992\n",
      " 0.29545455 0.45247934 0.99173554]\n",
      "[1.         0.99795501 0.94274029 1.         0.97546012 0.46830266\n",
      " 0.29243354 0.44785276 0.99182004]\n",
      "[1.         0.99797571 0.94129555 1.         0.9757085  0.47368421\n",
      " 0.29149798 0.44331984 0.99190283]\n",
      "[1.         0.99799599 0.93987976 1.         0.9759519  0.47895792\n",
      " 0.29058116 0.43887776 0.99198397]\n",
      "[1.         0.99801587 0.94047619 1.         0.97619048 0.48412698\n",
      " 0.28769841 0.43452381 0.99206349]\n",
      "[1.         0.99803536 0.93909627 1.         0.97642436 0.4891945\n",
      " 0.2848723  0.43222004 0.99214145]\n",
      "[1.         0.99805447 0.93968872 1.         0.9766537  0.49416342\n",
      " 0.28210117 0.42801556 0.9922179 ]\n",
      "[1.         0.99807322 0.93834297 1.         0.97687861 0.49710983\n",
      " 0.27938343 0.4238921  0.99229287]\n",
      "[1.         0.9980916  0.9389313  1.         0.97709924 0.5019084\n",
      " 0.27671756 0.42175573 0.99236641]\n",
      "[1.         0.99810964 0.93572779 1.         0.97731569 0.50661626\n",
      " 0.28355388 0.41776938 0.99243856]\n",
      "[1.         0.99812734 0.93445693 1.         0.97752809 0.50561798\n",
      " 0.29026217 0.41385768 0.99250936]\n",
      "[1.         0.99814471 0.93320965 1.         0.97773655 0.50649351\n",
      " 0.29684601 0.41187384 0.99257885]\n",
      "[1.         0.99816176 0.93382353 1.         0.97794118 0.50183824\n",
      " 0.30330882 0.40808824 0.99264706]\n",
      "[1.         0.99817851 0.93078324 1.         0.97814208 0.50091075\n",
      " 0.30965392 0.40437158 0.99271403]\n",
      "[1.         0.99819495 0.92779783 1.         0.97833935 0.50361011\n",
      " 0.31588448 0.40072202 0.99277978]\n",
      "[1.         0.99821109 0.92665474 1.         0.97853309 0.50089445\n",
      " 0.32200358 0.39713775 0.99284436]\n",
      "[1.         0.99822695 0.92553191 1.         0.9787234  0.49822695\n",
      " 0.32801418 0.39716312 0.9929078 ]\n",
      "[1.         0.99824253 0.92442882 1.         0.97891037 0.4973638\n",
      " 0.33391916 0.39367311 0.99297012]\n",
      "[1.         0.99825784 0.92334495 1.         0.97909408 0.49651568\n",
      " 0.33972125 0.39372822 0.99303136]\n",
      "[1.         0.99827288 0.92400691 1.         0.97927461 0.49740933\n",
      " 0.34542314 0.39378238 0.99309154]\n",
      "[1.         0.99828767 0.92294521 1.         0.97945205 0.49486301\n",
      " 0.3510274  0.39212329 0.99315068]\n",
      "[1.         0.99830221 0.92190153 1.         0.97962649 0.49405772\n",
      " 0.3565365  0.38879457 0.99320883]\n",
      "[1.         0.9983165  0.91919192 1.         0.97979798 0.49494949\n",
      " 0.36195286 0.38552189 0.99326599]\n",
      "[1.         0.99833055 0.91986644 1.         0.97996661 0.49248748\n",
      " 0.3672788  0.38230384 0.9933222 ]\n",
      "[1.         0.99834437 0.9205298  1.         0.98013245 0.49006623\n",
      " 0.37251656 0.3807947  0.99337748]\n",
      "[1.         0.99835796 0.91954023 1.         0.98029557 0.48768473\n",
      " 0.37766831 0.37931034 0.99343186]\n",
      "[1.         0.99837134 0.92019544 1.         0.98045603 0.48371336\n",
      " 0.38273616 0.37947883 0.99348534]\n",
      "[1.         0.99838449 0.91922456 1.         0.98061389 0.48142165\n",
      " 0.38772213 0.37641357 0.99353796]\n",
      "[1.         0.99839744 0.91987179 1.         0.98076923 0.48076923\n",
      " 0.39262821 0.37339744 0.99358974]\n",
      "[1.         0.99841017 0.92050874 1.         0.9809221  0.47694754\n",
      " 0.39745628 0.37201908 0.9936407 ]\n",
      "[1.         0.99842271 0.91798107 1.         0.98107256 0.47634069\n",
      " 0.4022082  0.37223975 0.99369085]\n",
      "[1.         0.99843505 0.91862285 1.         0.98122066 0.47730829\n",
      " 0.40688576 0.37089202 0.99374022]\n",
      "[1.         0.9984472  0.91925466 1.         0.98136646 0.47360248\n",
      " 0.41149068 0.37111801 0.99378882]\n",
      "[1.         1.         0.96969697 1.         0.90909091 0.36363636\n",
      " 0.06060606 0.09090909 0.95959596]\n"
     ]
    }
   ],
   "source": [
    "def f():\n",
    "    global masks, images\n",
    "    distribution = classes_vector(masks)\n",
    "    distribution = distribution / distribution[0]\n",
    "    while distribution[5] < 0.50 or distribution[6] < 0.50 or distribution[7] < 0.50:\n",
    "        while distribution[5] < 0.50:\n",
    "            has_5_data = Data(np.array(images)[np.random.choice(has_5_class_indicies, size=5)], np.array(masks)[np.random.choice(has_5_class_indicies, size=6)])\n",
    "            data = ElasticAugment(alpha=700, noise_invert_scale=7, std=11, border_mode='reflect_101', num_maps=1, keep_old_data=False)(has_5_data)\n",
    "            images_5, masks_5 = data.get_data()\n",
    "            images = np.concatenate((images, images_5))\n",
    "            masks = np.concatenate((masks, masks_5))  \n",
    "            distribution = classes_vector(masks)\n",
    "            distribution = distribution / distribution[0]\n",
    "            print(distribution)\n",
    "            if distribution[5] > .41 and distribution[6] >.41 and distribution[7] > .31:\n",
    "                return images, masks\n",
    "        while distribution[6] < 0.50:\n",
    "            has_6_data = Data(np.array(images)[np.random.choice(has_6_class_indicies, size=5)], np.array(masks)[np.random.choice(has_6_class_indicies, size=6)])\n",
    "            data = ElasticAugment(alpha=700, noise_invert_scale=7, std=11, border_mode='reflect_101', num_maps=1, keep_old_data=False)(has_6_data)\n",
    "            images_6, masks_6 = data.get_data()\n",
    "            images = np.concatenate((images, images_6))\n",
    "            masks = np.concatenate((masks, masks_6)) \n",
    "            distribution = classes_vector(masks)\n",
    "            distribution = distribution / distribution[0]\n",
    "            print(distribution)\n",
    "            if distribution[5] > .41 and distribution[6] >.41 and distribution[7] > .31:\n",
    "                return images, masks\n",
    "        while distribution[7] < 0.50:\n",
    "            has_7_data = Data(np.array(images)[np.random.choice(has_7_class_indicies, size=5)], np.array(masks)[np.random.choice(has_7_class_indicies, size=6)])\n",
    "            data = ElasticAugment(alpha=700, noise_invert_scale=7, std=11, border_mode='reflect_101', num_maps=1, keep_old_data=False)(has_7_data)\n",
    "            images_7, masks_7 = data.get_data()\n",
    "            images = np.concatenate((images, images_7))\n",
    "            masks = np.concatenate((masks, masks_7))\n",
    "            distribution = classes_vector(masks)\n",
    "            distribution = distribution / distribution[0]\n",
    "            print(distribution)\n",
    "            if distribution[5] > .41 and distribution[6] >.41 and distribution[7] > .31:\n",
    "                return images, masks\n",
    "\n",
    "images, masks = f()\n",
    "print(distribution)"
   ]
  },
  {
   "cell_type": "code",
   "execution_count": 55,
   "metadata": {},
   "outputs": [
    {
     "data": {
      "text/plain": [
       "array([1.        , 0.9984472 , 0.91925466, 1.        , 0.98136646,\n",
       "       0.47360248, 0.41149068, 0.37111801, 0.99378882])"
      ]
     },
     "execution_count": 55,
     "metadata": {},
     "output_type": "execute_result"
    }
   ],
   "source": [
    "distribution = classes_vector(masks)\n",
    "distribution = distribution / distribution[0]\n",
    "distribution"
   ]
  },
  {
   "cell_type": "code",
   "execution_count": 56,
   "metadata": {},
   "outputs": [
    {
     "data": {
      "text/plain": [
       "644"
      ]
     },
     "execution_count": 56,
     "metadata": {},
     "output_type": "execute_result"
    }
   ],
   "source": [
    "len(masks)"
   ]
  },
  {
   "cell_type": "code",
   "execution_count": 57,
   "metadata": {},
   "outputs": [
    {
     "name": "stderr",
     "output_type": "stream",
     "text": [
      "644it [00:01, 338.07it/s]\n"
     ]
    }
   ],
   "source": [
    "os.makedirs(f'/raid/rustam/med_data/upsampling_batches/paper_batch_{batch_num}/train_set/orig_set/images/', exist_ok=True)\n",
    "os.makedirs(f'/raid/rustam/med_data/upsampling_batches/paper_batch_{batch_num}/train_set/orig_set/masks/', exist_ok=True)\n",
    "\n",
    "for i, (img, mask) in tqdm(enumerate(zip(images, masks))):\n",
    "    cv2.imwrite(f'/raid/rustam/med_data/upsampling_batches/paper_batch_{batch_num}/train_set/orig_set/images/{i}.bmp', img)\n",
    "    cv2.imwrite(f'/raid/rustam/med_data/upsampling_batches/paper_batch_{batch_num}/train_set/orig_set/masks/{i}.bmp', mask)    "
   ]
  },
  {
   "cell_type": "code",
   "execution_count": null,
   "metadata": {},
   "outputs": [],
   "source": []
  },
  {
   "cell_type": "code",
   "execution_count": null,
   "metadata": {},
   "outputs": [],
   "source": []
  },
  {
   "cell_type": "code",
   "execution_count": null,
   "metadata": {},
   "outputs": [],
   "source": []
  },
  {
   "cell_type": "code",
   "execution_count": null,
   "metadata": {},
   "outputs": [],
   "source": []
  },
  {
   "cell_type": "code",
   "execution_count": 19,
   "metadata": {},
   "outputs": [
    {
     "ename": "SyntaxError",
     "evalue": "invalid syntax (<ipython-input-19-67b8243dc594>, line 1)",
     "output_type": "error",
     "traceback": [
      "\u001b[0;36m  File \u001b[0;32m\"<ipython-input-19-67b8243dc594>\"\u001b[0;36m, line \u001b[0;32m1\u001b[0m\n\u001b[0;31m    a = np.fromstring(```[1.         1.         0.97115385 1.         0.92307692 0.40384615\u001b[0m\n\u001b[0m                      ^\u001b[0m\n\u001b[0;31mSyntaxError\u001b[0m\u001b[0;31m:\u001b[0m invalid syntax\n"
     ]
    }
   ],
   "source": []
  },
  {
   "cell_type": "code",
   "execution_count": null,
   "metadata": {},
   "outputs": [],
   "source": []
  }
 ],
 "metadata": {
  "kernelspec": {
   "display_name": "Python 3",
   "language": "python",
   "name": "python3"
  },
  "language_info": {
   "codemirror_mode": {
    "name": "ipython",
    "version": 3
   },
   "file_extension": ".py",
   "mimetype": "text/x-python",
   "name": "python",
   "nbconvert_exporter": "python",
   "pygments_lexer": "ipython3",
   "version": "3.6.9"
  }
 },
 "nbformat": 4,
 "nbformat_minor": 4
}
