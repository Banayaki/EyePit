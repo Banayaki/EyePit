{
 "cells": [
  {
   "cell_type": "code",
   "execution_count": 1,
   "metadata": {},
   "outputs": [],
   "source": [
    "import cv2\n",
    "import matplotlib.pyplot as plt\n",
    "import seaborn as sns\n",
    "from makiflow.metrics.utils import one_hot\n",
    "import numpy as np\n",
    "import glob\n"
   ]
  },
  {
   "cell_type": "code",
   "execution_count": 2,
   "metadata": {},
   "outputs": [],
   "source": [
    "data = [            \"/raid/rustam/med_data/cross_valid_sets/set_2/test/images/92.bmp\",\n",
    "            \"/raid/rustam/med_data/cross_valid_sets/set_2/test/images/10.bmp\",\n",
    "\n",
    "            \"/raid/rustam/med_data/cross_valid_sets/set_2/test/images/38.bmp\",\n",
    "            \"/raid/rustam/med_data/cross_valid_sets/set_2/test/images/85.bmp\",\n",
    "            \"/raid/rustam/med_data/cross_valid_sets/set_2/test/images/53.bmp\",\n",
    "\n",
    "            \"/raid/rustam/med_data/cross_valid_sets/set_2/test/images/18.bmp\",\n",
    "            \"/raid/rustam/med_data/cross_valid_sets/set_2/test/images/78.bmp\",\n",
    "            \"/raid/rustam/med_data/cross_valid_sets/set_2/test/images/80.bmp\"]"
   ]
  },
  {
   "cell_type": "code",
   "execution_count": 3,
   "metadata": {},
   "outputs": [],
   "source": [
    "images = []\n",
    "masks = []\n",
    "\n",
    "for s_name in data:\n",
    "    images.append(cv2.resize(cv2.imread(s_name), (1024, 1024), interpolation=cv2.INTER_LINEAR))\n",
    "    masks.append(cv2.cvtColor(cv2.resize(cv2.imread(s_name.replace('images', 'masks')), (1024,1024), interpolation=cv2.INTER_NEAREST), cv2.COLOR_BGR2GRAY))"
   ]
  },
  {
   "cell_type": "code",
   "execution_count": 4,
   "metadata": {},
   "outputs": [
    {
     "name": "stdout",
     "output_type": "stream",
     "text": [
      "WARNING:tensorflow:From /usr/local/lib/python3.6/dist-packages/makiflow/core/inference/maki_core.py:108: The name tf.Session is deprecated. Please use tf.compat.v1.Session instead.\n",
      "\n"
     ]
    }
   ],
   "source": [
    "from makiflow.metrics import categorical_dice_coeff"
   ]
  },
  {
   "cell_type": "code",
   "execution_count": 16,
   "metadata": {},
   "outputs": [],
   "source": [
    "labels = np.asarray(masks).astype(np.uint8)\n",
    "\n",
    "predictions = np.asarray(masks).astype(np.uint8)\n",
    "predictions = one_hot(predictions.reshape(-1), depth=9).reshape(8, 1024, 1024, 9)"
   ]
  },
  {
   "cell_type": "code",
   "execution_count": 31,
   "metadata": {},
   "outputs": [],
   "source": [
    "predictions = np.random.randint(0, high=9, size=(8,1024,1024)).astype(np.uint8)\n",
    "predictions = one_hot(predictions.reshape(-1), depth=9).reshape(8, 1024, 1024, 9)"
   ]
  },
  {
   "cell_type": "code",
   "execution_count": 32,
   "metadata": {},
   "outputs": [],
   "source": [
    " v_dice_val, dices = categorical_dice_coeff(predictions, labels, use_argmax=True)"
   ]
  },
  {
   "cell_type": "code",
   "execution_count": 33,
   "metadata": {},
   "outputs": [
    {
     "data": {
      "text/plain": [
       "0.04609058386663972"
      ]
     },
     "execution_count": 33,
     "metadata": {},
     "output_type": "execute_result"
    }
   ],
   "source": [
    "v_dice_val"
   ]
  },
  {
   "cell_type": "code",
   "execution_count": 34,
   "metadata": {},
   "outputs": [
    {
     "data": {
      "text/plain": [
       "array([0.19643276, 0.04239654, 0.02294793, 0.10531866, 0.01035925,\n",
       "       0.0080698 , 0.00297007, 0.00404002, 0.02228023])"
      ]
     },
     "execution_count": 34,
     "metadata": {},
     "output_type": "execute_result"
    }
   ],
   "source": [
    "dices"
   ]
  },
  {
   "cell_type": "code",
   "execution_count": null,
   "metadata": {},
   "outputs": [],
   "source": []
  }
 ],
 "metadata": {
  "kernelspec": {
   "display_name": "Python 3",
   "language": "python",
   "name": "python3"
  },
  "language_info": {
   "codemirror_mode": {
    "name": "ipython",
    "version": 3
   },
   "file_extension": ".py",
   "mimetype": "text/x-python",
   "name": "python",
   "nbconvert_exporter": "python",
   "pygments_lexer": "ipython3",
   "version": "3.6.9"
  }
 },
 "nbformat": 4,
 "nbformat_minor": 2
}
